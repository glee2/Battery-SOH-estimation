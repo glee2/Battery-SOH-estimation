{
 "cells": [
  {
   "cell_type": "code",
   "execution_count": 396,
   "metadata": {},
   "outputs": [],
   "source": [
    "# Include oversampled data also in test set\n",
    "import os\n",
    "import csv\n",
    "import math\n",
    "import copy\n",
    "import functools\n",
    "import operator\n",
    "import pandas as pd\n",
    "import numpy as np\n",
    "from tqdm import tqdm\n",
    "import matplotlib.pyplot as plt\n",
    "import seaborn as sn\n",
    "import cv2\n",
    "import argparse\n",
    "import time\n",
    "import datetime\n",
    "import optuna\n",
    "from collections import OrderedDict\n",
    "\n",
    "import sys\n",
    "sys.path.append('/home2/glee/Hyundai/MSSP/')\n",
    "from labels import LABELS\n",
    "\n",
    "from pyts.image import RecurrencePlot, GramianAngularField\n",
    "from PIL import Image, ImageDraw, ImageFont\n",
    "\n",
    "import warnings\n",
    "warnings.filterwarnings(module='sklearn*', action='ignore', category=FutureWarning)\n",
    "warnings.filterwarnings(module='tensorflow*', action='ignore', category=FutureWarning)\n",
    "warnings.filterwarnings(action='ignore', category=UserWarning)\n",
    "\n",
    "from nptdms import TdmsFile\n",
    "from imblearn.over_sampling import SMOTE\n",
    "\n",
    "from battery import Battery\n",
    "\n",
    "import torch\n",
    "import torch.nn as nn\n",
    "import torch.optim as optim\n",
    "from torch.nn import functional as F\n",
    "from torch.utils.data import TensorDataset, DataLoader, Subset, Dataset\n",
    "from torchmetrics.functional import accuracy, recall\n",
    "import torchmetrics\n",
    "from torchvision.transforms import transforms\n",
    "\n",
    "from pytorch_lightning import LightningDataModule, LightningModule, Trainer\n",
    "from pytorch_lightning.callbacks.early_stopping import EarlyStopping\n",
    "from pytorch_lightning.callbacks.model_checkpoint import ModelCheckpoint\n",
    "\n",
    "from sklearn.model_selection import StratifiedKFold, train_test_split, KFold\n",
    "from sklearn.metrics import f1_score, accuracy_score, precision_score, recall_score, mean_squared_error, confusion_matrix, r2_score, mean_absolute_error\n",
    "from sklearn.metrics._plot.confusion_matrix import ConfusionMatrixDisplay\n",
    "\n",
    "from utils import InfoHolder, generate_heatmap, superimpose, to_RGB, grad_cam, save_cam, CVSampler, SMOTESampler\n",
    "from model import init_weights, AlexNet, AlexNet_light, LSTMRegressor, RNNBase, GRURegressor\n",
    "from data import TSDataset, TSDataModule\n",
    "from images import make_images\n",
    "\n",
    "device = torch.device('cuda' if torch.cuda.is_available() else 'cpu')\n",
    "device_ids = [0,1,2,3]"
   ]
  },
  {
   "cell_type": "code",
   "execution_count": 150,
   "metadata": {},
   "outputs": [
    {
     "data": {
      "text/plain": [
       "<module 'elm' from '/home2/glee/.conda/envs/DL/lib/python3.9/site-packages/elm.py'>"
      ]
     },
     "execution_count": 150,
     "metadata": {},
     "output_type": "execute_result"
    }
   ],
   "source": [
    "import importlib\n",
    "import elm\n",
    "importlib.reload(elm)"
   ]
  },
  {
   "cell_type": "code",
   "execution_count": 51,
   "metadata": {},
   "outputs": [],
   "source": [
    "data = pd.read_csv(\"/home2/glee/test/iris.data\", sep=' ', header=None)"
   ]
  },
  {
   "cell_type": "code",
   "execution_count": 4,
   "metadata": {},
   "outputs": [],
   "source": [
    "x = data[[1,2,3,4]].values\n",
    "y = data[0].values"
   ]
  },
  {
   "cell_type": "code",
   "execution_count": 85,
   "metadata": {},
   "outputs": [],
   "source": [
    "elm_regressor = elm.elm(hidden_units=32, activation_function='relu', one_hot=True, x=x, y=y, C=0.1, elm_type='clf')"
   ]
  },
  {
   "cell_type": "code",
   "execution_count": 86,
   "metadata": {},
   "outputs": [],
   "source": [
    "beta, tr_score, tr_time = elm_regressor.fit('no_re')"
   ]
  },
  {
   "cell_type": "code",
   "execution_count": 88,
   "metadata": {},
   "outputs": [
    {
     "data": {
      "text/plain": [
       "0.9666666666666667"
      ]
     },
     "execution_count": 88,
     "metadata": {},
     "output_type": "execute_result"
    }
   ],
   "source": [
    "elm_regressor.score(x, y)"
   ]
  },
  {
   "cell_type": "code",
   "execution_count": 243,
   "metadata": {},
   "outputs": [
    {
     "data": {
      "text/plain": [
       "array([0.81093755, 0.81305724, 0.79970145, 0.82216805, 0.81170452,\n",
       "       0.81193353, 0.78364545, 0.81447746, 0.72071056, 0.77571993,\n",
       "       0.81273567, 0.84113158, 0.79988065, 0.80805688, 0.77856115,\n",
       "       0.79480754, 0.8010571 , 0.81391252, 0.79889875, 0.76180492,\n",
       "       0.782382  , 0.77603614, 0.69264571, 0.68815153, 0.81191128,\n",
       "       0.797873  , 0.79467012, 0.79050985, 0.79734335, 0.81075484,\n",
       "       0.70230429, 0.80431963])"
      ]
     },
     "execution_count": 243,
     "metadata": {},
     "output_type": "execute_result"
    }
   ],
   "source": [
    "elm_regressor.predict(x)"
   ]
  },
  {
   "cell_type": "code",
   "execution_count": 89,
   "metadata": {
    "scrolled": true
   },
   "outputs": [
    {
     "data": {
      "text/plain": [
       "0.9666666666666667"
      ]
     },
     "execution_count": 89,
     "metadata": {},
     "output_type": "execute_result"
    }
   ],
   "source": [
    "tr_score"
   ]
  },
  {
   "cell_type": "code",
   "execution_count": 250,
   "metadata": {},
   "outputs": [],
   "source": [
    "ts_dataset = TSDataset(device, data_root=path_root, input_cycle=target_cycle, target_cycle=target_cycle, n_resampled=n_resampled, n_folds=5)\n",
    "ts_datamodule = TSDataModule(device, ts_dataset, cv_fold=0, batch_size=batch_size, shuffle=True)"
   ]
  },
  {
   "cell_type": "code",
   "execution_count": 286,
   "metadata": {},
   "outputs": [],
   "source": [
    "ts_datamodule.setup()\n",
    "x,y = next(iter(ts_datamodule.train_dataloader()))\n",
    "x = x.detach().cpu().numpy().squeeze(2)\n",
    "y = y.detach().cpu().numpy().squeeze(1)\n",
    "\n",
    "x_test, y_test = next(iter(ts_datamodule.train_dataloader()))\n",
    "x_test = x_test.detach().cpu().numpy().squeeze(2)\n",
    "y_test = y_test.detach().cpu().numpy().squeeze(1)"
   ]
  },
  {
   "cell_type": "code",
   "execution_count": 380,
   "metadata": {},
   "outputs": [],
   "source": [
    "elm_regressors = []\n",
    "for i in range(0, target_cycle-input_cycle):\n",
    "#     print(i, i+input_cycle)\n",
    "    x_ = x[:,i:i+input_cycle]\n",
    "    y_ = x[:,i+input_cycle]\n",
    "    elm_regressor = elm.elm(hidden_units=32, activation_function='relu', one_hot=False, x=x_, y=y_, C=0.1, elm_type='reg')\n",
    "    beta, tr_score, tr_time = elm_regressor.fit('faster1')\n",
    "    elm_regressors.append(elm_regressor)\n",
    "    del(elm_regressor)"
   ]
  },
  {
   "cell_type": "code",
   "execution_count": 385,
   "metadata": {
    "scrolled": true
   },
   "outputs": [
    {
     "name": "stdout",
     "output_type": "stream",
     "text": [
      "i: 0, x_next: (32, 0), x_test: (32, 50)\n",
      "x_curr: (32, 50)\n",
      "CYCLE_51 estimated y_: (32,)\n",
      "x_next: (32, 1)\n",
      "\n",
      "i: 1, x_next: (32, 1), x_test: (32, 49)\n",
      "x_curr: (32, 50)\n",
      "CYCLE_52 estimated y_: (32,)\n",
      "x_next: (32, 2)\n",
      "\n",
      "i: 2, x_next: (32, 2), x_test: (32, 48)\n",
      "x_curr: (32, 50)\n",
      "CYCLE_53 estimated y_: (32,)\n",
      "x_next: (32, 3)\n",
      "\n",
      "i: 3, x_next: (32, 3), x_test: (32, 47)\n",
      "x_curr: (32, 50)\n",
      "CYCLE_54 estimated y_: (32,)\n",
      "x_next: (32, 4)\n",
      "\n",
      "i: 4, x_next: (32, 4), x_test: (32, 46)\n",
      "x_curr: (32, 50)\n",
      "CYCLE_55 estimated y_: (32,)\n",
      "x_next: (32, 5)\n",
      "\n",
      "i: 5, x_next: (32, 5), x_test: (32, 45)\n",
      "x_curr: (32, 50)\n",
      "CYCLE_56 estimated y_: (32,)\n",
      "x_next: (32, 6)\n",
      "\n",
      "i: 6, x_next: (32, 6), x_test: (32, 44)\n",
      "x_curr: (32, 50)\n",
      "CYCLE_57 estimated y_: (32,)\n",
      "x_next: (32, 7)\n",
      "\n",
      "i: 7, x_next: (32, 7), x_test: (32, 43)\n",
      "x_curr: (32, 50)\n",
      "CYCLE_58 estimated y_: (32,)\n",
      "x_next: (32, 8)\n",
      "\n",
      "i: 8, x_next: (32, 8), x_test: (32, 42)\n",
      "x_curr: (32, 50)\n",
      "CYCLE_59 estimated y_: (32,)\n",
      "x_next: (32, 9)\n",
      "\n",
      "i: 9, x_next: (32, 9), x_test: (32, 41)\n",
      "x_curr: (32, 50)\n",
      "CYCLE_60 estimated y_: (32,)\n",
      "x_next: (32, 10)\n",
      "\n",
      "i: 10, x_next: (32, 10), x_test: (32, 40)\n",
      "x_curr: (32, 50)\n",
      "CYCLE_61 estimated y_: (32,)\n",
      "x_next: (32, 11)\n",
      "\n",
      "i: 11, x_next: (32, 11), x_test: (32, 39)\n",
      "x_curr: (32, 50)\n",
      "CYCLE_62 estimated y_: (32,)\n",
      "x_next: (32, 12)\n",
      "\n",
      "i: 12, x_next: (32, 12), x_test: (32, 38)\n",
      "x_curr: (32, 50)\n",
      "CYCLE_63 estimated y_: (32,)\n",
      "x_next: (32, 13)\n",
      "\n",
      "i: 13, x_next: (32, 13), x_test: (32, 37)\n",
      "x_curr: (32, 50)\n",
      "CYCLE_64 estimated y_: (32,)\n",
      "x_next: (32, 14)\n",
      "\n",
      "i: 14, x_next: (32, 14), x_test: (32, 36)\n",
      "x_curr: (32, 50)\n",
      "CYCLE_65 estimated y_: (32,)\n",
      "x_next: (32, 15)\n",
      "\n",
      "i: 15, x_next: (32, 15), x_test: (32, 35)\n",
      "x_curr: (32, 50)\n",
      "CYCLE_66 estimated y_: (32,)\n",
      "x_next: (32, 16)\n",
      "\n",
      "i: 16, x_next: (32, 16), x_test: (32, 34)\n",
      "x_curr: (32, 50)\n",
      "CYCLE_67 estimated y_: (32,)\n",
      "x_next: (32, 17)\n",
      "\n",
      "i: 17, x_next: (32, 17), x_test: (32, 33)\n",
      "x_curr: (32, 50)\n",
      "CYCLE_68 estimated y_: (32,)\n",
      "x_next: (32, 18)\n",
      "\n",
      "i: 18, x_next: (32, 18), x_test: (32, 32)\n",
      "x_curr: (32, 50)\n",
      "CYCLE_69 estimated y_: (32,)\n",
      "x_next: (32, 19)\n",
      "\n",
      "i: 19, x_next: (32, 19), x_test: (32, 31)\n",
      "x_curr: (32, 50)\n",
      "CYCLE_70 estimated y_: (32,)\n",
      "x_next: (32, 20)\n",
      "\n",
      "i: 20, x_next: (32, 20), x_test: (32, 30)\n",
      "x_curr: (32, 50)\n",
      "CYCLE_71 estimated y_: (32,)\n",
      "x_next: (32, 21)\n",
      "\n",
      "i: 21, x_next: (32, 21), x_test: (32, 29)\n",
      "x_curr: (32, 50)\n",
      "CYCLE_72 estimated y_: (32,)\n",
      "x_next: (32, 22)\n",
      "\n",
      "i: 22, x_next: (32, 22), x_test: (32, 28)\n",
      "x_curr: (32, 50)\n",
      "CYCLE_73 estimated y_: (32,)\n",
      "x_next: (32, 23)\n",
      "\n",
      "i: 23, x_next: (32, 23), x_test: (32, 27)\n",
      "x_curr: (32, 50)\n",
      "CYCLE_74 estimated y_: (32,)\n",
      "x_next: (32, 24)\n",
      "\n",
      "i: 24, x_next: (32, 24), x_test: (32, 26)\n",
      "x_curr: (32, 50)\n",
      "CYCLE_75 estimated y_: (32,)\n",
      "x_next: (32, 25)\n",
      "\n",
      "i: 25, x_next: (32, 25), x_test: (32, 25)\n",
      "x_curr: (32, 50)\n",
      "CYCLE_76 estimated y_: (32,)\n",
      "x_next: (32, 26)\n",
      "\n",
      "i: 26, x_next: (32, 26), x_test: (32, 24)\n",
      "x_curr: (32, 50)\n",
      "CYCLE_77 estimated y_: (32,)\n",
      "x_next: (32, 27)\n",
      "\n",
      "i: 27, x_next: (32, 27), x_test: (32, 23)\n",
      "x_curr: (32, 50)\n",
      "CYCLE_78 estimated y_: (32,)\n",
      "x_next: (32, 28)\n",
      "\n",
      "i: 28, x_next: (32, 28), x_test: (32, 22)\n",
      "x_curr: (32, 50)\n",
      "CYCLE_79 estimated y_: (32,)\n",
      "x_next: (32, 29)\n",
      "\n",
      "i: 29, x_next: (32, 29), x_test: (32, 21)\n",
      "x_curr: (32, 50)\n",
      "CYCLE_80 estimated y_: (32,)\n",
      "x_next: (32, 30)\n",
      "\n",
      "i: 30, x_next: (32, 30), x_test: (32, 20)\n",
      "x_curr: (32, 50)\n",
      "CYCLE_81 estimated y_: (32,)\n",
      "x_next: (32, 31)\n",
      "\n",
      "i: 31, x_next: (32, 31), x_test: (32, 19)\n",
      "x_curr: (32, 50)\n",
      "CYCLE_82 estimated y_: (32,)\n",
      "x_next: (32, 32)\n",
      "\n",
      "i: 32, x_next: (32, 32), x_test: (32, 18)\n",
      "x_curr: (32, 50)\n",
      "CYCLE_83 estimated y_: (32,)\n",
      "x_next: (32, 33)\n",
      "\n",
      "i: 33, x_next: (32, 33), x_test: (32, 17)\n",
      "x_curr: (32, 50)\n",
      "CYCLE_84 estimated y_: (32,)\n",
      "x_next: (32, 34)\n",
      "\n",
      "i: 34, x_next: (32, 34), x_test: (32, 16)\n",
      "x_curr: (32, 50)\n",
      "CYCLE_85 estimated y_: (32,)\n",
      "x_next: (32, 35)\n",
      "\n",
      "i: 35, x_next: (32, 35), x_test: (32, 15)\n",
      "x_curr: (32, 50)\n",
      "CYCLE_86 estimated y_: (32,)\n",
      "x_next: (32, 36)\n",
      "\n",
      "i: 36, x_next: (32, 36), x_test: (32, 14)\n",
      "x_curr: (32, 50)\n",
      "CYCLE_87 estimated y_: (32,)\n",
      "x_next: (32, 37)\n",
      "\n",
      "i: 37, x_next: (32, 37), x_test: (32, 13)\n",
      "x_curr: (32, 50)\n",
      "CYCLE_88 estimated y_: (32,)\n",
      "x_next: (32, 38)\n",
      "\n",
      "i: 38, x_next: (32, 38), x_test: (32, 12)\n",
      "x_curr: (32, 50)\n",
      "CYCLE_89 estimated y_: (32,)\n",
      "x_next: (32, 39)\n",
      "\n",
      "i: 39, x_next: (32, 39), x_test: (32, 11)\n",
      "x_curr: (32, 50)\n",
      "CYCLE_90 estimated y_: (32,)\n",
      "x_next: (32, 40)\n",
      "\n",
      "i: 40, x_next: (32, 40), x_test: (32, 10)\n",
      "x_curr: (32, 50)\n",
      "CYCLE_91 estimated y_: (32,)\n",
      "x_next: (32, 41)\n",
      "\n",
      "i: 41, x_next: (32, 41), x_test: (32, 9)\n",
      "x_curr: (32, 50)\n",
      "CYCLE_92 estimated y_: (32,)\n",
      "x_next: (32, 42)\n",
      "\n",
      "i: 42, x_next: (32, 42), x_test: (32, 8)\n",
      "x_curr: (32, 50)\n",
      "CYCLE_93 estimated y_: (32,)\n",
      "x_next: (32, 43)\n",
      "\n",
      "i: 43, x_next: (32, 43), x_test: (32, 7)\n",
      "x_curr: (32, 50)\n",
      "CYCLE_94 estimated y_: (32,)\n",
      "x_next: (32, 44)\n",
      "\n",
      "i: 44, x_next: (32, 44), x_test: (32, 6)\n",
      "x_curr: (32, 50)\n",
      "CYCLE_95 estimated y_: (32,)\n",
      "x_next: (32, 45)\n",
      "\n",
      "i: 45, x_next: (32, 45), x_test: (32, 5)\n",
      "x_curr: (32, 50)\n",
      "CYCLE_96 estimated y_: (32,)\n",
      "x_next: (32, 46)\n",
      "\n",
      "i: 46, x_next: (32, 46), x_test: (32, 4)\n",
      "x_curr: (32, 50)\n",
      "CYCLE_97 estimated y_: (32,)\n",
      "x_next: (32, 47)\n",
      "\n",
      "i: 47, x_next: (32, 47), x_test: (32, 3)\n",
      "x_curr: (32, 50)\n",
      "CYCLE_98 estimated y_: (32,)\n",
      "x_next: (32, 48)\n",
      "\n",
      "i: 48, x_next: (32, 48), x_test: (32, 2)\n",
      "x_curr: (32, 50)\n",
      "CYCLE_99 estimated y_: (32,)\n",
      "x_next: (32, 49)\n",
      "\n",
      "i: 49, x_next: (32, 49), x_test: (32, 1)\n",
      "x_curr: (32, 50)\n",
      "CYCLE_100 estimated y_: (32,)\n",
      "x_next: (32, 50)\n",
      "\n",
      "i: 50, x_next: (32, 50), x_test: (32, 0)\n",
      "x_curr: (32, 50)\n",
      "CYCLE_101 estimated y_: (32,)\n",
      "x_next: (32, 51)\n",
      "\n",
      "i: 51, x_next: (32, 51), x_test: (32, 0)\n",
      "x_curr: (32, 50)\n",
      "CYCLE_102 estimated y_: (32,)\n",
      "x_next: (32, 52)\n",
      "\n",
      "i: 52, x_next: (32, 52), x_test: (32, 0)\n",
      "x_curr: (32, 50)\n",
      "CYCLE_103 estimated y_: (32,)\n",
      "x_next: (32, 53)\n",
      "\n",
      "i: 53, x_next: (32, 53), x_test: (32, 0)\n",
      "x_curr: (32, 50)\n",
      "CYCLE_104 estimated y_: (32,)\n",
      "x_next: (32, 54)\n",
      "\n",
      "i: 54, x_next: (32, 54), x_test: (32, 0)\n",
      "x_curr: (32, 50)\n",
      "CYCLE_105 estimated y_: (32,)\n",
      "x_next: (32, 55)\n",
      "\n",
      "i: 55, x_next: (32, 55), x_test: (32, 0)\n",
      "x_curr: (32, 50)\n",
      "CYCLE_106 estimated y_: (32,)\n",
      "x_next: (32, 56)\n",
      "\n",
      "i: 56, x_next: (32, 56), x_test: (32, 0)\n",
      "x_curr: (32, 50)\n",
      "CYCLE_107 estimated y_: (32,)\n",
      "x_next: (32, 57)\n",
      "\n",
      "i: 57, x_next: (32, 57), x_test: (32, 0)\n",
      "x_curr: (32, 50)\n",
      "CYCLE_108 estimated y_: (32,)\n",
      "x_next: (32, 58)\n",
      "\n",
      "i: 58, x_next: (32, 58), x_test: (32, 0)\n",
      "x_curr: (32, 50)\n",
      "CYCLE_109 estimated y_: (32,)\n",
      "x_next: (32, 59)\n",
      "\n",
      "i: 59, x_next: (32, 59), x_test: (32, 0)\n",
      "x_curr: (32, 50)\n",
      "CYCLE_110 estimated y_: (32,)\n",
      "x_next: (32, 60)\n",
      "\n",
      "i: 60, x_next: (32, 60), x_test: (32, 0)\n",
      "x_curr: (32, 50)\n",
      "CYCLE_111 estimated y_: (32,)\n",
      "x_next: (32, 61)\n",
      "\n",
      "i: 61, x_next: (32, 61), x_test: (32, 0)\n",
      "x_curr: (32, 50)\n",
      "CYCLE_112 estimated y_: (32,)\n",
      "x_next: (32, 62)\n",
      "\n",
      "i: 62, x_next: (32, 62), x_test: (32, 0)\n",
      "x_curr: (32, 50)\n",
      "CYCLE_113 estimated y_: (32,)\n",
      "x_next: (32, 63)\n",
      "\n",
      "i: 63, x_next: (32, 63), x_test: (32, 0)\n",
      "x_curr: (32, 50)\n",
      "CYCLE_114 estimated y_: (32,)\n",
      "x_next: (32, 64)\n",
      "\n",
      "i: 64, x_next: (32, 64), x_test: (32, 0)\n",
      "x_curr: (32, 50)\n",
      "CYCLE_115 estimated y_: (32,)\n",
      "x_next: (32, 65)\n",
      "\n",
      "i: 65, x_next: (32, 65), x_test: (32, 0)\n",
      "x_curr: (32, 50)\n",
      "CYCLE_116 estimated y_: (32,)\n",
      "x_next: (32, 66)\n",
      "\n",
      "i: 66, x_next: (32, 66), x_test: (32, 0)\n",
      "x_curr: (32, 50)\n",
      "CYCLE_117 estimated y_: (32,)\n",
      "x_next: (32, 67)\n",
      "\n",
      "i: 67, x_next: (32, 67), x_test: (32, 0)\n",
      "x_curr: (32, 50)\n",
      "CYCLE_118 estimated y_: (32,)\n",
      "x_next: (32, 68)\n",
      "\n",
      "i: 68, x_next: (32, 68), x_test: (32, 0)\n",
      "x_curr: (32, 50)\n",
      "CYCLE_119 estimated y_: (32,)\n",
      "x_next: (32, 69)\n",
      "\n",
      "i: 69, x_next: (32, 69), x_test: (32, 0)\n",
      "x_curr: (32, 50)\n",
      "CYCLE_120 estimated y_: (32,)\n",
      "x_next: (32, 70)\n",
      "\n",
      "i: 70, x_next: (32, 70), x_test: (32, 0)\n",
      "x_curr: (32, 50)\n",
      "CYCLE_121 estimated y_: (32,)\n",
      "x_next: (32, 71)\n",
      "\n",
      "i: 71, x_next: (32, 71), x_test: (32, 0)\n",
      "x_curr: (32, 50)\n",
      "CYCLE_122 estimated y_: (32,)\n",
      "x_next: (32, 72)\n",
      "\n",
      "i: 72, x_next: (32, 72), x_test: (32, 0)\n",
      "x_curr: (32, 50)\n",
      "CYCLE_123 estimated y_: (32,)\n",
      "x_next: (32, 73)\n",
      "\n",
      "i: 73, x_next: (32, 73), x_test: (32, 0)\n",
      "x_curr: (32, 50)\n",
      "CYCLE_124 estimated y_: (32,)\n",
      "x_next: (32, 74)\n",
      "\n",
      "i: 74, x_next: (32, 74), x_test: (32, 0)\n",
      "x_curr: (32, 50)\n",
      "CYCLE_125 estimated y_: (32,)\n",
      "x_next: (32, 75)\n",
      "\n",
      "i: 75, x_next: (32, 75), x_test: (32, 0)\n",
      "x_curr: (32, 50)\n",
      "CYCLE_126 estimated y_: (32,)\n",
      "x_next: (32, 76)\n",
      "\n",
      "i: 76, x_next: (32, 76), x_test: (32, 0)\n",
      "x_curr: (32, 50)\n",
      "CYCLE_127 estimated y_: (32,)\n",
      "x_next: (32, 77)\n",
      "\n",
      "i: 77, x_next: (32, 77), x_test: (32, 0)\n",
      "x_curr: (32, 50)\n",
      "CYCLE_128 estimated y_: (32,)\n",
      "x_next: (32, 78)\n",
      "\n",
      "i: 78, x_next: (32, 78), x_test: (32, 0)\n",
      "x_curr: (32, 50)\n",
      "CYCLE_129 estimated y_: (32,)\n",
      "x_next: (32, 79)\n",
      "\n",
      "i: 79, x_next: (32, 79), x_test: (32, 0)\n",
      "x_curr: (32, 50)\n",
      "CYCLE_130 estimated y_: (32,)\n",
      "x_next: (32, 80)\n",
      "\n",
      "i: 80, x_next: (32, 80), x_test: (32, 0)\n",
      "x_curr: (32, 50)\n",
      "CYCLE_131 estimated y_: (32,)\n",
      "x_next: (32, 81)\n",
      "\n",
      "i: 81, x_next: (32, 81), x_test: (32, 0)\n",
      "x_curr: (32, 50)\n",
      "CYCLE_132 estimated y_: (32,)\n",
      "x_next: (32, 82)\n",
      "\n",
      "i: 82, x_next: (32, 82), x_test: (32, 0)\n",
      "x_curr: (32, 50)\n",
      "CYCLE_133 estimated y_: (32,)\n",
      "x_next: (32, 83)\n",
      "\n",
      "i: 83, x_next: (32, 83), x_test: (32, 0)\n",
      "x_curr: (32, 50)\n",
      "CYCLE_134 estimated y_: (32,)\n",
      "x_next: (32, 84)\n",
      "\n",
      "i: 84, x_next: (32, 84), x_test: (32, 0)\n",
      "x_curr: (32, 50)\n",
      "CYCLE_135 estimated y_: (32,)\n",
      "x_next: (32, 85)\n",
      "\n",
      "i: 85, x_next: (32, 85), x_test: (32, 0)\n",
      "x_curr: (32, 50)\n",
      "CYCLE_136 estimated y_: (32,)\n",
      "x_next: (32, 86)\n",
      "\n",
      "i: 86, x_next: (32, 86), x_test: (32, 0)\n",
      "x_curr: (32, 50)\n",
      "CYCLE_137 estimated y_: (32,)\n",
      "x_next: (32, 87)\n",
      "\n",
      "i: 87, x_next: (32, 87), x_test: (32, 0)\n",
      "x_curr: (32, 50)\n",
      "CYCLE_138 estimated y_: (32,)\n",
      "x_next: (32, 88)\n",
      "\n",
      "i: 88, x_next: (32, 88), x_test: (32, 0)\n",
      "x_curr: (32, 50)\n",
      "CYCLE_139 estimated y_: (32,)\n",
      "x_next: (32, 89)\n",
      "\n",
      "i: 89, x_next: (32, 89), x_test: (32, 0)\n",
      "x_curr: (32, 50)\n",
      "CYCLE_140 estimated y_: (32,)\n",
      "x_next: (32, 90)\n",
      "\n",
      "i: 90, x_next: (32, 90), x_test: (32, 0)\n",
      "x_curr: (32, 50)\n",
      "CYCLE_141 estimated y_: (32,)\n",
      "x_next: (32, 91)\n",
      "\n",
      "i: 91, x_next: (32, 91), x_test: (32, 0)\n",
      "x_curr: (32, 50)\n",
      "CYCLE_142 estimated y_: (32,)\n",
      "x_next: (32, 92)\n",
      "\n",
      "i: 92, x_next: (32, 92), x_test: (32, 0)\n",
      "x_curr: (32, 50)\n",
      "CYCLE_143 estimated y_: (32,)\n",
      "x_next: (32, 93)\n",
      "\n",
      "i: 93, x_next: (32, 93), x_test: (32, 0)\n",
      "x_curr: (32, 50)\n",
      "CYCLE_144 estimated y_: (32,)\n",
      "x_next: (32, 94)\n",
      "\n",
      "i: 94, x_next: (32, 94), x_test: (32, 0)\n",
      "x_curr: (32, 50)\n",
      "CYCLE_145 estimated y_: (32,)\n",
      "x_next: (32, 95)\n",
      "\n",
      "i: 95, x_next: (32, 95), x_test: (32, 0)\n",
      "x_curr: (32, 50)\n",
      "CYCLE_146 estimated y_: (32,)\n",
      "x_next: (32, 96)\n",
      "\n",
      "i: 96, x_next: (32, 96), x_test: (32, 0)\n",
      "x_curr: (32, 50)\n",
      "CYCLE_147 estimated y_: (32,)\n",
      "x_next: (32, 97)\n",
      "\n",
      "i: 97, x_next: (32, 97), x_test: (32, 0)\n",
      "x_curr: (32, 50)\n",
      "CYCLE_148 estimated y_: (32,)\n",
      "x_next: (32, 98)\n",
      "\n",
      "i: 98, x_next: (32, 98), x_test: (32, 0)\n",
      "x_curr: (32, 50)\n",
      "CYCLE_149 estimated y_: (32,)\n",
      "x_next: (32, 99)\n",
      "\n",
      "i: 99, x_next: (32, 99), x_test: (32, 0)\n",
      "x_curr: (32, 50)\n",
      "CYCLE_150 estimated y_: (32,)\n",
      "x_next: (32, 100)\n",
      "\n",
      "i: 100, x_next: (32, 100), x_test: (32, 0)\n",
      "x_curr: (32, 50)\n",
      "CYCLE_151 estimated y_: (32,)\n",
      "x_next: (32, 101)\n",
      "\n",
      "i: 101, x_next: (32, 101), x_test: (32, 0)\n",
      "x_curr: (32, 50)\n",
      "CYCLE_152 estimated y_: (32,)\n",
      "x_next: (32, 102)\n",
      "\n",
      "i: 102, x_next: (32, 102), x_test: (32, 0)\n",
      "x_curr: (32, 50)\n",
      "CYCLE_153 estimated y_: (32,)\n",
      "x_next: (32, 103)\n",
      "\n",
      "i: 103, x_next: (32, 103), x_test: (32, 0)\n",
      "x_curr: (32, 50)\n",
      "CYCLE_154 estimated y_: (32,)\n",
      "x_next: (32, 104)\n",
      "\n",
      "i: 104, x_next: (32, 104), x_test: (32, 0)\n",
      "x_curr: (32, 50)\n",
      "CYCLE_155 estimated y_: (32,)\n",
      "x_next: (32, 105)\n",
      "\n",
      "i: 105, x_next: (32, 105), x_test: (32, 0)\n",
      "x_curr: (32, 50)\n",
      "CYCLE_156 estimated y_: (32,)\n",
      "x_next: (32, 106)\n",
      "\n",
      "i: 106, x_next: (32, 106), x_test: (32, 0)\n",
      "x_curr: (32, 50)\n",
      "CYCLE_157 estimated y_: (32,)\n",
      "x_next: (32, 107)\n",
      "\n",
      "i: 107, x_next: (32, 107), x_test: (32, 0)\n",
      "x_curr: (32, 50)\n",
      "CYCLE_158 estimated y_: (32,)\n",
      "x_next: (32, 108)\n",
      "\n",
      "i: 108, x_next: (32, 108), x_test: (32, 0)\n",
      "x_curr: (32, 50)\n",
      "CYCLE_159 estimated y_: (32,)\n",
      "x_next: (32, 109)\n",
      "\n",
      "i: 109, x_next: (32, 109), x_test: (32, 0)\n",
      "x_curr: (32, 50)\n",
      "CYCLE_160 estimated y_: (32,)\n",
      "x_next: (32, 110)\n",
      "\n",
      "i: 110, x_next: (32, 110), x_test: (32, 0)\n",
      "x_curr: (32, 50)\n",
      "CYCLE_161 estimated y_: (32,)\n",
      "x_next: (32, 111)\n",
      "\n",
      "i: 111, x_next: (32, 111), x_test: (32, 0)\n",
      "x_curr: (32, 50)\n",
      "CYCLE_162 estimated y_: (32,)\n",
      "x_next: (32, 112)\n",
      "\n",
      "i: 112, x_next: (32, 112), x_test: (32, 0)\n",
      "x_curr: (32, 50)\n",
      "CYCLE_163 estimated y_: (32,)\n",
      "x_next: (32, 113)\n",
      "\n",
      "i: 113, x_next: (32, 113), x_test: (32, 0)\n",
      "x_curr: (32, 50)\n",
      "CYCLE_164 estimated y_: (32,)\n",
      "x_next: (32, 114)\n",
      "\n",
      "i: 114, x_next: (32, 114), x_test: (32, 0)\n",
      "x_curr: (32, 50)\n",
      "CYCLE_165 estimated y_: (32,)\n",
      "x_next: (32, 115)\n",
      "\n",
      "i: 115, x_next: (32, 115), x_test: (32, 0)\n",
      "x_curr: (32, 50)\n",
      "CYCLE_166 estimated y_: (32,)\n",
      "x_next: (32, 116)\n",
      "\n",
      "i: 116, x_next: (32, 116), x_test: (32, 0)\n",
      "x_curr: (32, 50)\n",
      "CYCLE_167 estimated y_: (32,)\n",
      "x_next: (32, 117)\n",
      "\n",
      "i: 117, x_next: (32, 117), x_test: (32, 0)\n",
      "x_curr: (32, 50)\n",
      "CYCLE_168 estimated y_: (32,)\n",
      "x_next: (32, 118)\n",
      "\n",
      "i: 118, x_next: (32, 118), x_test: (32, 0)\n",
      "x_curr: (32, 50)\n",
      "CYCLE_169 estimated y_: (32,)\n",
      "x_next: (32, 119)\n",
      "\n",
      "i: 119, x_next: (32, 119), x_test: (32, 0)\n",
      "x_curr: (32, 50)\n",
      "CYCLE_170 estimated y_: (32,)\n",
      "x_next: (32, 120)\n",
      "\n",
      "i: 120, x_next: (32, 120), x_test: (32, 0)\n",
      "x_curr: (32, 50)\n",
      "CYCLE_171 estimated y_: (32,)\n",
      "x_next: (32, 121)\n",
      "\n",
      "i: 121, x_next: (32, 121), x_test: (32, 0)\n",
      "x_curr: (32, 50)\n",
      "CYCLE_172 estimated y_: (32,)\n",
      "x_next: (32, 122)\n",
      "\n",
      "i: 122, x_next: (32, 122), x_test: (32, 0)\n",
      "x_curr: (32, 50)\n",
      "CYCLE_173 estimated y_: (32,)\n",
      "x_next: (32, 123)\n",
      "\n",
      "i: 123, x_next: (32, 123), x_test: (32, 0)\n",
      "x_curr: (32, 50)\n",
      "CYCLE_174 estimated y_: (32,)\n",
      "x_next: (32, 124)\n",
      "\n",
      "i: 124, x_next: (32, 124), x_test: (32, 0)\n",
      "x_curr: (32, 50)\n",
      "CYCLE_175 estimated y_: (32,)\n",
      "x_next: (32, 125)\n",
      "\n",
      "i: 125, x_next: (32, 125), x_test: (32, 0)\n",
      "x_curr: (32, 50)\n",
      "CYCLE_176 estimated y_: (32,)\n",
      "x_next: (32, 126)\n",
      "\n",
      "i: 126, x_next: (32, 126), x_test: (32, 0)\n",
      "x_curr: (32, 50)\n",
      "CYCLE_177 estimated y_: (32,)\n",
      "x_next: (32, 127)\n",
      "\n",
      "i: 127, x_next: (32, 127), x_test: (32, 0)\n",
      "x_curr: (32, 50)\n",
      "CYCLE_178 estimated y_: (32,)\n",
      "x_next: (32, 128)\n",
      "\n",
      "i: 128, x_next: (32, 128), x_test: (32, 0)\n",
      "x_curr: (32, 50)\n",
      "CYCLE_179 estimated y_: (32,)\n",
      "x_next: (32, 129)\n",
      "\n",
      "i: 129, x_next: (32, 129), x_test: (32, 0)\n",
      "x_curr: (32, 50)\n",
      "CYCLE_180 estimated y_: (32,)\n",
      "x_next: (32, 130)\n",
      "\n",
      "i: 130, x_next: (32, 130), x_test: (32, 0)\n",
      "x_curr: (32, 50)\n",
      "CYCLE_181 estimated y_: (32,)\n",
      "x_next: (32, 131)\n",
      "\n",
      "i: 131, x_next: (32, 131), x_test: (32, 0)\n",
      "x_curr: (32, 50)\n",
      "CYCLE_182 estimated y_: (32,)\n",
      "x_next: (32, 132)\n",
      "\n",
      "i: 132, x_next: (32, 132), x_test: (32, 0)\n",
      "x_curr: (32, 50)\n",
      "CYCLE_183 estimated y_: (32,)\n",
      "x_next: (32, 133)\n",
      "\n",
      "i: 133, x_next: (32, 133), x_test: (32, 0)\n",
      "x_curr: (32, 50)\n",
      "CYCLE_184 estimated y_: (32,)\n",
      "x_next: (32, 134)\n",
      "\n",
      "i: 134, x_next: (32, 134), x_test: (32, 0)\n",
      "x_curr: (32, 50)\n",
      "CYCLE_185 estimated y_: (32,)\n",
      "x_next: (32, 135)\n",
      "\n",
      "i: 135, x_next: (32, 135), x_test: (32, 0)\n",
      "x_curr: (32, 50)\n",
      "CYCLE_186 estimated y_: (32,)\n",
      "x_next: (32, 136)\n",
      "\n",
      "i: 136, x_next: (32, 136), x_test: (32, 0)\n",
      "x_curr: (32, 50)\n",
      "CYCLE_187 estimated y_: (32,)\n",
      "x_next: (32, 137)\n",
      "\n",
      "i: 137, x_next: (32, 137), x_test: (32, 0)\n",
      "x_curr: (32, 50)\n",
      "CYCLE_188 estimated y_: (32,)\n",
      "x_next: (32, 138)\n",
      "\n",
      "i: 138, x_next: (32, 138), x_test: (32, 0)\n",
      "x_curr: (32, 50)\n",
      "CYCLE_189 estimated y_: (32,)\n",
      "x_next: (32, 139)\n",
      "\n",
      "i: 139, x_next: (32, 139), x_test: (32, 0)\n",
      "x_curr: (32, 50)\n",
      "CYCLE_190 estimated y_: (32,)\n",
      "x_next: (32, 140)\n",
      "\n",
      "i: 140, x_next: (32, 140), x_test: (32, 0)\n",
      "x_curr: (32, 50)\n",
      "CYCLE_191 estimated y_: (32,)\n",
      "x_next: (32, 141)\n",
      "\n",
      "i: 141, x_next: (32, 141), x_test: (32, 0)\n",
      "x_curr: (32, 50)\n",
      "CYCLE_192 estimated y_: (32,)\n",
      "x_next: (32, 142)\n",
      "\n",
      "i: 142, x_next: (32, 142), x_test: (32, 0)\n",
      "x_curr: (32, 50)\n",
      "CYCLE_193 estimated y_: (32,)\n",
      "x_next: (32, 143)\n",
      "\n",
      "i: 143, x_next: (32, 143), x_test: (32, 0)\n",
      "x_curr: (32, 50)\n",
      "CYCLE_194 estimated y_: (32,)\n",
      "x_next: (32, 144)\n",
      "\n",
      "i: 144, x_next: (32, 144), x_test: (32, 0)\n",
      "x_curr: (32, 50)\n",
      "CYCLE_195 estimated y_: (32,)\n",
      "x_next: (32, 145)\n",
      "\n",
      "i: 145, x_next: (32, 145), x_test: (32, 0)\n",
      "x_curr: (32, 50)\n",
      "CYCLE_196 estimated y_: (32,)\n",
      "x_next: (32, 146)\n",
      "\n",
      "i: 146, x_next: (32, 146), x_test: (32, 0)\n",
      "x_curr: (32, 50)\n",
      "CYCLE_197 estimated y_: (32,)\n",
      "x_next: (32, 147)\n",
      "\n",
      "i: 147, x_next: (32, 147), x_test: (32, 0)\n",
      "x_curr: (32, 50)\n",
      "CYCLE_198 estimated y_: (32,)\n",
      "x_next: (32, 148)\n",
      "\n",
      "i: 148, x_next: (32, 148), x_test: (32, 0)\n",
      "x_curr: (32, 50)\n",
      "CYCLE_199 estimated y_: (32,)\n",
      "x_next: (32, 149)\n",
      "\n",
      "i: 149, x_next: (32, 149), x_test: (32, 0)\n",
      "x_curr: (32, 50)\n",
      "CYCLE_200 estimated y_: (32,)\n",
      "x_next: (32, 150)\n",
      "\n",
      "i: 150, x_next: (32, 150), x_test: (32, 0)\n",
      "x_curr: (32, 50)\n",
      "CYCLE_201 estimated y_: (32,)\n",
      "x_next: (32, 151)\n",
      "\n",
      "i: 151, x_next: (32, 151), x_test: (32, 0)\n",
      "x_curr: (32, 50)\n",
      "CYCLE_202 estimated y_: (32,)\n",
      "x_next: (32, 152)\n",
      "\n",
      "i: 152, x_next: (32, 152), x_test: (32, 0)\n",
      "x_curr: (32, 50)\n",
      "CYCLE_203 estimated y_: (32,)\n",
      "x_next: (32, 153)\n",
      "\n",
      "i: 153, x_next: (32, 153), x_test: (32, 0)\n",
      "x_curr: (32, 50)\n",
      "CYCLE_204 estimated y_: (32,)\n",
      "x_next: (32, 154)\n",
      "\n",
      "i: 154, x_next: (32, 154), x_test: (32, 0)\n",
      "x_curr: (32, 50)\n",
      "CYCLE_205 estimated y_: (32,)\n",
      "x_next: (32, 155)\n",
      "\n",
      "i: 155, x_next: (32, 155), x_test: (32, 0)\n",
      "x_curr: (32, 50)\n",
      "CYCLE_206 estimated y_: (32,)\n",
      "x_next: (32, 156)\n",
      "\n",
      "i: 156, x_next: (32, 156), x_test: (32, 0)\n",
      "x_curr: (32, 50)\n",
      "CYCLE_207 estimated y_: (32,)\n",
      "x_next: (32, 157)\n",
      "\n",
      "i: 157, x_next: (32, 157), x_test: (32, 0)\n",
      "x_curr: (32, 50)\n",
      "CYCLE_208 estimated y_: (32,)\n",
      "x_next: (32, 158)\n",
      "\n",
      "i: 158, x_next: (32, 158), x_test: (32, 0)\n",
      "x_curr: (32, 50)\n",
      "CYCLE_209 estimated y_: (32,)\n",
      "x_next: (32, 159)\n",
      "\n",
      "i: 159, x_next: (32, 159), x_test: (32, 0)\n",
      "x_curr: (32, 50)\n",
      "CYCLE_210 estimated y_: (32,)\n",
      "x_next: (32, 160)\n",
      "\n",
      "i: 160, x_next: (32, 160), x_test: (32, 0)\n",
      "x_curr: (32, 50)\n",
      "CYCLE_211 estimated y_: (32,)\n",
      "x_next: (32, 161)\n",
      "\n",
      "i: 161, x_next: (32, 161), x_test: (32, 0)\n",
      "x_curr: (32, 50)\n",
      "CYCLE_212 estimated y_: (32,)\n",
      "x_next: (32, 162)\n",
      "\n",
      "i: 162, x_next: (32, 162), x_test: (32, 0)\n",
      "x_curr: (32, 50)\n",
      "CYCLE_213 estimated y_: (32,)\n",
      "x_next: (32, 163)\n",
      "\n",
      "i: 163, x_next: (32, 163), x_test: (32, 0)\n",
      "x_curr: (32, 50)\n",
      "CYCLE_214 estimated y_: (32,)\n",
      "x_next: (32, 164)\n",
      "\n",
      "i: 164, x_next: (32, 164), x_test: (32, 0)\n",
      "x_curr: (32, 50)\n",
      "CYCLE_215 estimated y_: (32,)\n",
      "x_next: (32, 165)\n",
      "\n",
      "i: 165, x_next: (32, 165), x_test: (32, 0)\n",
      "x_curr: (32, 50)\n",
      "CYCLE_216 estimated y_: (32,)\n",
      "x_next: (32, 166)\n",
      "\n",
      "i: 166, x_next: (32, 166), x_test: (32, 0)\n",
      "x_curr: (32, 50)\n",
      "CYCLE_217 estimated y_: (32,)\n",
      "x_next: (32, 167)\n",
      "\n",
      "i: 167, x_next: (32, 167), x_test: (32, 0)\n",
      "x_curr: (32, 50)\n",
      "CYCLE_218 estimated y_: (32,)\n",
      "x_next: (32, 168)\n",
      "\n",
      "i: 168, x_next: (32, 168), x_test: (32, 0)\n",
      "x_curr: (32, 50)\n",
      "CYCLE_219 estimated y_: (32,)\n",
      "x_next: (32, 169)\n",
      "\n",
      "i: 169, x_next: (32, 169), x_test: (32, 0)\n",
      "x_curr: (32, 50)\n",
      "CYCLE_220 estimated y_: (32,)\n",
      "x_next: (32, 170)\n",
      "\n",
      "i: 170, x_next: (32, 170), x_test: (32, 0)\n",
      "x_curr: (32, 50)\n",
      "CYCLE_221 estimated y_: (32,)\n",
      "x_next: (32, 171)\n",
      "\n",
      "i: 171, x_next: (32, 171), x_test: (32, 0)\n",
      "x_curr: (32, 50)\n",
      "CYCLE_222 estimated y_: (32,)\n",
      "x_next: (32, 172)\n",
      "\n",
      "i: 172, x_next: (32, 172), x_test: (32, 0)\n",
      "x_curr: (32, 50)\n",
      "CYCLE_223 estimated y_: (32,)\n",
      "x_next: (32, 173)\n",
      "\n",
      "i: 173, x_next: (32, 173), x_test: (32, 0)\n",
      "x_curr: (32, 50)\n",
      "CYCLE_224 estimated y_: (32,)\n",
      "x_next: (32, 174)\n",
      "\n",
      "i: 174, x_next: (32, 174), x_test: (32, 0)\n",
      "x_curr: (32, 50)\n",
      "CYCLE_225 estimated y_: (32,)\n",
      "x_next: (32, 175)\n",
      "\n",
      "i: 175, x_next: (32, 175), x_test: (32, 0)\n",
      "x_curr: (32, 50)\n",
      "CYCLE_226 estimated y_: (32,)\n",
      "x_next: (32, 176)\n",
      "\n",
      "i: 176, x_next: (32, 176), x_test: (32, 0)\n",
      "x_curr: (32, 50)\n",
      "CYCLE_227 estimated y_: (32,)\n",
      "x_next: (32, 177)\n",
      "\n",
      "i: 177, x_next: (32, 177), x_test: (32, 0)\n",
      "x_curr: (32, 50)\n",
      "CYCLE_228 estimated y_: (32,)\n",
      "x_next: (32, 178)\n",
      "\n",
      "i: 178, x_next: (32, 178), x_test: (32, 0)\n",
      "x_curr: (32, 50)\n",
      "CYCLE_229 estimated y_: (32,)\n",
      "x_next: (32, 179)\n",
      "\n",
      "i: 179, x_next: (32, 179), x_test: (32, 0)\n",
      "x_curr: (32, 50)\n",
      "CYCLE_230 estimated y_: (32,)\n",
      "x_next: (32, 180)\n",
      "\n",
      "i: 180, x_next: (32, 180), x_test: (32, 0)\n",
      "x_curr: (32, 50)\n",
      "CYCLE_231 estimated y_: (32,)\n",
      "x_next: (32, 181)\n",
      "\n",
      "i: 181, x_next: (32, 181), x_test: (32, 0)\n",
      "x_curr: (32, 50)\n",
      "CYCLE_232 estimated y_: (32,)\n",
      "x_next: (32, 182)\n",
      "\n",
      "i: 182, x_next: (32, 182), x_test: (32, 0)\n",
      "x_curr: (32, 50)\n",
      "CYCLE_233 estimated y_: (32,)\n",
      "x_next: (32, 183)\n",
      "\n",
      "i: 183, x_next: (32, 183), x_test: (32, 0)\n",
      "x_curr: (32, 50)\n",
      "CYCLE_234 estimated y_: (32,)\n",
      "x_next: (32, 184)\n",
      "\n",
      "i: 184, x_next: (32, 184), x_test: (32, 0)\n",
      "x_curr: (32, 50)\n",
      "CYCLE_235 estimated y_: (32,)\n",
      "x_next: (32, 185)\n",
      "\n",
      "i: 185, x_next: (32, 185), x_test: (32, 0)\n",
      "x_curr: (32, 50)\n",
      "CYCLE_236 estimated y_: (32,)\n",
      "x_next: (32, 186)\n",
      "\n",
      "i: 186, x_next: (32, 186), x_test: (32, 0)\n",
      "x_curr: (32, 50)\n",
      "CYCLE_237 estimated y_: (32,)\n",
      "x_next: (32, 187)\n",
      "\n",
      "i: 187, x_next: (32, 187), x_test: (32, 0)\n",
      "x_curr: (32, 50)\n",
      "CYCLE_238 estimated y_: (32,)\n",
      "x_next: (32, 188)\n",
      "\n",
      "i: 188, x_next: (32, 188), x_test: (32, 0)\n",
      "x_curr: (32, 50)\n",
      "CYCLE_239 estimated y_: (32,)\n",
      "x_next: (32, 189)\n",
      "\n",
      "i: 189, x_next: (32, 189), x_test: (32, 0)\n",
      "x_curr: (32, 50)\n",
      "CYCLE_240 estimated y_: (32,)\n",
      "x_next: (32, 190)\n",
      "\n",
      "i: 190, x_next: (32, 190), x_test: (32, 0)\n",
      "x_curr: (32, 50)\n",
      "CYCLE_241 estimated y_: (32,)\n",
      "x_next: (32, 191)\n",
      "\n",
      "i: 191, x_next: (32, 191), x_test: (32, 0)\n",
      "x_curr: (32, 50)\n",
      "CYCLE_242 estimated y_: (32,)\n",
      "x_next: (32, 192)\n",
      "\n",
      "i: 192, x_next: (32, 192), x_test: (32, 0)\n",
      "x_curr: (32, 50)\n",
      "CYCLE_243 estimated y_: (32,)\n",
      "x_next: (32, 193)\n",
      "\n",
      "i: 193, x_next: (32, 193), x_test: (32, 0)\n",
      "x_curr: (32, 50)\n",
      "CYCLE_244 estimated y_: (32,)\n",
      "x_next: (32, 194)\n",
      "\n",
      "i: 194, x_next: (32, 194), x_test: (32, 0)\n",
      "x_curr: (32, 50)\n",
      "CYCLE_245 estimated y_: (32,)\n",
      "x_next: (32, 195)\n",
      "\n",
      "i: 195, x_next: (32, 195), x_test: (32, 0)\n",
      "x_curr: (32, 50)\n",
      "CYCLE_246 estimated y_: (32,)\n",
      "x_next: (32, 196)\n",
      "\n",
      "i: 196, x_next: (32, 196), x_test: (32, 0)\n",
      "x_curr: (32, 50)\n",
      "CYCLE_247 estimated y_: (32,)\n",
      "x_next: (32, 197)\n",
      "\n",
      "i: 197, x_next: (32, 197), x_test: (32, 0)\n",
      "x_curr: (32, 50)\n",
      "CYCLE_248 estimated y_: (32,)\n",
      "x_next: (32, 198)\n",
      "\n",
      "i: 198, x_next: (32, 198), x_test: (32, 0)\n",
      "x_curr: (32, 50)\n",
      "CYCLE_249 estimated y_: (32,)\n",
      "x_next: (32, 199)\n",
      "\n",
      "i: 199, x_next: (32, 199), x_test: (32, 0)\n",
      "x_curr: (32, 50)\n",
      "CYCLE_250 estimated y_: (32,)\n",
      "x_next: (32, 200)\n",
      "\n",
      "i: 200, x_next: (32, 200), x_test: (32, 0)\n",
      "x_curr: (32, 50)\n",
      "CYCLE_251 estimated y_: (32,)\n",
      "x_next: (32, 201)\n",
      "\n",
      "i: 201, x_next: (32, 201), x_test: (32, 0)\n",
      "x_curr: (32, 50)\n",
      "CYCLE_252 estimated y_: (32,)\n",
      "x_next: (32, 202)\n",
      "\n",
      "i: 202, x_next: (32, 202), x_test: (32, 0)\n",
      "x_curr: (32, 50)\n",
      "CYCLE_253 estimated y_: (32,)\n",
      "x_next: (32, 203)\n",
      "\n",
      "i: 203, x_next: (32, 203), x_test: (32, 0)\n",
      "x_curr: (32, 50)\n",
      "CYCLE_254 estimated y_: (32,)\n",
      "x_next: (32, 204)\n",
      "\n",
      "i: 204, x_next: (32, 204), x_test: (32, 0)\n",
      "x_curr: (32, 50)\n",
      "CYCLE_255 estimated y_: (32,)\n",
      "x_next: (32, 205)\n",
      "\n",
      "i: 205, x_next: (32, 205), x_test: (32, 0)\n",
      "x_curr: (32, 50)\n",
      "CYCLE_256 estimated y_: (32,)\n",
      "x_next: (32, 206)\n",
      "\n",
      "i: 206, x_next: (32, 206), x_test: (32, 0)\n",
      "x_curr: (32, 50)\n",
      "CYCLE_257 estimated y_: (32,)\n",
      "x_next: (32, 207)\n",
      "\n",
      "i: 207, x_next: (32, 207), x_test: (32, 0)\n",
      "x_curr: (32, 50)\n",
      "CYCLE_258 estimated y_: (32,)\n",
      "x_next: (32, 208)\n",
      "\n",
      "i: 208, x_next: (32, 208), x_test: (32, 0)\n",
      "x_curr: (32, 50)\n",
      "CYCLE_259 estimated y_: (32,)\n",
      "x_next: (32, 209)\n",
      "\n",
      "i: 209, x_next: (32, 209), x_test: (32, 0)\n",
      "x_curr: (32, 50)\n",
      "CYCLE_260 estimated y_: (32,)\n",
      "x_next: (32, 210)\n",
      "\n",
      "i: 210, x_next: (32, 210), x_test: (32, 0)\n",
      "x_curr: (32, 50)\n",
      "CYCLE_261 estimated y_: (32,)\n",
      "x_next: (32, 211)\n",
      "\n",
      "i: 211, x_next: (32, 211), x_test: (32, 0)\n",
      "x_curr: (32, 50)\n",
      "CYCLE_262 estimated y_: (32,)\n",
      "x_next: (32, 212)\n",
      "\n",
      "i: 212, x_next: (32, 212), x_test: (32, 0)\n",
      "x_curr: (32, 50)\n",
      "CYCLE_263 estimated y_: (32,)\n",
      "x_next: (32, 213)\n",
      "\n",
      "i: 213, x_next: (32, 213), x_test: (32, 0)\n",
      "x_curr: (32, 50)\n",
      "CYCLE_264 estimated y_: (32,)\n",
      "x_next: (32, 214)\n",
      "\n",
      "i: 214, x_next: (32, 214), x_test: (32, 0)\n",
      "x_curr: (32, 50)\n",
      "CYCLE_265 estimated y_: (32,)\n",
      "x_next: (32, 215)\n",
      "\n",
      "i: 215, x_next: (32, 215), x_test: (32, 0)\n",
      "x_curr: (32, 50)\n",
      "CYCLE_266 estimated y_: (32,)\n",
      "x_next: (32, 216)\n",
      "\n",
      "i: 216, x_next: (32, 216), x_test: (32, 0)\n",
      "x_curr: (32, 50)\n",
      "CYCLE_267 estimated y_: (32,)\n",
      "x_next: (32, 217)\n",
      "\n",
      "i: 217, x_next: (32, 217), x_test: (32, 0)\n",
      "x_curr: (32, 50)\n",
      "CYCLE_268 estimated y_: (32,)\n",
      "x_next: (32, 218)\n",
      "\n",
      "i: 218, x_next: (32, 218), x_test: (32, 0)\n",
      "x_curr: (32, 50)\n",
      "CYCLE_269 estimated y_: (32,)\n",
      "x_next: (32, 219)\n",
      "\n",
      "i: 219, x_next: (32, 219), x_test: (32, 0)\n",
      "x_curr: (32, 50)\n",
      "CYCLE_270 estimated y_: (32,)\n",
      "x_next: (32, 220)\n",
      "\n",
      "i: 220, x_next: (32, 220), x_test: (32, 0)\n",
      "x_curr: (32, 50)\n",
      "CYCLE_271 estimated y_: (32,)\n",
      "x_next: (32, 221)\n",
      "\n",
      "i: 221, x_next: (32, 221), x_test: (32, 0)\n",
      "x_curr: (32, 50)\n",
      "CYCLE_272 estimated y_: (32,)\n",
      "x_next: (32, 222)\n",
      "\n",
      "i: 222, x_next: (32, 222), x_test: (32, 0)\n",
      "x_curr: (32, 50)\n",
      "CYCLE_273 estimated y_: (32,)\n",
      "x_next: (32, 223)\n",
      "\n",
      "i: 223, x_next: (32, 223), x_test: (32, 0)\n",
      "x_curr: (32, 50)\n",
      "CYCLE_274 estimated y_: (32,)\n",
      "x_next: (32, 224)\n",
      "\n",
      "i: 224, x_next: (32, 224), x_test: (32, 0)\n",
      "x_curr: (32, 50)\n",
      "CYCLE_275 estimated y_: (32,)\n",
      "x_next: (32, 225)\n",
      "\n",
      "i: 225, x_next: (32, 225), x_test: (32, 0)\n",
      "x_curr: (32, 50)\n",
      "CYCLE_276 estimated y_: (32,)\n",
      "x_next: (32, 226)\n",
      "\n",
      "i: 226, x_next: (32, 226), x_test: (32, 0)\n",
      "x_curr: (32, 50)\n",
      "CYCLE_277 estimated y_: (32,)\n",
      "x_next: (32, 227)\n",
      "\n",
      "i: 227, x_next: (32, 227), x_test: (32, 0)\n",
      "x_curr: (32, 50)\n",
      "CYCLE_278 estimated y_: (32,)\n",
      "x_next: (32, 228)\n",
      "\n",
      "i: 228, x_next: (32, 228), x_test: (32, 0)\n",
      "x_curr: (32, 50)\n",
      "CYCLE_279 estimated y_: (32,)\n",
      "x_next: (32, 229)\n",
      "\n",
      "i: 229, x_next: (32, 229), x_test: (32, 0)\n",
      "x_curr: (32, 50)\n",
      "CYCLE_280 estimated y_: (32,)\n",
      "x_next: (32, 230)\n",
      "\n",
      "i: 230, x_next: (32, 230), x_test: (32, 0)\n",
      "x_curr: (32, 50)\n",
      "CYCLE_281 estimated y_: (32,)\n",
      "x_next: (32, 231)\n",
      "\n",
      "i: 231, x_next: (32, 231), x_test: (32, 0)\n",
      "x_curr: (32, 50)\n",
      "CYCLE_282 estimated y_: (32,)\n",
      "x_next: (32, 232)\n",
      "\n",
      "i: 232, x_next: (32, 232), x_test: (32, 0)\n",
      "x_curr: (32, 50)\n",
      "CYCLE_283 estimated y_: (32,)\n",
      "x_next: (32, 233)\n",
      "\n",
      "i: 233, x_next: (32, 233), x_test: (32, 0)\n",
      "x_curr: (32, 50)\n",
      "CYCLE_284 estimated y_: (32,)\n",
      "x_next: (32, 234)\n",
      "\n",
      "i: 234, x_next: (32, 234), x_test: (32, 0)\n",
      "x_curr: (32, 50)\n",
      "CYCLE_285 estimated y_: (32,)\n",
      "x_next: (32, 235)\n",
      "\n",
      "i: 235, x_next: (32, 235), x_test: (32, 0)\n",
      "x_curr: (32, 50)\n",
      "CYCLE_286 estimated y_: (32,)\n",
      "x_next: (32, 236)\n",
      "\n",
      "i: 236, x_next: (32, 236), x_test: (32, 0)\n",
      "x_curr: (32, 50)\n",
      "CYCLE_287 estimated y_: (32,)\n",
      "x_next: (32, 237)\n",
      "\n",
      "i: 237, x_next: (32, 237), x_test: (32, 0)\n",
      "x_curr: (32, 50)\n",
      "CYCLE_288 estimated y_: (32,)\n",
      "x_next: (32, 238)\n",
      "\n",
      "i: 238, x_next: (32, 238), x_test: (32, 0)\n",
      "x_curr: (32, 50)\n",
      "CYCLE_289 estimated y_: (32,)\n",
      "x_next: (32, 239)\n",
      "\n",
      "i: 239, x_next: (32, 239), x_test: (32, 0)\n",
      "x_curr: (32, 50)\n",
      "CYCLE_290 estimated y_: (32,)\n",
      "x_next: (32, 240)\n",
      "\n",
      "i: 240, x_next: (32, 240), x_test: (32, 0)\n",
      "x_curr: (32, 50)\n",
      "CYCLE_291 estimated y_: (32,)\n",
      "x_next: (32, 241)\n",
      "\n",
      "i: 241, x_next: (32, 241), x_test: (32, 0)\n",
      "x_curr: (32, 50)\n",
      "CYCLE_292 estimated y_: (32,)\n",
      "x_next: (32, 242)\n",
      "\n",
      "i: 242, x_next: (32, 242), x_test: (32, 0)\n",
      "x_curr: (32, 50)\n",
      "CYCLE_293 estimated y_: (32,)\n",
      "x_next: (32, 243)\n",
      "\n",
      "i: 243, x_next: (32, 243), x_test: (32, 0)\n",
      "x_curr: (32, 50)\n",
      "CYCLE_294 estimated y_: (32,)\n",
      "x_next: (32, 244)\n",
      "\n",
      "i: 244, x_next: (32, 244), x_test: (32, 0)\n",
      "x_curr: (32, 50)\n",
      "CYCLE_295 estimated y_: (32,)\n",
      "x_next: (32, 245)\n",
      "\n",
      "i: 245, x_next: (32, 245), x_test: (32, 0)\n",
      "x_curr: (32, 50)\n",
      "CYCLE_296 estimated y_: (32,)\n",
      "x_next: (32, 246)\n",
      "\n",
      "i: 246, x_next: (32, 246), x_test: (32, 0)\n",
      "x_curr: (32, 50)\n",
      "CYCLE_297 estimated y_: (32,)\n",
      "x_next: (32, 247)\n",
      "\n",
      "i: 247, x_next: (32, 247), x_test: (32, 0)\n",
      "x_curr: (32, 50)\n",
      "CYCLE_298 estimated y_: (32,)\n",
      "x_next: (32, 248)\n",
      "\n",
      "i: 248, x_next: (32, 248), x_test: (32, 0)\n",
      "x_curr: (32, 50)\n",
      "CYCLE_299 estimated y_: (32,)\n",
      "x_next: (32, 249)\n",
      "\n",
      "i: 249, x_next: (32, 249), x_test: (32, 0)\n",
      "x_curr: (32, 50)\n",
      "CYCLE_300 estimated y_: (32,)\n",
      "x_next: (32, 250)\n",
      "\n"
     ]
    }
   ],
   "source": [
    "x_next = np.array([]).reshape(32, 0)\n",
    "for i in range(0, target_cycle-input_cycle):\n",
    "    print(f\"i: {i}, x_next: {x_next.shape}, x_test: {x_test[:,i:input_cycle].shape}\")\n",
    "    if i < input_cycle:\n",
    "        x_curr = np.hstack((x_test[:,i:input_cycle], x_next))\n",
    "    elif i >= input_cycle:\n",
    "        x_curr = x_next[:,i-input_cycle:]\n",
    "    print(f\"x_curr: {x_curr.shape}\")\n",
    "    y_ = elm_regressors[i].predict(x_curr)\n",
    "    print(f\"CYCLE_{i+input_cycle+1} estimated y_: {y_.shape}\")\n",
    "    x_next = np.hstack((x_next, y_[:,np.newaxis]))\n",
    "    print(f\"x_next: {x_next.shape}\\n\")"
   ]
  },
  {
   "cell_type": "code",
   "execution_count": 390,
   "metadata": {},
   "outputs": [
    {
     "data": {
      "text/plain": [
       "0.0846"
      ]
     },
     "execution_count": 390,
     "metadata": {},
     "output_type": "execute_result"
    }
   ],
   "source": [
    "preds = x_next[:,-1]\n",
    "trues = y_test\n",
    "np.round(np.mean(abs((trues-preds)/trues)), 4)"
   ]
  },
  {
   "cell_type": "code",
   "execution_count": 389,
   "metadata": {},
   "outputs": [
    {
     "data": {
      "text/plain": [
       "array([0.9000649 , 0.7243008 , 0.7919591 , 0.85747784, 0.7375935 ,\n",
       "       0.6969399 , 0.8365544 , 0.66431665, 0.78754884, 0.8990093 ,\n",
       "       0.7815213 , 0.9056242 , 0.6954114 , 0.6826155 , 0.7428569 ,\n",
       "       0.6227969 , 0.92007613, 0.8513988 , 0.722637  , 0.83505404,\n",
       "       0.92022806, 0.90910673, 0.6280992 , 0.8398307 , 0.6981373 ,\n",
       "       0.90477633, 0.7821844 , 0.7866367 , 0.68781775, 0.91484654,\n",
       "       0.691329  , 0.7244478 ], dtype=float32)"
      ]
     },
     "execution_count": 389,
     "metadata": {},
     "output_type": "execute_result"
    }
   ],
   "source": [
    "y_test"
   ]
  },
  {
   "cell_type": "code",
   "execution_count": 238,
   "metadata": {},
   "outputs": [],
   "source": [
    "elm_regressor = None\n",
    "elm_regressor = elm.elm(hidden_units=512, activation_function='leaky_relu', one_hot=False, x=x, y=y, C=0.1, elm_type='reg')"
   ]
  },
  {
   "cell_type": "code",
   "execution_count": 239,
   "metadata": {},
   "outputs": [
    {
     "name": "stdout",
     "output_type": "stream",
     "text": [
      "0.0375021332773869\n"
     ]
    }
   ],
   "source": [
    "beta, tr_score, tr_time = elm_regressor.fit('faster1')\n",
    "print(tr_score)"
   ]
  },
  {
   "cell_type": "code",
   "execution_count": 247,
   "metadata": {},
   "outputs": [],
   "source": [
    "trues = y_test"
   ]
  },
  {
   "cell_type": "code",
   "execution_count": 245,
   "metadata": {},
   "outputs": [],
   "source": [
    "preds = elm_regressor.predict(x_test)"
   ]
  },
  {
   "cell_type": "code",
   "execution_count": 249,
   "metadata": {},
   "outputs": [
    {
     "data": {
      "text/plain": [
       "0.067"
      ]
     },
     "execution_count": 249,
     "metadata": {},
     "output_type": "execute_result"
    }
   ],
   "source": [
    "np.round(np.mean(abs((trues-preds)/trues)), 4)"
   ]
  },
  {
   "cell_type": "code",
   "execution_count": 393,
   "metadata": {},
   "outputs": [],
   "source": [
    "import importlib\n",
    "import battery\n",
    "importlib.reload(battery)\n",
    "from battery import Battery\n",
    "\n",
    "import data\n",
    "importlib.reload(data)\n",
    "from data import TSDataset, TSDataModule\n",
    "\n",
    "import utils\n",
    "importlib.reload(utils)\n",
    "from utils import CVSampler, SMOTESampler\n",
    "\n",
    "import images\n",
    "importlib.reload(images)\n",
    "from images import make_images\n",
    "\n",
    "import model\n",
    "importlib.reload(model)\n",
    "from model import AlexNet, AlexNet_light, LSTMRegressor"
   ]
  },
  {
   "cell_type": "code",
   "execution_count": 90,
   "metadata": {},
   "outputs": [],
   "source": [
    "device = torch.device('cuda' if torch.cuda.is_available() else 'cpu')\n",
    "device_ids = [0,1,2,3]\n",
    "\n",
    "EPSILON = 1e-10"
   ]
  },
  {
   "cell_type": "code",
   "execution_count": 403,
   "metadata": {},
   "outputs": [],
   "source": [
    "path_root = \"/home2/glee/Hyundai/MSSP/data/\"\n",
    "fname_rawdata = \"carbattery_method_total.txt\"\n",
    "path_rawdata = os.path.join(path_root, fname_rawdata)\n",
    "\n",
    "flag_light = True\n",
    "flag_prepare_data = False\n",
    "flag_train = True\n",
    "flag_tuning = False\n",
    "flag_extract_CAM = True\n",
    "flag_force_save = False\n",
    "# image_type = \"Combined\"\n",
    "# image_type = \"RP\"\n",
    "# image_type = \"GASF\"\n",
    "image_type = \"RNN\"\n",
    "\n",
    "# input_cycles = [50]\n",
    "# target_cycles = [600]\n",
    "# input_cycle = 20\n",
    "input_cycle = 50\n",
    "target_cycle = 300\n",
    "max_epochs = 100\n",
    "n_folds = 2\n",
    "\n",
    "# input_cycles = [100,150,200,250]\n",
    "# target_cycles = [300,500,700]\n",
    "\n",
    "n_resampled = 500\n",
    "batch_size = 32\n",
    "learning_rate = 0.0005\n",
    "hidden_dim = 32\n",
    "\n",
    "early_stopping_patience = int(max_epochs * 0.2)\n",
    "\n",
    "n_classes = 1\n",
    "CAM_criteria = [\"below0.7\", \"over0.7below0.75\", \"over0.75below0.8\", \"over0.8below0.85\", \"over0.85\"]"
   ]
  },
  {
   "cell_type": "code",
   "execution_count": 391,
   "metadata": {},
   "outputs": [],
   "source": [
    "ts_dataset = TSDataset(device, data_root=path_root, input_cycle=input_cycle, target_cycle=target_cycle, n_resampled=n_resampled, n_folds=5)\n",
    "ts_datamodule = TSDataModule(device, ts_dataset, cv_fold=0, batch_size=batch_size, shuffle=True)"
   ]
  },
  {
   "cell_type": "code",
   "execution_count": 394,
   "metadata": {},
   "outputs": [],
   "source": [
    "model = LSTMRegressor(data_module=ts_datamodule, hidden_dim=hidden_dim, num_layers=2, batch_size=batch_size, max_epochs=max_epochs, learning_rate=learning_rate)\n",
    "model = model.to(device)"
   ]
  },
  {
   "cell_type": "code",
   "execution_count": 398,
   "metadata": {},
   "outputs": [],
   "source": [
    "model = RNNBase(data_module=ts_datamodule, hidden_dim=hidden_dim, num_layers=2, batch_size=batch_size, max_epochs=max_epochs, learning_rate=learning_rate)\n",
    "model = model.to(device)"
   ]
  },
  {
   "cell_type": "code",
   "execution_count": 404,
   "metadata": {},
   "outputs": [
    {
     "name": "stderr",
     "output_type": "stream",
     "text": [
      "GPU available: True, used: True\n",
      "TPU available: False, using: 0 TPU cores\n"
     ]
    }
   ],
   "source": [
    "fold = 0\n",
    "path_cycle = str(input_cycle)+\"_\"+str(target_cycle)\n",
    "model_path = os.path.join(\"/home2/glee/Hyundai/MSSP/models/LSTM\", image_type+\"_SMOTE\"+str(n_resampled))\n",
    "model_file_path = os.path.join(model_path, path_cycle+\"_fold\"+str(fold)+\"_\"+str(max_epochs)+\"ep\"+\".ckpt\")\n",
    "if not os.path.exists(model_path):\n",
    "    os.makedirs(model_path)\n",
    "\n",
    "monitoring_metric = \"mape_val\"\n",
    "cb_early_stopping = EarlyStopping(monitor=monitoring_metric, patience=early_stopping_patience, mode=\"min\", verbose=True)\n",
    "cb_checkpoint = ModelCheckpoint(monitor=monitoring_metric, save_top_k=1, mode=\"min\", dirpath=model_path)\n",
    "\n",
    "trainer = Trainer(gpus=[0,1,2,3] if device.type == 'cuda' else None, accelerator='dp')"
   ]
  },
  {
   "cell_type": "code",
   "execution_count": 405,
   "metadata": {
    "scrolled": true
   },
   "outputs": [
    {
     "name": "stderr",
     "output_type": "stream",
     "text": [
      "LOCAL_RANK: 0 - CUDA_VISIBLE_DEVICES: [0,1,2,3]\n",
      "2022-08-05 18:19:30.283512: I tensorflow/stream_executor/platform/default/dso_loader.cc:53] Successfully opened dynamic library libcudart.so.11.0\n",
      "\n",
      "  | Name               | Type                        | Params\n",
      "-------------------------------------------------------------------\n",
      "0 | loss_func          | LogCoshLoss                 | 0     \n",
      "1 | metric_mape        | MeanAbsolutePercentageError | 0     \n",
      "2 | metric_mse         | MeanSquaredError            | 0     \n",
      "3 | metric_mae         | MeanAbsoluteError           | 0     \n",
      "4 | metric_preds       | CatMetric                   | 0     \n",
      "5 | metric_trues       | CatMetric                   | 0     \n",
      "6 | feature_extraction | RNN                         | 3.2 K \n",
      "7 | regressor          | Linear                      | 33    \n",
      "-------------------------------------------------------------------\n",
      "3.3 K     Trainable params\n",
      "0         Non-trainable params\n",
      "3.3 K     Total params\n",
      "0.013     Total estimated model params size (MB)\n"
     ]
    },
    {
     "data": {
      "application/vnd.jupyter.widget-view+json": {
       "model_id": "50d500d3bb434f24a8b4548137ab4cc8",
       "version_major": 2,
       "version_minor": 0
      },
      "text/plain": [
       "Validation sanity check: 0it [00:00, ?it/s]"
      ]
     },
     "metadata": {},
     "output_type": "display_data"
    },
    {
     "name": "stdout",
     "output_type": "stream",
     "text": [
      "averaged metrics: {'loss_val': 0.3392, 'mape_val': 55.5043, 'mse_val': 0.7599, 'mae_val': 0.869}\n"
     ]
    },
    {
     "data": {
      "application/vnd.jupyter.widget-view+json": {
       "model_id": "5afffe63b9954ff5afb7dd602aab73c5",
       "version_major": 2,
       "version_minor": 0
      },
      "text/plain": [
       "Training: 0it [00:00, ?it/s]"
      ]
     },
     "metadata": {},
     "output_type": "display_data"
    },
    {
     "data": {
      "application/vnd.jupyter.widget-view+json": {
       "model_id": "ae9620a28e9a4f659e219dfa7b8c3181",
       "version_major": 2,
       "version_minor": 0
      },
      "text/plain": [
       "Validating: 0it [00:00, ?it/s]"
      ]
     },
     "metadata": {},
     "output_type": "display_data"
    },
    {
     "name": "stdout",
     "output_type": "stream",
     "text": [
      "averaged metrics: {'loss_val': 0.0037, 'mape_val': 0.0916, 'mse_val': 0.0073, 'mae_val': 0.0698}\n"
     ]
    },
    {
     "data": {
      "application/vnd.jupyter.widget-view+json": {
       "model_id": "d42fc86603e24363b78b6b3bc5c148a4",
       "version_major": 2,
       "version_minor": 0
      },
      "text/plain": [
       "Validating: 0it [00:00, ?it/s]"
      ]
     },
     "metadata": {},
     "output_type": "display_data"
    },
    {
     "name": "stdout",
     "output_type": "stream",
     "text": [
      "averaged metrics: {'loss_val': 0.0037, 'mape_val': 0.0866, 'mse_val': 0.0074, 'mae_val': 0.0685}\n"
     ]
    },
    {
     "data": {
      "application/vnd.jupyter.widget-view+json": {
       "model_id": "0adabdd1bc3847d1b0f51c91d24eb879",
       "version_major": 2,
       "version_minor": 0
      },
      "text/plain": [
       "Validating: 0it [00:00, ?it/s]"
      ]
     },
     "metadata": {},
     "output_type": "display_data"
    },
    {
     "name": "stdout",
     "output_type": "stream",
     "text": [
      "averaged metrics: {'loss_val': 0.0036, 'mape_val': 0.0874, 'mse_val': 0.0072, 'mae_val': 0.0682}\n"
     ]
    },
    {
     "data": {
      "application/vnd.jupyter.widget-view+json": {
       "model_id": "ee23d1e01e944d3bbf870fef07d510df",
       "version_major": 2,
       "version_minor": 0
      },
      "text/plain": [
       "Validating: 0it [00:00, ?it/s]"
      ]
     },
     "metadata": {},
     "output_type": "display_data"
    },
    {
     "name": "stdout",
     "output_type": "stream",
     "text": [
      "averaged metrics: {'loss_val': 0.0036, 'mape_val': 0.0869, 'mse_val': 0.0073, 'mae_val': 0.0682}\n"
     ]
    },
    {
     "data": {
      "application/vnd.jupyter.widget-view+json": {
       "model_id": "2b5a044452784d9fadec83d540c942db",
       "version_major": 2,
       "version_minor": 0
      },
      "text/plain": [
       "Validating: 0it [00:00, ?it/s]"
      ]
     },
     "metadata": {},
     "output_type": "display_data"
    },
    {
     "name": "stdout",
     "output_type": "stream",
     "text": [
      "averaged metrics: {'loss_val': 0.0037, 'mape_val': 0.0867, 'mse_val': 0.0074, 'mae_val': 0.0685}\n"
     ]
    },
    {
     "data": {
      "application/vnd.jupyter.widget-view+json": {
       "model_id": "b79221c822d54a949020469f0cf0bc26",
       "version_major": 2,
       "version_minor": 0
      },
      "text/plain": [
       "Validating: 0it [00:00, ?it/s]"
      ]
     },
     "metadata": {},
     "output_type": "display_data"
    },
    {
     "name": "stdout",
     "output_type": "stream",
     "text": [
      "averaged metrics: {'loss_val': 0.0037, 'mape_val': 0.0867, 'mse_val': 0.0074, 'mae_val': 0.0686}\n"
     ]
    },
    {
     "data": {
      "application/vnd.jupyter.widget-view+json": {
       "model_id": "c7b42133c6f845fca339474b64b8a965",
       "version_major": 2,
       "version_minor": 0
      },
      "text/plain": [
       "Validating: 0it [00:00, ?it/s]"
      ]
     },
     "metadata": {},
     "output_type": "display_data"
    },
    {
     "name": "stdout",
     "output_type": "stream",
     "text": [
      "averaged metrics: {'loss_val': 0.0037, 'mape_val': 0.0866, 'mse_val': 0.0074, 'mae_val': 0.0684}\n"
     ]
    },
    {
     "data": {
      "application/vnd.jupyter.widget-view+json": {
       "model_id": "d0fb68d92e104c769d5e368d89642103",
       "version_major": 2,
       "version_minor": 0
      },
      "text/plain": [
       "Validating: 0it [00:00, ?it/s]"
      ]
     },
     "metadata": {},
     "output_type": "display_data"
    },
    {
     "name": "stdout",
     "output_type": "stream",
     "text": [
      "averaged metrics: {'loss_val': 0.0038, 'mape_val': 0.0871, 'mse_val': 0.0076, 'mae_val': 0.0693}\n"
     ]
    },
    {
     "data": {
      "application/vnd.jupyter.widget-view+json": {
       "model_id": "82b1b31475b840e78126034491436279",
       "version_major": 2,
       "version_minor": 0
      },
      "text/plain": [
       "Validating: 0it [00:00, ?it/s]"
      ]
     },
     "metadata": {},
     "output_type": "display_data"
    },
    {
     "name": "stdout",
     "output_type": "stream",
     "text": [
      "averaged metrics: {'loss_val': 0.0036, 'mape_val': 0.0871, 'mse_val': 0.0072, 'mae_val': 0.0681}\n"
     ]
    },
    {
     "data": {
      "application/vnd.jupyter.widget-view+json": {
       "model_id": "a199e4470b714b208605becc6003b0b1",
       "version_major": 2,
       "version_minor": 0
      },
      "text/plain": [
       "Validating: 0it [00:00, ?it/s]"
      ]
     },
     "metadata": {},
     "output_type": "display_data"
    },
    {
     "name": "stdout",
     "output_type": "stream",
     "text": [
      "averaged metrics: {'loss_val': 0.0036, 'mape_val': 0.0866, 'mse_val': 0.0073, 'mae_val': 0.0682}\n"
     ]
    },
    {
     "data": {
      "application/vnd.jupyter.widget-view+json": {
       "model_id": "26b44743f98f4552aa880ed4692bb8cc",
       "version_major": 2,
       "version_minor": 0
      },
      "text/plain": [
       "Validating: 0it [00:00, ?it/s]"
      ]
     },
     "metadata": {},
     "output_type": "display_data"
    },
    {
     "name": "stdout",
     "output_type": "stream",
     "text": [
      "averaged metrics: {'loss_val': 0.0035, 'mape_val': 0.0878, 'mse_val': 0.0071, 'mae_val': 0.0681}\n"
     ]
    },
    {
     "data": {
      "application/vnd.jupyter.widget-view+json": {
       "model_id": "26171852d847405d9491e8f5d7e75441",
       "version_major": 2,
       "version_minor": 0
      },
      "text/plain": [
       "Validating: 0it [00:00, ?it/s]"
      ]
     },
     "metadata": {},
     "output_type": "display_data"
    },
    {
     "name": "stdout",
     "output_type": "stream",
     "text": [
      "averaged metrics: {'loss_val': 0.0036, 'mape_val': 0.0863, 'mse_val': 0.0072, 'mae_val': 0.0678}\n"
     ]
    },
    {
     "data": {
      "application/vnd.jupyter.widget-view+json": {
       "model_id": "445f287ea8d046d3a102b4eea2401381",
       "version_major": 2,
       "version_minor": 0
      },
      "text/plain": [
       "Validating: 0it [00:00, ?it/s]"
      ]
     },
     "metadata": {},
     "output_type": "display_data"
    },
    {
     "name": "stdout",
     "output_type": "stream",
     "text": [
      "averaged metrics: {'loss_val': 0.0037, 'mape_val': 0.0861, 'mse_val': 0.0074, 'mae_val': 0.0682}\n"
     ]
    },
    {
     "data": {
      "application/vnd.jupyter.widget-view+json": {
       "model_id": "73de22b87852406f85a28d3870a04e26",
       "version_major": 2,
       "version_minor": 0
      },
      "text/plain": [
       "Validating: 0it [00:00, ?it/s]"
      ]
     },
     "metadata": {},
     "output_type": "display_data"
    },
    {
     "name": "stdout",
     "output_type": "stream",
     "text": [
      "averaged metrics: {'loss_val': 0.0036, 'mape_val': 0.0859, 'mse_val': 0.0073, 'mae_val': 0.0678}\n"
     ]
    },
    {
     "data": {
      "application/vnd.jupyter.widget-view+json": {
       "model_id": "c19834f916ad46fc995e2d50c16f546d",
       "version_major": 2,
       "version_minor": 0
      },
      "text/plain": [
       "Validating: 0it [00:00, ?it/s]"
      ]
     },
     "metadata": {},
     "output_type": "display_data"
    },
    {
     "name": "stdout",
     "output_type": "stream",
     "text": [
      "averaged metrics: {'loss_val': 0.0036, 'mape_val': 0.0858, 'mse_val': 0.0071, 'mae_val': 0.0675}\n"
     ]
    },
    {
     "data": {
      "application/vnd.jupyter.widget-view+json": {
       "model_id": "c9ed49b040be4b79b2d70154e123d89a",
       "version_major": 2,
       "version_minor": 0
      },
      "text/plain": [
       "Validating: 0it [00:00, ?it/s]"
      ]
     },
     "metadata": {},
     "output_type": "display_data"
    },
    {
     "name": "stdout",
     "output_type": "stream",
     "text": [
      "averaged metrics: {'loss_val': 0.0036, 'mape_val': 0.0855, 'mse_val': 0.0073, 'mae_val': 0.0678}\n"
     ]
    },
    {
     "data": {
      "application/vnd.jupyter.widget-view+json": {
       "model_id": "0860447baf0445608982d02b1e15583b",
       "version_major": 2,
       "version_minor": 0
      },
      "text/plain": [
       "Validating: 0it [00:00, ?it/s]"
      ]
     },
     "metadata": {},
     "output_type": "display_data"
    },
    {
     "name": "stdout",
     "output_type": "stream",
     "text": [
      "averaged metrics: {'loss_val': 0.0034, 'mape_val': 0.0842, 'mse_val': 0.0069, 'mae_val': 0.0662}\n"
     ]
    },
    {
     "data": {
      "application/vnd.jupyter.widget-view+json": {
       "model_id": "858a695cf65f4335b964ca8d16fa5560",
       "version_major": 2,
       "version_minor": 0
      },
      "text/plain": [
       "Validating: 0it [00:00, ?it/s]"
      ]
     },
     "metadata": {},
     "output_type": "display_data"
    },
    {
     "name": "stdout",
     "output_type": "stream",
     "text": [
      "averaged metrics: {'loss_val': 0.0032, 'mape_val': 0.0825, 'mse_val': 0.0065, 'mae_val': 0.0646}\n"
     ]
    },
    {
     "data": {
      "application/vnd.jupyter.widget-view+json": {
       "model_id": "1c4bdfd9ce4b40b6b386fbd74b6b33fa",
       "version_major": 2,
       "version_minor": 0
      },
      "text/plain": [
       "Validating: 0it [00:00, ?it/s]"
      ]
     },
     "metadata": {},
     "output_type": "display_data"
    },
    {
     "name": "stdout",
     "output_type": "stream",
     "text": [
      "averaged metrics: {'loss_val': 0.0031, 'mape_val': 0.0807, 'mse_val': 0.0062, 'mae_val': 0.0631}\n"
     ]
    },
    {
     "data": {
      "application/vnd.jupyter.widget-view+json": {
       "model_id": "085f19f3b2ea4b7ba4bbc5921ef1d7f9",
       "version_major": 2,
       "version_minor": 0
      },
      "text/plain": [
       "Validating: 0it [00:00, ?it/s]"
      ]
     },
     "metadata": {},
     "output_type": "display_data"
    },
    {
     "name": "stdout",
     "output_type": "stream",
     "text": [
      "averaged metrics: {'loss_val': 0.003, 'mape_val': 0.0798, 'mse_val': 0.006, 'mae_val': 0.0622}\n"
     ]
    },
    {
     "data": {
      "application/vnd.jupyter.widget-view+json": {
       "model_id": "73f4451f75454ecf87df82c07421dbe9",
       "version_major": 2,
       "version_minor": 0
      },
      "text/plain": [
       "Validating: 0it [00:00, ?it/s]"
      ]
     },
     "metadata": {},
     "output_type": "display_data"
    },
    {
     "name": "stdout",
     "output_type": "stream",
     "text": [
      "averaged metrics: {'loss_val': 0.0025, 'mape_val': 0.0728, 'mse_val': 0.0049, 'mae_val': 0.057}\n"
     ]
    },
    {
     "data": {
      "application/vnd.jupyter.widget-view+json": {
       "model_id": "104e3b949a7e4a9997d86709d22f58c1",
       "version_major": 2,
       "version_minor": 0
      },
      "text/plain": [
       "Validating: 0it [00:00, ?it/s]"
      ]
     },
     "metadata": {},
     "output_type": "display_data"
    },
    {
     "name": "stdout",
     "output_type": "stream",
     "text": [
      "averaged metrics: {'loss_val': 0.0014, 'mape_val': 0.0585, 'mse_val': 0.0028, 'mae_val': 0.0441}\n"
     ]
    },
    {
     "data": {
      "application/vnd.jupyter.widget-view+json": {
       "model_id": "cfb3297b7da041d98c1483ca53e3c2ab",
       "version_major": 2,
       "version_minor": 0
      },
      "text/plain": [
       "Validating: 0it [00:00, ?it/s]"
      ]
     },
     "metadata": {},
     "output_type": "display_data"
    },
    {
     "name": "stdout",
     "output_type": "stream",
     "text": [
      "averaged metrics: {'loss_val': 0.0015, 'mape_val': 0.0572, 'mse_val': 0.003, 'mae_val': 0.0445}\n"
     ]
    },
    {
     "data": {
      "application/vnd.jupyter.widget-view+json": {
       "model_id": "83a7914d800442ba909b9c4774d01138",
       "version_major": 2,
       "version_minor": 0
      },
      "text/plain": [
       "Validating: 0it [00:00, ?it/s]"
      ]
     },
     "metadata": {},
     "output_type": "display_data"
    },
    {
     "name": "stdout",
     "output_type": "stream",
     "text": [
      "averaged metrics: {'loss_val': 0.0016, 'mape_val': 0.0567, 'mse_val': 0.0032, 'mae_val': 0.0446}\n"
     ]
    },
    {
     "data": {
      "application/vnd.jupyter.widget-view+json": {
       "model_id": "3608fc12ea0f49f5a9be39db6db2d263",
       "version_major": 2,
       "version_minor": 0
      },
      "text/plain": [
       "Validating: 0it [00:00, ?it/s]"
      ]
     },
     "metadata": {},
     "output_type": "display_data"
    },
    {
     "name": "stdout",
     "output_type": "stream",
     "text": [
      "averaged metrics: {'loss_val': 0.0013, 'mape_val': 0.0531, 'mse_val': 0.0026, 'mae_val': 0.0413}\n"
     ]
    },
    {
     "data": {
      "application/vnd.jupyter.widget-view+json": {
       "model_id": "a825caea45144544a33221fa4c8e8307",
       "version_major": 2,
       "version_minor": 0
      },
      "text/plain": [
       "Validating: 0it [00:00, ?it/s]"
      ]
     },
     "metadata": {},
     "output_type": "display_data"
    },
    {
     "name": "stdout",
     "output_type": "stream",
     "text": [
      "averaged metrics: {'loss_val': 0.0013, 'mape_val': 0.053, 'mse_val': 0.0026, 'mae_val': 0.0412}\n"
     ]
    },
    {
     "data": {
      "application/vnd.jupyter.widget-view+json": {
       "model_id": "c0a9f69c5398468c88ca06cd9f28c4f3",
       "version_major": 2,
       "version_minor": 0
      },
      "text/plain": [
       "Validating: 0it [00:00, ?it/s]"
      ]
     },
     "metadata": {},
     "output_type": "display_data"
    },
    {
     "name": "stdout",
     "output_type": "stream",
     "text": [
      "averaged metrics: {'loss_val': 0.0014, 'mape_val': 0.0572, 'mse_val': 0.0028, 'mae_val': 0.0436}\n"
     ]
    },
    {
     "data": {
      "application/vnd.jupyter.widget-view+json": {
       "model_id": "a199be607510436d9f1e64a5a3f8e93f",
       "version_major": 2,
       "version_minor": 0
      },
      "text/plain": [
       "Validating: 0it [00:00, ?it/s]"
      ]
     },
     "metadata": {},
     "output_type": "display_data"
    },
    {
     "name": "stdout",
     "output_type": "stream",
     "text": [
      "averaged metrics: {'loss_val': 0.0013, 'mape_val': 0.0537, 'mse_val': 0.0027, 'mae_val': 0.0418}\n"
     ]
    },
    {
     "data": {
      "application/vnd.jupyter.widget-view+json": {
       "model_id": "43868144e8e646dba2c92dba54297d13",
       "version_major": 2,
       "version_minor": 0
      },
      "text/plain": [
       "Validating: 0it [00:00, ?it/s]"
      ]
     },
     "metadata": {},
     "output_type": "display_data"
    },
    {
     "name": "stdout",
     "output_type": "stream",
     "text": [
      "averaged metrics: {'loss_val': 0.0015, 'mape_val': 0.0549, 'mse_val': 0.003, 'mae_val': 0.0431}\n"
     ]
    },
    {
     "data": {
      "application/vnd.jupyter.widget-view+json": {
       "model_id": "c81cac32c24d4e6db5bdce87ca9f0e94",
       "version_major": 2,
       "version_minor": 0
      },
      "text/plain": [
       "Validating: 0it [00:00, ?it/s]"
      ]
     },
     "metadata": {},
     "output_type": "display_data"
    },
    {
     "name": "stdout",
     "output_type": "stream",
     "text": [
      "averaged metrics: {'loss_val': 0.0013, 'mape_val': 0.0529, 'mse_val': 0.0026, 'mae_val': 0.0411}\n"
     ]
    },
    {
     "data": {
      "application/vnd.jupyter.widget-view+json": {
       "model_id": "d2223f3b10f74928ace7e87e3fdb2582",
       "version_major": 2,
       "version_minor": 0
      },
      "text/plain": [
       "Validating: 0it [00:00, ?it/s]"
      ]
     },
     "metadata": {},
     "output_type": "display_data"
    },
    {
     "name": "stdout",
     "output_type": "stream",
     "text": [
      "averaged metrics: {'loss_val': 0.0014, 'mape_val': 0.0534, 'mse_val': 0.0028, 'mae_val': 0.0418}\n"
     ]
    },
    {
     "data": {
      "application/vnd.jupyter.widget-view+json": {
       "model_id": "274684a927864bf0a6931373f774f7b2",
       "version_major": 2,
       "version_minor": 0
      },
      "text/plain": [
       "Validating: 0it [00:00, ?it/s]"
      ]
     },
     "metadata": {},
     "output_type": "display_data"
    },
    {
     "name": "stdout",
     "output_type": "stream",
     "text": [
      "averaged metrics: {'loss_val': 0.0014, 'mape_val': 0.059, 'mse_val': 0.0029, 'mae_val': 0.0444}\n"
     ]
    },
    {
     "data": {
      "application/vnd.jupyter.widget-view+json": {
       "model_id": "cde54349fbcf412abee0a6f2a9644a99",
       "version_major": 2,
       "version_minor": 0
      },
      "text/plain": [
       "Validating: 0it [00:00, ?it/s]"
      ]
     },
     "metadata": {},
     "output_type": "display_data"
    },
    {
     "name": "stdout",
     "output_type": "stream",
     "text": [
      "averaged metrics: {'loss_val': 0.0013, 'mape_val': 0.0527, 'mse_val': 0.0025, 'mae_val': 0.0406}\n"
     ]
    },
    {
     "data": {
      "application/vnd.jupyter.widget-view+json": {
       "model_id": "ae239b82eb5a43238d19b48141e9076e",
       "version_major": 2,
       "version_minor": 0
      },
      "text/plain": [
       "Validating: 0it [00:00, ?it/s]"
      ]
     },
     "metadata": {},
     "output_type": "display_data"
    },
    {
     "name": "stdout",
     "output_type": "stream",
     "text": [
      "averaged metrics: {'loss_val': 0.0017, 'mape_val': 0.0593, 'mse_val': 0.0034, 'mae_val': 0.0467}\n"
     ]
    },
    {
     "data": {
      "application/vnd.jupyter.widget-view+json": {
       "model_id": "a603674c23da4a8da99edd45ccf7777d",
       "version_major": 2,
       "version_minor": 0
      },
      "text/plain": [
       "Validating: 0it [00:00, ?it/s]"
      ]
     },
     "metadata": {},
     "output_type": "display_data"
    },
    {
     "name": "stdout",
     "output_type": "stream",
     "text": [
      "averaged metrics: {'loss_val': 0.0014, 'mape_val': 0.0543, 'mse_val': 0.0028, 'mae_val': 0.0425}\n"
     ]
    },
    {
     "data": {
      "application/vnd.jupyter.widget-view+json": {
       "model_id": "7ba2bed10284450e9994134f00db1960",
       "version_major": 2,
       "version_minor": 0
      },
      "text/plain": [
       "Validating: 0it [00:00, ?it/s]"
      ]
     },
     "metadata": {},
     "output_type": "display_data"
    },
    {
     "name": "stdout",
     "output_type": "stream",
     "text": [
      "averaged metrics: {'loss_val': 0.0013, 'mape_val': 0.054, 'mse_val': 0.0026, 'mae_val': 0.0416}\n"
     ]
    },
    {
     "data": {
      "application/vnd.jupyter.widget-view+json": {
       "model_id": "43751acee8ab4449bc6b527c08bcd497",
       "version_major": 2,
       "version_minor": 0
      },
      "text/plain": [
       "Validating: 0it [00:00, ?it/s]"
      ]
     },
     "metadata": {},
     "output_type": "display_data"
    },
    {
     "name": "stdout",
     "output_type": "stream",
     "text": [
      "averaged metrics: {'loss_val': 0.0013, 'mape_val': 0.0521, 'mse_val': 0.0026, 'mae_val': 0.0406}\n"
     ]
    },
    {
     "data": {
      "application/vnd.jupyter.widget-view+json": {
       "model_id": "33099ca820b24b5781fda9d5aa10df69",
       "version_major": 2,
       "version_minor": 0
      },
      "text/plain": [
       "Validating: 0it [00:00, ?it/s]"
      ]
     },
     "metadata": {},
     "output_type": "display_data"
    },
    {
     "name": "stdout",
     "output_type": "stream",
     "text": [
      "averaged metrics: {'loss_val': 0.0013, 'mape_val': 0.0538, 'mse_val': 0.0025, 'mae_val': 0.0414}\n"
     ]
    },
    {
     "data": {
      "application/vnd.jupyter.widget-view+json": {
       "model_id": "da3542682f03480782b8400d7732a48b",
       "version_major": 2,
       "version_minor": 0
      },
      "text/plain": [
       "Validating: 0it [00:00, ?it/s]"
      ]
     },
     "metadata": {},
     "output_type": "display_data"
    },
    {
     "name": "stdout",
     "output_type": "stream",
     "text": [
      "averaged metrics: {'loss_val': 0.0013, 'mape_val': 0.0521, 'mse_val': 0.0025, 'mae_val': 0.0403}\n"
     ]
    },
    {
     "data": {
      "application/vnd.jupyter.widget-view+json": {
       "model_id": "11cfcae77a414b02b08181c1951aa0f3",
       "version_major": 2,
       "version_minor": 0
      },
      "text/plain": [
       "Validating: 0it [00:00, ?it/s]"
      ]
     },
     "metadata": {},
     "output_type": "display_data"
    },
    {
     "name": "stdout",
     "output_type": "stream",
     "text": [
      "averaged metrics: {'loss_val': 0.0013, 'mape_val': 0.0523, 'mse_val': 0.0025, 'mae_val': 0.0404}\n"
     ]
    },
    {
     "data": {
      "application/vnd.jupyter.widget-view+json": {
       "model_id": "6bbb4e84894d4e5dbbe1cc8e34b4d9ff",
       "version_major": 2,
       "version_minor": 0
      },
      "text/plain": [
       "Validating: 0it [00:00, ?it/s]"
      ]
     },
     "metadata": {},
     "output_type": "display_data"
    },
    {
     "name": "stdout",
     "output_type": "stream",
     "text": [
      "averaged metrics: {'loss_val': 0.0014, 'mape_val': 0.0537, 'mse_val': 0.0028, 'mae_val': 0.042}\n"
     ]
    },
    {
     "data": {
      "application/vnd.jupyter.widget-view+json": {
       "model_id": "579fea4a68e94f48b61455b8077ed650",
       "version_major": 2,
       "version_minor": 0
      },
      "text/plain": [
       "Validating: 0it [00:00, ?it/s]"
      ]
     },
     "metadata": {},
     "output_type": "display_data"
    },
    {
     "name": "stdout",
     "output_type": "stream",
     "text": [
      "averaged metrics: {'loss_val': 0.0013, 'mape_val': 0.0528, 'mse_val': 0.0026, 'mae_val': 0.0411}\n"
     ]
    },
    {
     "data": {
      "application/vnd.jupyter.widget-view+json": {
       "model_id": "4a137f143d7046de8531860eb74309ea",
       "version_major": 2,
       "version_minor": 0
      },
      "text/plain": [
       "Validating: 0it [00:00, ?it/s]"
      ]
     },
     "metadata": {},
     "output_type": "display_data"
    },
    {
     "name": "stdout",
     "output_type": "stream",
     "text": [
      "averaged metrics: {'loss_val': 0.0016, 'mape_val': 0.0555, 'mse_val': 0.0031, 'mae_val': 0.0438}\n"
     ]
    },
    {
     "data": {
      "application/vnd.jupyter.widget-view+json": {
       "model_id": "0eff295ddae3493999295660099207c2",
       "version_major": 2,
       "version_minor": 0
      },
      "text/plain": [
       "Validating: 0it [00:00, ?it/s]"
      ]
     },
     "metadata": {},
     "output_type": "display_data"
    },
    {
     "name": "stdout",
     "output_type": "stream",
     "text": [
      "averaged metrics: {'loss_val': 0.0013, 'mape_val': 0.0528, 'mse_val': 0.0026, 'mae_val': 0.0409}\n"
     ]
    },
    {
     "data": {
      "application/vnd.jupyter.widget-view+json": {
       "model_id": "9bd0161535b342318ddcd2aaf8d27f95",
       "version_major": 2,
       "version_minor": 0
      },
      "text/plain": [
       "Validating: 0it [00:00, ?it/s]"
      ]
     },
     "metadata": {},
     "output_type": "display_data"
    },
    {
     "name": "stdout",
     "output_type": "stream",
     "text": [
      "averaged metrics: {'loss_val': 0.0012, 'mape_val': 0.0524, 'mse_val': 0.0025, 'mae_val': 0.0404}\n"
     ]
    },
    {
     "data": {
      "application/vnd.jupyter.widget-view+json": {
       "model_id": "95e59ae78fd740a9b566080f7edf13b3",
       "version_major": 2,
       "version_minor": 0
      },
      "text/plain": [
       "Validating: 0it [00:00, ?it/s]"
      ]
     },
     "metadata": {},
     "output_type": "display_data"
    },
    {
     "name": "stdout",
     "output_type": "stream",
     "text": [
      "averaged metrics: {'loss_val': 0.0013, 'mape_val': 0.0526, 'mse_val': 0.0026, 'mae_val': 0.0409}\n"
     ]
    },
    {
     "data": {
      "application/vnd.jupyter.widget-view+json": {
       "model_id": "1c1bfe9c42114b1cb5c6ced4b914b309",
       "version_major": 2,
       "version_minor": 0
      },
      "text/plain": [
       "Validating: 0it [00:00, ?it/s]"
      ]
     },
     "metadata": {},
     "output_type": "display_data"
    },
    {
     "name": "stdout",
     "output_type": "stream",
     "text": [
      "averaged metrics: {'loss_val': 0.0013, 'mape_val': 0.0534, 'mse_val': 0.0025, 'mae_val': 0.0411}\n"
     ]
    },
    {
     "data": {
      "application/vnd.jupyter.widget-view+json": {
       "model_id": "252d0cee5f2042a79e42b2d10c144028",
       "version_major": 2,
       "version_minor": 0
      },
      "text/plain": [
       "Validating: 0it [00:00, ?it/s]"
      ]
     },
     "metadata": {},
     "output_type": "display_data"
    },
    {
     "name": "stdout",
     "output_type": "stream",
     "text": [
      "averaged metrics: {'loss_val': 0.0013, 'mape_val': 0.0554, 'mse_val': 0.0027, 'mae_val': 0.0426}\n"
     ]
    },
    {
     "data": {
      "application/vnd.jupyter.widget-view+json": {
       "model_id": "696236d08c374195b80d631a74aef876",
       "version_major": 2,
       "version_minor": 0
      },
      "text/plain": [
       "Validating: 0it [00:00, ?it/s]"
      ]
     },
     "metadata": {},
     "output_type": "display_data"
    },
    {
     "name": "stdout",
     "output_type": "stream",
     "text": [
      "averaged metrics: {'loss_val': 0.0015, 'mape_val': 0.0545, 'mse_val': 0.0029, 'mae_val': 0.0427}\n"
     ]
    },
    {
     "data": {
      "application/vnd.jupyter.widget-view+json": {
       "model_id": "a1832a61929f44a197e8ede76b3a0e31",
       "version_major": 2,
       "version_minor": 0
      },
      "text/plain": [
       "Validating: 0it [00:00, ?it/s]"
      ]
     },
     "metadata": {},
     "output_type": "display_data"
    },
    {
     "name": "stdout",
     "output_type": "stream",
     "text": [
      "averaged metrics: {'loss_val': 0.0013, 'mape_val': 0.0522, 'mse_val': 0.0026, 'mae_val': 0.0405}\n"
     ]
    },
    {
     "data": {
      "application/vnd.jupyter.widget-view+json": {
       "model_id": "7438e67063fc490c9c2d65601eadb5a8",
       "version_major": 2,
       "version_minor": 0
      },
      "text/plain": [
       "Validating: 0it [00:00, ?it/s]"
      ]
     },
     "metadata": {},
     "output_type": "display_data"
    },
    {
     "name": "stdout",
     "output_type": "stream",
     "text": [
      "averaged metrics: {'loss_val': 0.0014, 'mape_val': 0.054, 'mse_val': 0.0028, 'mae_val': 0.0421}\n"
     ]
    },
    {
     "data": {
      "application/vnd.jupyter.widget-view+json": {
       "model_id": "e48c5470fe954ddcbf805dbb850b8140",
       "version_major": 2,
       "version_minor": 0
      },
      "text/plain": [
       "Validating: 0it [00:00, ?it/s]"
      ]
     },
     "metadata": {},
     "output_type": "display_data"
    },
    {
     "name": "stdout",
     "output_type": "stream",
     "text": [
      "averaged metrics: {'loss_val': 0.0014, 'mape_val': 0.0596, 'mse_val': 0.0029, 'mae_val': 0.0446}\n"
     ]
    },
    {
     "data": {
      "application/vnd.jupyter.widget-view+json": {
       "model_id": "36b50edfab9d4dd8ba3701448a2de7f2",
       "version_major": 2,
       "version_minor": 0
      },
      "text/plain": [
       "Validating: 0it [00:00, ?it/s]"
      ]
     },
     "metadata": {},
     "output_type": "display_data"
    },
    {
     "name": "stdout",
     "output_type": "stream",
     "text": [
      "averaged metrics: {'loss_val': 0.0013, 'mape_val': 0.053, 'mse_val': 0.0027, 'mae_val': 0.0413}\n"
     ]
    },
    {
     "data": {
      "application/vnd.jupyter.widget-view+json": {
       "model_id": "4f17f7d872184a01bdcd9cea614bb613",
       "version_major": 2,
       "version_minor": 0
      },
      "text/plain": [
       "Validating: 0it [00:00, ?it/s]"
      ]
     },
     "metadata": {},
     "output_type": "display_data"
    },
    {
     "name": "stdout",
     "output_type": "stream",
     "text": [
      "averaged metrics: {'loss_val': 0.0012, 'mape_val': 0.0525, 'mse_val': 0.0025, 'mae_val': 0.0405}\n"
     ]
    },
    {
     "data": {
      "application/vnd.jupyter.widget-view+json": {
       "model_id": "37b52c8139f44a068277b5204e9b0036",
       "version_major": 2,
       "version_minor": 0
      },
      "text/plain": [
       "Validating: 0it [00:00, ?it/s]"
      ]
     },
     "metadata": {},
     "output_type": "display_data"
    },
    {
     "name": "stdout",
     "output_type": "stream",
     "text": [
      "averaged metrics: {'loss_val': 0.0012, 'mape_val': 0.0524, 'mse_val': 0.0025, 'mae_val': 0.0403}\n"
     ]
    },
    {
     "data": {
      "application/vnd.jupyter.widget-view+json": {
       "model_id": "941454afd2ba4a72bf1b0ec7b1b413be",
       "version_major": 2,
       "version_minor": 0
      },
      "text/plain": [
       "Validating: 0it [00:00, ?it/s]"
      ]
     },
     "metadata": {},
     "output_type": "display_data"
    },
    {
     "name": "stdout",
     "output_type": "stream",
     "text": [
      "averaged metrics: {'loss_val': 0.0014, 'mape_val': 0.0542, 'mse_val': 0.0027, 'mae_val': 0.0421}\n"
     ]
    },
    {
     "data": {
      "application/vnd.jupyter.widget-view+json": {
       "model_id": "005f5766e6ad40e6a47251e8363e1832",
       "version_major": 2,
       "version_minor": 0
      },
      "text/plain": [
       "Validating: 0it [00:00, ?it/s]"
      ]
     },
     "metadata": {},
     "output_type": "display_data"
    },
    {
     "name": "stdout",
     "output_type": "stream",
     "text": [
      "averaged metrics: {'loss_val': 0.0014, 'mape_val': 0.0527, 'mse_val': 0.0027, 'mae_val': 0.0412}\n"
     ]
    },
    {
     "data": {
      "application/vnd.jupyter.widget-view+json": {
       "model_id": "5c2320e77f7c487ba779d3de7d2d551b",
       "version_major": 2,
       "version_minor": 0
      },
      "text/plain": [
       "Validating: 0it [00:00, ?it/s]"
      ]
     },
     "metadata": {},
     "output_type": "display_data"
    },
    {
     "name": "stdout",
     "output_type": "stream",
     "text": [
      "averaged metrics: {'loss_val': 0.0016, 'mape_val': 0.0565, 'mse_val': 0.0031, 'mae_val': 0.0443}\n"
     ]
    },
    {
     "data": {
      "application/vnd.jupyter.widget-view+json": {
       "model_id": "b5cc8b65edbd4e7092fa604b7d7ef6c7",
       "version_major": 2,
       "version_minor": 0
      },
      "text/plain": [
       "Validating: 0it [00:00, ?it/s]"
      ]
     },
     "metadata": {},
     "output_type": "display_data"
    },
    {
     "name": "stdout",
     "output_type": "stream",
     "text": [
      "averaged metrics: {'loss_val': 0.0013, 'mape_val': 0.0521, 'mse_val': 0.0025, 'mae_val': 0.0404}\n"
     ]
    },
    {
     "data": {
      "application/vnd.jupyter.widget-view+json": {
       "model_id": "1bab245fc9104d52bf3b9f053b564c04",
       "version_major": 2,
       "version_minor": 0
      },
      "text/plain": [
       "Validating: 0it [00:00, ?it/s]"
      ]
     },
     "metadata": {},
     "output_type": "display_data"
    },
    {
     "name": "stdout",
     "output_type": "stream",
     "text": [
      "averaged metrics: {'loss_val': 0.0012, 'mape_val': 0.0532, 'mse_val': 0.0025, 'mae_val': 0.0407}\n"
     ]
    },
    {
     "data": {
      "application/vnd.jupyter.widget-view+json": {
       "model_id": "f0c32ce1e85f4611b52f2a4d42cebb59",
       "version_major": 2,
       "version_minor": 0
      },
      "text/plain": [
       "Validating: 0it [00:00, ?it/s]"
      ]
     },
     "metadata": {},
     "output_type": "display_data"
    },
    {
     "name": "stdout",
     "output_type": "stream",
     "text": [
      "averaged metrics: {'loss_val': 0.0024, 'mape_val': 0.0681, 'mse_val': 0.0048, 'mae_val': 0.0548}\n"
     ]
    },
    {
     "data": {
      "application/vnd.jupyter.widget-view+json": {
       "model_id": "56a10683c95b47db9801e895fd9f0bc4",
       "version_major": 2,
       "version_minor": 0
      },
      "text/plain": [
       "Validating: 0it [00:00, ?it/s]"
      ]
     },
     "metadata": {},
     "output_type": "display_data"
    },
    {
     "name": "stdout",
     "output_type": "stream",
     "text": [
      "averaged metrics: {'loss_val': 0.0013, 'mape_val': 0.0536, 'mse_val': 0.0025, 'mae_val': 0.0412}\n"
     ]
    },
    {
     "data": {
      "application/vnd.jupyter.widget-view+json": {
       "model_id": "7c3c3a0e8dda4c6fa6addea1843276b5",
       "version_major": 2,
       "version_minor": 0
      },
      "text/plain": [
       "Validating: 0it [00:00, ?it/s]"
      ]
     },
     "metadata": {},
     "output_type": "display_data"
    },
    {
     "name": "stdout",
     "output_type": "stream",
     "text": [
      "averaged metrics: {'loss_val': 0.0013, 'mape_val': 0.0513, 'mse_val': 0.0025, 'mae_val': 0.0398}\n"
     ]
    },
    {
     "data": {
      "application/vnd.jupyter.widget-view+json": {
       "model_id": "fb7fcefcab374207b022560cc824075a",
       "version_major": 2,
       "version_minor": 0
      },
      "text/plain": [
       "Validating: 0it [00:00, ?it/s]"
      ]
     },
     "metadata": {},
     "output_type": "display_data"
    },
    {
     "name": "stdout",
     "output_type": "stream",
     "text": [
      "averaged metrics: {'loss_val': 0.0012, 'mape_val': 0.0539, 'mse_val': 0.0025, 'mae_val': 0.041}\n"
     ]
    },
    {
     "data": {
      "application/vnd.jupyter.widget-view+json": {
       "model_id": "f921f85b1d2349f88504361c88cd5a29",
       "version_major": 2,
       "version_minor": 0
      },
      "text/plain": [
       "Validating: 0it [00:00, ?it/s]"
      ]
     },
     "metadata": {},
     "output_type": "display_data"
    },
    {
     "name": "stdout",
     "output_type": "stream",
     "text": [
      "averaged metrics: {'loss_val': 0.0012, 'mape_val': 0.0517, 'mse_val': 0.0025, 'mae_val': 0.0399}\n"
     ]
    },
    {
     "data": {
      "application/vnd.jupyter.widget-view+json": {
       "model_id": "86265ce052084586bf795ead722ba5cf",
       "version_major": 2,
       "version_minor": 0
      },
      "text/plain": [
       "Validating: 0it [00:00, ?it/s]"
      ]
     },
     "metadata": {},
     "output_type": "display_data"
    },
    {
     "name": "stdout",
     "output_type": "stream",
     "text": [
      "averaged metrics: {'loss_val': 0.0014, 'mape_val': 0.0585, 'mse_val': 0.0028, 'mae_val': 0.0442}\n"
     ]
    },
    {
     "data": {
      "application/vnd.jupyter.widget-view+json": {
       "model_id": "3dd09546668b4f8c9cb41a4769dc826c",
       "version_major": 2,
       "version_minor": 0
      },
      "text/plain": [
       "Validating: 0it [00:00, ?it/s]"
      ]
     },
     "metadata": {},
     "output_type": "display_data"
    },
    {
     "name": "stdout",
     "output_type": "stream",
     "text": [
      "averaged metrics: {'loss_val': 0.0012, 'mape_val': 0.0514, 'mse_val': 0.0024, 'mae_val': 0.0396}\n"
     ]
    },
    {
     "data": {
      "application/vnd.jupyter.widget-view+json": {
       "model_id": "5f4ca0a79b4249a8bcbcc1055484a396",
       "version_major": 2,
       "version_minor": 0
      },
      "text/plain": [
       "Validating: 0it [00:00, ?it/s]"
      ]
     },
     "metadata": {},
     "output_type": "display_data"
    },
    {
     "name": "stdout",
     "output_type": "stream",
     "text": [
      "averaged metrics: {'loss_val': 0.0012, 'mape_val': 0.0526, 'mse_val': 0.0024, 'mae_val': 0.0402}\n"
     ]
    },
    {
     "data": {
      "application/vnd.jupyter.widget-view+json": {
       "model_id": "5457137ac89d434fb167a57a35ac750a",
       "version_major": 2,
       "version_minor": 0
      },
      "text/plain": [
       "Validating: 0it [00:00, ?it/s]"
      ]
     },
     "metadata": {},
     "output_type": "display_data"
    },
    {
     "name": "stdout",
     "output_type": "stream",
     "text": [
      "averaged metrics: {'loss_val': 0.0013, 'mape_val': 0.0518, 'mse_val': 0.0026, 'mae_val': 0.0404}\n"
     ]
    },
    {
     "data": {
      "application/vnd.jupyter.widget-view+json": {
       "model_id": "0fed28a3307b4b9794de69c931a6a59a",
       "version_major": 2,
       "version_minor": 0
      },
      "text/plain": [
       "Validating: 0it [00:00, ?it/s]"
      ]
     },
     "metadata": {},
     "output_type": "display_data"
    },
    {
     "name": "stdout",
     "output_type": "stream",
     "text": [
      "averaged metrics: {'loss_val': 0.0012, 'mape_val': 0.0511, 'mse_val': 0.0025, 'mae_val': 0.0396}\n"
     ]
    },
    {
     "data": {
      "application/vnd.jupyter.widget-view+json": {
       "model_id": "5ff8d34e32d74234905ce49f226922a5",
       "version_major": 2,
       "version_minor": 0
      },
      "text/plain": [
       "Validating: 0it [00:00, ?it/s]"
      ]
     },
     "metadata": {},
     "output_type": "display_data"
    },
    {
     "name": "stdout",
     "output_type": "stream",
     "text": [
      "averaged metrics: {'loss_val': 0.0014, 'mape_val': 0.0582, 'mse_val': 0.0028, 'mae_val': 0.0438}\n"
     ]
    },
    {
     "data": {
      "application/vnd.jupyter.widget-view+json": {
       "model_id": "6eb652303d484c4b91b4b20c61cc5403",
       "version_major": 2,
       "version_minor": 0
      },
      "text/plain": [
       "Validating: 0it [00:00, ?it/s]"
      ]
     },
     "metadata": {},
     "output_type": "display_data"
    },
    {
     "name": "stdout",
     "output_type": "stream",
     "text": [
      "averaged metrics: {'loss_val': 0.0012, 'mape_val': 0.053, 'mse_val': 0.0024, 'mae_val': 0.0402}\n"
     ]
    },
    {
     "data": {
      "application/vnd.jupyter.widget-view+json": {
       "model_id": "fa5abb15e35445168e8730cc2e52452f",
       "version_major": 2,
       "version_minor": 0
      },
      "text/plain": [
       "Validating: 0it [00:00, ?it/s]"
      ]
     },
     "metadata": {},
     "output_type": "display_data"
    },
    {
     "name": "stdout",
     "output_type": "stream",
     "text": [
      "averaged metrics: {'loss_val': 0.0013, 'mape_val': 0.0523, 'mse_val': 0.0026, 'mae_val': 0.0405}\n"
     ]
    },
    {
     "data": {
      "application/vnd.jupyter.widget-view+json": {
       "model_id": "81821f913b5f4a018100f9e29f32fcae",
       "version_major": 2,
       "version_minor": 0
      },
      "text/plain": [
       "Validating: 0it [00:00, ?it/s]"
      ]
     },
     "metadata": {},
     "output_type": "display_data"
    },
    {
     "name": "stdout",
     "output_type": "stream",
     "text": [
      "averaged metrics: {'loss_val': 0.0013, 'mape_val': 0.0514, 'mse_val': 0.0026, 'mae_val': 0.04}\n"
     ]
    },
    {
     "data": {
      "application/vnd.jupyter.widget-view+json": {
       "model_id": "7043ebee65c64861a475c37bde13704b",
       "version_major": 2,
       "version_minor": 0
      },
      "text/plain": [
       "Validating: 0it [00:00, ?it/s]"
      ]
     },
     "metadata": {},
     "output_type": "display_data"
    },
    {
     "name": "stdout",
     "output_type": "stream",
     "text": [
      "averaged metrics: {'loss_val': 0.0012, 'mape_val': 0.0515, 'mse_val': 0.0024, 'mae_val': 0.0396}\n"
     ]
    },
    {
     "data": {
      "application/vnd.jupyter.widget-view+json": {
       "model_id": "fec314bb082742a8808e34921be05b3a",
       "version_major": 2,
       "version_minor": 0
      },
      "text/plain": [
       "Validating: 0it [00:00, ?it/s]"
      ]
     },
     "metadata": {},
     "output_type": "display_data"
    },
    {
     "name": "stdout",
     "output_type": "stream",
     "text": [
      "averaged metrics: {'loss_val': 0.0012, 'mape_val': 0.0525, 'mse_val': 0.0024, 'mae_val': 0.0397}\n"
     ]
    },
    {
     "data": {
      "application/vnd.jupyter.widget-view+json": {
       "model_id": "1700484bfe374d83bdfac26fdab8502b",
       "version_major": 2,
       "version_minor": 0
      },
      "text/plain": [
       "Validating: 0it [00:00, ?it/s]"
      ]
     },
     "metadata": {},
     "output_type": "display_data"
    },
    {
     "name": "stdout",
     "output_type": "stream",
     "text": [
      "averaged metrics: {'loss_val': 0.0012, 'mape_val': 0.0509, 'mse_val': 0.0025, 'mae_val': 0.0393}\n"
     ]
    },
    {
     "data": {
      "application/vnd.jupyter.widget-view+json": {
       "model_id": "67f73390c0fb419589d07579f6ad2542",
       "version_major": 2,
       "version_minor": 0
      },
      "text/plain": [
       "Validating: 0it [00:00, ?it/s]"
      ]
     },
     "metadata": {},
     "output_type": "display_data"
    },
    {
     "name": "stdout",
     "output_type": "stream",
     "text": [
      "averaged metrics: {'loss_val': 0.0014, 'mape_val': 0.0532, 'mse_val': 0.0028, 'mae_val': 0.0416}\n"
     ]
    },
    {
     "data": {
      "application/vnd.jupyter.widget-view+json": {
       "model_id": "0f1e7e7d868c4d56ab1b25f823513376",
       "version_major": 2,
       "version_minor": 0
      },
      "text/plain": [
       "Validating: 0it [00:00, ?it/s]"
      ]
     },
     "metadata": {},
     "output_type": "display_data"
    },
    {
     "name": "stdout",
     "output_type": "stream",
     "text": [
      "averaged metrics: {'loss_val': 0.0012, 'mape_val': 0.0516, 'mse_val': 0.0024, 'mae_val': 0.0396}\n"
     ]
    },
    {
     "data": {
      "application/vnd.jupyter.widget-view+json": {
       "model_id": "6c00ecbc899b48b08bdb2d4ca7b4eb37",
       "version_major": 2,
       "version_minor": 0
      },
      "text/plain": [
       "Validating: 0it [00:00, ?it/s]"
      ]
     },
     "metadata": {},
     "output_type": "display_data"
    },
    {
     "name": "stdout",
     "output_type": "stream",
     "text": [
      "averaged metrics: {'loss_val': 0.0013, 'mape_val': 0.0519, 'mse_val': 0.0027, 'mae_val': 0.0405}\n"
     ]
    },
    {
     "data": {
      "application/vnd.jupyter.widget-view+json": {
       "model_id": "3957b46c690a4c8e88bfbda0ae5c2e3c",
       "version_major": 2,
       "version_minor": 0
      },
      "text/plain": [
       "Validating: 0it [00:00, ?it/s]"
      ]
     },
     "metadata": {},
     "output_type": "display_data"
    },
    {
     "name": "stdout",
     "output_type": "stream",
     "text": [
      "averaged metrics: {'loss_val': 0.0013, 'mape_val': 0.0524, 'mse_val': 0.0026, 'mae_val': 0.0405}\n"
     ]
    },
    {
     "data": {
      "application/vnd.jupyter.widget-view+json": {
       "model_id": "f35e3851dc0b4fbb8bf509637820379e",
       "version_major": 2,
       "version_minor": 0
      },
      "text/plain": [
       "Validating: 0it [00:00, ?it/s]"
      ]
     },
     "metadata": {},
     "output_type": "display_data"
    },
    {
     "name": "stdout",
     "output_type": "stream",
     "text": [
      "averaged metrics: {'loss_val': 0.0012, 'mape_val': 0.0509, 'mse_val': 0.0024, 'mae_val': 0.0393}\n"
     ]
    },
    {
     "data": {
      "application/vnd.jupyter.widget-view+json": {
       "model_id": "076de89c78354bc68851fda97a0732d3",
       "version_major": 2,
       "version_minor": 0
      },
      "text/plain": [
       "Validating: 0it [00:00, ?it/s]"
      ]
     },
     "metadata": {},
     "output_type": "display_data"
    },
    {
     "name": "stdout",
     "output_type": "stream",
     "text": [
      "averaged metrics: {'loss_val': 0.0014, 'mape_val': 0.053, 'mse_val': 0.0028, 'mae_val': 0.0413}\n"
     ]
    },
    {
     "data": {
      "application/vnd.jupyter.widget-view+json": {
       "model_id": "b03a2d7569184e5fb7fc9a9f7b12b8fa",
       "version_major": 2,
       "version_minor": 0
      },
      "text/plain": [
       "Validating: 0it [00:00, ?it/s]"
      ]
     },
     "metadata": {},
     "output_type": "display_data"
    },
    {
     "name": "stdout",
     "output_type": "stream",
     "text": [
      "averaged metrics: {'loss_val': 0.0012, 'mape_val': 0.0508, 'mse_val': 0.0024, 'mae_val': 0.0392}\n"
     ]
    },
    {
     "data": {
      "application/vnd.jupyter.widget-view+json": {
       "model_id": "c1e31fe68b474643b4e7c75cc15222b1",
       "version_major": 2,
       "version_minor": 0
      },
      "text/plain": [
       "Validating: 0it [00:00, ?it/s]"
      ]
     },
     "metadata": {},
     "output_type": "display_data"
    },
    {
     "name": "stdout",
     "output_type": "stream",
     "text": [
      "averaged metrics: {'loss_val': 0.0012, 'mape_val': 0.0509, 'mse_val': 0.0024, 'mae_val': 0.039}\n"
     ]
    },
    {
     "data": {
      "application/vnd.jupyter.widget-view+json": {
       "model_id": "b526010298674718901d42ac075039e4",
       "version_major": 2,
       "version_minor": 0
      },
      "text/plain": [
       "Validating: 0it [00:00, ?it/s]"
      ]
     },
     "metadata": {},
     "output_type": "display_data"
    },
    {
     "name": "stdout",
     "output_type": "stream",
     "text": [
      "averaged metrics: {'loss_val': 0.0014, 'mape_val': 0.0523, 'mse_val': 0.0028, 'mae_val': 0.041}\n"
     ]
    },
    {
     "data": {
      "application/vnd.jupyter.widget-view+json": {
       "model_id": "5c41f897fc784401847abc8c1bb47dd6",
       "version_major": 2,
       "version_minor": 0
      },
      "text/plain": [
       "Validating: 0it [00:00, ?it/s]"
      ]
     },
     "metadata": {},
     "output_type": "display_data"
    },
    {
     "name": "stdout",
     "output_type": "stream",
     "text": [
      "averaged metrics: {'loss_val': 0.0015, 'mape_val': 0.055, 'mse_val': 0.003, 'mae_val': 0.0431}\n"
     ]
    },
    {
     "data": {
      "application/vnd.jupyter.widget-view+json": {
       "model_id": "41725e014f454b62a38a82a7e70a284a",
       "version_major": 2,
       "version_minor": 0
      },
      "text/plain": [
       "Validating: 0it [00:00, ?it/s]"
      ]
     },
     "metadata": {},
     "output_type": "display_data"
    },
    {
     "name": "stdout",
     "output_type": "stream",
     "text": [
      "averaged metrics: {'loss_val': 0.0012, 'mape_val': 0.0507, 'mse_val': 0.0024, 'mae_val': 0.0391}\n"
     ]
    },
    {
     "data": {
      "application/vnd.jupyter.widget-view+json": {
       "model_id": "26e25edf389949fe8fc7254e71935d39",
       "version_major": 2,
       "version_minor": 0
      },
      "text/plain": [
       "Validating: 0it [00:00, ?it/s]"
      ]
     },
     "metadata": {},
     "output_type": "display_data"
    },
    {
     "name": "stdout",
     "output_type": "stream",
     "text": [
      "averaged metrics: {'loss_val': 0.0013, 'mape_val': 0.0516, 'mse_val': 0.0026, 'mae_val': 0.0402}\n"
     ]
    },
    {
     "data": {
      "application/vnd.jupyter.widget-view+json": {
       "model_id": "0ed386f8ab6845409509e37adca5cd15",
       "version_major": 2,
       "version_minor": 0
      },
      "text/plain": [
       "Validating: 0it [00:00, ?it/s]"
      ]
     },
     "metadata": {},
     "output_type": "display_data"
    },
    {
     "name": "stdout",
     "output_type": "stream",
     "text": [
      "averaged metrics: {'loss_val': 0.0012, 'mape_val': 0.0505, 'mse_val': 0.0024, 'mae_val': 0.0389}\n"
     ]
    },
    {
     "data": {
      "application/vnd.jupyter.widget-view+json": {
       "model_id": "de6d98eecd564592ab02a083e7c6d6c9",
       "version_major": 2,
       "version_minor": 0
      },
      "text/plain": [
       "Validating: 0it [00:00, ?it/s]"
      ]
     },
     "metadata": {},
     "output_type": "display_data"
    },
    {
     "name": "stdout",
     "output_type": "stream",
     "text": [
      "averaged metrics: {'loss_val': 0.0013, 'mape_val': 0.0518, 'mse_val': 0.0026, 'mae_val': 0.0401}\n"
     ]
    },
    {
     "data": {
      "application/vnd.jupyter.widget-view+json": {
       "model_id": "0651111b89534cd5ab639b7097eaecdc",
       "version_major": 2,
       "version_minor": 0
      },
      "text/plain": [
       "Validating: 0it [00:00, ?it/s]"
      ]
     },
     "metadata": {},
     "output_type": "display_data"
    },
    {
     "name": "stdout",
     "output_type": "stream",
     "text": [
      "averaged metrics: {'loss_val': 0.0013, 'mape_val': 0.0548, 'mse_val': 0.0026, 'mae_val': 0.0418}\n"
     ]
    },
    {
     "data": {
      "application/vnd.jupyter.widget-view+json": {
       "model_id": "19d0bb457cd0413988867c1357fcbcf3",
       "version_major": 2,
       "version_minor": 0
      },
      "text/plain": [
       "Validating: 0it [00:00, ?it/s]"
      ]
     },
     "metadata": {},
     "output_type": "display_data"
    },
    {
     "name": "stdout",
     "output_type": "stream",
     "text": [
      "averaged metrics: {'loss_val': 0.0017, 'mape_val': 0.057, 'mse_val': 0.0034, 'mae_val': 0.0452}\n"
     ]
    },
    {
     "data": {
      "application/vnd.jupyter.widget-view+json": {
       "model_id": "adc5fbe66c1e4e26953595763f5018fb",
       "version_major": 2,
       "version_minor": 0
      },
      "text/plain": [
       "Validating: 0it [00:00, ?it/s]"
      ]
     },
     "metadata": {},
     "output_type": "display_data"
    },
    {
     "name": "stdout",
     "output_type": "stream",
     "text": [
      "averaged metrics: {'loss_val': 0.0012, 'mape_val': 0.0503, 'mse_val': 0.0024, 'mae_val': 0.0388}\n"
     ]
    },
    {
     "data": {
      "application/vnd.jupyter.widget-view+json": {
       "model_id": "52786af1d7054eddaa2860d9458265dc",
       "version_major": 2,
       "version_minor": 0
      },
      "text/plain": [
       "Validating: 0it [00:00, ?it/s]"
      ]
     },
     "metadata": {},
     "output_type": "display_data"
    },
    {
     "name": "stdout",
     "output_type": "stream",
     "text": [
      "averaged metrics: {'loss_val': 0.0012, 'mape_val': 0.0502, 'mse_val': 0.0025, 'mae_val': 0.0388}\n"
     ]
    },
    {
     "data": {
      "application/vnd.jupyter.widget-view+json": {
       "model_id": "d7dc95326b8744f09f3c76fb666c72be",
       "version_major": 2,
       "version_minor": 0
      },
      "text/plain": [
       "Validating: 0it [00:00, ?it/s]"
      ]
     },
     "metadata": {},
     "output_type": "display_data"
    },
    {
     "name": "stdout",
     "output_type": "stream",
     "text": [
      "averaged metrics: {'loss_val': 0.0012, 'mape_val': 0.0519, 'mse_val': 0.0024, 'mae_val': 0.0394}\n"
     ]
    },
    {
     "data": {
      "application/vnd.jupyter.widget-view+json": {
       "model_id": "f24c8c66bd6e41038d84de3f41445df9",
       "version_major": 2,
       "version_minor": 0
      },
      "text/plain": [
       "Validating: 0it [00:00, ?it/s]"
      ]
     },
     "metadata": {},
     "output_type": "display_data"
    },
    {
     "name": "stdout",
     "output_type": "stream",
     "text": [
      "averaged metrics: {'loss_val': 0.0016, 'mape_val': 0.0555, 'mse_val': 0.0032, 'mae_val': 0.0437}\n"
     ]
    },
    {
     "data": {
      "application/vnd.jupyter.widget-view+json": {
       "model_id": "a0d622336cf2437ea71d5f9087ddb3f8",
       "version_major": 2,
       "version_minor": 0
      },
      "text/plain": [
       "Validating: 0it [00:00, ?it/s]"
      ]
     },
     "metadata": {},
     "output_type": "display_data"
    },
    {
     "name": "stdout",
     "output_type": "stream",
     "text": [
      "averaged metrics: {'loss_val': 0.0012, 'mape_val': 0.0507, 'mse_val': 0.0024, 'mae_val': 0.039}\n"
     ]
    },
    {
     "data": {
      "application/vnd.jupyter.widget-view+json": {
       "model_id": "b3ab9046a178493ab224f5dc1c0ca827",
       "version_major": 2,
       "version_minor": 0
      },
      "text/plain": [
       "Validating: 0it [00:00, ?it/s]"
      ]
     },
     "metadata": {},
     "output_type": "display_data"
    },
    {
     "name": "stdout",
     "output_type": "stream",
     "text": [
      "averaged metrics: {'loss_val': 0.0012, 'mape_val': 0.0502, 'mse_val': 0.0024, 'mae_val': 0.0387}\n"
     ]
    },
    {
     "data": {
      "application/vnd.jupyter.widget-view+json": {
       "model_id": "70ec8e2590914453ab3d6e1c55022785",
       "version_major": 2,
       "version_minor": 0
      },
      "text/plain": [
       "Validating: 0it [00:00, ?it/s]"
      ]
     },
     "metadata": {},
     "output_type": "display_data"
    },
    {
     "name": "stdout",
     "output_type": "stream",
     "text": [
      "averaged metrics: {'loss_val': 0.0012, 'mape_val': 0.0503, 'mse_val': 0.0024, 'mae_val': 0.0386}\n"
     ]
    },
    {
     "data": {
      "application/vnd.jupyter.widget-view+json": {
       "model_id": "8b46bf481409472ab40d175aee8e4b0f",
       "version_major": 2,
       "version_minor": 0
      },
      "text/plain": [
       "Validating: 0it [00:00, ?it/s]"
      ]
     },
     "metadata": {},
     "output_type": "display_data"
    },
    {
     "name": "stdout",
     "output_type": "stream",
     "text": [
      "averaged metrics: {'loss_val': 0.0012, 'mape_val': 0.0521, 'mse_val': 0.0024, 'mae_val': 0.0398}\n"
     ]
    },
    {
     "data": {
      "application/vnd.jupyter.widget-view+json": {
       "model_id": "fdea9183b84a4adea0edd4b9b7ff0bc2",
       "version_major": 2,
       "version_minor": 0
      },
      "text/plain": [
       "Validating: 0it [00:00, ?it/s]"
      ]
     },
     "metadata": {},
     "output_type": "display_data"
    },
    {
     "name": "stdout",
     "output_type": "stream",
     "text": [
      "averaged metrics: {'loss_val': 0.0012, 'mape_val': 0.0512, 'mse_val': 0.0023, 'mae_val': 0.0389}\n"
     ]
    },
    {
     "data": {
      "application/vnd.jupyter.widget-view+json": {
       "model_id": "dcf7b875ab5347b6872da2ddcd8cf6dc",
       "version_major": 2,
       "version_minor": 0
      },
      "text/plain": [
       "Validating: 0it [00:00, ?it/s]"
      ]
     },
     "metadata": {},
     "output_type": "display_data"
    },
    {
     "name": "stdout",
     "output_type": "stream",
     "text": [
      "averaged metrics: {'loss_val': 0.0012, 'mape_val': 0.0502, 'mse_val': 0.0025, 'mae_val': 0.0388}\n"
     ]
    },
    {
     "data": {
      "application/vnd.jupyter.widget-view+json": {
       "model_id": "7e145dee905540478a665db646d2533b",
       "version_major": 2,
       "version_minor": 0
      },
      "text/plain": [
       "Validating: 0it [00:00, ?it/s]"
      ]
     },
     "metadata": {},
     "output_type": "display_data"
    },
    {
     "name": "stdout",
     "output_type": "stream",
     "text": [
      "averaged metrics: {'loss_val': 0.0012, 'mape_val': 0.0505, 'mse_val': 0.0024, 'mae_val': 0.0387}\n"
     ]
    },
    {
     "data": {
      "application/vnd.jupyter.widget-view+json": {
       "model_id": "9def8b689be84cc48a77aa105650e2f8",
       "version_major": 2,
       "version_minor": 0
      },
      "text/plain": [
       "Validating: 0it [00:00, ?it/s]"
      ]
     },
     "metadata": {},
     "output_type": "display_data"
    },
    {
     "name": "stdout",
     "output_type": "stream",
     "text": [
      "averaged metrics: {'loss_val': 0.0012, 'mape_val': 0.0511, 'mse_val': 0.0024, 'mae_val': 0.039}\n"
     ]
    },
    {
     "data": {
      "application/vnd.jupyter.widget-view+json": {
       "model_id": "905ce8df92984c77b19b467b5385b7b7",
       "version_major": 2,
       "version_minor": 0
      },
      "text/plain": [
       "Validating: 0it [00:00, ?it/s]"
      ]
     },
     "metadata": {},
     "output_type": "display_data"
    },
    {
     "name": "stdout",
     "output_type": "stream",
     "text": [
      "averaged metrics: {'loss_val': 0.0016, 'mape_val': 0.0617, 'mse_val': 0.0032, 'mae_val': 0.0463}\n"
     ]
    },
    {
     "data": {
      "application/vnd.jupyter.widget-view+json": {
       "model_id": "fceb2af69e7348e4bc1da13185735518",
       "version_major": 2,
       "version_minor": 0
      },
      "text/plain": [
       "Validating: 0it [00:00, ?it/s]"
      ]
     },
     "metadata": {},
     "output_type": "display_data"
    },
    {
     "name": "stdout",
     "output_type": "stream",
     "text": [
      "averaged metrics: {'loss_val': 0.0014, 'mape_val': 0.0588, 'mse_val': 0.0028, 'mae_val': 0.044}\n"
     ]
    },
    {
     "data": {
      "application/vnd.jupyter.widget-view+json": {
       "model_id": "9428234f8ed249d4b377db448d059cbd",
       "version_major": 2,
       "version_minor": 0
      },
      "text/plain": [
       "Validating: 0it [00:00, ?it/s]"
      ]
     },
     "metadata": {},
     "output_type": "display_data"
    },
    {
     "name": "stdout",
     "output_type": "stream",
     "text": [
      "averaged metrics: {'loss_val': 0.0012, 'mape_val': 0.0528, 'mse_val': 0.0024, 'mae_val': 0.0401}\n"
     ]
    },
    {
     "data": {
      "application/vnd.jupyter.widget-view+json": {
       "model_id": "573932aae8a64b82aa063110f3934fed",
       "version_major": 2,
       "version_minor": 0
      },
      "text/plain": [
       "Validating: 0it [00:00, ?it/s]"
      ]
     },
     "metadata": {},
     "output_type": "display_data"
    },
    {
     "name": "stdout",
     "output_type": "stream",
     "text": [
      "averaged metrics: {'loss_val': 0.0012, 'mape_val': 0.0503, 'mse_val': 0.0024, 'mae_val': 0.0388}\n"
     ]
    },
    {
     "data": {
      "application/vnd.jupyter.widget-view+json": {
       "model_id": "b7cec394400a40b98bfba74f3e75b2a6",
       "version_major": 2,
       "version_minor": 0
      },
      "text/plain": [
       "Validating: 0it [00:00, ?it/s]"
      ]
     },
     "metadata": {},
     "output_type": "display_data"
    },
    {
     "name": "stdout",
     "output_type": "stream",
     "text": [
      "averaged metrics: {'loss_val': 0.0012, 'mape_val': 0.0506, 'mse_val': 0.0023, 'mae_val': 0.0388}\n"
     ]
    },
    {
     "data": {
      "application/vnd.jupyter.widget-view+json": {
       "model_id": "f47b8f0d8173410fbd5b704c6f792841",
       "version_major": 2,
       "version_minor": 0
      },
      "text/plain": [
       "Validating: 0it [00:00, ?it/s]"
      ]
     },
     "metadata": {},
     "output_type": "display_data"
    },
    {
     "name": "stdout",
     "output_type": "stream",
     "text": [
      "averaged metrics: {'loss_val': 0.0013, 'mape_val': 0.0563, 'mse_val': 0.0027, 'mae_val': 0.0425}\n"
     ]
    },
    {
     "data": {
      "application/vnd.jupyter.widget-view+json": {
       "model_id": "da66cdacd00244ebb0b15654187f11cb",
       "version_major": 2,
       "version_minor": 0
      },
      "text/plain": [
       "Validating: 0it [00:00, ?it/s]"
      ]
     },
     "metadata": {},
     "output_type": "display_data"
    },
    {
     "name": "stdout",
     "output_type": "stream",
     "text": [
      "averaged metrics: {'loss_val': 0.0012, 'mape_val': 0.0522, 'mse_val': 0.0024, 'mae_val': 0.0399}\n"
     ]
    },
    {
     "data": {
      "application/vnd.jupyter.widget-view+json": {
       "model_id": "55f424538c864327be41669b66369a51",
       "version_major": 2,
       "version_minor": 0
      },
      "text/plain": [
       "Validating: 0it [00:00, ?it/s]"
      ]
     },
     "metadata": {},
     "output_type": "display_data"
    },
    {
     "name": "stdout",
     "output_type": "stream",
     "text": [
      "averaged metrics: {'loss_val': 0.0012, 'mape_val': 0.0503, 'mse_val': 0.0024, 'mae_val': 0.0389}\n"
     ]
    },
    {
     "data": {
      "application/vnd.jupyter.widget-view+json": {
       "model_id": "54158f39c9a54befb606ad28b66c20c1",
       "version_major": 2,
       "version_minor": 0
      },
      "text/plain": [
       "Validating: 0it [00:00, ?it/s]"
      ]
     },
     "metadata": {},
     "output_type": "display_data"
    },
    {
     "name": "stdout",
     "output_type": "stream",
     "text": [
      "averaged metrics: {'loss_val': 0.0012, 'mape_val': 0.0503, 'mse_val': 0.0025, 'mae_val': 0.0389}\n"
     ]
    },
    {
     "data": {
      "application/vnd.jupyter.widget-view+json": {
       "model_id": "25f548402ad24ef9bec0280c9642484a",
       "version_major": 2,
       "version_minor": 0
      },
      "text/plain": [
       "Validating: 0it [00:00, ?it/s]"
      ]
     },
     "metadata": {},
     "output_type": "display_data"
    },
    {
     "name": "stdout",
     "output_type": "stream",
     "text": [
      "averaged metrics: {'loss_val': 0.0012, 'mape_val': 0.05, 'mse_val': 0.0024, 'mae_val': 0.0387}\n"
     ]
    },
    {
     "data": {
      "application/vnd.jupyter.widget-view+json": {
       "model_id": "2719a2317c8a4382af9acfd1c9c444ad",
       "version_major": 2,
       "version_minor": 0
      },
      "text/plain": [
       "Validating: 0it [00:00, ?it/s]"
      ]
     },
     "metadata": {},
     "output_type": "display_data"
    },
    {
     "name": "stdout",
     "output_type": "stream",
     "text": [
      "averaged metrics: {'loss_val': 0.0015, 'mape_val': 0.0544, 'mse_val': 0.003, 'mae_val': 0.0426}\n"
     ]
    },
    {
     "data": {
      "application/vnd.jupyter.widget-view+json": {
       "model_id": "7bf231f9dd94462b8228e89029caa82f",
       "version_major": 2,
       "version_minor": 0
      },
      "text/plain": [
       "Validating: 0it [00:00, ?it/s]"
      ]
     },
     "metadata": {},
     "output_type": "display_data"
    },
    {
     "name": "stdout",
     "output_type": "stream",
     "text": [
      "averaged metrics: {'loss_val': 0.0012, 'mape_val': 0.0508, 'mse_val': 0.0023, 'mae_val': 0.0388}\n"
     ]
    },
    {
     "data": {
      "application/vnd.jupyter.widget-view+json": {
       "model_id": "138c56a1672c41abb226d5615eaad266",
       "version_major": 2,
       "version_minor": 0
      },
      "text/plain": [
       "Validating: 0it [00:00, ?it/s]"
      ]
     },
     "metadata": {},
     "output_type": "display_data"
    },
    {
     "name": "stdout",
     "output_type": "stream",
     "text": [
      "averaged metrics: {'loss_val': 0.0012, 'mape_val': 0.0506, 'mse_val': 0.0023, 'mae_val': 0.0387}\n"
     ]
    },
    {
     "data": {
      "application/vnd.jupyter.widget-view+json": {
       "model_id": "e8cb9eb298b64ce69a712c13230cda07",
       "version_major": 2,
       "version_minor": 0
      },
      "text/plain": [
       "Validating: 0it [00:00, ?it/s]"
      ]
     },
     "metadata": {},
     "output_type": "display_data"
    },
    {
     "name": "stdout",
     "output_type": "stream",
     "text": [
      "averaged metrics: {'loss_val': 0.0012, 'mape_val': 0.0516, 'mse_val': 0.0024, 'mae_val': 0.0392}\n"
     ]
    },
    {
     "data": {
      "application/vnd.jupyter.widget-view+json": {
       "model_id": "41bef157e566465f86db2d49a3c978c7",
       "version_major": 2,
       "version_minor": 0
      },
      "text/plain": [
       "Validating: 0it [00:00, ?it/s]"
      ]
     },
     "metadata": {},
     "output_type": "display_data"
    },
    {
     "name": "stdout",
     "output_type": "stream",
     "text": [
      "averaged metrics: {'loss_val': 0.0012, 'mape_val': 0.05, 'mse_val': 0.0024, 'mae_val': 0.0385}\n"
     ]
    },
    {
     "data": {
      "application/vnd.jupyter.widget-view+json": {
       "model_id": "d684f840479a46adba2154c5cef2b145",
       "version_major": 2,
       "version_minor": 0
      },
      "text/plain": [
       "Validating: 0it [00:00, ?it/s]"
      ]
     },
     "metadata": {},
     "output_type": "display_data"
    },
    {
     "name": "stdout",
     "output_type": "stream",
     "text": [
      "averaged metrics: {'loss_val': 0.0012, 'mape_val': 0.0527, 'mse_val': 0.0024, 'mae_val': 0.0401}\n"
     ]
    },
    {
     "data": {
      "application/vnd.jupyter.widget-view+json": {
       "model_id": "cea9202d2d6d4308b918675021c214dd",
       "version_major": 2,
       "version_minor": 0
      },
      "text/plain": [
       "Validating: 0it [00:00, ?it/s]"
      ]
     },
     "metadata": {},
     "output_type": "display_data"
    },
    {
     "name": "stdout",
     "output_type": "stream",
     "text": [
      "averaged metrics: {'loss_val': 0.0013, 'mape_val': 0.0505, 'mse_val': 0.0026, 'mae_val': 0.0393}\n"
     ]
    },
    {
     "data": {
      "application/vnd.jupyter.widget-view+json": {
       "model_id": "e5094a78e90a4739b1e66a43ebc42b21",
       "version_major": 2,
       "version_minor": 0
      },
      "text/plain": [
       "Validating: 0it [00:00, ?it/s]"
      ]
     },
     "metadata": {},
     "output_type": "display_data"
    },
    {
     "name": "stdout",
     "output_type": "stream",
     "text": [
      "averaged metrics: {'loss_val': 0.0013, 'mape_val': 0.0505, 'mse_val': 0.0026, 'mae_val': 0.0394}\n"
     ]
    },
    {
     "data": {
      "application/vnd.jupyter.widget-view+json": {
       "model_id": "1fae885963ca4effa3dcbea2198cd915",
       "version_major": 2,
       "version_minor": 0
      },
      "text/plain": [
       "Validating: 0it [00:00, ?it/s]"
      ]
     },
     "metadata": {},
     "output_type": "display_data"
    },
    {
     "name": "stdout",
     "output_type": "stream",
     "text": [
      "averaged metrics: {'loss_val': 0.0012, 'mape_val': 0.053, 'mse_val': 0.0024, 'mae_val': 0.0401}\n"
     ]
    },
    {
     "data": {
      "application/vnd.jupyter.widget-view+json": {
       "model_id": "c07f38b7551740ab840a9df23cad667e",
       "version_major": 2,
       "version_minor": 0
      },
      "text/plain": [
       "Validating: 0it [00:00, ?it/s]"
      ]
     },
     "metadata": {},
     "output_type": "display_data"
    },
    {
     "name": "stdout",
     "output_type": "stream",
     "text": [
      "averaged metrics: {'loss_val': 0.0012, 'mape_val': 0.05, 'mse_val': 0.0024, 'mae_val': 0.0385}\n"
     ]
    },
    {
     "data": {
      "application/vnd.jupyter.widget-view+json": {
       "model_id": "c08a6ab635cc46c58ab74256239363d8",
       "version_major": 2,
       "version_minor": 0
      },
      "text/plain": [
       "Validating: 0it [00:00, ?it/s]"
      ]
     },
     "metadata": {},
     "output_type": "display_data"
    },
    {
     "name": "stdout",
     "output_type": "stream",
     "text": [
      "averaged metrics: {'loss_val': 0.0013, 'mape_val': 0.0526, 'mse_val': 0.0027, 'mae_val': 0.0409}\n"
     ]
    },
    {
     "data": {
      "application/vnd.jupyter.widget-view+json": {
       "model_id": "011de569c1aa4a1a83aba677b539706b",
       "version_major": 2,
       "version_minor": 0
      },
      "text/plain": [
       "Validating: 0it [00:00, ?it/s]"
      ]
     },
     "metadata": {},
     "output_type": "display_data"
    },
    {
     "name": "stdout",
     "output_type": "stream",
     "text": [
      "averaged metrics: {'loss_val': 0.0016, 'mape_val': 0.0637, 'mse_val': 0.0032, 'mae_val': 0.047}\n"
     ]
    },
    {
     "data": {
      "application/vnd.jupyter.widget-view+json": {
       "model_id": "5d89c6ae88eb4ff5b688721061a35197",
       "version_major": 2,
       "version_minor": 0
      },
      "text/plain": [
       "Validating: 0it [00:00, ?it/s]"
      ]
     },
     "metadata": {},
     "output_type": "display_data"
    },
    {
     "name": "stdout",
     "output_type": "stream",
     "text": [
      "averaged metrics: {'loss_val': 0.0012, 'mape_val': 0.0507, 'mse_val': 0.0023, 'mae_val': 0.0388}\n"
     ]
    },
    {
     "data": {
      "application/vnd.jupyter.widget-view+json": {
       "model_id": "1f838e1d95e548de8ad1c04e42558b6a",
       "version_major": 2,
       "version_minor": 0
      },
      "text/plain": [
       "Validating: 0it [00:00, ?it/s]"
      ]
     },
     "metadata": {},
     "output_type": "display_data"
    },
    {
     "name": "stdout",
     "output_type": "stream",
     "text": [
      "averaged metrics: {'loss_val': 0.0012, 'mape_val': 0.0502, 'mse_val': 0.0024, 'mae_val': 0.0388}\n"
     ]
    },
    {
     "data": {
      "application/vnd.jupyter.widget-view+json": {
       "model_id": "b4d8187d49e14da0ae1303fc37153b82",
       "version_major": 2,
       "version_minor": 0
      },
      "text/plain": [
       "Validating: 0it [00:00, ?it/s]"
      ]
     },
     "metadata": {},
     "output_type": "display_data"
    },
    {
     "name": "stdout",
     "output_type": "stream",
     "text": [
      "averaged metrics: {'loss_val': 0.0012, 'mape_val': 0.0505, 'mse_val': 0.0024, 'mae_val': 0.0387}\n"
     ]
    },
    {
     "data": {
      "application/vnd.jupyter.widget-view+json": {
       "model_id": "fae4705f5bf744f28dafc736c074c0d5",
       "version_major": 2,
       "version_minor": 0
      },
      "text/plain": [
       "Validating: 0it [00:00, ?it/s]"
      ]
     },
     "metadata": {},
     "output_type": "display_data"
    },
    {
     "name": "stdout",
     "output_type": "stream",
     "text": [
      "averaged metrics: {'loss_val': 0.0013, 'mape_val': 0.0511, 'mse_val': 0.0025, 'mae_val': 0.0395}\n"
     ]
    },
    {
     "data": {
      "application/vnd.jupyter.widget-view+json": {
       "model_id": "90ea7e6ef26544c0b18a2132faf5a589",
       "version_major": 2,
       "version_minor": 0
      },
      "text/plain": [
       "Validating: 0it [00:00, ?it/s]"
      ]
     },
     "metadata": {},
     "output_type": "display_data"
    },
    {
     "name": "stdout",
     "output_type": "stream",
     "text": [
      "averaged metrics: {'loss_val': 0.0012, 'mape_val': 0.0521, 'mse_val': 0.0025, 'mae_val': 0.0399}\n"
     ]
    },
    {
     "data": {
      "application/vnd.jupyter.widget-view+json": {
       "model_id": "a16c255f4b07486abe17b0e29865c28c",
       "version_major": 2,
       "version_minor": 0
      },
      "text/plain": [
       "Validating: 0it [00:00, ?it/s]"
      ]
     },
     "metadata": {},
     "output_type": "display_data"
    },
    {
     "name": "stdout",
     "output_type": "stream",
     "text": [
      "averaged metrics: {'loss_val': 0.0013, 'mape_val': 0.0502, 'mse_val': 0.0025, 'mae_val': 0.039}\n"
     ]
    },
    {
     "data": {
      "application/vnd.jupyter.widget-view+json": {
       "model_id": "d353b5f4307042e98b0f195c52a0afc6",
       "version_major": 2,
       "version_minor": 0
      },
      "text/plain": [
       "Validating: 0it [00:00, ?it/s]"
      ]
     },
     "metadata": {},
     "output_type": "display_data"
    },
    {
     "name": "stdout",
     "output_type": "stream",
     "text": [
      "averaged metrics: {'loss_val': 0.0012, 'mape_val': 0.0533, 'mse_val': 0.0025, 'mae_val': 0.0406}\n"
     ]
    },
    {
     "data": {
      "application/vnd.jupyter.widget-view+json": {
       "model_id": "194842caed5249638b1956588d2c682e",
       "version_major": 2,
       "version_minor": 0
      },
      "text/plain": [
       "Validating: 0it [00:00, ?it/s]"
      ]
     },
     "metadata": {},
     "output_type": "display_data"
    },
    {
     "name": "stdout",
     "output_type": "stream",
     "text": [
      "averaged metrics: {'loss_val': 0.0012, 'mape_val': 0.0501, 'mse_val': 0.0024, 'mae_val': 0.0385}\n"
     ]
    },
    {
     "data": {
      "application/vnd.jupyter.widget-view+json": {
       "model_id": "cf2685702e0e42b6bc48fe3fcb2ed995",
       "version_major": 2,
       "version_minor": 0
      },
      "text/plain": [
       "Validating: 0it [00:00, ?it/s]"
      ]
     },
     "metadata": {},
     "output_type": "display_data"
    },
    {
     "name": "stdout",
     "output_type": "stream",
     "text": [
      "averaged metrics: {'loss_val': 0.0014, 'mape_val': 0.0517, 'mse_val': 0.0028, 'mae_val': 0.0405}\n"
     ]
    },
    {
     "data": {
      "application/vnd.jupyter.widget-view+json": {
       "model_id": "b2c037121f0d4f4b880e415d7521359e",
       "version_major": 2,
       "version_minor": 0
      },
      "text/plain": [
       "Validating: 0it [00:00, ?it/s]"
      ]
     },
     "metadata": {},
     "output_type": "display_data"
    },
    {
     "name": "stdout",
     "output_type": "stream",
     "text": [
      "averaged metrics: {'loss_val': 0.0013, 'mape_val': 0.0508, 'mse_val': 0.0027, 'mae_val': 0.0397}\n"
     ]
    },
    {
     "data": {
      "application/vnd.jupyter.widget-view+json": {
       "model_id": "38e9bf5075aa445481d0152fae6e85ca",
       "version_major": 2,
       "version_minor": 0
      },
      "text/plain": [
       "Validating: 0it [00:00, ?it/s]"
      ]
     },
     "metadata": {},
     "output_type": "display_data"
    },
    {
     "name": "stdout",
     "output_type": "stream",
     "text": [
      "averaged metrics: {'loss_val': 0.0013, 'mape_val': 0.055, 'mse_val': 0.0026, 'mae_val': 0.0418}\n"
     ]
    },
    {
     "data": {
      "application/vnd.jupyter.widget-view+json": {
       "model_id": "160678e3306443dc9ec7017b610f5331",
       "version_major": 2,
       "version_minor": 0
      },
      "text/plain": [
       "Validating: 0it [00:00, ?it/s]"
      ]
     },
     "metadata": {},
     "output_type": "display_data"
    },
    {
     "name": "stdout",
     "output_type": "stream",
     "text": [
      "averaged metrics: {'loss_val': 0.0012, 'mape_val': 0.0501, 'mse_val': 0.0024, 'mae_val': 0.0385}\n"
     ]
    },
    {
     "data": {
      "application/vnd.jupyter.widget-view+json": {
       "model_id": "4569136cc92f46319b7b6f46a20620ea",
       "version_major": 2,
       "version_minor": 0
      },
      "text/plain": [
       "Validating: 0it [00:00, ?it/s]"
      ]
     },
     "metadata": {},
     "output_type": "display_data"
    },
    {
     "name": "stdout",
     "output_type": "stream",
     "text": [
      "averaged metrics: {'loss_val': 0.0012, 'mape_val': 0.05, 'mse_val': 0.0024, 'mae_val': 0.0385}\n"
     ]
    },
    {
     "data": {
      "application/vnd.jupyter.widget-view+json": {
       "model_id": "9edfad306556419a9cf299b2cf578914",
       "version_major": 2,
       "version_minor": 0
      },
      "text/plain": [
       "Validating: 0it [00:00, ?it/s]"
      ]
     },
     "metadata": {},
     "output_type": "display_data"
    },
    {
     "name": "stdout",
     "output_type": "stream",
     "text": [
      "averaged metrics: {'loss_val': 0.0012, 'mape_val': 0.0504, 'mse_val': 0.0023, 'mae_val': 0.0385}\n"
     ]
    },
    {
     "data": {
      "application/vnd.jupyter.widget-view+json": {
       "model_id": "81574543b2e7433c932ed5ac0cb8eaa9",
       "version_major": 2,
       "version_minor": 0
      },
      "text/plain": [
       "Validating: 0it [00:00, ?it/s]"
      ]
     },
     "metadata": {},
     "output_type": "display_data"
    },
    {
     "name": "stdout",
     "output_type": "stream",
     "text": [
      "averaged metrics: {'loss_val': 0.0012, 'mape_val': 0.0503, 'mse_val': 0.0024, 'mae_val': 0.0386}\n"
     ]
    },
    {
     "data": {
      "application/vnd.jupyter.widget-view+json": {
       "model_id": "e63da78e204b4c6e8b088e3d8ff9f96b",
       "version_major": 2,
       "version_minor": 0
      },
      "text/plain": [
       "Validating: 0it [00:00, ?it/s]"
      ]
     },
     "metadata": {},
     "output_type": "display_data"
    },
    {
     "name": "stdout",
     "output_type": "stream",
     "text": [
      "averaged metrics: {'loss_val': 0.0012, 'mape_val': 0.0502, 'mse_val': 0.0023, 'mae_val': 0.0385}\n"
     ]
    },
    {
     "data": {
      "application/vnd.jupyter.widget-view+json": {
       "model_id": "9b729137b1ef4443af3292a2c574c8fd",
       "version_major": 2,
       "version_minor": 0
      },
      "text/plain": [
       "Validating: 0it [00:00, ?it/s]"
      ]
     },
     "metadata": {},
     "output_type": "display_data"
    },
    {
     "name": "stdout",
     "output_type": "stream",
     "text": [
      "averaged metrics: {'loss_val': 0.0015, 'mape_val': 0.0533, 'mse_val': 0.003, 'mae_val': 0.042}\n"
     ]
    },
    {
     "data": {
      "application/vnd.jupyter.widget-view+json": {
       "model_id": "5a648d1c63ad4306ba4c8b4432a03410",
       "version_major": 2,
       "version_minor": 0
      },
      "text/plain": [
       "Validating: 0it [00:00, ?it/s]"
      ]
     },
     "metadata": {},
     "output_type": "display_data"
    },
    {
     "name": "stdout",
     "output_type": "stream",
     "text": [
      "averaged metrics: {'loss_val': 0.0012, 'mape_val': 0.05, 'mse_val': 0.0024, 'mae_val': 0.0385}\n"
     ]
    },
    {
     "data": {
      "application/vnd.jupyter.widget-view+json": {
       "model_id": "56510833e9da492ca9722bcc1dd06ad7",
       "version_major": 2,
       "version_minor": 0
      },
      "text/plain": [
       "Validating: 0it [00:00, ?it/s]"
      ]
     },
     "metadata": {},
     "output_type": "display_data"
    },
    {
     "name": "stdout",
     "output_type": "stream",
     "text": [
      "averaged metrics: {'loss_val': 0.0012, 'mape_val': 0.0509, 'mse_val': 0.0023, 'mae_val': 0.0388}\n"
     ]
    },
    {
     "data": {
      "application/vnd.jupyter.widget-view+json": {
       "model_id": "4a2807d2244a4f479edd46706fb9b846",
       "version_major": 2,
       "version_minor": 0
      },
      "text/plain": [
       "Validating: 0it [00:00, ?it/s]"
      ]
     },
     "metadata": {},
     "output_type": "display_data"
    },
    {
     "name": "stdout",
     "output_type": "stream",
     "text": [
      "averaged metrics: {'loss_val': 0.0013, 'mape_val': 0.0562, 'mse_val': 0.0027, 'mae_val': 0.0426}\n"
     ]
    },
    {
     "data": {
      "application/vnd.jupyter.widget-view+json": {
       "model_id": "4ecb869ca5cf4feeb38d70adb44a9a15",
       "version_major": 2,
       "version_minor": 0
      },
      "text/plain": [
       "Validating: 0it [00:00, ?it/s]"
      ]
     },
     "metadata": {},
     "output_type": "display_data"
    },
    {
     "name": "stdout",
     "output_type": "stream",
     "text": [
      "averaged metrics: {'loss_val': 0.0012, 'mape_val': 0.0505, 'mse_val': 0.0024, 'mae_val': 0.0388}\n"
     ]
    },
    {
     "data": {
      "application/vnd.jupyter.widget-view+json": {
       "model_id": "5e9613d339034c4facb80e9d2ad13419",
       "version_major": 2,
       "version_minor": 0
      },
      "text/plain": [
       "Validating: 0it [00:00, ?it/s]"
      ]
     },
     "metadata": {},
     "output_type": "display_data"
    },
    {
     "name": "stdout",
     "output_type": "stream",
     "text": [
      "averaged metrics: {'loss_val': 0.0014, 'mape_val': 0.052, 'mse_val': 0.0028, 'mae_val': 0.0409}\n"
     ]
    },
    {
     "data": {
      "application/vnd.jupyter.widget-view+json": {
       "model_id": "be8679b983494cf2aac6291f2d4e9b9d",
       "version_major": 2,
       "version_minor": 0
      },
      "text/plain": [
       "Validating: 0it [00:00, ?it/s]"
      ]
     },
     "metadata": {},
     "output_type": "display_data"
    },
    {
     "name": "stdout",
     "output_type": "stream",
     "text": [
      "averaged metrics: {'loss_val': 0.0012, 'mape_val': 0.0498, 'mse_val': 0.0024, 'mae_val': 0.0384}\n"
     ]
    },
    {
     "data": {
      "application/vnd.jupyter.widget-view+json": {
       "model_id": "ce07cbc62a564696af07c5945509e603",
       "version_major": 2,
       "version_minor": 0
      },
      "text/plain": [
       "Validating: 0it [00:00, ?it/s]"
      ]
     },
     "metadata": {},
     "output_type": "display_data"
    },
    {
     "name": "stdout",
     "output_type": "stream",
     "text": [
      "averaged metrics: {'loss_val': 0.0012, 'mape_val': 0.0505, 'mse_val': 0.0023, 'mae_val': 0.0387}\n"
     ]
    },
    {
     "data": {
      "application/vnd.jupyter.widget-view+json": {
       "model_id": "8307a0d042634103b424ebf07317a0b9",
       "version_major": 2,
       "version_minor": 0
      },
      "text/plain": [
       "Validating: 0it [00:00, ?it/s]"
      ]
     },
     "metadata": {},
     "output_type": "display_data"
    },
    {
     "name": "stdout",
     "output_type": "stream",
     "text": [
      "averaged metrics: {'loss_val': 0.0013, 'mape_val': 0.0513, 'mse_val': 0.0026, 'mae_val': 0.04}\n"
     ]
    },
    {
     "data": {
      "application/vnd.jupyter.widget-view+json": {
       "model_id": "2ecde10b9c9d4be98d7514dbab4cf77f",
       "version_major": 2,
       "version_minor": 0
      },
      "text/plain": [
       "Validating: 0it [00:00, ?it/s]"
      ]
     },
     "metadata": {},
     "output_type": "display_data"
    },
    {
     "name": "stdout",
     "output_type": "stream",
     "text": [
      "averaged metrics: {'loss_val': 0.0012, 'mape_val': 0.0513, 'mse_val': 0.0023, 'mae_val': 0.039}\n"
     ]
    },
    {
     "data": {
      "application/vnd.jupyter.widget-view+json": {
       "model_id": "b9c06cc32cd14a26aa1cc4e506b7d3e4",
       "version_major": 2,
       "version_minor": 0
      },
      "text/plain": [
       "Validating: 0it [00:00, ?it/s]"
      ]
     },
     "metadata": {},
     "output_type": "display_data"
    },
    {
     "name": "stdout",
     "output_type": "stream",
     "text": [
      "averaged metrics: {'loss_val': 0.0012, 'mape_val': 0.0498, 'mse_val': 0.0025, 'mae_val': 0.0386}\n"
     ]
    },
    {
     "data": {
      "application/vnd.jupyter.widget-view+json": {
       "model_id": "de47e41dc30747969ebdfe082fa38c0c",
       "version_major": 2,
       "version_minor": 0
      },
      "text/plain": [
       "Validating: 0it [00:00, ?it/s]"
      ]
     },
     "metadata": {},
     "output_type": "display_data"
    },
    {
     "name": "stdout",
     "output_type": "stream",
     "text": [
      "averaged metrics: {'loss_val': 0.0012, 'mape_val': 0.05, 'mse_val': 0.0024, 'mae_val': 0.0385}\n"
     ]
    },
    {
     "data": {
      "application/vnd.jupyter.widget-view+json": {
       "model_id": "0307871875b64efea11284997993c532",
       "version_major": 2,
       "version_minor": 0
      },
      "text/plain": [
       "Validating: 0it [00:00, ?it/s]"
      ]
     },
     "metadata": {},
     "output_type": "display_data"
    },
    {
     "name": "stdout",
     "output_type": "stream",
     "text": [
      "averaged metrics: {'loss_val': 0.0014, 'mape_val': 0.0532, 'mse_val': 0.0029, 'mae_val': 0.0417}\n"
     ]
    },
    {
     "data": {
      "application/vnd.jupyter.widget-view+json": {
       "model_id": "46a11981f25046ce94bd0ae8ac573c15",
       "version_major": 2,
       "version_minor": 0
      },
      "text/plain": [
       "Validating: 0it [00:00, ?it/s]"
      ]
     },
     "metadata": {},
     "output_type": "display_data"
    },
    {
     "name": "stdout",
     "output_type": "stream",
     "text": [
      "averaged metrics: {'loss_val': 0.0013, 'mape_val': 0.0509, 'mse_val': 0.0027, 'mae_val': 0.0398}\n"
     ]
    },
    {
     "data": {
      "application/vnd.jupyter.widget-view+json": {
       "model_id": "e33a79f1b96f40b1b70ca188afc0444a",
       "version_major": 2,
       "version_minor": 0
      },
      "text/plain": [
       "Validating: 0it [00:00, ?it/s]"
      ]
     },
     "metadata": {},
     "output_type": "display_data"
    },
    {
     "name": "stdout",
     "output_type": "stream",
     "text": [
      "averaged metrics: {'loss_val': 0.0012, 'mape_val': 0.0507, 'mse_val': 0.0024, 'mae_val': 0.0391}\n"
     ]
    },
    {
     "data": {
      "application/vnd.jupyter.widget-view+json": {
       "model_id": "bf16e73b99b14d76921daf4424f5129f",
       "version_major": 2,
       "version_minor": 0
      },
      "text/plain": [
       "Validating: 0it [00:00, ?it/s]"
      ]
     },
     "metadata": {},
     "output_type": "display_data"
    },
    {
     "name": "stdout",
     "output_type": "stream",
     "text": [
      "averaged metrics: {'loss_val': 0.0013, 'mape_val': 0.0506, 'mse_val': 0.0025, 'mae_val': 0.0393}\n"
     ]
    },
    {
     "data": {
      "application/vnd.jupyter.widget-view+json": {
       "model_id": "6374289156bd4d0592e2594f1f79f73e",
       "version_major": 2,
       "version_minor": 0
      },
      "text/plain": [
       "Validating: 0it [00:00, ?it/s]"
      ]
     },
     "metadata": {},
     "output_type": "display_data"
    },
    {
     "name": "stdout",
     "output_type": "stream",
     "text": [
      "averaged metrics: {'loss_val': 0.0012, 'mape_val': 0.0497, 'mse_val': 0.0024, 'mae_val': 0.0385}\n"
     ]
    },
    {
     "data": {
      "application/vnd.jupyter.widget-view+json": {
       "model_id": "62517dc307384a0fa21383e2d3528505",
       "version_major": 2,
       "version_minor": 0
      },
      "text/plain": [
       "Validating: 0it [00:00, ?it/s]"
      ]
     },
     "metadata": {},
     "output_type": "display_data"
    },
    {
     "name": "stdout",
     "output_type": "stream",
     "text": [
      "averaged metrics: {'loss_val': 0.0015, 'mape_val': 0.0534, 'mse_val': 0.0029, 'mae_val': 0.0419}\n"
     ]
    },
    {
     "data": {
      "application/vnd.jupyter.widget-view+json": {
       "model_id": "03174e3b7182454d9ccd39753a87ff8d",
       "version_major": 2,
       "version_minor": 0
      },
      "text/plain": [
       "Validating: 0it [00:00, ?it/s]"
      ]
     },
     "metadata": {},
     "output_type": "display_data"
    },
    {
     "name": "stdout",
     "output_type": "stream",
     "text": [
      "averaged metrics: {'loss_val': 0.0012, 'mape_val': 0.0522, 'mse_val': 0.0024, 'mae_val': 0.0398}\n"
     ]
    },
    {
     "data": {
      "application/vnd.jupyter.widget-view+json": {
       "model_id": "dfcbcedb6b6c427b8a462bcb91cb8692",
       "version_major": 2,
       "version_minor": 0
      },
      "text/plain": [
       "Validating: 0it [00:00, ?it/s]"
      ]
     },
     "metadata": {},
     "output_type": "display_data"
    },
    {
     "name": "stdout",
     "output_type": "stream",
     "text": [
      "averaged metrics: {'loss_val': 0.0013, 'mape_val': 0.0501, 'mse_val': 0.0025, 'mae_val': 0.0389}\n"
     ]
    },
    {
     "data": {
      "application/vnd.jupyter.widget-view+json": {
       "model_id": "902833f62cab40779cb6b182aae538c4",
       "version_major": 2,
       "version_minor": 0
      },
      "text/plain": [
       "Validating: 0it [00:00, ?it/s]"
      ]
     },
     "metadata": {},
     "output_type": "display_data"
    },
    {
     "name": "stdout",
     "output_type": "stream",
     "text": [
      "averaged metrics: {'loss_val': 0.0012, 'mape_val': 0.0497, 'mse_val': 0.0024, 'mae_val': 0.0384}\n"
     ]
    },
    {
     "data": {
      "application/vnd.jupyter.widget-view+json": {
       "model_id": "55468fc21a05466e87ca58b3cfafe479",
       "version_major": 2,
       "version_minor": 0
      },
      "text/plain": [
       "Validating: 0it [00:00, ?it/s]"
      ]
     },
     "metadata": {},
     "output_type": "display_data"
    },
    {
     "name": "stdout",
     "output_type": "stream",
     "text": [
      "averaged metrics: {'loss_val': 0.0012, 'mape_val': 0.05, 'mse_val': 0.0024, 'mae_val': 0.0384}\n"
     ]
    },
    {
     "data": {
      "application/vnd.jupyter.widget-view+json": {
       "model_id": "19811a1f8b474a35a59c2273b558338c",
       "version_major": 2,
       "version_minor": 0
      },
      "text/plain": [
       "Validating: 0it [00:00, ?it/s]"
      ]
     },
     "metadata": {},
     "output_type": "display_data"
    },
    {
     "name": "stdout",
     "output_type": "stream",
     "text": [
      "averaged metrics: {'loss_val': 0.0015, 'mape_val': 0.0533, 'mse_val': 0.0029, 'mae_val': 0.0418}\n"
     ]
    },
    {
     "data": {
      "application/vnd.jupyter.widget-view+json": {
       "model_id": "d1820d432d17487abd20811a8f76ef36",
       "version_major": 2,
       "version_minor": 0
      },
      "text/plain": [
       "Validating: 0it [00:00, ?it/s]"
      ]
     },
     "metadata": {},
     "output_type": "display_data"
    },
    {
     "name": "stdout",
     "output_type": "stream",
     "text": [
      "averaged metrics: {'loss_val': 0.0012, 'mape_val': 0.0503, 'mse_val': 0.0024, 'mae_val': 0.0387}\n"
     ]
    },
    {
     "data": {
      "application/vnd.jupyter.widget-view+json": {
       "model_id": "abca3553432742bab21c79397171294c",
       "version_major": 2,
       "version_minor": 0
      },
      "text/plain": [
       "Validating: 0it [00:00, ?it/s]"
      ]
     },
     "metadata": {},
     "output_type": "display_data"
    },
    {
     "name": "stdout",
     "output_type": "stream",
     "text": [
      "averaged metrics: {'loss_val': 0.0012, 'mape_val': 0.0517, 'mse_val': 0.0023, 'mae_val': 0.0391}\n"
     ]
    },
    {
     "data": {
      "application/vnd.jupyter.widget-view+json": {
       "model_id": "090639839123423eafa20cfae3d5451a",
       "version_major": 2,
       "version_minor": 0
      },
      "text/plain": [
       "Validating: 0it [00:00, ?it/s]"
      ]
     },
     "metadata": {},
     "output_type": "display_data"
    },
    {
     "name": "stdout",
     "output_type": "stream",
     "text": [
      "averaged metrics: {'loss_val': 0.0012, 'mape_val': 0.0512, 'mse_val': 0.0023, 'mae_val': 0.0391}\n"
     ]
    },
    {
     "data": {
      "application/vnd.jupyter.widget-view+json": {
       "model_id": "c906f49b77a644018b4ca9c17b4f9990",
       "version_major": 2,
       "version_minor": 0
      },
      "text/plain": [
       "Validating: 0it [00:00, ?it/s]"
      ]
     },
     "metadata": {},
     "output_type": "display_data"
    },
    {
     "name": "stdout",
     "output_type": "stream",
     "text": [
      "averaged metrics: {'loss_val': 0.0012, 'mape_val': 0.0498, 'mse_val': 0.0024, 'mae_val': 0.0384}\n"
     ]
    },
    {
     "data": {
      "application/vnd.jupyter.widget-view+json": {
       "model_id": "013d5675a02f493080e6bd6a4ef77ffa",
       "version_major": 2,
       "version_minor": 0
      },
      "text/plain": [
       "Validating: 0it [00:00, ?it/s]"
      ]
     },
     "metadata": {},
     "output_type": "display_data"
    },
    {
     "name": "stdout",
     "output_type": "stream",
     "text": [
      "averaged metrics: {'loss_val': 0.0013, 'mape_val': 0.0527, 'mse_val': 0.0026, 'mae_val': 0.0406}\n"
     ]
    },
    {
     "data": {
      "application/vnd.jupyter.widget-view+json": {
       "model_id": "78ea772eb59d4924863d3841b73d71d9",
       "version_major": 2,
       "version_minor": 0
      },
      "text/plain": [
       "Validating: 0it [00:00, ?it/s]"
      ]
     },
     "metadata": {},
     "output_type": "display_data"
    },
    {
     "name": "stdout",
     "output_type": "stream",
     "text": [
      "averaged metrics: {'loss_val': 0.0012, 'mape_val': 0.0501, 'mse_val': 0.0024, 'mae_val': 0.0386}\n"
     ]
    },
    {
     "data": {
      "application/vnd.jupyter.widget-view+json": {
       "model_id": "ce01046b069d49908db395e3e4cb7321",
       "version_major": 2,
       "version_minor": 0
      },
      "text/plain": [
       "Validating: 0it [00:00, ?it/s]"
      ]
     },
     "metadata": {},
     "output_type": "display_data"
    },
    {
     "name": "stdout",
     "output_type": "stream",
     "text": [
      "averaged metrics: {'loss_val': 0.0012, 'mape_val': 0.0522, 'mse_val': 0.0024, 'mae_val': 0.0393}\n"
     ]
    },
    {
     "data": {
      "application/vnd.jupyter.widget-view+json": {
       "model_id": "12c6fa0115674ffb92e9cf5c1c93476a",
       "version_major": 2,
       "version_minor": 0
      },
      "text/plain": [
       "Validating: 0it [00:00, ?it/s]"
      ]
     },
     "metadata": {},
     "output_type": "display_data"
    },
    {
     "name": "stdout",
     "output_type": "stream",
     "text": [
      "averaged metrics: {'loss_val': 0.0012, 'mape_val': 0.0525, 'mse_val': 0.0024, 'mae_val': 0.0397}\n"
     ]
    },
    {
     "data": {
      "application/vnd.jupyter.widget-view+json": {
       "model_id": "8368b7d5ddc44750a8b854ead9b07633",
       "version_major": 2,
       "version_minor": 0
      },
      "text/plain": [
       "Validating: 0it [00:00, ?it/s]"
      ]
     },
     "metadata": {},
     "output_type": "display_data"
    },
    {
     "name": "stdout",
     "output_type": "stream",
     "text": [
      "averaged metrics: {'loss_val': 0.0012, 'mape_val': 0.0505, 'mse_val': 0.0023, 'mae_val': 0.0387}\n"
     ]
    },
    {
     "data": {
      "application/vnd.jupyter.widget-view+json": {
       "model_id": "8124de726e5b45d6bab004393fe2fec9",
       "version_major": 2,
       "version_minor": 0
      },
      "text/plain": [
       "Validating: 0it [00:00, ?it/s]"
      ]
     },
     "metadata": {},
     "output_type": "display_data"
    },
    {
     "name": "stdout",
     "output_type": "stream",
     "text": [
      "averaged metrics: {'loss_val': 0.0016, 'mape_val': 0.0552, 'mse_val': 0.0032, 'mae_val': 0.0437}\n"
     ]
    },
    {
     "data": {
      "application/vnd.jupyter.widget-view+json": {
       "model_id": "4ed9d234851f438bb215ee2f1d19d199",
       "version_major": 2,
       "version_minor": 0
      },
      "text/plain": [
       "Validating: 0it [00:00, ?it/s]"
      ]
     },
     "metadata": {},
     "output_type": "display_data"
    },
    {
     "name": "stdout",
     "output_type": "stream",
     "text": [
      "averaged metrics: {'loss_val': 0.0016, 'mape_val': 0.0554, 'mse_val': 0.0032, 'mae_val': 0.0436}\n"
     ]
    },
    {
     "data": {
      "application/vnd.jupyter.widget-view+json": {
       "model_id": "ac3f74bc399f48fcb18af08a55bfa207",
       "version_major": 2,
       "version_minor": 0
      },
      "text/plain": [
       "Validating: 0it [00:00, ?it/s]"
      ]
     },
     "metadata": {},
     "output_type": "display_data"
    },
    {
     "name": "stdout",
     "output_type": "stream",
     "text": [
      "averaged metrics: {'loss_val': 0.0013, 'mape_val': 0.055, 'mse_val': 0.0025, 'mae_val': 0.0416}\n"
     ]
    },
    {
     "data": {
      "application/vnd.jupyter.widget-view+json": {
       "model_id": "774da5f0b83b4d78b59c19679e90d98b",
       "version_major": 2,
       "version_minor": 0
      },
      "text/plain": [
       "Validating: 0it [00:00, ?it/s]"
      ]
     },
     "metadata": {},
     "output_type": "display_data"
    },
    {
     "name": "stdout",
     "output_type": "stream",
     "text": [
      "averaged metrics: {'loss_val': 0.0012, 'mape_val': 0.0502, 'mse_val': 0.0023, 'mae_val': 0.0385}\n"
     ]
    },
    {
     "data": {
      "application/vnd.jupyter.widget-view+json": {
       "model_id": "b1700eeb20c94de4b57f9050f41655dc",
       "version_major": 2,
       "version_minor": 0
      },
      "text/plain": [
       "Validating: 0it [00:00, ?it/s]"
      ]
     },
     "metadata": {},
     "output_type": "display_data"
    },
    {
     "name": "stdout",
     "output_type": "stream",
     "text": [
      "averaged metrics: {'loss_val': 0.0012, 'mape_val': 0.0501, 'mse_val': 0.0023, 'mae_val': 0.0384}\n"
     ]
    },
    {
     "data": {
      "application/vnd.jupyter.widget-view+json": {
       "model_id": "843998bdf3554fb99493129822995315",
       "version_major": 2,
       "version_minor": 0
      },
      "text/plain": [
       "Validating: 0it [00:00, ?it/s]"
      ]
     },
     "metadata": {},
     "output_type": "display_data"
    },
    {
     "name": "stdout",
     "output_type": "stream",
     "text": [
      "averaged metrics: {'loss_val': 0.0015, 'mape_val': 0.0527, 'mse_val': 0.0029, 'mae_val': 0.0416}\n"
     ]
    },
    {
     "data": {
      "application/vnd.jupyter.widget-view+json": {
       "model_id": "81e60b76f0d0455bb19c989ef3d9547b",
       "version_major": 2,
       "version_minor": 0
      },
      "text/plain": [
       "Validating: 0it [00:00, ?it/s]"
      ]
     },
     "metadata": {},
     "output_type": "display_data"
    },
    {
     "name": "stdout",
     "output_type": "stream",
     "text": [
      "averaged metrics: {'loss_val': 0.0012, 'mape_val': 0.0497, 'mse_val': 0.0025, 'mae_val': 0.0386}\n"
     ]
    },
    {
     "data": {
      "application/vnd.jupyter.widget-view+json": {
       "model_id": "555c91f32db344199cd43e374325224a",
       "version_major": 2,
       "version_minor": 0
      },
      "text/plain": [
       "Validating: 0it [00:00, ?it/s]"
      ]
     },
     "metadata": {},
     "output_type": "display_data"
    },
    {
     "name": "stdout",
     "output_type": "stream",
     "text": [
      "averaged metrics: {'loss_val': 0.0013, 'mape_val': 0.0563, 'mse_val': 0.0026, 'mae_val': 0.0424}\n"
     ]
    },
    {
     "data": {
      "application/vnd.jupyter.widget-view+json": {
       "model_id": "0a7f197ee6c341098aec26820c064fee",
       "version_major": 2,
       "version_minor": 0
      },
      "text/plain": [
       "Validating: 0it [00:00, ?it/s]"
      ]
     },
     "metadata": {},
     "output_type": "display_data"
    },
    {
     "name": "stdout",
     "output_type": "stream",
     "text": [
      "averaged metrics: {'loss_val': 0.0012, 'mape_val': 0.0497, 'mse_val': 0.0024, 'mae_val': 0.0383}\n"
     ]
    },
    {
     "data": {
      "application/vnd.jupyter.widget-view+json": {
       "model_id": "327c759e483b4c2e80eccb834e3372b0",
       "version_major": 2,
       "version_minor": 0
      },
      "text/plain": [
       "Validating: 0it [00:00, ?it/s]"
      ]
     },
     "metadata": {},
     "output_type": "display_data"
    },
    {
     "name": "stdout",
     "output_type": "stream",
     "text": [
      "averaged metrics: {'loss_val': 0.0012, 'mape_val': 0.0503, 'mse_val': 0.0023, 'mae_val': 0.0385}\n"
     ]
    },
    {
     "data": {
      "application/vnd.jupyter.widget-view+json": {
       "model_id": "ecbb997eb9d04b8f99f48b35b2ddeaca",
       "version_major": 2,
       "version_minor": 0
      },
      "text/plain": [
       "Validating: 0it [00:00, ?it/s]"
      ]
     },
     "metadata": {},
     "output_type": "display_data"
    },
    {
     "name": "stdout",
     "output_type": "stream",
     "text": [
      "averaged metrics: {'loss_val': 0.0012, 'mape_val': 0.0507, 'mse_val': 0.0024, 'mae_val': 0.039}\n"
     ]
    },
    {
     "data": {
      "application/vnd.jupyter.widget-view+json": {
       "model_id": "0186fea9c5934e83bd796d05e6cc1703",
       "version_major": 2,
       "version_minor": 0
      },
      "text/plain": [
       "Validating: 0it [00:00, ?it/s]"
      ]
     },
     "metadata": {},
     "output_type": "display_data"
    },
    {
     "name": "stdout",
     "output_type": "stream",
     "text": [
      "averaged metrics: {'loss_val': 0.0014, 'mape_val': 0.0591, 'mse_val': 0.0029, 'mae_val': 0.0444}\n"
     ]
    },
    {
     "data": {
      "application/vnd.jupyter.widget-view+json": {
       "model_id": "f85939596ad842a7aa9957eecbde5212",
       "version_major": 2,
       "version_minor": 0
      },
      "text/plain": [
       "Validating: 0it [00:00, ?it/s]"
      ]
     },
     "metadata": {},
     "output_type": "display_data"
    },
    {
     "name": "stdout",
     "output_type": "stream",
     "text": [
      "averaged metrics: {'loss_val': 0.0012, 'mape_val': 0.0509, 'mse_val': 0.0025, 'mae_val': 0.0393}\n"
     ]
    },
    {
     "data": {
      "application/vnd.jupyter.widget-view+json": {
       "model_id": "5d9e25631b7f4297806bf7af5548dc5b",
       "version_major": 2,
       "version_minor": 0
      },
      "text/plain": [
       "Validating: 0it [00:00, ?it/s]"
      ]
     },
     "metadata": {},
     "output_type": "display_data"
    },
    {
     "name": "stdout",
     "output_type": "stream",
     "text": [
      "averaged metrics: {'loss_val': 0.0013, 'mape_val': 0.0516, 'mse_val': 0.0027, 'mae_val': 0.0402}\n"
     ]
    },
    {
     "data": {
      "application/vnd.jupyter.widget-view+json": {
       "model_id": "69c7ee13052f488998c5c8dee01c5812",
       "version_major": 2,
       "version_minor": 0
      },
      "text/plain": [
       "Validating: 0it [00:00, ?it/s]"
      ]
     },
     "metadata": {},
     "output_type": "display_data"
    },
    {
     "name": "stdout",
     "output_type": "stream",
     "text": [
      "averaged metrics: {'loss_val': 0.0012, 'mape_val': 0.0505, 'mse_val': 0.0023, 'mae_val': 0.0386}\n"
     ]
    },
    {
     "data": {
      "application/vnd.jupyter.widget-view+json": {
       "model_id": "11cc7f1c93f54b0193b16806e5255666",
       "version_major": 2,
       "version_minor": 0
      },
      "text/plain": [
       "Validating: 0it [00:00, ?it/s]"
      ]
     },
     "metadata": {},
     "output_type": "display_data"
    },
    {
     "name": "stdout",
     "output_type": "stream",
     "text": [
      "averaged metrics: {'loss_val': 0.0013, 'mape_val': 0.0499, 'mse_val': 0.0025, 'mae_val': 0.0387}\n"
     ]
    },
    {
     "data": {
      "application/vnd.jupyter.widget-view+json": {
       "model_id": "cfa83ca66f91445182913b1a5e0ed7f3",
       "version_major": 2,
       "version_minor": 0
      },
      "text/plain": [
       "Validating: 0it [00:00, ?it/s]"
      ]
     },
     "metadata": {},
     "output_type": "display_data"
    },
    {
     "name": "stdout",
     "output_type": "stream",
     "text": [
      "averaged metrics: {'loss_val': 0.0013, 'mape_val': 0.0523, 'mse_val': 0.0027, 'mae_val': 0.0407}\n"
     ]
    },
    {
     "data": {
      "application/vnd.jupyter.widget-view+json": {
       "model_id": "ad919ef7239341d0850923a7cce5eeea",
       "version_major": 2,
       "version_minor": 0
      },
      "text/plain": [
       "Validating: 0it [00:00, ?it/s]"
      ]
     },
     "metadata": {},
     "output_type": "display_data"
    },
    {
     "name": "stdout",
     "output_type": "stream",
     "text": [
      "averaged metrics: {'loss_val': 0.0013, 'mape_val': 0.0549, 'mse_val': 0.0025, 'mae_val': 0.0415}\n"
     ]
    },
    {
     "data": {
      "application/vnd.jupyter.widget-view+json": {
       "model_id": "7c7ae82e2b3e4d48acdfebec3df2b0de",
       "version_major": 2,
       "version_minor": 0
      },
      "text/plain": [
       "Validating: 0it [00:00, ?it/s]"
      ]
     },
     "metadata": {},
     "output_type": "display_data"
    },
    {
     "name": "stdout",
     "output_type": "stream",
     "text": [
      "averaged metrics: {'loss_val': 0.0012, 'mape_val': 0.0517, 'mse_val': 0.0023, 'mae_val': 0.0393}\n"
     ]
    },
    {
     "data": {
      "application/vnd.jupyter.widget-view+json": {
       "model_id": "7efab00bf812418ba34086c05b709f7c",
       "version_major": 2,
       "version_minor": 0
      },
      "text/plain": [
       "Validating: 0it [00:00, ?it/s]"
      ]
     },
     "metadata": {},
     "output_type": "display_data"
    },
    {
     "name": "stdout",
     "output_type": "stream",
     "text": [
      "averaged metrics: {'loss_val': 0.0012, 'mape_val': 0.0497, 'mse_val': 0.0024, 'mae_val': 0.0383}\n"
     ]
    },
    {
     "data": {
      "application/vnd.jupyter.widget-view+json": {
       "model_id": "ab3bfae32212446fa6f6a4f73d62aaad",
       "version_major": 2,
       "version_minor": 0
      },
      "text/plain": [
       "Validating: 0it [00:00, ?it/s]"
      ]
     },
     "metadata": {},
     "output_type": "display_data"
    },
    {
     "name": "stdout",
     "output_type": "stream",
     "text": [
      "averaged metrics: {'loss_val': 0.0012, 'mape_val': 0.0513, 'mse_val': 0.0023, 'mae_val': 0.0391}\n"
     ]
    },
    {
     "data": {
      "application/vnd.jupyter.widget-view+json": {
       "model_id": "e0e1159980384067946d3bb24fde3a75",
       "version_major": 2,
       "version_minor": 0
      },
      "text/plain": [
       "Validating: 0it [00:00, ?it/s]"
      ]
     },
     "metadata": {},
     "output_type": "display_data"
    },
    {
     "name": "stdout",
     "output_type": "stream",
     "text": [
      "averaged metrics: {'loss_val': 0.0012, 'mape_val': 0.05, 'mse_val': 0.0023, 'mae_val': 0.0384}\n"
     ]
    },
    {
     "data": {
      "application/vnd.jupyter.widget-view+json": {
       "model_id": "31202e8a2b5240328578e01c1368d135",
       "version_major": 2,
       "version_minor": 0
      },
      "text/plain": [
       "Validating: 0it [00:00, ?it/s]"
      ]
     },
     "metadata": {},
     "output_type": "display_data"
    },
    {
     "name": "stdout",
     "output_type": "stream",
     "text": [
      "averaged metrics: {'loss_val': 0.0012, 'mape_val': 0.0495, 'mse_val': 0.0025, 'mae_val': 0.0384}\n"
     ]
    },
    {
     "data": {
      "application/vnd.jupyter.widget-view+json": {
       "model_id": "ddf2f48d6fc041ab8a952b9d2e079114",
       "version_major": 2,
       "version_minor": 0
      },
      "text/plain": [
       "Validating: 0it [00:00, ?it/s]"
      ]
     },
     "metadata": {},
     "output_type": "display_data"
    },
    {
     "name": "stdout",
     "output_type": "stream",
     "text": [
      "averaged metrics: {'loss_val': 0.0012, 'mape_val': 0.05, 'mse_val': 0.0023, 'mae_val': 0.0384}\n"
     ]
    },
    {
     "data": {
      "application/vnd.jupyter.widget-view+json": {
       "model_id": "03b7ef92021d45b0b0833be7bc2a4845",
       "version_major": 2,
       "version_minor": 0
      },
      "text/plain": [
       "Validating: 0it [00:00, ?it/s]"
      ]
     },
     "metadata": {},
     "output_type": "display_data"
    },
    {
     "name": "stdout",
     "output_type": "stream",
     "text": [
      "averaged metrics: {'loss_val': 0.0012, 'mape_val': 0.0502, 'mse_val': 0.0023, 'mae_val': 0.0385}\n"
     ]
    },
    {
     "data": {
      "application/vnd.jupyter.widget-view+json": {
       "model_id": "6f27942b00b94c94ad39820631ee3d23",
       "version_major": 2,
       "version_minor": 0
      },
      "text/plain": [
       "Validating: 0it [00:00, ?it/s]"
      ]
     },
     "metadata": {},
     "output_type": "display_data"
    },
    {
     "name": "stdout",
     "output_type": "stream",
     "text": [
      "averaged metrics: {'loss_val': 0.0012, 'mape_val': 0.0502, 'mse_val': 0.0024, 'mae_val': 0.0386}\n"
     ]
    },
    {
     "data": {
      "application/vnd.jupyter.widget-view+json": {
       "model_id": "46b6625f56cc48729d328b748975a4be",
       "version_major": 2,
       "version_minor": 0
      },
      "text/plain": [
       "Validating: 0it [00:00, ?it/s]"
      ]
     },
     "metadata": {},
     "output_type": "display_data"
    },
    {
     "name": "stdout",
     "output_type": "stream",
     "text": [
      "averaged metrics: {'loss_val': 0.0012, 'mape_val': 0.0523, 'mse_val': 0.0024, 'mae_val': 0.0398}\n"
     ]
    },
    {
     "data": {
      "application/vnd.jupyter.widget-view+json": {
       "model_id": "2afa77e01bae42dda0a2a8324e3461ef",
       "version_major": 2,
       "version_minor": 0
      },
      "text/plain": [
       "Validating: 0it [00:00, ?it/s]"
      ]
     },
     "metadata": {},
     "output_type": "display_data"
    },
    {
     "name": "stdout",
     "output_type": "stream",
     "text": [
      "averaged metrics: {'loss_val': 0.0012, 'mape_val': 0.0499, 'mse_val': 0.0025, 'mae_val': 0.0388}\n"
     ]
    },
    {
     "data": {
      "application/vnd.jupyter.widget-view+json": {
       "model_id": "a146da1d993a4219b9d911122869872b",
       "version_major": 2,
       "version_minor": 0
      },
      "text/plain": [
       "Validating: 0it [00:00, ?it/s]"
      ]
     },
     "metadata": {},
     "output_type": "display_data"
    },
    {
     "name": "stdout",
     "output_type": "stream",
     "text": [
      "averaged metrics: {'loss_val': 0.0012, 'mape_val': 0.0499, 'mse_val': 0.0024, 'mae_val': 0.0387}\n"
     ]
    },
    {
     "data": {
      "application/vnd.jupyter.widget-view+json": {
       "model_id": "cf2fef3d1aef4c538c2f54d93ce5c012",
       "version_major": 2,
       "version_minor": 0
      },
      "text/plain": [
       "Validating: 0it [00:00, ?it/s]"
      ]
     },
     "metadata": {},
     "output_type": "display_data"
    },
    {
     "name": "stdout",
     "output_type": "stream",
     "text": [
      "averaged metrics: {'loss_val': 0.0012, 'mape_val': 0.0499, 'mse_val': 0.0023, 'mae_val': 0.0384}\n"
     ]
    },
    {
     "data": {
      "application/vnd.jupyter.widget-view+json": {
       "model_id": "2423858364e449b08e0d879abfa84524",
       "version_major": 2,
       "version_minor": 0
      },
      "text/plain": [
       "Validating: 0it [00:00, ?it/s]"
      ]
     },
     "metadata": {},
     "output_type": "display_data"
    },
    {
     "name": "stdout",
     "output_type": "stream",
     "text": [
      "averaged metrics: {'loss_val': 0.0012, 'mape_val': 0.0516, 'mse_val': 0.0023, 'mae_val': 0.039}\n"
     ]
    },
    {
     "data": {
      "application/vnd.jupyter.widget-view+json": {
       "model_id": "0f72ff44f0014137ab46e136082b5ee6",
       "version_major": 2,
       "version_minor": 0
      },
      "text/plain": [
       "Validating: 0it [00:00, ?it/s]"
      ]
     },
     "metadata": {},
     "output_type": "display_data"
    },
    {
     "name": "stdout",
     "output_type": "stream",
     "text": [
      "averaged metrics: {'loss_val': 0.0012, 'mape_val': 0.0495, 'mse_val': 0.0024, 'mae_val': 0.0384}\n"
     ]
    },
    {
     "data": {
      "application/vnd.jupyter.widget-view+json": {
       "model_id": "de43362bff9a464a8c67112c4729c17a",
       "version_major": 2,
       "version_minor": 0
      },
      "text/plain": [
       "Validating: 0it [00:00, ?it/s]"
      ]
     },
     "metadata": {},
     "output_type": "display_data"
    },
    {
     "name": "stdout",
     "output_type": "stream",
     "text": [
      "averaged metrics: {'loss_val': 0.0012, 'mape_val': 0.0529, 'mse_val': 0.0024, 'mae_val': 0.0401}\n"
     ]
    },
    {
     "data": {
      "application/vnd.jupyter.widget-view+json": {
       "model_id": "b2cb9a44a1894013b50a95cdc1572245",
       "version_major": 2,
       "version_minor": 0
      },
      "text/plain": [
       "Validating: 0it [00:00, ?it/s]"
      ]
     },
     "metadata": {},
     "output_type": "display_data"
    },
    {
     "name": "stdout",
     "output_type": "stream",
     "text": [
      "averaged metrics: {'loss_val': 0.0012, 'mape_val': 0.0501, 'mse_val': 0.0023, 'mae_val': 0.0384}\n"
     ]
    },
    {
     "data": {
      "application/vnd.jupyter.widget-view+json": {
       "model_id": "cae6446cfa2544ccbc83cc806000a2eb",
       "version_major": 2,
       "version_minor": 0
      },
      "text/plain": [
       "Validating: 0it [00:00, ?it/s]"
      ]
     },
     "metadata": {},
     "output_type": "display_data"
    },
    {
     "name": "stdout",
     "output_type": "stream",
     "text": [
      "averaged metrics: {'loss_val': 0.0012, 'mape_val': 0.0499, 'mse_val': 0.0023, 'mae_val': 0.0383}\n"
     ]
    },
    {
     "data": {
      "application/vnd.jupyter.widget-view+json": {
       "model_id": "598ab7fdd1f646c29761c1f51781fc55",
       "version_major": 2,
       "version_minor": 0
      },
      "text/plain": [
       "Validating: 0it [00:00, ?it/s]"
      ]
     },
     "metadata": {},
     "output_type": "display_data"
    },
    {
     "name": "stdout",
     "output_type": "stream",
     "text": [
      "averaged metrics: {'loss_val': 0.0012, 'mape_val': 0.0501, 'mse_val': 0.0024, 'mae_val': 0.0385}\n"
     ]
    },
    {
     "data": {
      "application/vnd.jupyter.widget-view+json": {
       "model_id": "03a424265b2546bf9f5af3a757e4fc50",
       "version_major": 2,
       "version_minor": 0
      },
      "text/plain": [
       "Validating: 0it [00:00, ?it/s]"
      ]
     },
     "metadata": {},
     "output_type": "display_data"
    },
    {
     "name": "stdout",
     "output_type": "stream",
     "text": [
      "averaged metrics: {'loss_val': 0.0015, 'mape_val': 0.0609, 'mse_val': 0.003, 'mae_val': 0.0446}\n"
     ]
    },
    {
     "data": {
      "application/vnd.jupyter.widget-view+json": {
       "model_id": "ed9585ec0f764afd8c46b4fa9b7a20d3",
       "version_major": 2,
       "version_minor": 0
      },
      "text/plain": [
       "Validating: 0it [00:00, ?it/s]"
      ]
     },
     "metadata": {},
     "output_type": "display_data"
    },
    {
     "name": "stdout",
     "output_type": "stream",
     "text": [
      "averaged metrics: {'loss_val': 0.0012, 'mape_val': 0.0523, 'mse_val': 0.0024, 'mae_val': 0.0398}\n"
     ]
    },
    {
     "data": {
      "application/vnd.jupyter.widget-view+json": {
       "model_id": "85383f43fc7e43cca14f6b8d59eaee3b",
       "version_major": 2,
       "version_minor": 0
      },
      "text/plain": [
       "Validating: 0it [00:00, ?it/s]"
      ]
     },
     "metadata": {},
     "output_type": "display_data"
    },
    {
     "name": "stdout",
     "output_type": "stream",
     "text": [
      "averaged metrics: {'loss_val': 0.0011, 'mape_val': 0.0505, 'mse_val': 0.0023, 'mae_val': 0.0386}\n"
     ]
    },
    {
     "data": {
      "application/vnd.jupyter.widget-view+json": {
       "model_id": "df23d3f28fb245059e9b3da2cf027950",
       "version_major": 2,
       "version_minor": 0
      },
      "text/plain": [
       "Validating: 0it [00:00, ?it/s]"
      ]
     },
     "metadata": {},
     "output_type": "display_data"
    },
    {
     "name": "stdout",
     "output_type": "stream",
     "text": [
      "averaged metrics: {'loss_val': 0.0012, 'mape_val': 0.0495, 'mse_val': 0.0024, 'mae_val': 0.0383}\n"
     ]
    },
    {
     "data": {
      "application/vnd.jupyter.widget-view+json": {
       "model_id": "c89676c768154ca5a2fe66e1cb2980cb",
       "version_major": 2,
       "version_minor": 0
      },
      "text/plain": [
       "Validating: 0it [00:00, ?it/s]"
      ]
     },
     "metadata": {},
     "output_type": "display_data"
    },
    {
     "name": "stdout",
     "output_type": "stream",
     "text": [
      "averaged metrics: {'loss_val': 0.0012, 'mape_val': 0.0521, 'mse_val': 0.0024, 'mae_val': 0.0394}\n"
     ]
    },
    {
     "data": {
      "application/vnd.jupyter.widget-view+json": {
       "model_id": "e6dc73395d094948ba458dc374290ecc",
       "version_major": 2,
       "version_minor": 0
      },
      "text/plain": [
       "Validating: 0it [00:00, ?it/s]"
      ]
     },
     "metadata": {},
     "output_type": "display_data"
    },
    {
     "name": "stdout",
     "output_type": "stream",
     "text": [
      "averaged metrics: {'loss_val': 0.0012, 'mape_val': 0.0523, 'mse_val': 0.0024, 'mae_val': 0.0398}\n"
     ]
    },
    {
     "data": {
      "application/vnd.jupyter.widget-view+json": {
       "model_id": "fb6616fb42384af79b39c4ee379f6306",
       "version_major": 2,
       "version_minor": 0
      },
      "text/plain": [
       "Validating: 0it [00:00, ?it/s]"
      ]
     },
     "metadata": {},
     "output_type": "display_data"
    },
    {
     "name": "stdout",
     "output_type": "stream",
     "text": [
      "averaged metrics: {'loss_val': 0.0013, 'mape_val': 0.0501, 'mse_val': 0.0025, 'mae_val': 0.039}\n"
     ]
    },
    {
     "data": {
      "application/vnd.jupyter.widget-view+json": {
       "model_id": "203e74a2497d433db39d5273e448181f",
       "version_major": 2,
       "version_minor": 0
      },
      "text/plain": [
       "Validating: 0it [00:00, ?it/s]"
      ]
     },
     "metadata": {},
     "output_type": "display_data"
    },
    {
     "name": "stdout",
     "output_type": "stream",
     "text": [
      "averaged metrics: {'loss_val': 0.0012, 'mape_val': 0.0499, 'mse_val': 0.0023, 'mae_val': 0.0383}\n"
     ]
    },
    {
     "data": {
      "application/vnd.jupyter.widget-view+json": {
       "model_id": "e50aaf54228147c0af6efa1a99caf6d3",
       "version_major": 2,
       "version_minor": 0
      },
      "text/plain": [
       "Validating: 0it [00:00, ?it/s]"
      ]
     },
     "metadata": {},
     "output_type": "display_data"
    },
    {
     "name": "stdout",
     "output_type": "stream",
     "text": [
      "averaged metrics: {'loss_val': 0.0012, 'mape_val': 0.0507, 'mse_val': 0.0023, 'mae_val': 0.0387}\n"
     ]
    },
    {
     "data": {
      "application/vnd.jupyter.widget-view+json": {
       "model_id": "d3900624ac054982be9937ef71df3e55",
       "version_major": 2,
       "version_minor": 0
      },
      "text/plain": [
       "Validating: 0it [00:00, ?it/s]"
      ]
     },
     "metadata": {},
     "output_type": "display_data"
    },
    {
     "name": "stdout",
     "output_type": "stream",
     "text": [
      "averaged metrics: {'loss_val': 0.0013, 'mape_val': 0.0542, 'mse_val': 0.0025, 'mae_val': 0.0411}\n"
     ]
    },
    {
     "data": {
      "application/vnd.jupyter.widget-view+json": {
       "model_id": "5bd129a23e41464ca3f75c583e5120a0",
       "version_major": 2,
       "version_minor": 0
      },
      "text/plain": [
       "Validating: 0it [00:00, ?it/s]"
      ]
     },
     "metadata": {},
     "output_type": "display_data"
    },
    {
     "name": "stdout",
     "output_type": "stream",
     "text": [
      "averaged metrics: {'loss_val': 0.0013, 'mape_val': 0.0503, 'mse_val': 0.0026, 'mae_val': 0.0393}\n"
     ]
    },
    {
     "data": {
      "application/vnd.jupyter.widget-view+json": {
       "model_id": "8cc735a4294947028a0c7bc0ce895c68",
       "version_major": 2,
       "version_minor": 0
      },
      "text/plain": [
       "Validating: 0it [00:00, ?it/s]"
      ]
     },
     "metadata": {},
     "output_type": "display_data"
    },
    {
     "name": "stdout",
     "output_type": "stream",
     "text": [
      "averaged metrics: {'loss_val': 0.0013, 'mape_val': 0.0517, 'mse_val': 0.0025, 'mae_val': 0.0399}\n"
     ]
    },
    {
     "data": {
      "application/vnd.jupyter.widget-view+json": {
       "model_id": "0857ba406f6a4e1ead14bb5e906550e6",
       "version_major": 2,
       "version_minor": 0
      },
      "text/plain": [
       "Validating: 0it [00:00, ?it/s]"
      ]
     },
     "metadata": {},
     "output_type": "display_data"
    },
    {
     "name": "stdout",
     "output_type": "stream",
     "text": [
      "averaged metrics: {'loss_val': 0.0011, 'mape_val': 0.0501, 'mse_val': 0.0023, 'mae_val': 0.0383}\n"
     ]
    },
    {
     "data": {
      "application/vnd.jupyter.widget-view+json": {
       "model_id": "081c1c4afdf64f8c80e41ee6113bbd0c",
       "version_major": 2,
       "version_minor": 0
      },
      "text/plain": [
       "Validating: 0it [00:00, ?it/s]"
      ]
     },
     "metadata": {},
     "output_type": "display_data"
    },
    {
     "name": "stdout",
     "output_type": "stream",
     "text": [
      "averaged metrics: {'loss_val': 0.0012, 'mape_val': 0.0505, 'mse_val': 0.0023, 'mae_val': 0.0387}\n"
     ]
    },
    {
     "data": {
      "application/vnd.jupyter.widget-view+json": {
       "model_id": "ec82fefd33cd494c8e0e876d8e85e07f",
       "version_major": 2,
       "version_minor": 0
      },
      "text/plain": [
       "Validating: 0it [00:00, ?it/s]"
      ]
     },
     "metadata": {},
     "output_type": "display_data"
    },
    {
     "name": "stdout",
     "output_type": "stream",
     "text": [
      "averaged metrics: {'loss_val': 0.0012, 'mape_val': 0.0512, 'mse_val': 0.0023, 'mae_val': 0.039}\n"
     ]
    },
    {
     "data": {
      "application/vnd.jupyter.widget-view+json": {
       "model_id": "eee6b53568eb4ab08c6e149e72af2770",
       "version_major": 2,
       "version_minor": 0
      },
      "text/plain": [
       "Validating: 0it [00:00, ?it/s]"
      ]
     },
     "metadata": {},
     "output_type": "display_data"
    },
    {
     "name": "stdout",
     "output_type": "stream",
     "text": [
      "averaged metrics: {'loss_val': 0.0012, 'mape_val': 0.0506, 'mse_val': 0.0025, 'mae_val': 0.0391}\n"
     ]
    },
    {
     "data": {
      "application/vnd.jupyter.widget-view+json": {
       "model_id": "42e47110bd6d45e9aa08632563d281eb",
       "version_major": 2,
       "version_minor": 0
      },
      "text/plain": [
       "Validating: 0it [00:00, ?it/s]"
      ]
     },
     "metadata": {},
     "output_type": "display_data"
    },
    {
     "name": "stdout",
     "output_type": "stream",
     "text": [
      "averaged metrics: {'loss_val': 0.0012, 'mape_val': 0.0519, 'mse_val': 0.0023, 'mae_val': 0.0395}\n"
     ]
    },
    {
     "data": {
      "application/vnd.jupyter.widget-view+json": {
       "model_id": "cc4844778fa5476d96915242d07bea9a",
       "version_major": 2,
       "version_minor": 0
      },
      "text/plain": [
       "Validating: 0it [00:00, ?it/s]"
      ]
     },
     "metadata": {},
     "output_type": "display_data"
    },
    {
     "name": "stdout",
     "output_type": "stream",
     "text": [
      "averaged metrics: {'loss_val': 0.0013, 'mape_val': 0.0512, 'mse_val': 0.0026, 'mae_val': 0.0399}\n"
     ]
    },
    {
     "data": {
      "application/vnd.jupyter.widget-view+json": {
       "model_id": "ba7add08c1cb4908882a6c076c12c7b2",
       "version_major": 2,
       "version_minor": 0
      },
      "text/plain": [
       "Validating: 0it [00:00, ?it/s]"
      ]
     },
     "metadata": {},
     "output_type": "display_data"
    },
    {
     "name": "stdout",
     "output_type": "stream",
     "text": [
      "averaged metrics: {'loss_val': 0.0011, 'mape_val': 0.0508, 'mse_val': 0.0023, 'mae_val': 0.0387}\n"
     ]
    },
    {
     "data": {
      "application/vnd.jupyter.widget-view+json": {
       "model_id": "a4897cf3d06f498cb8cfa987366f63fb",
       "version_major": 2,
       "version_minor": 0
      },
      "text/plain": [
       "Validating: 0it [00:00, ?it/s]"
      ]
     },
     "metadata": {},
     "output_type": "display_data"
    },
    {
     "name": "stdout",
     "output_type": "stream",
     "text": [
      "averaged metrics: {'loss_val': 0.0012, 'mape_val': 0.05, 'mse_val': 0.0023, 'mae_val': 0.0383}\n"
     ]
    },
    {
     "data": {
      "application/vnd.jupyter.widget-view+json": {
       "model_id": "0a11622c4705452ca050c6643b49912c",
       "version_major": 2,
       "version_minor": 0
      },
      "text/plain": [
       "Validating: 0it [00:00, ?it/s]"
      ]
     },
     "metadata": {},
     "output_type": "display_data"
    },
    {
     "name": "stdout",
     "output_type": "stream",
     "text": [
      "averaged metrics: {'loss_val': 0.0014, 'mape_val': 0.0516, 'mse_val': 0.0028, 'mae_val': 0.0404}\n"
     ]
    },
    {
     "data": {
      "application/vnd.jupyter.widget-view+json": {
       "model_id": "c68d9c22d8da4236ad4c9cf888db303c",
       "version_major": 2,
       "version_minor": 0
      },
      "text/plain": [
       "Validating: 0it [00:00, ?it/s]"
      ]
     },
     "metadata": {},
     "output_type": "display_data"
    },
    {
     "name": "stdout",
     "output_type": "stream",
     "text": [
      "averaged metrics: {'loss_val': 0.0012, 'mape_val': 0.0518, 'mse_val': 0.0023, 'mae_val': 0.0392}\n"
     ]
    },
    {
     "data": {
      "application/vnd.jupyter.widget-view+json": {
       "model_id": "68acbbf68c8749808fadc045bfc49ded",
       "version_major": 2,
       "version_minor": 0
      },
      "text/plain": [
       "Validating: 0it [00:00, ?it/s]"
      ]
     },
     "metadata": {},
     "output_type": "display_data"
    },
    {
     "name": "stdout",
     "output_type": "stream",
     "text": [
      "averaged metrics: {'loss_val': 0.0012, 'mape_val': 0.0498, 'mse_val': 0.0024, 'mae_val': 0.0385}\n"
     ]
    },
    {
     "data": {
      "application/vnd.jupyter.widget-view+json": {
       "model_id": "e728d800a0944035a5a86ef39cb9b2de",
       "version_major": 2,
       "version_minor": 0
      },
      "text/plain": [
       "Validating: 0it [00:00, ?it/s]"
      ]
     },
     "metadata": {},
     "output_type": "display_data"
    },
    {
     "name": "stdout",
     "output_type": "stream",
     "text": [
      "averaged metrics: {'loss_val': 0.0012, 'mape_val': 0.0495, 'mse_val': 0.0023, 'mae_val': 0.0382}\n"
     ]
    },
    {
     "data": {
      "application/vnd.jupyter.widget-view+json": {
       "model_id": "63dee705814540ca8756d8afdba9f755",
       "version_major": 2,
       "version_minor": 0
      },
      "text/plain": [
       "Validating: 0it [00:00, ?it/s]"
      ]
     },
     "metadata": {},
     "output_type": "display_data"
    },
    {
     "name": "stdout",
     "output_type": "stream",
     "text": [
      "averaged metrics: {'loss_val': 0.0013, 'mape_val': 0.0525, 'mse_val': 0.0026, 'mae_val': 0.0405}\n"
     ]
    },
    {
     "data": {
      "application/vnd.jupyter.widget-view+json": {
       "model_id": "a44644ea91f243d2a0b554e4293e2538",
       "version_major": 2,
       "version_minor": 0
      },
      "text/plain": [
       "Validating: 0it [00:00, ?it/s]"
      ]
     },
     "metadata": {},
     "output_type": "display_data"
    },
    {
     "name": "stdout",
     "output_type": "stream",
     "text": [
      "averaged metrics: {'loss_val': 0.0012, 'mape_val': 0.0513, 'mse_val': 0.0023, 'mae_val': 0.0392}\n"
     ]
    },
    {
     "data": {
      "application/vnd.jupyter.widget-view+json": {
       "model_id": "62f709365fe64f1ab7eb71c32c159d9d",
       "version_major": 2,
       "version_minor": 0
      },
      "text/plain": [
       "Validating: 0it [00:00, ?it/s]"
      ]
     },
     "metadata": {},
     "output_type": "display_data"
    },
    {
     "name": "stdout",
     "output_type": "stream",
     "text": [
      "averaged metrics: {'loss_val': 0.0012, 'mape_val': 0.0495, 'mse_val': 0.0024, 'mae_val': 0.0382}\n"
     ]
    },
    {
     "data": {
      "application/vnd.jupyter.widget-view+json": {
       "model_id": "2ca405ab469b4c36bfdde855257a7656",
       "version_major": 2,
       "version_minor": 0
      },
      "text/plain": [
       "Validating: 0it [00:00, ?it/s]"
      ]
     },
     "metadata": {},
     "output_type": "display_data"
    },
    {
     "name": "stdout",
     "output_type": "stream",
     "text": [
      "averaged metrics: {'loss_val': 0.0012, 'mape_val': 0.0495, 'mse_val': 0.0023, 'mae_val': 0.0381}\n"
     ]
    },
    {
     "data": {
      "application/vnd.jupyter.widget-view+json": {
       "model_id": "cc98aedb198449c7a7f214dbd0ba43d5",
       "version_major": 2,
       "version_minor": 0
      },
      "text/plain": [
       "Validating: 0it [00:00, ?it/s]"
      ]
     },
     "metadata": {},
     "output_type": "display_data"
    },
    {
     "name": "stdout",
     "output_type": "stream",
     "text": [
      "averaged metrics: {'loss_val': 0.0012, 'mape_val': 0.0496, 'mse_val': 0.0023, 'mae_val': 0.0382}\n"
     ]
    },
    {
     "data": {
      "application/vnd.jupyter.widget-view+json": {
       "model_id": "c902b9d143d841798e9f7a3996bec925",
       "version_major": 2,
       "version_minor": 0
      },
      "text/plain": [
       "Validating: 0it [00:00, ?it/s]"
      ]
     },
     "metadata": {},
     "output_type": "display_data"
    },
    {
     "name": "stdout",
     "output_type": "stream",
     "text": [
      "averaged metrics: {'loss_val': 0.0013, 'mape_val': 0.0548, 'mse_val': 0.0025, 'mae_val': 0.0413}\n"
     ]
    },
    {
     "data": {
      "application/vnd.jupyter.widget-view+json": {
       "model_id": "44c7a72e5a524db7a9ffc00ce50c2a7d",
       "version_major": 2,
       "version_minor": 0
      },
      "text/plain": [
       "Validating: 0it [00:00, ?it/s]"
      ]
     },
     "metadata": {},
     "output_type": "display_data"
    },
    {
     "name": "stdout",
     "output_type": "stream",
     "text": [
      "averaged metrics: {'loss_val': 0.0011, 'mape_val': 0.0505, 'mse_val': 0.0023, 'mae_val': 0.0385}\n"
     ]
    },
    {
     "data": {
      "application/vnd.jupyter.widget-view+json": {
       "model_id": "2bd081f9441c495cbe8efb178d77d2e7",
       "version_major": 2,
       "version_minor": 0
      },
      "text/plain": [
       "Validating: 0it [00:00, ?it/s]"
      ]
     },
     "metadata": {},
     "output_type": "display_data"
    },
    {
     "name": "stdout",
     "output_type": "stream",
     "text": [
      "averaged metrics: {'loss_val': 0.0012, 'mape_val': 0.0519, 'mse_val': 0.0023, 'mae_val': 0.0395}\n"
     ]
    },
    {
     "data": {
      "application/vnd.jupyter.widget-view+json": {
       "model_id": "9ae9c65758bc455bbe24dddbfb41c6d9",
       "version_major": 2,
       "version_minor": 0
      },
      "text/plain": [
       "Validating: 0it [00:00, ?it/s]"
      ]
     },
     "metadata": {},
     "output_type": "display_data"
    },
    {
     "name": "stdout",
     "output_type": "stream",
     "text": [
      "averaged metrics: {'loss_val': 0.0012, 'mape_val': 0.0509, 'mse_val': 0.0023, 'mae_val': 0.0389}\n"
     ]
    },
    {
     "data": {
      "application/vnd.jupyter.widget-view+json": {
       "model_id": "a3f70f4388234208b5def0a45f35359b",
       "version_major": 2,
       "version_minor": 0
      },
      "text/plain": [
       "Validating: 0it [00:00, ?it/s]"
      ]
     },
     "metadata": {},
     "output_type": "display_data"
    },
    {
     "name": "stdout",
     "output_type": "stream",
     "text": [
      "averaged metrics: {'loss_val': 0.0012, 'mape_val': 0.0493, 'mse_val': 0.0024, 'mae_val': 0.0382}\n"
     ]
    },
    {
     "data": {
      "application/vnd.jupyter.widget-view+json": {
       "model_id": "ff14544e28ed4c76bad99cc26e11dd72",
       "version_major": 2,
       "version_minor": 0
      },
      "text/plain": [
       "Validating: 0it [00:00, ?it/s]"
      ]
     },
     "metadata": {},
     "output_type": "display_data"
    },
    {
     "name": "stdout",
     "output_type": "stream",
     "text": [
      "averaged metrics: {'loss_val': 0.0016, 'mape_val': 0.0647, 'mse_val': 0.0033, 'mae_val': 0.0478}\n"
     ]
    },
    {
     "data": {
      "application/vnd.jupyter.widget-view+json": {
       "model_id": "4bdb1393b2964ae6b7304246064662d0",
       "version_major": 2,
       "version_minor": 0
      },
      "text/plain": [
       "Validating: 0it [00:00, ?it/s]"
      ]
     },
     "metadata": {},
     "output_type": "display_data"
    },
    {
     "name": "stdout",
     "output_type": "stream",
     "text": [
      "averaged metrics: {'loss_val': 0.0012, 'mape_val': 0.0508, 'mse_val': 0.0023, 'mae_val': 0.0388}\n"
     ]
    },
    {
     "data": {
      "application/vnd.jupyter.widget-view+json": {
       "model_id": "81fdd91ce47640809a213308d356b3e6",
       "version_major": 2,
       "version_minor": 0
      },
      "text/plain": [
       "Validating: 0it [00:00, ?it/s]"
      ]
     },
     "metadata": {},
     "output_type": "display_data"
    },
    {
     "name": "stdout",
     "output_type": "stream",
     "text": [
      "averaged metrics: {'loss_val': 0.0012, 'mape_val': 0.0497, 'mse_val': 0.0023, 'mae_val': 0.0382}\n"
     ]
    },
    {
     "data": {
      "application/vnd.jupyter.widget-view+json": {
       "model_id": "9bdd7c077402446e96f21043193df6ef",
       "version_major": 2,
       "version_minor": 0
      },
      "text/plain": [
       "Validating: 0it [00:00, ?it/s]"
      ]
     },
     "metadata": {},
     "output_type": "display_data"
    },
    {
     "name": "stdout",
     "output_type": "stream",
     "text": [
      "averaged metrics: {'loss_val': 0.0012, 'mape_val': 0.0493, 'mse_val': 0.0024, 'mae_val': 0.0381}\n"
     ]
    },
    {
     "data": {
      "application/vnd.jupyter.widget-view+json": {
       "model_id": "55d35e8085e2475babb9c60f31953d7f",
       "version_major": 2,
       "version_minor": 0
      },
      "text/plain": [
       "Validating: 0it [00:00, ?it/s]"
      ]
     },
     "metadata": {},
     "output_type": "display_data"
    },
    {
     "name": "stdout",
     "output_type": "stream",
     "text": [
      "averaged metrics: {'loss_val': 0.0011, 'mape_val': 0.0498, 'mse_val': 0.0023, 'mae_val': 0.0382}\n"
     ]
    },
    {
     "data": {
      "application/vnd.jupyter.widget-view+json": {
       "model_id": "64734e4d79254e099915c1b97789ce77",
       "version_major": 2,
       "version_minor": 0
      },
      "text/plain": [
       "Validating: 0it [00:00, ?it/s]"
      ]
     },
     "metadata": {},
     "output_type": "display_data"
    },
    {
     "name": "stdout",
     "output_type": "stream",
     "text": [
      "averaged metrics: {'loss_val': 0.0012, 'mape_val': 0.0494, 'mse_val': 0.0023, 'mae_val': 0.0381}\n"
     ]
    },
    {
     "data": {
      "application/vnd.jupyter.widget-view+json": {
       "model_id": "1c9f9ea8a7a6477fb021f63e61f70f08",
       "version_major": 2,
       "version_minor": 0
      },
      "text/plain": [
       "Validating: 0it [00:00, ?it/s]"
      ]
     },
     "metadata": {},
     "output_type": "display_data"
    },
    {
     "name": "stdout",
     "output_type": "stream",
     "text": [
      "averaged metrics: {'loss_val': 0.0012, 'mape_val': 0.0499, 'mse_val': 0.0024, 'mae_val': 0.0385}\n"
     ]
    },
    {
     "data": {
      "application/vnd.jupyter.widget-view+json": {
       "model_id": "5a7e6a9b9a194dddb7d212e18a02393b",
       "version_major": 2,
       "version_minor": 0
      },
      "text/plain": [
       "Validating: 0it [00:00, ?it/s]"
      ]
     },
     "metadata": {},
     "output_type": "display_data"
    },
    {
     "name": "stdout",
     "output_type": "stream",
     "text": [
      "averaged metrics: {'loss_val': 0.0013, 'mape_val': 0.0557, 'mse_val': 0.0026, 'mae_val': 0.042}\n"
     ]
    },
    {
     "data": {
      "application/vnd.jupyter.widget-view+json": {
       "model_id": "33a28e0e9af74464b8b0efc16d11a36a",
       "version_major": 2,
       "version_minor": 0
      },
      "text/plain": [
       "Validating: 0it [00:00, ?it/s]"
      ]
     },
     "metadata": {},
     "output_type": "display_data"
    },
    {
     "name": "stdout",
     "output_type": "stream",
     "text": [
      "averaged metrics: {'loss_val': 0.0011, 'mape_val': 0.0503, 'mse_val': 0.0023, 'mae_val': 0.0384}\n"
     ]
    },
    {
     "data": {
      "application/vnd.jupyter.widget-view+json": {
       "model_id": "f1f465edbf6448b18548134a94ea181f",
       "version_major": 2,
       "version_minor": 0
      },
      "text/plain": [
       "Validating: 0it [00:00, ?it/s]"
      ]
     },
     "metadata": {},
     "output_type": "display_data"
    },
    {
     "name": "stdout",
     "output_type": "stream",
     "text": [
      "averaged metrics: {'loss_val': 0.0012, 'mape_val': 0.0494, 'mse_val': 0.0023, 'mae_val': 0.0381}\n"
     ]
    },
    {
     "data": {
      "application/vnd.jupyter.widget-view+json": {
       "model_id": "b86c07810588473f90134570cfa3a26f",
       "version_major": 2,
       "version_minor": 0
      },
      "text/plain": [
       "Validating: 0it [00:00, ?it/s]"
      ]
     },
     "metadata": {},
     "output_type": "display_data"
    },
    {
     "name": "stdout",
     "output_type": "stream",
     "text": [
      "averaged metrics: {'loss_val': 0.0012, 'mape_val': 0.0513, 'mse_val': 0.0024, 'mae_val': 0.0394}\n"
     ]
    },
    {
     "data": {
      "application/vnd.jupyter.widget-view+json": {
       "model_id": "2af7306348224e19aa4106a76dd04dcc",
       "version_major": 2,
       "version_minor": 0
      },
      "text/plain": [
       "Validating: 0it [00:00, ?it/s]"
      ]
     },
     "metadata": {},
     "output_type": "display_data"
    },
    {
     "name": "stdout",
     "output_type": "stream",
     "text": [
      "averaged metrics: {'loss_val': 0.0012, 'mape_val': 0.0519, 'mse_val': 0.0023, 'mae_val': 0.0394}\n"
     ]
    },
    {
     "data": {
      "application/vnd.jupyter.widget-view+json": {
       "model_id": "09ee9d0a14ce463e86d746156108311c",
       "version_major": 2,
       "version_minor": 0
      },
      "text/plain": [
       "Validating: 0it [00:00, ?it/s]"
      ]
     },
     "metadata": {},
     "output_type": "display_data"
    },
    {
     "name": "stdout",
     "output_type": "stream",
     "text": [
      "averaged metrics: {'loss_val': 0.0012, 'mape_val': 0.0495, 'mse_val': 0.0025, 'mae_val': 0.0385}\n"
     ]
    },
    {
     "data": {
      "application/vnd.jupyter.widget-view+json": {
       "model_id": "6fab64ffc61848f8b49ad873430e59ef",
       "version_major": 2,
       "version_minor": 0
      },
      "text/plain": [
       "Validating: 0it [00:00, ?it/s]"
      ]
     },
     "metadata": {},
     "output_type": "display_data"
    },
    {
     "name": "stdout",
     "output_type": "stream",
     "text": [
      "averaged metrics: {'loss_val': 0.0011, 'mape_val': 0.0502, 'mse_val': 0.0023, 'mae_val': 0.0384}\n"
     ]
    },
    {
     "data": {
      "application/vnd.jupyter.widget-view+json": {
       "model_id": "2931a5c0d41d4481bb06b0fbffd1cb2d",
       "version_major": 2,
       "version_minor": 0
      },
      "text/plain": [
       "Validating: 0it [00:00, ?it/s]"
      ]
     },
     "metadata": {},
     "output_type": "display_data"
    },
    {
     "name": "stdout",
     "output_type": "stream",
     "text": [
      "averaged metrics: {'loss_val': 0.0012, 'mape_val': 0.0494, 'mse_val': 0.0023, 'mae_val': 0.0381}\n"
     ]
    },
    {
     "data": {
      "application/vnd.jupyter.widget-view+json": {
       "model_id": "cd5fb145cc1741a7ae512355e65e9cff",
       "version_major": 2,
       "version_minor": 0
      },
      "text/plain": [
       "Validating: 0it [00:00, ?it/s]"
      ]
     },
     "metadata": {},
     "output_type": "display_data"
    },
    {
     "name": "stdout",
     "output_type": "stream",
     "text": [
      "averaged metrics: {'loss_val': 0.0013, 'mape_val': 0.0545, 'mse_val': 0.0026, 'mae_val': 0.0418}\n"
     ]
    },
    {
     "data": {
      "application/vnd.jupyter.widget-view+json": {
       "model_id": "8e669dfd8e2e47c1b4d777b78bad569e",
       "version_major": 2,
       "version_minor": 0
      },
      "text/plain": [
       "Validating: 0it [00:00, ?it/s]"
      ]
     },
     "metadata": {},
     "output_type": "display_data"
    },
    {
     "name": "stdout",
     "output_type": "stream",
     "text": [
      "averaged metrics: {'loss_val': 0.0012, 'mape_val': 0.0526, 'mse_val': 0.0025, 'mae_val': 0.0403}\n"
     ]
    },
    {
     "data": {
      "application/vnd.jupyter.widget-view+json": {
       "model_id": "ec540154d1df46f0b88c173757b668ba",
       "version_major": 2,
       "version_minor": 0
      },
      "text/plain": [
       "Validating: 0it [00:00, ?it/s]"
      ]
     },
     "metadata": {},
     "output_type": "display_data"
    },
    {
     "name": "stdout",
     "output_type": "stream",
     "text": [
      "averaged metrics: {'loss_val': 0.0012, 'mape_val': 0.0519, 'mse_val': 0.0024, 'mae_val': 0.0395}\n"
     ]
    },
    {
     "data": {
      "application/vnd.jupyter.widget-view+json": {
       "model_id": "cceacf75235d4830b69e4b46ab0c39c2",
       "version_major": 2,
       "version_minor": 0
      },
      "text/plain": [
       "Validating: 0it [00:00, ?it/s]"
      ]
     },
     "metadata": {},
     "output_type": "display_data"
    },
    {
     "name": "stdout",
     "output_type": "stream",
     "text": [
      "averaged metrics: {'loss_val': 0.0011, 'mape_val': 0.0498, 'mse_val': 0.0023, 'mae_val': 0.0381}\n"
     ]
    },
    {
     "data": {
      "application/vnd.jupyter.widget-view+json": {
       "model_id": "b5d6e203a49a409fb3664956da20933a",
       "version_major": 2,
       "version_minor": 0
      },
      "text/plain": [
       "Validating: 0it [00:00, ?it/s]"
      ]
     },
     "metadata": {},
     "output_type": "display_data"
    },
    {
     "name": "stdout",
     "output_type": "stream",
     "text": [
      "averaged metrics: {'loss_val': 0.0011, 'mape_val': 0.0494, 'mse_val': 0.0023, 'mae_val': 0.038}\n"
     ]
    },
    {
     "data": {
      "application/vnd.jupyter.widget-view+json": {
       "model_id": "564e22dcf22244049e12c413ef5b2802",
       "version_major": 2,
       "version_minor": 0
      },
      "text/plain": [
       "Validating: 0it [00:00, ?it/s]"
      ]
     },
     "metadata": {},
     "output_type": "display_data"
    },
    {
     "name": "stdout",
     "output_type": "stream",
     "text": [
      "averaged metrics: {'loss_val': 0.0011, 'mape_val': 0.05, 'mse_val': 0.0023, 'mae_val': 0.0383}\n"
     ]
    },
    {
     "data": {
      "application/vnd.jupyter.widget-view+json": {
       "model_id": "f2498e9532a348f38cb9d8e396415b52",
       "version_major": 2,
       "version_minor": 0
      },
      "text/plain": [
       "Validating: 0it [00:00, ?it/s]"
      ]
     },
     "metadata": {},
     "output_type": "display_data"
    },
    {
     "name": "stdout",
     "output_type": "stream",
     "text": [
      "averaged metrics: {'loss_val': 0.0015, 'mape_val': 0.0531, 'mse_val': 0.0029, 'mae_val': 0.0418}\n"
     ]
    },
    {
     "data": {
      "application/vnd.jupyter.widget-view+json": {
       "model_id": "9963729d7f034a02bbaa4290e71e7e66",
       "version_major": 2,
       "version_minor": 0
      },
      "text/plain": [
       "Validating: 0it [00:00, ?it/s]"
      ]
     },
     "metadata": {},
     "output_type": "display_data"
    },
    {
     "name": "stdout",
     "output_type": "stream",
     "text": [
      "averaged metrics: {'loss_val': 0.0012, 'mape_val': 0.0515, 'mse_val': 0.0024, 'mae_val': 0.0394}\n"
     ]
    },
    {
     "data": {
      "application/vnd.jupyter.widget-view+json": {
       "model_id": "84c730a543194516b0775dce7bb1570e",
       "version_major": 2,
       "version_minor": 0
      },
      "text/plain": [
       "Validating: 0it [00:00, ?it/s]"
      ]
     },
     "metadata": {},
     "output_type": "display_data"
    },
    {
     "name": "stdout",
     "output_type": "stream",
     "text": [
      "averaged metrics: {'loss_val': 0.0011, 'mape_val': 0.0511, 'mse_val': 0.0023, 'mae_val': 0.0388}\n"
     ]
    },
    {
     "data": {
      "application/vnd.jupyter.widget-view+json": {
       "model_id": "5a4b9a4d993344ebb7129ceb0845ecad",
       "version_major": 2,
       "version_minor": 0
      },
      "text/plain": [
       "Validating: 0it [00:00, ?it/s]"
      ]
     },
     "metadata": {},
     "output_type": "display_data"
    },
    {
     "name": "stdout",
     "output_type": "stream",
     "text": [
      "averaged metrics: {'loss_val': 0.0011, 'mape_val': 0.0494, 'mse_val': 0.0023, 'mae_val': 0.038}\n"
     ]
    },
    {
     "data": {
      "application/vnd.jupyter.widget-view+json": {
       "model_id": "c1e6c5fb04a147128baab6112b8cf99a",
       "version_major": 2,
       "version_minor": 0
      },
      "text/plain": [
       "Validating: 0it [00:00, ?it/s]"
      ]
     },
     "metadata": {},
     "output_type": "display_data"
    },
    {
     "name": "stdout",
     "output_type": "stream",
     "text": [
      "averaged metrics: {'loss_val': 0.0012, 'mape_val': 0.0536, 'mse_val': 0.0025, 'mae_val': 0.0404}\n"
     ]
    },
    {
     "data": {
      "application/vnd.jupyter.widget-view+json": {
       "model_id": "9c0da046be0e4a65ba2b16e0b3ac6499",
       "version_major": 2,
       "version_minor": 0
      },
      "text/plain": [
       "Validating: 0it [00:00, ?it/s]"
      ]
     },
     "metadata": {},
     "output_type": "display_data"
    },
    {
     "name": "stdout",
     "output_type": "stream",
     "text": [
      "averaged metrics: {'loss_val': 0.0012, 'mape_val': 0.0513, 'mse_val': 0.0023, 'mae_val': 0.0391}\n"
     ]
    },
    {
     "data": {
      "application/vnd.jupyter.widget-view+json": {
       "model_id": "ead4f44a5520416a991d997b81156fb4",
       "version_major": 2,
       "version_minor": 0
      },
      "text/plain": [
       "Validating: 0it [00:00, ?it/s]"
      ]
     },
     "metadata": {},
     "output_type": "display_data"
    },
    {
     "name": "stdout",
     "output_type": "stream",
     "text": [
      "averaged metrics: {'loss_val': 0.0012, 'mape_val': 0.0524, 'mse_val': 0.0024, 'mae_val': 0.0399}\n"
     ]
    },
    {
     "data": {
      "application/vnd.jupyter.widget-view+json": {
       "model_id": "d89349465f294eb4a4370c9064702737",
       "version_major": 2,
       "version_minor": 0
      },
      "text/plain": [
       "Validating: 0it [00:00, ?it/s]"
      ]
     },
     "metadata": {},
     "output_type": "display_data"
    },
    {
     "name": "stdout",
     "output_type": "stream",
     "text": [
      "averaged metrics: {'loss_val': 0.0011, 'mape_val': 0.0501, 'mse_val': 0.0023, 'mae_val': 0.0382}\n"
     ]
    },
    {
     "data": {
      "application/vnd.jupyter.widget-view+json": {
       "model_id": "3f8107b2d86a4efe92e997767e453937",
       "version_major": 2,
       "version_minor": 0
      },
      "text/plain": [
       "Validating: 0it [00:00, ?it/s]"
      ]
     },
     "metadata": {},
     "output_type": "display_data"
    },
    {
     "name": "stdout",
     "output_type": "stream",
     "text": [
      "averaged metrics: {'loss_val': 0.0011, 'mape_val': 0.0495, 'mse_val': 0.0023, 'mae_val': 0.038}\n"
     ]
    },
    {
     "data": {
      "application/vnd.jupyter.widget-view+json": {
       "model_id": "0e8b7c292e2f4a57af28403fd860cda2",
       "version_major": 2,
       "version_minor": 0
      },
      "text/plain": [
       "Validating: 0it [00:00, ?it/s]"
      ]
     },
     "metadata": {},
     "output_type": "display_data"
    },
    {
     "name": "stdout",
     "output_type": "stream",
     "text": [
      "averaged metrics: {'loss_val': 0.0013, 'mape_val': 0.0506, 'mse_val': 0.0026, 'mae_val': 0.0394}\n"
     ]
    },
    {
     "data": {
      "application/vnd.jupyter.widget-view+json": {
       "model_id": "cb9abc131d1040bb908bfab3f50f6025",
       "version_major": 2,
       "version_minor": 0
      },
      "text/plain": [
       "Validating: 0it [00:00, ?it/s]"
      ]
     },
     "metadata": {},
     "output_type": "display_data"
    },
    {
     "name": "stdout",
     "output_type": "stream",
     "text": [
      "averaged metrics: {'loss_val': 0.0012, 'mape_val': 0.0512, 'mse_val': 0.0023, 'mae_val': 0.0388}\n"
     ]
    },
    {
     "data": {
      "application/vnd.jupyter.widget-view+json": {
       "model_id": "b4f5e05b8b5048dfb652fa6c77aeff2d",
       "version_major": 2,
       "version_minor": 0
      },
      "text/plain": [
       "Validating: 0it [00:00, ?it/s]"
      ]
     },
     "metadata": {},
     "output_type": "display_data"
    },
    {
     "name": "stdout",
     "output_type": "stream",
     "text": [
      "averaged metrics: {'loss_val': 0.0011, 'mape_val': 0.0506, 'mse_val': 0.0023, 'mae_val': 0.0384}\n"
     ]
    },
    {
     "data": {
      "application/vnd.jupyter.widget-view+json": {
       "model_id": "c831586f42cd48889efe8990f6454955",
       "version_major": 2,
       "version_minor": 0
      },
      "text/plain": [
       "Validating: 0it [00:00, ?it/s]"
      ]
     },
     "metadata": {},
     "output_type": "display_data"
    },
    {
     "name": "stdout",
     "output_type": "stream",
     "text": [
      "averaged metrics: {'loss_val': 0.0012, 'mape_val': 0.0507, 'mse_val': 0.0023, 'mae_val': 0.0388}\n"
     ]
    },
    {
     "data": {
      "application/vnd.jupyter.widget-view+json": {
       "model_id": "a674c3e5182349d9831c5fe8d490bcde",
       "version_major": 2,
       "version_minor": 0
      },
      "text/plain": [
       "Validating: 0it [00:00, ?it/s]"
      ]
     },
     "metadata": {},
     "output_type": "display_data"
    },
    {
     "name": "stdout",
     "output_type": "stream",
     "text": [
      "averaged metrics: {'loss_val': 0.0011, 'mape_val': 0.0496, 'mse_val': 0.0023, 'mae_val': 0.038}\n"
     ]
    },
    {
     "data": {
      "application/vnd.jupyter.widget-view+json": {
       "model_id": "d5c8c015706f4631aa0f871ab8a94ac5",
       "version_major": 2,
       "version_minor": 0
      },
      "text/plain": [
       "Validating: 0it [00:00, ?it/s]"
      ]
     },
     "metadata": {},
     "output_type": "display_data"
    },
    {
     "name": "stdout",
     "output_type": "stream",
     "text": [
      "averaged metrics: {'loss_val': 0.0016, 'mape_val': 0.0618, 'mse_val': 0.0031, 'mae_val': 0.0461}\n"
     ]
    },
    {
     "data": {
      "application/vnd.jupyter.widget-view+json": {
       "model_id": "a641300479ac403d8858c293a3e59f50",
       "version_major": 2,
       "version_minor": 0
      },
      "text/plain": [
       "Validating: 0it [00:00, ?it/s]"
      ]
     },
     "metadata": {},
     "output_type": "display_data"
    },
    {
     "name": "stdout",
     "output_type": "stream",
     "text": [
      "averaged metrics: {'loss_val': 0.0014, 'mape_val': 0.0522, 'mse_val': 0.0028, 'mae_val': 0.041}\n"
     ]
    },
    {
     "data": {
      "application/vnd.jupyter.widget-view+json": {
       "model_id": "8222615934bf42578409ff4a8aeb381c",
       "version_major": 2,
       "version_minor": 0
      },
      "text/plain": [
       "Validating: 0it [00:00, ?it/s]"
      ]
     },
     "metadata": {},
     "output_type": "display_data"
    },
    {
     "name": "stdout",
     "output_type": "stream",
     "text": [
      "averaged metrics: {'loss_val': 0.0013, 'mape_val': 0.0513, 'mse_val': 0.0027, 'mae_val': 0.0401}\n"
     ]
    },
    {
     "data": {
      "application/vnd.jupyter.widget-view+json": {
       "model_id": "d2c9cd135be248aba5709cb5f4ad5b5c",
       "version_major": 2,
       "version_minor": 0
      },
      "text/plain": [
       "Validating: 0it [00:00, ?it/s]"
      ]
     },
     "metadata": {},
     "output_type": "display_data"
    },
    {
     "name": "stdout",
     "output_type": "stream",
     "text": [
      "averaged metrics: {'loss_val': 0.0012, 'mape_val': 0.0491, 'mse_val': 0.0024, 'mae_val': 0.038}\n"
     ]
    },
    {
     "data": {
      "application/vnd.jupyter.widget-view+json": {
       "model_id": "2edf008cf01d4ed5a4baa2739c352e78",
       "version_major": 2,
       "version_minor": 0
      },
      "text/plain": [
       "Validating: 0it [00:00, ?it/s]"
      ]
     },
     "metadata": {},
     "output_type": "display_data"
    },
    {
     "name": "stdout",
     "output_type": "stream",
     "text": [
      "averaged metrics: {'loss_val': 0.0011, 'mape_val': 0.0497, 'mse_val': 0.0023, 'mae_val': 0.0381}\n"
     ]
    },
    {
     "data": {
      "application/vnd.jupyter.widget-view+json": {
       "model_id": "f9c6c31a1b0b4f1f90adc19c1541ad5a",
       "version_major": 2,
       "version_minor": 0
      },
      "text/plain": [
       "Validating: 0it [00:00, ?it/s]"
      ]
     },
     "metadata": {},
     "output_type": "display_data"
    },
    {
     "name": "stdout",
     "output_type": "stream",
     "text": [
      "averaged metrics: {'loss_val': 0.0013, 'mape_val': 0.0552, 'mse_val': 0.0026, 'mae_val': 0.0419}\n"
     ]
    },
    {
     "data": {
      "application/vnd.jupyter.widget-view+json": {
       "model_id": "564df94143e04b9cb048264328425f85",
       "version_major": 2,
       "version_minor": 0
      },
      "text/plain": [
       "Validating: 0it [00:00, ?it/s]"
      ]
     },
     "metadata": {},
     "output_type": "display_data"
    },
    {
     "name": "stdout",
     "output_type": "stream",
     "text": [
      "averaged metrics: {'loss_val': 0.0015, 'mape_val': 0.0603, 'mse_val': 0.003, 'mae_val': 0.0453}\n"
     ]
    },
    {
     "data": {
      "application/vnd.jupyter.widget-view+json": {
       "model_id": "6d58ba2b873c420eab5c3f36408f1b43",
       "version_major": 2,
       "version_minor": 0
      },
      "text/plain": [
       "Validating: 0it [00:00, ?it/s]"
      ]
     },
     "metadata": {},
     "output_type": "display_data"
    },
    {
     "name": "stdout",
     "output_type": "stream",
     "text": [
      "averaged metrics: {'loss_val': 0.0012, 'mape_val': 0.0525, 'mse_val': 0.0024, 'mae_val': 0.0394}\n"
     ]
    },
    {
     "data": {
      "application/vnd.jupyter.widget-view+json": {
       "model_id": "05a2e621a4774504a518a4bde355f4f9",
       "version_major": 2,
       "version_minor": 0
      },
      "text/plain": [
       "Validating: 0it [00:00, ?it/s]"
      ]
     },
     "metadata": {},
     "output_type": "display_data"
    },
    {
     "name": "stdout",
     "output_type": "stream",
     "text": [
      "averaged metrics: {'loss_val': 0.0012, 'mape_val': 0.0501, 'mse_val': 0.0025, 'mae_val': 0.0389}\n"
     ]
    },
    {
     "data": {
      "application/vnd.jupyter.widget-view+json": {
       "model_id": "de47a2bed4154eb9aa89e75441265f59",
       "version_major": 2,
       "version_minor": 0
      },
      "text/plain": [
       "Validating: 0it [00:00, ?it/s]"
      ]
     },
     "metadata": {},
     "output_type": "display_data"
    },
    {
     "name": "stdout",
     "output_type": "stream",
     "text": [
      "averaged metrics: {'loss_val': 0.0011, 'mape_val': 0.0495, 'mse_val': 0.0023, 'mae_val': 0.0381}\n"
     ]
    },
    {
     "data": {
      "application/vnd.jupyter.widget-view+json": {
       "model_id": "24bec3c7fbc84cb9ba062f8c90bb7b68",
       "version_major": 2,
       "version_minor": 0
      },
      "text/plain": [
       "Validating: 0it [00:00, ?it/s]"
      ]
     },
     "metadata": {},
     "output_type": "display_data"
    },
    {
     "name": "stdout",
     "output_type": "stream",
     "text": [
      "averaged metrics: {'loss_val': 0.0012, 'mape_val': 0.0532, 'mse_val': 0.0025, 'mae_val': 0.0404}\n"
     ]
    },
    {
     "data": {
      "application/vnd.jupyter.widget-view+json": {
       "model_id": "b65901870bce45f2a6d29a72688456da",
       "version_major": 2,
       "version_minor": 0
      },
      "text/plain": [
       "Validating: 0it [00:00, ?it/s]"
      ]
     },
     "metadata": {},
     "output_type": "display_data"
    },
    {
     "name": "stdout",
     "output_type": "stream",
     "text": [
      "averaged metrics: {'loss_val': 0.0012, 'mape_val': 0.0502, 'mse_val': 0.0023, 'mae_val': 0.0385}\n"
     ]
    },
    {
     "data": {
      "application/vnd.jupyter.widget-view+json": {
       "model_id": "6f8e233fccbf46688f8580cd7a486839",
       "version_major": 2,
       "version_minor": 0
      },
      "text/plain": [
       "Validating: 0it [00:00, ?it/s]"
      ]
     },
     "metadata": {},
     "output_type": "display_data"
    },
    {
     "name": "stdout",
     "output_type": "stream",
     "text": [
      "averaged metrics: {'loss_val': 0.0012, 'mape_val': 0.0499, 'mse_val': 0.0023, 'mae_val': 0.0383}\n"
     ]
    },
    {
     "data": {
      "application/vnd.jupyter.widget-view+json": {
       "model_id": "28e966689f834ed5919af1ef292d9eaa",
       "version_major": 2,
       "version_minor": 0
      },
      "text/plain": [
       "Validating: 0it [00:00, ?it/s]"
      ]
     },
     "metadata": {},
     "output_type": "display_data"
    },
    {
     "name": "stdout",
     "output_type": "stream",
     "text": [
      "averaged metrics: {'loss_val': 0.0012, 'mape_val': 0.0507, 'mse_val': 0.0024, 'mae_val': 0.0388}\n"
     ]
    },
    {
     "data": {
      "application/vnd.jupyter.widget-view+json": {
       "model_id": "ec22a529f22d4273a09b91968dd9d08a",
       "version_major": 2,
       "version_minor": 0
      },
      "text/plain": [
       "Validating: 0it [00:00, ?it/s]"
      ]
     },
     "metadata": {},
     "output_type": "display_data"
    },
    {
     "name": "stdout",
     "output_type": "stream",
     "text": [
      "averaged metrics: {'loss_val': 0.0011, 'mape_val': 0.0496, 'mse_val': 0.0023, 'mae_val': 0.038}\n"
     ]
    },
    {
     "data": {
      "application/vnd.jupyter.widget-view+json": {
       "model_id": "5659c735d7df43e683d9a0d796a8e100",
       "version_major": 2,
       "version_minor": 0
      },
      "text/plain": [
       "Validating: 0it [00:00, ?it/s]"
      ]
     },
     "metadata": {},
     "output_type": "display_data"
    },
    {
     "name": "stdout",
     "output_type": "stream",
     "text": [
      "averaged metrics: {'loss_val': 0.0013, 'mape_val': 0.0515, 'mse_val': 0.0025, 'mae_val': 0.0397}\n"
     ]
    },
    {
     "data": {
      "application/vnd.jupyter.widget-view+json": {
       "model_id": "85728772bcf74f1f8a23ef868ccaf24f",
       "version_major": 2,
       "version_minor": 0
      },
      "text/plain": [
       "Validating: 0it [00:00, ?it/s]"
      ]
     },
     "metadata": {},
     "output_type": "display_data"
    },
    {
     "name": "stdout",
     "output_type": "stream",
     "text": [
      "averaged metrics: {'loss_val': 0.0012, 'mape_val': 0.052, 'mse_val': 0.0024, 'mae_val': 0.0397}\n"
     ]
    },
    {
     "data": {
      "application/vnd.jupyter.widget-view+json": {
       "model_id": "9f21708a493d468fb885f8c623eb84f0",
       "version_major": 2,
       "version_minor": 0
      },
      "text/plain": [
       "Validating: 0it [00:00, ?it/s]"
      ]
     },
     "metadata": {},
     "output_type": "display_data"
    },
    {
     "name": "stdout",
     "output_type": "stream",
     "text": [
      "averaged metrics: {'loss_val': 0.0011, 'mape_val': 0.0494, 'mse_val': 0.0023, 'mae_val': 0.0378}\n"
     ]
    },
    {
     "data": {
      "application/vnd.jupyter.widget-view+json": {
       "model_id": "3365d412c2a44eb9869790633d7bb583",
       "version_major": 2,
       "version_minor": 0
      },
      "text/plain": [
       "Validating: 0it [00:00, ?it/s]"
      ]
     },
     "metadata": {},
     "output_type": "display_data"
    },
    {
     "name": "stdout",
     "output_type": "stream",
     "text": [
      "averaged metrics: {'loss_val': 0.0011, 'mape_val': 0.0504, 'mse_val': 0.0023, 'mae_val': 0.0384}\n"
     ]
    },
    {
     "data": {
      "application/vnd.jupyter.widget-view+json": {
       "model_id": "4d9e93f47ae842c7b8ec4e79a62dc780",
       "version_major": 2,
       "version_minor": 0
      },
      "text/plain": [
       "Validating: 0it [00:00, ?it/s]"
      ]
     },
     "metadata": {},
     "output_type": "display_data"
    },
    {
     "name": "stdout",
     "output_type": "stream",
     "text": [
      "averaged metrics: {'loss_val': 0.0011, 'mape_val': 0.0492, 'mse_val': 0.0023, 'mae_val': 0.0378}\n"
     ]
    },
    {
     "data": {
      "application/vnd.jupyter.widget-view+json": {
       "model_id": "7d09cfd4601c4d5da31dab36b26aadd7",
       "version_major": 2,
       "version_minor": 0
      },
      "text/plain": [
       "Validating: 0it [00:00, ?it/s]"
      ]
     },
     "metadata": {},
     "output_type": "display_data"
    },
    {
     "name": "stdout",
     "output_type": "stream",
     "text": [
      "averaged metrics: {'loss_val': 0.0012, 'mape_val': 0.0502, 'mse_val': 0.0023, 'mae_val': 0.0384}\n"
     ]
    },
    {
     "data": {
      "application/vnd.jupyter.widget-view+json": {
       "model_id": "8ad25b74e2c94f54b416209828664f9c",
       "version_major": 2,
       "version_minor": 0
      },
      "text/plain": [
       "Validating: 0it [00:00, ?it/s]"
      ]
     },
     "metadata": {},
     "output_type": "display_data"
    },
    {
     "name": "stdout",
     "output_type": "stream",
     "text": [
      "averaged metrics: {'loss_val': 0.0013, 'mape_val': 0.054, 'mse_val': 0.0025, 'mae_val': 0.0405}\n"
     ]
    },
    {
     "data": {
      "application/vnd.jupyter.widget-view+json": {
       "model_id": "d3703d7e589a45e1a90aa18c9296b11c",
       "version_major": 2,
       "version_minor": 0
      },
      "text/plain": [
       "Validating: 0it [00:00, ?it/s]"
      ]
     },
     "metadata": {},
     "output_type": "display_data"
    },
    {
     "name": "stdout",
     "output_type": "stream",
     "text": [
      "averaged metrics: {'loss_val': 0.0012, 'mape_val': 0.0504, 'mse_val': 0.0024, 'mae_val': 0.039}\n"
     ]
    },
    {
     "data": {
      "application/vnd.jupyter.widget-view+json": {
       "model_id": "81fe3d98ca1c4682b576d30fde3d13ce",
       "version_major": 2,
       "version_minor": 0
      },
      "text/plain": [
       "Validating: 0it [00:00, ?it/s]"
      ]
     },
     "metadata": {},
     "output_type": "display_data"
    },
    {
     "name": "stdout",
     "output_type": "stream",
     "text": [
      "averaged metrics: {'loss_val': 0.0012, 'mape_val': 0.0489, 'mse_val': 0.0023, 'mae_val': 0.0377}\n"
     ]
    },
    {
     "data": {
      "application/vnd.jupyter.widget-view+json": {
       "model_id": "fdd7fed2d8f54143ac6f2068537875c4",
       "version_major": 2,
       "version_minor": 0
      },
      "text/plain": [
       "Validating: 0it [00:00, ?it/s]"
      ]
     },
     "metadata": {},
     "output_type": "display_data"
    },
    {
     "name": "stdout",
     "output_type": "stream",
     "text": [
      "averaged metrics: {'loss_val': 0.0011, 'mape_val': 0.0496, 'mse_val': 0.0023, 'mae_val': 0.0379}\n"
     ]
    },
    {
     "data": {
      "application/vnd.jupyter.widget-view+json": {
       "model_id": "503a02ba9fee480d9748dc41ef2d32e1",
       "version_major": 2,
       "version_minor": 0
      },
      "text/plain": [
       "Validating: 0it [00:00, ?it/s]"
      ]
     },
     "metadata": {},
     "output_type": "display_data"
    },
    {
     "name": "stdout",
     "output_type": "stream",
     "text": [
      "averaged metrics: {'loss_val': 0.0012, 'mape_val': 0.0498, 'mse_val': 0.0024, 'mae_val': 0.0385}\n"
     ]
    },
    {
     "data": {
      "application/vnd.jupyter.widget-view+json": {
       "model_id": "a0772c59a3984fcfbc71801e7226e2c0",
       "version_major": 2,
       "version_minor": 0
      },
      "text/plain": [
       "Validating: 0it [00:00, ?it/s]"
      ]
     },
     "metadata": {},
     "output_type": "display_data"
    },
    {
     "name": "stdout",
     "output_type": "stream",
     "text": [
      "averaged metrics: {'loss_val': 0.0012, 'mape_val': 0.0519, 'mse_val': 0.0023, 'mae_val': 0.0394}\n"
     ]
    },
    {
     "data": {
      "application/vnd.jupyter.widget-view+json": {
       "model_id": "2700606fb08e4e09882c6d27b64e34cf",
       "version_major": 2,
       "version_minor": 0
      },
      "text/plain": [
       "Validating: 0it [00:00, ?it/s]"
      ]
     },
     "metadata": {},
     "output_type": "display_data"
    },
    {
     "name": "stdout",
     "output_type": "stream",
     "text": [
      "averaged metrics: {'loss_val': 0.0012, 'mape_val': 0.0528, 'mse_val': 0.0024, 'mae_val': 0.0402}\n"
     ]
    },
    {
     "data": {
      "application/vnd.jupyter.widget-view+json": {
       "model_id": "41009a080a074bc384f99b9f53e7ba80",
       "version_major": 2,
       "version_minor": 0
      },
      "text/plain": [
       "Validating: 0it [00:00, ?it/s]"
      ]
     },
     "metadata": {},
     "output_type": "display_data"
    },
    {
     "name": "stdout",
     "output_type": "stream",
     "text": [
      "averaged metrics: {'loss_val': 0.0012, 'mape_val': 0.0502, 'mse_val': 0.0024, 'mae_val': 0.0389}\n"
     ]
    },
    {
     "data": {
      "application/vnd.jupyter.widget-view+json": {
       "model_id": "d606451b6f654a28bb2942fb8c91b92e",
       "version_major": 2,
       "version_minor": 0
      },
      "text/plain": [
       "Validating: 0it [00:00, ?it/s]"
      ]
     },
     "metadata": {},
     "output_type": "display_data"
    },
    {
     "name": "stdout",
     "output_type": "stream",
     "text": [
      "averaged metrics: {'loss_val': 0.0011, 'mape_val': 0.049, 'mse_val': 0.0023, 'mae_val': 0.0378}\n"
     ]
    },
    {
     "data": {
      "application/vnd.jupyter.widget-view+json": {
       "model_id": "8557e82f6e3e47e79e9673ef8efc85a6",
       "version_major": 2,
       "version_minor": 0
      },
      "text/plain": [
       "Validating: 0it [00:00, ?it/s]"
      ]
     },
     "metadata": {},
     "output_type": "display_data"
    },
    {
     "name": "stdout",
     "output_type": "stream",
     "text": [
      "averaged metrics: {'loss_val': 0.0011, 'mape_val': 0.0489, 'mse_val': 0.0023, 'mae_val': 0.0375}\n"
     ]
    },
    {
     "data": {
      "application/vnd.jupyter.widget-view+json": {
       "model_id": "07c6e95282e944e39a4b53317eadcbc9",
       "version_major": 2,
       "version_minor": 0
      },
      "text/plain": [
       "Validating: 0it [00:00, ?it/s]"
      ]
     },
     "metadata": {},
     "output_type": "display_data"
    },
    {
     "name": "stdout",
     "output_type": "stream",
     "text": [
      "averaged metrics: {'loss_val': 0.0012, 'mape_val': 0.0523, 'mse_val': 0.0024, 'mae_val': 0.0395}\n"
     ]
    },
    {
     "data": {
      "application/vnd.jupyter.widget-view+json": {
       "model_id": "47067854d1a94a23996b0156913d6b08",
       "version_major": 2,
       "version_minor": 0
      },
      "text/plain": [
       "Validating: 0it [00:00, ?it/s]"
      ]
     },
     "metadata": {},
     "output_type": "display_data"
    },
    {
     "name": "stdout",
     "output_type": "stream",
     "text": [
      "averaged metrics: {'loss_val': 0.0012, 'mape_val': 0.0495, 'mse_val': 0.0023, 'mae_val': 0.0381}\n"
     ]
    },
    {
     "data": {
      "application/vnd.jupyter.widget-view+json": {
       "model_id": "9f442607bfcb489d9ecf13d721789503",
       "version_major": 2,
       "version_minor": 0
      },
      "text/plain": [
       "Validating: 0it [00:00, ?it/s]"
      ]
     },
     "metadata": {},
     "output_type": "display_data"
    },
    {
     "name": "stdout",
     "output_type": "stream",
     "text": [
      "averaged metrics: {'loss_val': 0.0012, 'mape_val': 0.0521, 'mse_val': 0.0024, 'mae_val': 0.0395}\n"
     ]
    },
    {
     "data": {
      "application/vnd.jupyter.widget-view+json": {
       "model_id": "3416b3e3b4e7459bb87bed314eea62b0",
       "version_major": 2,
       "version_minor": 0
      },
      "text/plain": [
       "Validating: 0it [00:00, ?it/s]"
      ]
     },
     "metadata": {},
     "output_type": "display_data"
    },
    {
     "name": "stdout",
     "output_type": "stream",
     "text": [
      "averaged metrics: {'loss_val': 0.0012, 'mape_val': 0.049, 'mse_val': 0.0023, 'mae_val': 0.0378}\n"
     ]
    },
    {
     "data": {
      "application/vnd.jupyter.widget-view+json": {
       "model_id": "4102179ccf2d425d8514c8076eb4dc14",
       "version_major": 2,
       "version_minor": 0
      },
      "text/plain": [
       "Validating: 0it [00:00, ?it/s]"
      ]
     },
     "metadata": {},
     "output_type": "display_data"
    },
    {
     "name": "stdout",
     "output_type": "stream",
     "text": [
      "averaged metrics: {'loss_val': 0.0014, 'mape_val': 0.0562, 'mse_val': 0.0028, 'mae_val': 0.0428}\n"
     ]
    },
    {
     "data": {
      "application/vnd.jupyter.widget-view+json": {
       "model_id": "55f4dde1899743edb57ba8357c3c8f29",
       "version_major": 2,
       "version_minor": 0
      },
      "text/plain": [
       "Validating: 0it [00:00, ?it/s]"
      ]
     },
     "metadata": {},
     "output_type": "display_data"
    },
    {
     "name": "stdout",
     "output_type": "stream",
     "text": [
      "averaged metrics: {'loss_val': 0.0013, 'mape_val': 0.0497, 'mse_val': 0.0025, 'mae_val': 0.0389}\n"
     ]
    },
    {
     "data": {
      "application/vnd.jupyter.widget-view+json": {
       "model_id": "a537bddc65d4481c847d32182ad66eb8",
       "version_major": 2,
       "version_minor": 0
      },
      "text/plain": [
       "Validating: 0it [00:00, ?it/s]"
      ]
     },
     "metadata": {},
     "output_type": "display_data"
    },
    {
     "name": "stdout",
     "output_type": "stream",
     "text": [
      "averaged metrics: {'loss_val': 0.0012, 'mape_val': 0.0521, 'mse_val': 0.0024, 'mae_val': 0.0397}\n"
     ]
    },
    {
     "data": {
      "application/vnd.jupyter.widget-view+json": {
       "model_id": "025b593986af4275832be93c27cdf78a",
       "version_major": 2,
       "version_minor": 0
      },
      "text/plain": [
       "Validating: 0it [00:00, ?it/s]"
      ]
     },
     "metadata": {},
     "output_type": "display_data"
    },
    {
     "name": "stdout",
     "output_type": "stream",
     "text": [
      "averaged metrics: {'loss_val': 0.0011, 'mape_val': 0.0505, 'mse_val': 0.0023, 'mae_val': 0.0385}\n"
     ]
    },
    {
     "data": {
      "application/vnd.jupyter.widget-view+json": {
       "model_id": "3cb3e204087e499086098e5273430d17",
       "version_major": 2,
       "version_minor": 0
      },
      "text/plain": [
       "Validating: 0it [00:00, ?it/s]"
      ]
     },
     "metadata": {},
     "output_type": "display_data"
    },
    {
     "name": "stdout",
     "output_type": "stream",
     "text": [
      "averaged metrics: {'loss_val': 0.0011, 'mape_val': 0.0492, 'mse_val': 0.0023, 'mae_val': 0.0378}\n"
     ]
    },
    {
     "data": {
      "application/vnd.jupyter.widget-view+json": {
       "model_id": "6ea4abe7ada147b398ac2e1af2616b72",
       "version_major": 2,
       "version_minor": 0
      },
      "text/plain": [
       "Validating: 0it [00:00, ?it/s]"
      ]
     },
     "metadata": {},
     "output_type": "display_data"
    },
    {
     "name": "stdout",
     "output_type": "stream",
     "text": [
      "averaged metrics: {'loss_val': 0.0012, 'mape_val': 0.0514, 'mse_val': 0.0024, 'mae_val': 0.0391}\n"
     ]
    },
    {
     "data": {
      "application/vnd.jupyter.widget-view+json": {
       "model_id": "4affec4a1e864373a063e83b657e6027",
       "version_major": 2,
       "version_minor": 0
      },
      "text/plain": [
       "Validating: 0it [00:00, ?it/s]"
      ]
     },
     "metadata": {},
     "output_type": "display_data"
    },
    {
     "name": "stdout",
     "output_type": "stream",
     "text": [
      "averaged metrics: {'loss_val': 0.0012, 'mape_val': 0.0525, 'mse_val': 0.0024, 'mae_val': 0.0397}\n"
     ]
    },
    {
     "data": {
      "application/vnd.jupyter.widget-view+json": {
       "model_id": "e876701515274c2ca7ebf163c7d58e54",
       "version_major": 2,
       "version_minor": 0
      },
      "text/plain": [
       "Validating: 0it [00:00, ?it/s]"
      ]
     },
     "metadata": {},
     "output_type": "display_data"
    },
    {
     "name": "stdout",
     "output_type": "stream",
     "text": [
      "averaged metrics: {'loss_val': 0.0012, 'mape_val': 0.0499, 'mse_val': 0.0023, 'mae_val': 0.0383}\n"
     ]
    },
    {
     "data": {
      "application/vnd.jupyter.widget-view+json": {
       "model_id": "8b362ebfb9144bee8c04ce0c51c5a24b",
       "version_major": 2,
       "version_minor": 0
      },
      "text/plain": [
       "Validating: 0it [00:00, ?it/s]"
      ]
     },
     "metadata": {},
     "output_type": "display_data"
    },
    {
     "name": "stdout",
     "output_type": "stream",
     "text": [
      "averaged metrics: {'loss_val': 0.0012, 'mape_val': 0.0496, 'mse_val': 0.0023, 'mae_val': 0.0382}\n"
     ]
    },
    {
     "data": {
      "application/vnd.jupyter.widget-view+json": {
       "model_id": "de50569a37854bbaaa1d826570a135c9",
       "version_major": 2,
       "version_minor": 0
      },
      "text/plain": [
       "Validating: 0it [00:00, ?it/s]"
      ]
     },
     "metadata": {},
     "output_type": "display_data"
    },
    {
     "name": "stdout",
     "output_type": "stream",
     "text": [
      "averaged metrics: {'loss_val': 0.0012, 'mape_val': 0.0499, 'mse_val': 0.0023, 'mae_val': 0.0382}\n"
     ]
    },
    {
     "data": {
      "application/vnd.jupyter.widget-view+json": {
       "model_id": "f066fbdb2ae24ade877cbf668bb63167",
       "version_major": 2,
       "version_minor": 0
      },
      "text/plain": [
       "Validating: 0it [00:00, ?it/s]"
      ]
     },
     "metadata": {},
     "output_type": "display_data"
    },
    {
     "name": "stdout",
     "output_type": "stream",
     "text": [
      "averaged metrics: {'loss_val': 0.0015, 'mape_val': 0.0539, 'mse_val': 0.0029, 'mae_val': 0.0422}\n"
     ]
    },
    {
     "data": {
      "application/vnd.jupyter.widget-view+json": {
       "model_id": "959c4ab8eca245118ca646b1649bd73f",
       "version_major": 2,
       "version_minor": 0
      },
      "text/plain": [
       "Validating: 0it [00:00, ?it/s]"
      ]
     },
     "metadata": {},
     "output_type": "display_data"
    },
    {
     "name": "stdout",
     "output_type": "stream",
     "text": [
      "averaged metrics: {'loss_val': 0.0012, 'mape_val': 0.052, 'mse_val': 0.0023, 'mae_val': 0.0395}\n"
     ]
    },
    {
     "data": {
      "application/vnd.jupyter.widget-view+json": {
       "model_id": "1224f19e80b141bfb4873c4b7c8c4b49",
       "version_major": 2,
       "version_minor": 0
      },
      "text/plain": [
       "Validating: 0it [00:00, ?it/s]"
      ]
     },
     "metadata": {},
     "output_type": "display_data"
    },
    {
     "name": "stdout",
     "output_type": "stream",
     "text": [
      "averaged metrics: {'loss_val': 0.0011, 'mape_val': 0.0492, 'mse_val': 0.0023, 'mae_val': 0.0379}\n"
     ]
    },
    {
     "data": {
      "application/vnd.jupyter.widget-view+json": {
       "model_id": "304c56f2bfb94fcab2acd13fa2820200",
       "version_major": 2,
       "version_minor": 0
      },
      "text/plain": [
       "Validating: 0it [00:00, ?it/s]"
      ]
     },
     "metadata": {},
     "output_type": "display_data"
    },
    {
     "name": "stdout",
     "output_type": "stream",
     "text": [
      "averaged metrics: {'loss_val': 0.0011, 'mape_val': 0.0495, 'mse_val': 0.0022, 'mae_val': 0.0379}\n"
     ]
    },
    {
     "data": {
      "application/vnd.jupyter.widget-view+json": {
       "model_id": "3e7258276365458bb1bc0b1af09e5225",
       "version_major": 2,
       "version_minor": 0
      },
      "text/plain": [
       "Validating: 0it [00:00, ?it/s]"
      ]
     },
     "metadata": {},
     "output_type": "display_data"
    },
    {
     "name": "stdout",
     "output_type": "stream",
     "text": [
      "averaged metrics: {'loss_val': 0.0011, 'mape_val': 0.0495, 'mse_val': 0.0023, 'mae_val': 0.0379}\n"
     ]
    },
    {
     "data": {
      "application/vnd.jupyter.widget-view+json": {
       "model_id": "68c05f88f45148f2a84cc876d66267f9",
       "version_major": 2,
       "version_minor": 0
      },
      "text/plain": [
       "Validating: 0it [00:00, ?it/s]"
      ]
     },
     "metadata": {},
     "output_type": "display_data"
    },
    {
     "name": "stdout",
     "output_type": "stream",
     "text": [
      "averaged metrics: {'loss_val': 0.0011, 'mape_val': 0.0508, 'mse_val': 0.0023, 'mae_val': 0.0386}\n"
     ]
    },
    {
     "data": {
      "application/vnd.jupyter.widget-view+json": {
       "model_id": "8b1894a155d740bda3289eaa2aff1f0e",
       "version_major": 2,
       "version_minor": 0
      },
      "text/plain": [
       "Validating: 0it [00:00, ?it/s]"
      ]
     },
     "metadata": {},
     "output_type": "display_data"
    },
    {
     "name": "stdout",
     "output_type": "stream",
     "text": [
      "averaged metrics: {'loss_val': 0.0012, 'mape_val': 0.0499, 'mse_val': 0.0024, 'mae_val': 0.0387}\n"
     ]
    },
    {
     "data": {
      "application/vnd.jupyter.widget-view+json": {
       "model_id": "d16357e10cb34d7e8a4ff4a11d77d57c",
       "version_major": 2,
       "version_minor": 0
      },
      "text/plain": [
       "Validating: 0it [00:00, ?it/s]"
      ]
     },
     "metadata": {},
     "output_type": "display_data"
    },
    {
     "name": "stdout",
     "output_type": "stream",
     "text": [
      "averaged metrics: {'loss_val': 0.0012, 'mape_val': 0.0506, 'mse_val': 0.0024, 'mae_val': 0.0391}\n"
     ]
    },
    {
     "data": {
      "application/vnd.jupyter.widget-view+json": {
       "model_id": "f876f1bd1c8e4357955f4baa5ceb1a94",
       "version_major": 2,
       "version_minor": 0
      },
      "text/plain": [
       "Validating: 0it [00:00, ?it/s]"
      ]
     },
     "metadata": {},
     "output_type": "display_data"
    },
    {
     "name": "stdout",
     "output_type": "stream",
     "text": [
      "averaged metrics: {'loss_val': 0.0011, 'mape_val': 0.0489, 'mse_val': 0.0023, 'mae_val': 0.0377}\n"
     ]
    },
    {
     "data": {
      "application/vnd.jupyter.widget-view+json": {
       "model_id": "2d821670e8bd4215a63f6408fbf30a99",
       "version_major": 2,
       "version_minor": 0
      },
      "text/plain": [
       "Validating: 0it [00:00, ?it/s]"
      ]
     },
     "metadata": {},
     "output_type": "display_data"
    },
    {
     "name": "stdout",
     "output_type": "stream",
     "text": [
      "averaged metrics: {'loss_val': 0.0011, 'mape_val': 0.0495, 'mse_val': 0.0023, 'mae_val': 0.038}\n"
     ]
    },
    {
     "data": {
      "application/vnd.jupyter.widget-view+json": {
       "model_id": "43adffa6a91a4046ab895f0a72b40e33",
       "version_major": 2,
       "version_minor": 0
      },
      "text/plain": [
       "Validating: 0it [00:00, ?it/s]"
      ]
     },
     "metadata": {},
     "output_type": "display_data"
    },
    {
     "name": "stdout",
     "output_type": "stream",
     "text": [
      "averaged metrics: {'loss_val': 0.0012, 'mape_val': 0.0496, 'mse_val': 0.0025, 'mae_val': 0.0384}\n"
     ]
    },
    {
     "data": {
      "application/vnd.jupyter.widget-view+json": {
       "model_id": "dc1d85f5188745b5b79750ae55db66f3",
       "version_major": 2,
       "version_minor": 0
      },
      "text/plain": [
       "Validating: 0it [00:00, ?it/s]"
      ]
     },
     "metadata": {},
     "output_type": "display_data"
    },
    {
     "name": "stdout",
     "output_type": "stream",
     "text": [
      "averaged metrics: {'loss_val': 0.0011, 'mape_val': 0.0489, 'mse_val': 0.0023, 'mae_val': 0.0377}\n"
     ]
    },
    {
     "data": {
      "application/vnd.jupyter.widget-view+json": {
       "model_id": "503f0d4ab2744feebceeb1075556db55",
       "version_major": 2,
       "version_minor": 0
      },
      "text/plain": [
       "Validating: 0it [00:00, ?it/s]"
      ]
     },
     "metadata": {},
     "output_type": "display_data"
    },
    {
     "name": "stdout",
     "output_type": "stream",
     "text": [
      "averaged metrics: {'loss_val': 0.0012, 'mape_val': 0.0526, 'mse_val': 0.0025, 'mae_val': 0.0403}\n"
     ]
    },
    {
     "data": {
      "application/vnd.jupyter.widget-view+json": {
       "model_id": "a9ddd46d189a464f96639f33046d4060",
       "version_major": 2,
       "version_minor": 0
      },
      "text/plain": [
       "Validating: 0it [00:00, ?it/s]"
      ]
     },
     "metadata": {},
     "output_type": "display_data"
    },
    {
     "name": "stdout",
     "output_type": "stream",
     "text": [
      "averaged metrics: {'loss_val': 0.0012, 'mape_val': 0.0494, 'mse_val': 0.0023, 'mae_val': 0.038}\n"
     ]
    },
    {
     "data": {
      "application/vnd.jupyter.widget-view+json": {
       "model_id": "38301fa8215d445893144010e1aa6270",
       "version_major": 2,
       "version_minor": 0
      },
      "text/plain": [
       "Validating: 0it [00:00, ?it/s]"
      ]
     },
     "metadata": {},
     "output_type": "display_data"
    },
    {
     "name": "stdout",
     "output_type": "stream",
     "text": [
      "averaged metrics: {'loss_val': 0.0011, 'mape_val': 0.0494, 'mse_val': 0.0022, 'mae_val': 0.0379}\n"
     ]
    },
    {
     "data": {
      "application/vnd.jupyter.widget-view+json": {
       "model_id": "e8e5c760ecd342c2ac486537b57ee491",
       "version_major": 2,
       "version_minor": 0
      },
      "text/plain": [
       "Validating: 0it [00:00, ?it/s]"
      ]
     },
     "metadata": {},
     "output_type": "display_data"
    },
    {
     "name": "stdout",
     "output_type": "stream",
     "text": [
      "averaged metrics: {'loss_val': 0.0012, 'mape_val': 0.0494, 'mse_val': 0.0023, 'mae_val': 0.0378}\n"
     ]
    },
    {
     "data": {
      "application/vnd.jupyter.widget-view+json": {
       "model_id": "fc9be09ba6a143a0ac879291480db94f",
       "version_major": 2,
       "version_minor": 0
      },
      "text/plain": [
       "Validating: 0it [00:00, ?it/s]"
      ]
     },
     "metadata": {},
     "output_type": "display_data"
    },
    {
     "name": "stdout",
     "output_type": "stream",
     "text": [
      "averaged metrics: {'loss_val': 0.0013, 'mape_val': 0.0508, 'mse_val': 0.0026, 'mae_val': 0.0397}\n"
     ]
    },
    {
     "data": {
      "application/vnd.jupyter.widget-view+json": {
       "model_id": "430b7e3399d043ca9e0e79fa8e61aa9b",
       "version_major": 2,
       "version_minor": 0
      },
      "text/plain": [
       "Validating: 0it [00:00, ?it/s]"
      ]
     },
     "metadata": {},
     "output_type": "display_data"
    },
    {
     "name": "stdout",
     "output_type": "stream",
     "text": [
      "averaged metrics: {'loss_val': 0.0012, 'mape_val': 0.0493, 'mse_val': 0.0024, 'mae_val': 0.0383}\n"
     ]
    },
    {
     "data": {
      "application/vnd.jupyter.widget-view+json": {
       "model_id": "8b92b4550d6b4d8c912f1b314ca1615e",
       "version_major": 2,
       "version_minor": 0
      },
      "text/plain": [
       "Validating: 0it [00:00, ?it/s]"
      ]
     },
     "metadata": {},
     "output_type": "display_data"
    },
    {
     "name": "stdout",
     "output_type": "stream",
     "text": [
      "averaged metrics: {'loss_val': 0.0011, 'mape_val': 0.0506, 'mse_val': 0.0023, 'mae_val': 0.0386}\n"
     ]
    },
    {
     "data": {
      "application/vnd.jupyter.widget-view+json": {
       "model_id": "a58bcee27a34447f88c5943cc497599d",
       "version_major": 2,
       "version_minor": 0
      },
      "text/plain": [
       "Validating: 0it [00:00, ?it/s]"
      ]
     },
     "metadata": {},
     "output_type": "display_data"
    },
    {
     "name": "stdout",
     "output_type": "stream",
     "text": [
      "averaged metrics: {'loss_val': 0.0012, 'mape_val': 0.0488, 'mse_val': 0.0023, 'mae_val': 0.0378}\n"
     ]
    },
    {
     "data": {
      "application/vnd.jupyter.widget-view+json": {
       "model_id": "944197f737f3419e88f31db351349383",
       "version_major": 2,
       "version_minor": 0
      },
      "text/plain": [
       "Validating: 0it [00:00, ?it/s]"
      ]
     },
     "metadata": {},
     "output_type": "display_data"
    },
    {
     "name": "stdout",
     "output_type": "stream",
     "text": [
      "averaged metrics: {'loss_val': 0.0014, 'mape_val': 0.0517, 'mse_val': 0.0028, 'mae_val': 0.0406}\n"
     ]
    },
    {
     "data": {
      "application/vnd.jupyter.widget-view+json": {
       "model_id": "6f5b5ea371fb4ce3ace13b1bc95632ff",
       "version_major": 2,
       "version_minor": 0
      },
      "text/plain": [
       "Validating: 0it [00:00, ?it/s]"
      ]
     },
     "metadata": {},
     "output_type": "display_data"
    },
    {
     "name": "stdout",
     "output_type": "stream",
     "text": [
      "averaged metrics: {'loss_val': 0.0011, 'mape_val': 0.0507, 'mse_val': 0.0023, 'mae_val': 0.0386}\n"
     ]
    },
    {
     "data": {
      "application/vnd.jupyter.widget-view+json": {
       "model_id": "29ee34598e304cd0919e4c2b1f34ac6f",
       "version_major": 2,
       "version_minor": 0
      },
      "text/plain": [
       "Validating: 0it [00:00, ?it/s]"
      ]
     },
     "metadata": {},
     "output_type": "display_data"
    },
    {
     "name": "stdout",
     "output_type": "stream",
     "text": [
      "averaged metrics: {'loss_val': 0.0012, 'mape_val': 0.0515, 'mse_val': 0.0023, 'mae_val': 0.0392}\n"
     ]
    },
    {
     "data": {
      "application/vnd.jupyter.widget-view+json": {
       "model_id": "d70f76d25a264715b7dd9b623b452f1b",
       "version_major": 2,
       "version_minor": 0
      },
      "text/plain": [
       "Validating: 0it [00:00, ?it/s]"
      ]
     },
     "metadata": {},
     "output_type": "display_data"
    },
    {
     "name": "stdout",
     "output_type": "stream",
     "text": [
      "averaged metrics: {'loss_val': 0.0012, 'mape_val': 0.0489, 'mse_val': 0.0023, 'mae_val': 0.0378}\n"
     ]
    },
    {
     "data": {
      "application/vnd.jupyter.widget-view+json": {
       "model_id": "3516c88d0c8949e79084ae9a438b00b3",
       "version_major": 2,
       "version_minor": 0
      },
      "text/plain": [
       "Validating: 0it [00:00, ?it/s]"
      ]
     },
     "metadata": {},
     "output_type": "display_data"
    },
    {
     "name": "stdout",
     "output_type": "stream",
     "text": [
      "averaged metrics: {'loss_val': 0.0011, 'mape_val': 0.0492, 'mse_val': 0.0022, 'mae_val': 0.0377}\n"
     ]
    },
    {
     "data": {
      "application/vnd.jupyter.widget-view+json": {
       "model_id": "c3d98cf6a14c43ee99d98bebf1a2c5ae",
       "version_major": 2,
       "version_minor": 0
      },
      "text/plain": [
       "Validating: 0it [00:00, ?it/s]"
      ]
     },
     "metadata": {},
     "output_type": "display_data"
    },
    {
     "name": "stdout",
     "output_type": "stream",
     "text": [
      "averaged metrics: {'loss_val': 0.0011, 'mape_val': 0.0495, 'mse_val': 0.0023, 'mae_val': 0.0379}\n"
     ]
    },
    {
     "data": {
      "application/vnd.jupyter.widget-view+json": {
       "model_id": "f60a4be6a6a540238d2199fbbfd37656",
       "version_major": 2,
       "version_minor": 0
      },
      "text/plain": [
       "Validating: 0it [00:00, ?it/s]"
      ]
     },
     "metadata": {},
     "output_type": "display_data"
    },
    {
     "name": "stdout",
     "output_type": "stream",
     "text": [
      "averaged metrics: {'loss_val': 0.0013, 'mape_val': 0.0539, 'mse_val': 0.0025, 'mae_val': 0.0411}\n"
     ]
    },
    {
     "data": {
      "application/vnd.jupyter.widget-view+json": {
       "model_id": "3685d08bb5684006ad41f343709883ed",
       "version_major": 2,
       "version_minor": 0
      },
      "text/plain": [
       "Validating: 0it [00:00, ?it/s]"
      ]
     },
     "metadata": {},
     "output_type": "display_data"
    },
    {
     "name": "stdout",
     "output_type": "stream",
     "text": [
      "averaged metrics: {'loss_val': 0.0012, 'mape_val': 0.0512, 'mse_val': 0.0025, 'mae_val': 0.0395}\n"
     ]
    },
    {
     "data": {
      "application/vnd.jupyter.widget-view+json": {
       "model_id": "14e075007ba7412db7b00d913e839a8f",
       "version_major": 2,
       "version_minor": 0
      },
      "text/plain": [
       "Validating: 0it [00:00, ?it/s]"
      ]
     },
     "metadata": {},
     "output_type": "display_data"
    },
    {
     "name": "stdout",
     "output_type": "stream",
     "text": [
      "averaged metrics: {'loss_val': 0.0011, 'mape_val': 0.0486, 'mse_val': 0.0022, 'mae_val': 0.0374}\n"
     ]
    },
    {
     "data": {
      "application/vnd.jupyter.widget-view+json": {
       "model_id": "d5428546ac10457aa44980400b9d18a5",
       "version_major": 2,
       "version_minor": 0
      },
      "text/plain": [
       "Validating: 0it [00:00, ?it/s]"
      ]
     },
     "metadata": {},
     "output_type": "display_data"
    },
    {
     "name": "stdout",
     "output_type": "stream",
     "text": [
      "averaged metrics: {'loss_val': 0.0011, 'mape_val': 0.0489, 'mse_val': 0.0022, 'mae_val': 0.0376}\n"
     ]
    },
    {
     "data": {
      "application/vnd.jupyter.widget-view+json": {
       "model_id": "7b6d7c92eb17496cb66c69576037073d",
       "version_major": 2,
       "version_minor": 0
      },
      "text/plain": [
       "Validating: 0it [00:00, ?it/s]"
      ]
     },
     "metadata": {},
     "output_type": "display_data"
    },
    {
     "name": "stdout",
     "output_type": "stream",
     "text": [
      "averaged metrics: {'loss_val': 0.0011, 'mape_val': 0.0481, 'mse_val': 0.0022, 'mae_val': 0.0371}\n"
     ]
    },
    {
     "data": {
      "application/vnd.jupyter.widget-view+json": {
       "model_id": "2eae47fdb41548e295dc0132834a205a",
       "version_major": 2,
       "version_minor": 0
      },
      "text/plain": [
       "Validating: 0it [00:00, ?it/s]"
      ]
     },
     "metadata": {},
     "output_type": "display_data"
    },
    {
     "name": "stdout",
     "output_type": "stream",
     "text": [
      "averaged metrics: {'loss_val': 0.0011, 'mape_val': 0.0486, 'mse_val': 0.0022, 'mae_val': 0.0375}\n"
     ]
    },
    {
     "data": {
      "application/vnd.jupyter.widget-view+json": {
       "model_id": "5b2eb0596d284a47843e7a15c4ffa3e7",
       "version_major": 2,
       "version_minor": 0
      },
      "text/plain": [
       "Validating: 0it [00:00, ?it/s]"
      ]
     },
     "metadata": {},
     "output_type": "display_data"
    },
    {
     "name": "stdout",
     "output_type": "stream",
     "text": [
      "averaged metrics: {'loss_val': 0.0011, 'mape_val': 0.0495, 'mse_val': 0.0022, 'mae_val': 0.0379}\n"
     ]
    },
    {
     "data": {
      "application/vnd.jupyter.widget-view+json": {
       "model_id": "86ca476868bf4300b3cdddbab1fd2847",
       "version_major": 2,
       "version_minor": 0
      },
      "text/plain": [
       "Validating: 0it [00:00, ?it/s]"
      ]
     },
     "metadata": {},
     "output_type": "display_data"
    },
    {
     "name": "stdout",
     "output_type": "stream",
     "text": [
      "averaged metrics: {'loss_val': 0.0012, 'mape_val': 0.0484, 'mse_val': 0.0023, 'mae_val': 0.0376}\n"
     ]
    },
    {
     "data": {
      "application/vnd.jupyter.widget-view+json": {
       "model_id": "82f2305b6d8f4953bfb7e36c54484d27",
       "version_major": 2,
       "version_minor": 0
      },
      "text/plain": [
       "Validating: 0it [00:00, ?it/s]"
      ]
     },
     "metadata": {},
     "output_type": "display_data"
    },
    {
     "name": "stdout",
     "output_type": "stream",
     "text": [
      "averaged metrics: {'loss_val': 0.0011, 'mape_val': 0.049, 'mse_val': 0.0022, 'mae_val': 0.0376}\n"
     ]
    },
    {
     "data": {
      "application/vnd.jupyter.widget-view+json": {
       "model_id": "9964beb7ab3a4cb5ade2e1d632a27af0",
       "version_major": 2,
       "version_minor": 0
      },
      "text/plain": [
       "Validating: 0it [00:00, ?it/s]"
      ]
     },
     "metadata": {},
     "output_type": "display_data"
    },
    {
     "name": "stdout",
     "output_type": "stream",
     "text": [
      "averaged metrics: {'loss_val': 0.0015, 'mape_val': 0.0538, 'mse_val': 0.0029, 'mae_val': 0.042}\n"
     ]
    },
    {
     "data": {
      "application/vnd.jupyter.widget-view+json": {
       "model_id": "19d877f6cb5e461e9a247102e00336f6",
       "version_major": 2,
       "version_minor": 0
      },
      "text/plain": [
       "Validating: 0it [00:00, ?it/s]"
      ]
     },
     "metadata": {},
     "output_type": "display_data"
    },
    {
     "name": "stdout",
     "output_type": "stream",
     "text": [
      "averaged metrics: {'loss_val': 0.0011, 'mape_val': 0.0498, 'mse_val': 0.0023, 'mae_val': 0.0381}\n"
     ]
    },
    {
     "data": {
      "application/vnd.jupyter.widget-view+json": {
       "model_id": "125b2bf31a1b4a09ad3e3cb02e4c1d20",
       "version_major": 2,
       "version_minor": 0
      },
      "text/plain": [
       "Validating: 0it [00:00, ?it/s]"
      ]
     },
     "metadata": {},
     "output_type": "display_data"
    },
    {
     "name": "stdout",
     "output_type": "stream",
     "text": [
      "averaged metrics: {'loss_val': 0.0012, 'mape_val': 0.0506, 'mse_val': 0.0023, 'mae_val': 0.0388}\n"
     ]
    },
    {
     "data": {
      "application/vnd.jupyter.widget-view+json": {
       "model_id": "96e0cee4f5a94a1b80799ed8354239b0",
       "version_major": 2,
       "version_minor": 0
      },
      "text/plain": [
       "Validating: 0it [00:00, ?it/s]"
      ]
     },
     "metadata": {},
     "output_type": "display_data"
    },
    {
     "name": "stdout",
     "output_type": "stream",
     "text": [
      "averaged metrics: {'loss_val': 0.0011, 'mape_val': 0.0485, 'mse_val': 0.0022, 'mae_val': 0.0373}\n"
     ]
    },
    {
     "data": {
      "application/vnd.jupyter.widget-view+json": {
       "model_id": "e5822a55864e4621b1e0d48e3ef9c8cc",
       "version_major": 2,
       "version_minor": 0
      },
      "text/plain": [
       "Validating: 0it [00:00, ?it/s]"
      ]
     },
     "metadata": {},
     "output_type": "display_data"
    },
    {
     "name": "stdout",
     "output_type": "stream",
     "text": [
      "averaged metrics: {'loss_val': 0.0011, 'mape_val': 0.0492, 'mse_val': 0.0022, 'mae_val': 0.0376}\n"
     ]
    },
    {
     "data": {
      "application/vnd.jupyter.widget-view+json": {
       "model_id": "f2a4cd0ac3ed4d55919aa20ca247abf3",
       "version_major": 2,
       "version_minor": 0
      },
      "text/plain": [
       "Validating: 0it [00:00, ?it/s]"
      ]
     },
     "metadata": {},
     "output_type": "display_data"
    },
    {
     "name": "stdout",
     "output_type": "stream",
     "text": [
      "averaged metrics: {'loss_val': 0.0015, 'mape_val': 0.0531, 'mse_val': 0.0029, 'mae_val': 0.0416}\n"
     ]
    },
    {
     "data": {
      "application/vnd.jupyter.widget-view+json": {
       "model_id": "6ffd0fac176246faadb89376f974b119",
       "version_major": 2,
       "version_minor": 0
      },
      "text/plain": [
       "Validating: 0it [00:00, ?it/s]"
      ]
     },
     "metadata": {},
     "output_type": "display_data"
    },
    {
     "name": "stdout",
     "output_type": "stream",
     "text": [
      "averaged metrics: {'loss_val': 0.0012, 'mape_val': 0.0491, 'mse_val': 0.0025, 'mae_val': 0.0383}\n"
     ]
    },
    {
     "data": {
      "application/vnd.jupyter.widget-view+json": {
       "model_id": "b07656d23a5e4cfe9e84b53963eae197",
       "version_major": 2,
       "version_minor": 0
      },
      "text/plain": [
       "Validating: 0it [00:00, ?it/s]"
      ]
     },
     "metadata": {},
     "output_type": "display_data"
    },
    {
     "name": "stdout",
     "output_type": "stream",
     "text": [
      "averaged metrics: {'loss_val': 0.0012, 'mape_val': 0.0501, 'mse_val': 0.0023, 'mae_val': 0.0387}\n"
     ]
    },
    {
     "data": {
      "application/vnd.jupyter.widget-view+json": {
       "model_id": "c27d956d0f0c431abc96d4981e36fa4c",
       "version_major": 2,
       "version_minor": 0
      },
      "text/plain": [
       "Validating: 0it [00:00, ?it/s]"
      ]
     },
     "metadata": {},
     "output_type": "display_data"
    },
    {
     "name": "stdout",
     "output_type": "stream",
     "text": [
      "averaged metrics: {'loss_val': 0.0011, 'mape_val': 0.0484, 'mse_val': 0.0022, 'mae_val': 0.0373}\n"
     ]
    },
    {
     "data": {
      "application/vnd.jupyter.widget-view+json": {
       "model_id": "68ed2ad061d449b0808d79394733b9ec",
       "version_major": 2,
       "version_minor": 0
      },
      "text/plain": [
       "Validating: 0it [00:00, ?it/s]"
      ]
     },
     "metadata": {},
     "output_type": "display_data"
    },
    {
     "name": "stdout",
     "output_type": "stream",
     "text": [
      "averaged metrics: {'loss_val': 0.0011, 'mape_val': 0.0494, 'mse_val': 0.0023, 'mae_val': 0.0379}\n"
     ]
    },
    {
     "data": {
      "application/vnd.jupyter.widget-view+json": {
       "model_id": "d5693437bfbb42bb85ec1b43b420c3e0",
       "version_major": 2,
       "version_minor": 0
      },
      "text/plain": [
       "Validating: 0it [00:00, ?it/s]"
      ]
     },
     "metadata": {},
     "output_type": "display_data"
    },
    {
     "name": "stdout",
     "output_type": "stream",
     "text": [
      "averaged metrics: {'loss_val': 0.0011, 'mape_val': 0.0475, 'mse_val': 0.0022, 'mae_val': 0.0369}\n"
     ]
    },
    {
     "data": {
      "application/vnd.jupyter.widget-view+json": {
       "model_id": "cb440a588ab24b06b42fbb9e31a532f2",
       "version_major": 2,
       "version_minor": 0
      },
      "text/plain": [
       "Validating: 0it [00:00, ?it/s]"
      ]
     },
     "metadata": {},
     "output_type": "display_data"
    },
    {
     "name": "stdout",
     "output_type": "stream",
     "text": [
      "averaged metrics: {'loss_val': 0.0013, 'mape_val': 0.0506, 'mse_val': 0.0026, 'mae_val': 0.0394}\n"
     ]
    },
    {
     "data": {
      "application/vnd.jupyter.widget-view+json": {
       "model_id": "bf01eaca0ca34f4395aac82e8c161aa5",
       "version_major": 2,
       "version_minor": 0
      },
      "text/plain": [
       "Validating: 0it [00:00, ?it/s]"
      ]
     },
     "metadata": {},
     "output_type": "display_data"
    },
    {
     "name": "stdout",
     "output_type": "stream",
     "text": [
      "averaged metrics: {'loss_val': 0.0011, 'mape_val': 0.0498, 'mse_val': 0.0023, 'mae_val': 0.0381}\n"
     ]
    },
    {
     "data": {
      "application/vnd.jupyter.widget-view+json": {
       "model_id": "63b15a9947b54fa088e18282fcf42499",
       "version_major": 2,
       "version_minor": 0
      },
      "text/plain": [
       "Validating: 0it [00:00, ?it/s]"
      ]
     },
     "metadata": {},
     "output_type": "display_data"
    },
    {
     "name": "stdout",
     "output_type": "stream",
     "text": [
      "averaged metrics: {'loss_val': 0.0011, 'mape_val': 0.0487, 'mse_val': 0.0023, 'mae_val': 0.0375}\n"
     ]
    },
    {
     "data": {
      "application/vnd.jupyter.widget-view+json": {
       "model_id": "e267d78a70664081bd96fd8bb2fc7892",
       "version_major": 2,
       "version_minor": 0
      },
      "text/plain": [
       "Validating: 0it [00:00, ?it/s]"
      ]
     },
     "metadata": {},
     "output_type": "display_data"
    },
    {
     "name": "stdout",
     "output_type": "stream",
     "text": [
      "averaged metrics: {'loss_val': 0.0011, 'mape_val': 0.0502, 'mse_val': 0.0023, 'mae_val': 0.0384}\n"
     ]
    },
    {
     "data": {
      "application/vnd.jupyter.widget-view+json": {
       "model_id": "4b2a3929411f4b89a0df3bf504e1d334",
       "version_major": 2,
       "version_minor": 0
      },
      "text/plain": [
       "Validating: 0it [00:00, ?it/s]"
      ]
     },
     "metadata": {},
     "output_type": "display_data"
    },
    {
     "name": "stdout",
     "output_type": "stream",
     "text": [
      "averaged metrics: {'loss_val': 0.0012, 'mape_val': 0.0502, 'mse_val': 0.0023, 'mae_val': 0.0387}\n"
     ]
    },
    {
     "data": {
      "application/vnd.jupyter.widget-view+json": {
       "model_id": "645cf34e2199478e9efdfcb9d075c654",
       "version_major": 2,
       "version_minor": 0
      },
      "text/plain": [
       "Validating: 0it [00:00, ?it/s]"
      ]
     },
     "metadata": {},
     "output_type": "display_data"
    },
    {
     "name": "stdout",
     "output_type": "stream",
     "text": [
      "averaged metrics: {'loss_val': 0.0012, 'mape_val': 0.048, 'mse_val': 0.0023, 'mae_val': 0.0373}\n"
     ]
    },
    {
     "data": {
      "application/vnd.jupyter.widget-view+json": {
       "model_id": "82b8c5b9cb66482b97c8731919555b6f",
       "version_major": 2,
       "version_minor": 0
      },
      "text/plain": [
       "Validating: 0it [00:00, ?it/s]"
      ]
     },
     "metadata": {},
     "output_type": "display_data"
    },
    {
     "name": "stdout",
     "output_type": "stream",
     "text": [
      "averaged metrics: {'loss_val': 0.0011, 'mape_val': 0.0494, 'mse_val': 0.0023, 'mae_val': 0.0379}\n"
     ]
    },
    {
     "data": {
      "application/vnd.jupyter.widget-view+json": {
       "model_id": "ebb8fc08cec447cfa7e418102373112b",
       "version_major": 2,
       "version_minor": 0
      },
      "text/plain": [
       "Validating: 0it [00:00, ?it/s]"
      ]
     },
     "metadata": {},
     "output_type": "display_data"
    },
    {
     "name": "stdout",
     "output_type": "stream",
     "text": [
      "averaged metrics: {'loss_val': 0.0011, 'mape_val': 0.0479, 'mse_val': 0.0022, 'mae_val': 0.037}\n"
     ]
    },
    {
     "data": {
      "application/vnd.jupyter.widget-view+json": {
       "model_id": "03f2084d24f74d6099cbda07ca8dd767",
       "version_major": 2,
       "version_minor": 0
      },
      "text/plain": [
       "Validating: 0it [00:00, ?it/s]"
      ]
     },
     "metadata": {},
     "output_type": "display_data"
    },
    {
     "name": "stdout",
     "output_type": "stream",
     "text": [
      "averaged metrics: {'loss_val': 0.0011, 'mape_val': 0.0484, 'mse_val': 0.0022, 'mae_val': 0.0373}\n"
     ]
    },
    {
     "data": {
      "application/vnd.jupyter.widget-view+json": {
       "model_id": "5c732f159030471da7ae248db980bbd1",
       "version_major": 2,
       "version_minor": 0
      },
      "text/plain": [
       "Validating: 0it [00:00, ?it/s]"
      ]
     },
     "metadata": {},
     "output_type": "display_data"
    },
    {
     "name": "stdout",
     "output_type": "stream",
     "text": [
      "averaged metrics: {'loss_val': 0.0012, 'mape_val': 0.0483, 'mse_val': 0.0024, 'mae_val': 0.0376}\n"
     ]
    },
    {
     "data": {
      "application/vnd.jupyter.widget-view+json": {
       "model_id": "0f03bebaf31242d7bef4e9c2ae547a3a",
       "version_major": 2,
       "version_minor": 0
      },
      "text/plain": [
       "Validating: 0it [00:00, ?it/s]"
      ]
     },
     "metadata": {},
     "output_type": "display_data"
    },
    {
     "name": "stdout",
     "output_type": "stream",
     "text": [
      "averaged metrics: {'loss_val': 0.0012, 'mape_val': 0.0491, 'mse_val': 0.0023, 'mae_val': 0.0382}\n"
     ]
    },
    {
     "data": {
      "application/vnd.jupyter.widget-view+json": {
       "model_id": "42430a5ee5564be581462675d86e4d5c",
       "version_major": 2,
       "version_minor": 0
      },
      "text/plain": [
       "Validating: 0it [00:00, ?it/s]"
      ]
     },
     "metadata": {},
     "output_type": "display_data"
    },
    {
     "name": "stdout",
     "output_type": "stream",
     "text": [
      "averaged metrics: {'loss_val': 0.0012, 'mape_val': 0.0499, 'mse_val': 0.0024, 'mae_val': 0.0384}\n"
     ]
    },
    {
     "data": {
      "application/vnd.jupyter.widget-view+json": {
       "model_id": "b0f6d2bc5450445fa50a65379b85e55e",
       "version_major": 2,
       "version_minor": 0
      },
      "text/plain": [
       "Validating: 0it [00:00, ?it/s]"
      ]
     },
     "metadata": {},
     "output_type": "display_data"
    },
    {
     "name": "stdout",
     "output_type": "stream",
     "text": [
      "averaged metrics: {'loss_val': 0.0012, 'mape_val': 0.0508, 'mse_val': 0.0023, 'mae_val': 0.0388}\n"
     ]
    },
    {
     "data": {
      "application/vnd.jupyter.widget-view+json": {
       "model_id": "30ffe73ed2524ba7b7ecfb6cf6b25d3c",
       "version_major": 2,
       "version_minor": 0
      },
      "text/plain": [
       "Validating: 0it [00:00, ?it/s]"
      ]
     },
     "metadata": {},
     "output_type": "display_data"
    },
    {
     "name": "stdout",
     "output_type": "stream",
     "text": [
      "averaged metrics: {'loss_val': 0.0011, 'mape_val': 0.049, 'mse_val': 0.0022, 'mae_val': 0.0376}\n"
     ]
    },
    {
     "data": {
      "application/vnd.jupyter.widget-view+json": {
       "model_id": "35d9bf1be4b74cec8ab8fee74a5f05ca",
       "version_major": 2,
       "version_minor": 0
      },
      "text/plain": [
       "Validating: 0it [00:00, ?it/s]"
      ]
     },
     "metadata": {},
     "output_type": "display_data"
    },
    {
     "name": "stdout",
     "output_type": "stream",
     "text": [
      "averaged metrics: {'loss_val': 0.0012, 'mape_val': 0.0515, 'mse_val': 0.0024, 'mae_val': 0.0394}\n"
     ]
    },
    {
     "data": {
      "application/vnd.jupyter.widget-view+json": {
       "model_id": "f4bb6051b3a542558cb637f94cc7e748",
       "version_major": 2,
       "version_minor": 0
      },
      "text/plain": [
       "Validating: 0it [00:00, ?it/s]"
      ]
     },
     "metadata": {},
     "output_type": "display_data"
    },
    {
     "name": "stdout",
     "output_type": "stream",
     "text": [
      "averaged metrics: {'loss_val': 0.0015, 'mape_val': 0.0539, 'mse_val': 0.0031, 'mae_val': 0.0427}\n"
     ]
    },
    {
     "data": {
      "application/vnd.jupyter.widget-view+json": {
       "model_id": "6bcb26b334a2481fae0f88f0a121fe7b",
       "version_major": 2,
       "version_minor": 0
      },
      "text/plain": [
       "Validating: 0it [00:00, ?it/s]"
      ]
     },
     "metadata": {},
     "output_type": "display_data"
    },
    {
     "name": "stdout",
     "output_type": "stream",
     "text": [
      "averaged metrics: {'loss_val': 0.0011, 'mape_val': 0.048, 'mse_val': 0.0022, 'mae_val': 0.0371}\n"
     ]
    },
    {
     "data": {
      "application/vnd.jupyter.widget-view+json": {
       "model_id": "eefdb31e662643cf8839fe46642658e5",
       "version_major": 2,
       "version_minor": 0
      },
      "text/plain": [
       "Validating: 0it [00:00, ?it/s]"
      ]
     },
     "metadata": {},
     "output_type": "display_data"
    },
    {
     "name": "stdout",
     "output_type": "stream",
     "text": [
      "averaged metrics: {'loss_val': 0.0011, 'mape_val': 0.0483, 'mse_val': 0.0023, 'mae_val': 0.0373}\n"
     ]
    },
    {
     "data": {
      "application/vnd.jupyter.widget-view+json": {
       "model_id": "defe0114b2df4e6e9295cbbfcd985f60",
       "version_major": 2,
       "version_minor": 0
      },
      "text/plain": [
       "Validating: 0it [00:00, ?it/s]"
      ]
     },
     "metadata": {},
     "output_type": "display_data"
    },
    {
     "name": "stdout",
     "output_type": "stream",
     "text": [
      "averaged metrics: {'loss_val': 0.0011, 'mape_val': 0.0485, 'mse_val': 0.0022, 'mae_val': 0.0372}\n"
     ]
    },
    {
     "data": {
      "application/vnd.jupyter.widget-view+json": {
       "model_id": "8718c3092cd84ee1a2003b4f0d6dfefb",
       "version_major": 2,
       "version_minor": 0
      },
      "text/plain": [
       "Validating: 0it [00:00, ?it/s]"
      ]
     },
     "metadata": {},
     "output_type": "display_data"
    },
    {
     "name": "stdout",
     "output_type": "stream",
     "text": [
      "averaged metrics: {'loss_val': 0.0013, 'mape_val': 0.0508, 'mse_val': 0.0025, 'mae_val': 0.0394}\n"
     ]
    },
    {
     "data": {
      "application/vnd.jupyter.widget-view+json": {
       "model_id": "5fca9221d2c54a39bd40d16727af5097",
       "version_major": 2,
       "version_minor": 0
      },
      "text/plain": [
       "Validating: 0it [00:00, ?it/s]"
      ]
     },
     "metadata": {},
     "output_type": "display_data"
    },
    {
     "name": "stdout",
     "output_type": "stream",
     "text": [
      "averaged metrics: {'loss_val': 0.0011, 'mape_val': 0.0491, 'mse_val': 0.0022, 'mae_val': 0.0375}\n"
     ]
    },
    {
     "data": {
      "application/vnd.jupyter.widget-view+json": {
       "model_id": "c293bcdb42744d9dbbe27f7fbb94adde",
       "version_major": 2,
       "version_minor": 0
      },
      "text/plain": [
       "Validating: 0it [00:00, ?it/s]"
      ]
     },
     "metadata": {},
     "output_type": "display_data"
    },
    {
     "name": "stdout",
     "output_type": "stream",
     "text": [
      "averaged metrics: {'loss_val': 0.0011, 'mape_val': 0.0484, 'mse_val': 0.0022, 'mae_val': 0.0373}\n"
     ]
    },
    {
     "data": {
      "application/vnd.jupyter.widget-view+json": {
       "model_id": "3ea0ae25b6ed4a38b5a49def5c5b56f2",
       "version_major": 2,
       "version_minor": 0
      },
      "text/plain": [
       "Validating: 0it [00:00, ?it/s]"
      ]
     },
     "metadata": {},
     "output_type": "display_data"
    },
    {
     "name": "stdout",
     "output_type": "stream",
     "text": [
      "averaged metrics: {'loss_val': 0.0012, 'mape_val': 0.0519, 'mse_val': 0.0024, 'mae_val': 0.0395}\n"
     ]
    },
    {
     "data": {
      "application/vnd.jupyter.widget-view+json": {
       "model_id": "9eb4a6f8a25b4431996346cf01ce1aca",
       "version_major": 2,
       "version_minor": 0
      },
      "text/plain": [
       "Validating: 0it [00:00, ?it/s]"
      ]
     },
     "metadata": {},
     "output_type": "display_data"
    },
    {
     "name": "stdout",
     "output_type": "stream",
     "text": [
      "averaged metrics: {'loss_val': 0.0011, 'mape_val': 0.0481, 'mse_val': 0.0022, 'mae_val': 0.0371}\n"
     ]
    },
    {
     "data": {
      "application/vnd.jupyter.widget-view+json": {
       "model_id": "b610894f568d4b518e03eb6096e57c53",
       "version_major": 2,
       "version_minor": 0
      },
      "text/plain": [
       "Validating: 0it [00:00, ?it/s]"
      ]
     },
     "metadata": {},
     "output_type": "display_data"
    },
    {
     "name": "stdout",
     "output_type": "stream",
     "text": [
      "averaged metrics: {'loss_val': 0.0011, 'mape_val': 0.0505, 'mse_val': 0.0023, 'mae_val': 0.0385}\n"
     ]
    },
    {
     "data": {
      "application/vnd.jupyter.widget-view+json": {
       "model_id": "c88d2f62582d4e7898dd540c8461ace8",
       "version_major": 2,
       "version_minor": 0
      },
      "text/plain": [
       "Validating: 0it [00:00, ?it/s]"
      ]
     },
     "metadata": {},
     "output_type": "display_data"
    },
    {
     "name": "stdout",
     "output_type": "stream",
     "text": [
      "averaged metrics: {'loss_val': 0.0012, 'mape_val': 0.0512, 'mse_val': 0.0023, 'mae_val': 0.039}\n"
     ]
    },
    {
     "data": {
      "application/vnd.jupyter.widget-view+json": {
       "model_id": "f087f8fc033b42bbb4f2c38b6d2339e1",
       "version_major": 2,
       "version_minor": 0
      },
      "text/plain": [
       "Validating: 0it [00:00, ?it/s]"
      ]
     },
     "metadata": {},
     "output_type": "display_data"
    },
    {
     "name": "stdout",
     "output_type": "stream",
     "text": [
      "averaged metrics: {'loss_val': 0.0012, 'mape_val': 0.0531, 'mse_val': 0.0024, 'mae_val': 0.0403}\n"
     ]
    },
    {
     "data": {
      "application/vnd.jupyter.widget-view+json": {
       "model_id": "f254e687ec8542dfacb14201e0e7392a",
       "version_major": 2,
       "version_minor": 0
      },
      "text/plain": [
       "Validating: 0it [00:00, ?it/s]"
      ]
     },
     "metadata": {},
     "output_type": "display_data"
    },
    {
     "name": "stdout",
     "output_type": "stream",
     "text": [
      "averaged metrics: {'loss_val': 0.0012, 'mape_val': 0.0499, 'mse_val': 0.0023, 'mae_val': 0.0383}\n"
     ]
    },
    {
     "data": {
      "application/vnd.jupyter.widget-view+json": {
       "model_id": "4134f33849824f1393fa42ed1a538e03",
       "version_major": 2,
       "version_minor": 0
      },
      "text/plain": [
       "Validating: 0it [00:00, ?it/s]"
      ]
     },
     "metadata": {},
     "output_type": "display_data"
    },
    {
     "name": "stdout",
     "output_type": "stream",
     "text": [
      "averaged metrics: {'loss_val': 0.0011, 'mape_val': 0.0488, 'mse_val': 0.0022, 'mae_val': 0.0374}\n"
     ]
    },
    {
     "data": {
      "application/vnd.jupyter.widget-view+json": {
       "model_id": "47862098f3d449508be2a3a78cc6249d",
       "version_major": 2,
       "version_minor": 0
      },
      "text/plain": [
       "Validating: 0it [00:00, ?it/s]"
      ]
     },
     "metadata": {},
     "output_type": "display_data"
    },
    {
     "name": "stdout",
     "output_type": "stream",
     "text": [
      "averaged metrics: {'loss_val': 0.0012, 'mape_val': 0.0522, 'mse_val': 0.0024, 'mae_val': 0.0398}\n"
     ]
    },
    {
     "data": {
      "application/vnd.jupyter.widget-view+json": {
       "model_id": "5d8d48ebce3e4ca98c3647e5d8cfa981",
       "version_major": 2,
       "version_minor": 0
      },
      "text/plain": [
       "Validating: 0it [00:00, ?it/s]"
      ]
     },
     "metadata": {},
     "output_type": "display_data"
    },
    {
     "name": "stdout",
     "output_type": "stream",
     "text": [
      "averaged metrics: {'loss_val': 0.0012, 'mape_val': 0.0488, 'mse_val': 0.0023, 'mae_val': 0.0377}\n"
     ]
    },
    {
     "data": {
      "application/vnd.jupyter.widget-view+json": {
       "model_id": "d56756eef2024918a457e7cb60e06db9",
       "version_major": 2,
       "version_minor": 0
      },
      "text/plain": [
       "Validating: 0it [00:00, ?it/s]"
      ]
     },
     "metadata": {},
     "output_type": "display_data"
    },
    {
     "name": "stdout",
     "output_type": "stream",
     "text": [
      "averaged metrics: {'loss_val': 0.0012, 'mape_val': 0.0481, 'mse_val': 0.0024, 'mae_val': 0.0374}\n"
     ]
    },
    {
     "data": {
      "application/vnd.jupyter.widget-view+json": {
       "model_id": "0ab7faa0400940f1af98a045731718bf",
       "version_major": 2,
       "version_minor": 0
      },
      "text/plain": [
       "Validating: 0it [00:00, ?it/s]"
      ]
     },
     "metadata": {},
     "output_type": "display_data"
    },
    {
     "name": "stdout",
     "output_type": "stream",
     "text": [
      "averaged metrics: {'loss_val': 0.0011, 'mape_val': 0.0483, 'mse_val': 0.0022, 'mae_val': 0.0371}\n"
     ]
    },
    {
     "data": {
      "application/vnd.jupyter.widget-view+json": {
       "model_id": "119faacf2b7d4fa08dd63e607250ff93",
       "version_major": 2,
       "version_minor": 0
      },
      "text/plain": [
       "Validating: 0it [00:00, ?it/s]"
      ]
     },
     "metadata": {},
     "output_type": "display_data"
    },
    {
     "name": "stdout",
     "output_type": "stream",
     "text": [
      "averaged metrics: {'loss_val': 0.0011, 'mape_val': 0.0483, 'mse_val': 0.0022, 'mae_val': 0.0371}\n"
     ]
    },
    {
     "data": {
      "application/vnd.jupyter.widget-view+json": {
       "model_id": "9504f034ce0340189220620db7f9bab3",
       "version_major": 2,
       "version_minor": 0
      },
      "text/plain": [
       "Validating: 0it [00:00, ?it/s]"
      ]
     },
     "metadata": {},
     "output_type": "display_data"
    },
    {
     "name": "stdout",
     "output_type": "stream",
     "text": [
      "averaged metrics: {'loss_val': 0.0011, 'mape_val': 0.049, 'mse_val': 0.0023, 'mae_val': 0.0377}\n"
     ]
    },
    {
     "data": {
      "application/vnd.jupyter.widget-view+json": {
       "model_id": "c1dc63c14ff44ee2bf18fb44d16ca74f",
       "version_major": 2,
       "version_minor": 0
      },
      "text/plain": [
       "Validating: 0it [00:00, ?it/s]"
      ]
     },
     "metadata": {},
     "output_type": "display_data"
    },
    {
     "name": "stdout",
     "output_type": "stream",
     "text": [
      "averaged metrics: {'loss_val': 0.0011, 'mape_val': 0.048, 'mse_val': 0.0022, 'mae_val': 0.0371}\n"
     ]
    },
    {
     "data": {
      "application/vnd.jupyter.widget-view+json": {
       "model_id": "3e1fd8f47d2843a9a647189d9ab09e35",
       "version_major": 2,
       "version_minor": 0
      },
      "text/plain": [
       "Validating: 0it [00:00, ?it/s]"
      ]
     },
     "metadata": {},
     "output_type": "display_data"
    },
    {
     "name": "stdout",
     "output_type": "stream",
     "text": [
      "averaged metrics: {'loss_val': 0.0012, 'mape_val': 0.0528, 'mse_val': 0.0024, 'mae_val': 0.0401}\n"
     ]
    },
    {
     "data": {
      "application/vnd.jupyter.widget-view+json": {
       "model_id": "3c5b4c78e5e64122b06161dcca890739",
       "version_major": 2,
       "version_minor": 0
      },
      "text/plain": [
       "Validating: 0it [00:00, ?it/s]"
      ]
     },
     "metadata": {},
     "output_type": "display_data"
    },
    {
     "name": "stdout",
     "output_type": "stream",
     "text": [
      "averaged metrics: {'loss_val': 0.0011, 'mape_val': 0.0488, 'mse_val': 0.0023, 'mae_val': 0.0375}\n"
     ]
    },
    {
     "data": {
      "application/vnd.jupyter.widget-view+json": {
       "model_id": "2d94daec99824271960dc6cc785e5039",
       "version_major": 2,
       "version_minor": 0
      },
      "text/plain": [
       "Validating: 0it [00:00, ?it/s]"
      ]
     },
     "metadata": {},
     "output_type": "display_data"
    },
    {
     "name": "stdout",
     "output_type": "stream",
     "text": [
      "averaged metrics: {'loss_val': 0.0011, 'mape_val': 0.0482, 'mse_val': 0.0022, 'mae_val': 0.037}\n"
     ]
    },
    {
     "data": {
      "application/vnd.jupyter.widget-view+json": {
       "model_id": "9ae7bb18e7b84aed9961e5800266927c",
       "version_major": 2,
       "version_minor": 0
      },
      "text/plain": [
       "Validating: 0it [00:00, ?it/s]"
      ]
     },
     "metadata": {},
     "output_type": "display_data"
    },
    {
     "name": "stdout",
     "output_type": "stream",
     "text": [
      "averaged metrics: {'loss_val': 0.0011, 'mape_val': 0.0478, 'mse_val': 0.0022, 'mae_val': 0.0369}\n"
     ]
    },
    {
     "data": {
      "application/vnd.jupyter.widget-view+json": {
       "model_id": "8d064c1e387c4b96a243ea7dbe52cd54",
       "version_major": 2,
       "version_minor": 0
      },
      "text/plain": [
       "Validating: 0it [00:00, ?it/s]"
      ]
     },
     "metadata": {},
     "output_type": "display_data"
    },
    {
     "name": "stdout",
     "output_type": "stream",
     "text": [
      "averaged metrics: {'loss_val': 0.0011, 'mape_val': 0.0483, 'mse_val': 0.0022, 'mae_val': 0.0371}\n"
     ]
    },
    {
     "data": {
      "application/vnd.jupyter.widget-view+json": {
       "model_id": "15b662688c6e49f59ffbcdded81fb845",
       "version_major": 2,
       "version_minor": 0
      },
      "text/plain": [
       "Validating: 0it [00:00, ?it/s]"
      ]
     },
     "metadata": {},
     "output_type": "display_data"
    },
    {
     "name": "stdout",
     "output_type": "stream",
     "text": [
      "averaged metrics: {'loss_val': 0.0011, 'mape_val': 0.0482, 'mse_val': 0.0022, 'mae_val': 0.0369}\n"
     ]
    },
    {
     "data": {
      "application/vnd.jupyter.widget-view+json": {
       "model_id": "9abf1a81d5cd4da684580bcd6a5968d9",
       "version_major": 2,
       "version_minor": 0
      },
      "text/plain": [
       "Validating: 0it [00:00, ?it/s]"
      ]
     },
     "metadata": {},
     "output_type": "display_data"
    },
    {
     "name": "stdout",
     "output_type": "stream",
     "text": [
      "averaged metrics: {'loss_val': 0.0011, 'mape_val': 0.0481, 'mse_val': 0.0022, 'mae_val': 0.037}\n"
     ]
    },
    {
     "data": {
      "application/vnd.jupyter.widget-view+json": {
       "model_id": "8121f9425fbf4d598ccef869fa328061",
       "version_major": 2,
       "version_minor": 0
      },
      "text/plain": [
       "Validating: 0it [00:00, ?it/s]"
      ]
     },
     "metadata": {},
     "output_type": "display_data"
    },
    {
     "name": "stdout",
     "output_type": "stream",
     "text": [
      "averaged metrics: {'loss_val': 0.0011, 'mape_val': 0.0474, 'mse_val': 0.0022, 'mae_val': 0.0367}\n"
     ]
    },
    {
     "data": {
      "application/vnd.jupyter.widget-view+json": {
       "model_id": "907d417ae9a144f59d0885b35abc159f",
       "version_major": 2,
       "version_minor": 0
      },
      "text/plain": [
       "Validating: 0it [00:00, ?it/s]"
      ]
     },
     "metadata": {},
     "output_type": "display_data"
    },
    {
     "name": "stdout",
     "output_type": "stream",
     "text": [
      "averaged metrics: {'loss_val': 0.0011, 'mape_val': 0.0504, 'mse_val': 0.0023, 'mae_val': 0.0387}\n"
     ]
    },
    {
     "data": {
      "application/vnd.jupyter.widget-view+json": {
       "model_id": "b28e5b963b1d4882b1b2d98f2c021d67",
       "version_major": 2,
       "version_minor": 0
      },
      "text/plain": [
       "Validating: 0it [00:00, ?it/s]"
      ]
     },
     "metadata": {},
     "output_type": "display_data"
    },
    {
     "name": "stdout",
     "output_type": "stream",
     "text": [
      "averaged metrics: {'loss_val': 0.0011, 'mape_val': 0.0476, 'mse_val': 0.0022, 'mae_val': 0.0367}\n"
     ]
    },
    {
     "data": {
      "application/vnd.jupyter.widget-view+json": {
       "model_id": "09b3f06adcac46708abb37c10eab4090",
       "version_major": 2,
       "version_minor": 0
      },
      "text/plain": [
       "Validating: 0it [00:00, ?it/s]"
      ]
     },
     "metadata": {},
     "output_type": "display_data"
    },
    {
     "name": "stdout",
     "output_type": "stream",
     "text": [
      "averaged metrics: {'loss_val': 0.0012, 'mape_val': 0.0497, 'mse_val': 0.0023, 'mae_val': 0.0383}\n"
     ]
    },
    {
     "data": {
      "application/vnd.jupyter.widget-view+json": {
       "model_id": "4e6cfe50608f42f980109d10eef66dfb",
       "version_major": 2,
       "version_minor": 0
      },
      "text/plain": [
       "Validating: 0it [00:00, ?it/s]"
      ]
     },
     "metadata": {},
     "output_type": "display_data"
    },
    {
     "name": "stdout",
     "output_type": "stream",
     "text": [
      "averaged metrics: {'loss_val': 0.0011, 'mape_val': 0.0486, 'mse_val': 0.0022, 'mae_val': 0.0371}\n"
     ]
    },
    {
     "data": {
      "application/vnd.jupyter.widget-view+json": {
       "model_id": "58eb0f297bba4f8589c782e06cce0d84",
       "version_major": 2,
       "version_minor": 0
      },
      "text/plain": [
       "Validating: 0it [00:00, ?it/s]"
      ]
     },
     "metadata": {},
     "output_type": "display_data"
    },
    {
     "name": "stdout",
     "output_type": "stream",
     "text": [
      "averaged metrics: {'loss_val': 0.0011, 'mape_val': 0.0482, 'mse_val': 0.0022, 'mae_val': 0.0371}\n"
     ]
    },
    {
     "data": {
      "application/vnd.jupyter.widget-view+json": {
       "model_id": "0d6d932612b04a97bcba5cfe934a2973",
       "version_major": 2,
       "version_minor": 0
      },
      "text/plain": [
       "Validating: 0it [00:00, ?it/s]"
      ]
     },
     "metadata": {},
     "output_type": "display_data"
    },
    {
     "name": "stdout",
     "output_type": "stream",
     "text": [
      "averaged metrics: {'loss_val': 0.0014, 'mape_val': 0.0522, 'mse_val': 0.0028, 'mae_val': 0.0408}\n"
     ]
    },
    {
     "data": {
      "application/vnd.jupyter.widget-view+json": {
       "model_id": "7a30aae058fb4cb6a80a7a636d87542b",
       "version_major": 2,
       "version_minor": 0
      },
      "text/plain": [
       "Validating: 0it [00:00, ?it/s]"
      ]
     },
     "metadata": {},
     "output_type": "display_data"
    },
    {
     "name": "stdout",
     "output_type": "stream",
     "text": [
      "averaged metrics: {'loss_val': 0.0011, 'mape_val': 0.0481, 'mse_val': 0.0022, 'mae_val': 0.0372}\n"
     ]
    },
    {
     "data": {
      "application/vnd.jupyter.widget-view+json": {
       "model_id": "aa7c2d19fc1b4d1c924f73146c00d105",
       "version_major": 2,
       "version_minor": 0
      },
      "text/plain": [
       "Validating: 0it [00:00, ?it/s]"
      ]
     },
     "metadata": {},
     "output_type": "display_data"
    },
    {
     "name": "stdout",
     "output_type": "stream",
     "text": [
      "averaged metrics: {'loss_val': 0.0011, 'mape_val': 0.0495, 'mse_val': 0.0022, 'mae_val': 0.0378}\n"
     ]
    },
    {
     "data": {
      "application/vnd.jupyter.widget-view+json": {
       "model_id": "dfa34e130a2d4b42bce8233e25d9f122",
       "version_major": 2,
       "version_minor": 0
      },
      "text/plain": [
       "Validating: 0it [00:00, ?it/s]"
      ]
     },
     "metadata": {},
     "output_type": "display_data"
    },
    {
     "name": "stdout",
     "output_type": "stream",
     "text": [
      "averaged metrics: {'loss_val': 0.0012, 'mape_val': 0.0481, 'mse_val': 0.0023, 'mae_val': 0.0374}\n"
     ]
    },
    {
     "data": {
      "application/vnd.jupyter.widget-view+json": {
       "model_id": "6eeeb739704143219f19bd7cab06bc1e",
       "version_major": 2,
       "version_minor": 0
      },
      "text/plain": [
       "Validating: 0it [00:00, ?it/s]"
      ]
     },
     "metadata": {},
     "output_type": "display_data"
    },
    {
     "name": "stdout",
     "output_type": "stream",
     "text": [
      "averaged metrics: {'loss_val': 0.0011, 'mape_val': 0.0482, 'mse_val': 0.0022, 'mae_val': 0.037}\n"
     ]
    },
    {
     "data": {
      "application/vnd.jupyter.widget-view+json": {
       "model_id": "9ff08ad7c4c8450f9caeebcde5f9d477",
       "version_major": 2,
       "version_minor": 0
      },
      "text/plain": [
       "Validating: 0it [00:00, ?it/s]"
      ]
     },
     "metadata": {},
     "output_type": "display_data"
    },
    {
     "name": "stdout",
     "output_type": "stream",
     "text": [
      "averaged metrics: {'loss_val': 0.0011, 'mape_val': 0.0477, 'mse_val': 0.0023, 'mae_val': 0.0369}\n"
     ]
    },
    {
     "data": {
      "application/vnd.jupyter.widget-view+json": {
       "model_id": "b8ac741e36f04e19b2c7671033d9cff9",
       "version_major": 2,
       "version_minor": 0
      },
      "text/plain": [
       "Validating: 0it [00:00, ?it/s]"
      ]
     },
     "metadata": {},
     "output_type": "display_data"
    },
    {
     "name": "stdout",
     "output_type": "stream",
     "text": [
      "averaged metrics: {'loss_val': 0.0012, 'mape_val': 0.0487, 'mse_val': 0.0025, 'mae_val': 0.0379}\n"
     ]
    },
    {
     "data": {
      "application/vnd.jupyter.widget-view+json": {
       "model_id": "27fd5a1b19734c94a30e5a78330afbbb",
       "version_major": 2,
       "version_minor": 0
      },
      "text/plain": [
       "Validating: 0it [00:00, ?it/s]"
      ]
     },
     "metadata": {},
     "output_type": "display_data"
    },
    {
     "name": "stdout",
     "output_type": "stream",
     "text": [
      "averaged metrics: {'loss_val': 0.0012, 'mape_val': 0.0488, 'mse_val': 0.0024, 'mae_val': 0.0377}\n"
     ]
    },
    {
     "data": {
      "application/vnd.jupyter.widget-view+json": {
       "model_id": "ae077f896ddc458da2ee95e7440501c0",
       "version_major": 2,
       "version_minor": 0
      },
      "text/plain": [
       "Validating: 0it [00:00, ?it/s]"
      ]
     },
     "metadata": {},
     "output_type": "display_data"
    },
    {
     "name": "stdout",
     "output_type": "stream",
     "text": [
      "averaged metrics: {'loss_val': 0.0011, 'mape_val': 0.0481, 'mse_val': 0.0022, 'mae_val': 0.037}\n"
     ]
    },
    {
     "data": {
      "application/vnd.jupyter.widget-view+json": {
       "model_id": "37dd7d97c8d04ac291bf0ae3eb3457f5",
       "version_major": 2,
       "version_minor": 0
      },
      "text/plain": [
       "Validating: 0it [00:00, ?it/s]"
      ]
     },
     "metadata": {},
     "output_type": "display_data"
    },
    {
     "name": "stdout",
     "output_type": "stream",
     "text": [
      "averaged metrics: {'loss_val': 0.0011, 'mape_val': 0.0483, 'mse_val': 0.0022, 'mae_val': 0.037}\n"
     ]
    },
    {
     "data": {
      "application/vnd.jupyter.widget-view+json": {
       "model_id": "356104ba48754e71ba5e16d29b164e62",
       "version_major": 2,
       "version_minor": 0
      },
      "text/plain": [
       "Validating: 0it [00:00, ?it/s]"
      ]
     },
     "metadata": {},
     "output_type": "display_data"
    },
    {
     "name": "stdout",
     "output_type": "stream",
     "text": [
      "averaged metrics: {'loss_val': 0.0013, 'mape_val': 0.0503, 'mse_val': 0.0026, 'mae_val': 0.0395}\n"
     ]
    },
    {
     "data": {
      "application/vnd.jupyter.widget-view+json": {
       "model_id": "38bc197652ca4c2a9e40c01ba470b83d",
       "version_major": 2,
       "version_minor": 0
      },
      "text/plain": [
       "Validating: 0it [00:00, ?it/s]"
      ]
     },
     "metadata": {},
     "output_type": "display_data"
    },
    {
     "name": "stdout",
     "output_type": "stream",
     "text": [
      "averaged metrics: {'loss_val': 0.0011, 'mape_val': 0.0497, 'mse_val': 0.0022, 'mae_val': 0.0378}\n"
     ]
    },
    {
     "data": {
      "application/vnd.jupyter.widget-view+json": {
       "model_id": "7a2e43ef3b4b4ecaa9d90ffe90cddc9b",
       "version_major": 2,
       "version_minor": 0
      },
      "text/plain": [
       "Validating: 0it [00:00, ?it/s]"
      ]
     },
     "metadata": {},
     "output_type": "display_data"
    },
    {
     "name": "stdout",
     "output_type": "stream",
     "text": [
      "averaged metrics: {'loss_val': 0.0011, 'mape_val': 0.0476, 'mse_val': 0.0022, 'mae_val': 0.0369}\n"
     ]
    },
    {
     "data": {
      "application/vnd.jupyter.widget-view+json": {
       "model_id": "54d232419bd24dc7be756e4ffc545f1a",
       "version_major": 2,
       "version_minor": 0
      },
      "text/plain": [
       "Validating: 0it [00:00, ?it/s]"
      ]
     },
     "metadata": {},
     "output_type": "display_data"
    },
    {
     "name": "stdout",
     "output_type": "stream",
     "text": [
      "averaged metrics: {'loss_val': 0.0011, 'mape_val': 0.0502, 'mse_val': 0.0023, 'mae_val': 0.0382}\n"
     ]
    },
    {
     "data": {
      "application/vnd.jupyter.widget-view+json": {
       "model_id": "68ffd79481fc431db78df3851c59e6ec",
       "version_major": 2,
       "version_minor": 0
      },
      "text/plain": [
       "Validating: 0it [00:00, ?it/s]"
      ]
     },
     "metadata": {},
     "output_type": "display_data"
    },
    {
     "name": "stdout",
     "output_type": "stream",
     "text": [
      "averaged metrics: {'loss_val': 0.0011, 'mape_val': 0.0478, 'mse_val': 0.0022, 'mae_val': 0.0368}\n"
     ]
    },
    {
     "data": {
      "application/vnd.jupyter.widget-view+json": {
       "model_id": "1bd03471c4474dd79fcab345da48e2be",
       "version_major": 2,
       "version_minor": 0
      },
      "text/plain": [
       "Validating: 0it [00:00, ?it/s]"
      ]
     },
     "metadata": {},
     "output_type": "display_data"
    },
    {
     "name": "stdout",
     "output_type": "stream",
     "text": [
      "averaged metrics: {'loss_val': 0.0011, 'mape_val': 0.0479, 'mse_val': 0.0022, 'mae_val': 0.0368}\n"
     ]
    },
    {
     "data": {
      "application/vnd.jupyter.widget-view+json": {
       "model_id": "3dd4892608e747098ee7ac32df9ba7f9",
       "version_major": 2,
       "version_minor": 0
      },
      "text/plain": [
       "Validating: 0it [00:00, ?it/s]"
      ]
     },
     "metadata": {},
     "output_type": "display_data"
    },
    {
     "name": "stdout",
     "output_type": "stream",
     "text": [
      "averaged metrics: {'loss_val': 0.0013, 'mape_val': 0.0511, 'mse_val': 0.0025, 'mae_val': 0.0394}\n"
     ]
    },
    {
     "data": {
      "application/vnd.jupyter.widget-view+json": {
       "model_id": "7e462f608ea54144bbabcfd65c3d58ce",
       "version_major": 2,
       "version_minor": 0
      },
      "text/plain": [
       "Validating: 0it [00:00, ?it/s]"
      ]
     },
     "metadata": {},
     "output_type": "display_data"
    },
    {
     "name": "stdout",
     "output_type": "stream",
     "text": [
      "averaged metrics: {'loss_val': 0.0011, 'mape_val': 0.0476, 'mse_val': 0.0022, 'mae_val': 0.0367}\n"
     ]
    },
    {
     "data": {
      "application/vnd.jupyter.widget-view+json": {
       "model_id": "1880cdc117724dac8247ce488d588874",
       "version_major": 2,
       "version_minor": 0
      },
      "text/plain": [
       "Validating: 0it [00:00, ?it/s]"
      ]
     },
     "metadata": {},
     "output_type": "display_data"
    },
    {
     "name": "stdout",
     "output_type": "stream",
     "text": [
      "averaged metrics: {'loss_val': 0.0011, 'mape_val': 0.0483, 'mse_val': 0.0022, 'mae_val': 0.037}\n"
     ]
    },
    {
     "data": {
      "application/vnd.jupyter.widget-view+json": {
       "model_id": "9d69d3c5ae944d13a304c0097302797b",
       "version_major": 2,
       "version_minor": 0
      },
      "text/plain": [
       "Validating: 0it [00:00, ?it/s]"
      ]
     },
     "metadata": {},
     "output_type": "display_data"
    },
    {
     "name": "stdout",
     "output_type": "stream",
     "text": [
      "averaged metrics: {'loss_val': 0.0011, 'mape_val': 0.0481, 'mse_val': 0.0022, 'mae_val': 0.037}\n"
     ]
    },
    {
     "data": {
      "application/vnd.jupyter.widget-view+json": {
       "model_id": "4d20175d1c9b4a16b9ea986eb2e69bc5",
       "version_major": 2,
       "version_minor": 0
      },
      "text/plain": [
       "Validating: 0it [00:00, ?it/s]"
      ]
     },
     "metadata": {},
     "output_type": "display_data"
    },
    {
     "name": "stdout",
     "output_type": "stream",
     "text": [
      "averaged metrics: {'loss_val': 0.0012, 'mape_val': 0.0485, 'mse_val': 0.0024, 'mae_val': 0.0376}\n"
     ]
    },
    {
     "data": {
      "application/vnd.jupyter.widget-view+json": {
       "model_id": "f1da62f0db954ffabbfe4b7f614dcf20",
       "version_major": 2,
       "version_minor": 0
      },
      "text/plain": [
       "Validating: 0it [00:00, ?it/s]"
      ]
     },
     "metadata": {},
     "output_type": "display_data"
    },
    {
     "name": "stdout",
     "output_type": "stream",
     "text": [
      "averaged metrics: {'loss_val': 0.0011, 'mape_val': 0.0493, 'mse_val': 0.0023, 'mae_val': 0.0381}\n"
     ]
    },
    {
     "data": {
      "application/vnd.jupyter.widget-view+json": {
       "model_id": "b37fa73baad743ecbb6e11ccfb5903bf",
       "version_major": 2,
       "version_minor": 0
      },
      "text/plain": [
       "Validating: 0it [00:00, ?it/s]"
      ]
     },
     "metadata": {},
     "output_type": "display_data"
    },
    {
     "name": "stdout",
     "output_type": "stream",
     "text": [
      "averaged metrics: {'loss_val': 0.0012, 'mape_val': 0.0492, 'mse_val': 0.0025, 'mae_val': 0.0383}\n"
     ]
    },
    {
     "data": {
      "application/vnd.jupyter.widget-view+json": {
       "model_id": "b3e4ec3ee11a4a39af9a4bf411b179c6",
       "version_major": 2,
       "version_minor": 0
      },
      "text/plain": [
       "Validating: 0it [00:00, ?it/s]"
      ]
     },
     "metadata": {},
     "output_type": "display_data"
    },
    {
     "name": "stdout",
     "output_type": "stream",
     "text": [
      "averaged metrics: {'loss_val': 0.0011, 'mape_val': 0.0475, 'mse_val': 0.0022, 'mae_val': 0.0368}\n"
     ]
    },
    {
     "data": {
      "application/vnd.jupyter.widget-view+json": {
       "model_id": "c481b0dec7554d879e4e7b51cc346a5f",
       "version_major": 2,
       "version_minor": 0
      },
      "text/plain": [
       "Validating: 0it [00:00, ?it/s]"
      ]
     },
     "metadata": {},
     "output_type": "display_data"
    },
    {
     "name": "stdout",
     "output_type": "stream",
     "text": [
      "averaged metrics: {'loss_val': 0.0011, 'mape_val': 0.0479, 'mse_val': 0.0022, 'mae_val': 0.0368}\n"
     ]
    },
    {
     "data": {
      "application/vnd.jupyter.widget-view+json": {
       "model_id": "38cc78fb4295404d9993997e3ffa50b4",
       "version_major": 2,
       "version_minor": 0
      },
      "text/plain": [
       "Validating: 0it [00:00, ?it/s]"
      ]
     },
     "metadata": {},
     "output_type": "display_data"
    },
    {
     "name": "stdout",
     "output_type": "stream",
     "text": [
      "averaged metrics: {'loss_val': 0.0013, 'mape_val': 0.053, 'mse_val': 0.0025, 'mae_val': 0.0402}\n"
     ]
    },
    {
     "data": {
      "application/vnd.jupyter.widget-view+json": {
       "model_id": "4742cc20ad0a4a5fb96ede9941047d1d",
       "version_major": 2,
       "version_minor": 0
      },
      "text/plain": [
       "Validating: 0it [00:00, ?it/s]"
      ]
     },
     "metadata": {},
     "output_type": "display_data"
    },
    {
     "name": "stdout",
     "output_type": "stream",
     "text": [
      "averaged metrics: {'loss_val': 0.0014, 'mape_val': 0.053, 'mse_val': 0.0027, 'mae_val': 0.0412}\n"
     ]
    },
    {
     "data": {
      "application/vnd.jupyter.widget-view+json": {
       "model_id": "8ebdc02eac8f45e9bb4a51c45e3fad77",
       "version_major": 2,
       "version_minor": 0
      },
      "text/plain": [
       "Validating: 0it [00:00, ?it/s]"
      ]
     },
     "metadata": {},
     "output_type": "display_data"
    },
    {
     "name": "stdout",
     "output_type": "stream",
     "text": [
      "averaged metrics: {'loss_val': 0.0011, 'mape_val': 0.0498, 'mse_val': 0.0022, 'mae_val': 0.0381}\n"
     ]
    },
    {
     "data": {
      "application/vnd.jupyter.widget-view+json": {
       "model_id": "b2246a15dbf0459d98671ffda2debd10",
       "version_major": 2,
       "version_minor": 0
      },
      "text/plain": [
       "Validating: 0it [00:00, ?it/s]"
      ]
     },
     "metadata": {},
     "output_type": "display_data"
    },
    {
     "name": "stdout",
     "output_type": "stream",
     "text": [
      "averaged metrics: {'loss_val': 0.0011, 'mape_val': 0.0487, 'mse_val': 0.0022, 'mae_val': 0.0374}\n"
     ]
    },
    {
     "data": {
      "application/vnd.jupyter.widget-view+json": {
       "model_id": "60dd6e8fb30d4e0583d585e03c2fb4e9",
       "version_major": 2,
       "version_minor": 0
      },
      "text/plain": [
       "Validating: 0it [00:00, ?it/s]"
      ]
     },
     "metadata": {},
     "output_type": "display_data"
    },
    {
     "name": "stdout",
     "output_type": "stream",
     "text": [
      "averaged metrics: {'loss_val': 0.0011, 'mape_val': 0.048, 'mse_val': 0.0022, 'mae_val': 0.0369}\n"
     ]
    },
    {
     "data": {
      "application/vnd.jupyter.widget-view+json": {
       "model_id": "d2c83043a2dc4adfb45359feca3108aa",
       "version_major": 2,
       "version_minor": 0
      },
      "text/plain": [
       "Validating: 0it [00:00, ?it/s]"
      ]
     },
     "metadata": {},
     "output_type": "display_data"
    },
    {
     "name": "stdout",
     "output_type": "stream",
     "text": [
      "averaged metrics: {'loss_val': 0.0012, 'mape_val': 0.0501, 'mse_val': 0.0024, 'mae_val': 0.0383}\n"
     ]
    },
    {
     "data": {
      "application/vnd.jupyter.widget-view+json": {
       "model_id": "78161cae4ece48d0838080b8b7c3fd59",
       "version_major": 2,
       "version_minor": 0
      },
      "text/plain": [
       "Validating: 0it [00:00, ?it/s]"
      ]
     },
     "metadata": {},
     "output_type": "display_data"
    },
    {
     "name": "stdout",
     "output_type": "stream",
     "text": [
      "averaged metrics: {'loss_val': 0.0011, 'mape_val': 0.0495, 'mse_val': 0.0022, 'mae_val': 0.0377}\n"
     ]
    },
    {
     "data": {
      "application/vnd.jupyter.widget-view+json": {
       "model_id": "d8533ced0b1a4a2690f020a2bacc1d97",
       "version_major": 2,
       "version_minor": 0
      },
      "text/plain": [
       "Validating: 0it [00:00, ?it/s]"
      ]
     },
     "metadata": {},
     "output_type": "display_data"
    },
    {
     "name": "stdout",
     "output_type": "stream",
     "text": [
      "averaged metrics: {'loss_val': 0.0011, 'mape_val': 0.0477, 'mse_val': 0.0022, 'mae_val': 0.0367}\n"
     ]
    },
    {
     "data": {
      "application/vnd.jupyter.widget-view+json": {
       "model_id": "34a82fa010f54e699b32823aa8f1e6fa",
       "version_major": 2,
       "version_minor": 0
      },
      "text/plain": [
       "Validating: 0it [00:00, ?it/s]"
      ]
     },
     "metadata": {},
     "output_type": "display_data"
    },
    {
     "name": "stdout",
     "output_type": "stream",
     "text": [
      "averaged metrics: {'loss_val': 0.0011, 'mape_val': 0.0485, 'mse_val': 0.0022, 'mae_val': 0.0375}\n"
     ]
    },
    {
     "data": {
      "application/vnd.jupyter.widget-view+json": {
       "model_id": "4b2692bad38b4863b9c59a949102720b",
       "version_major": 2,
       "version_minor": 0
      },
      "text/plain": [
       "Validating: 0it [00:00, ?it/s]"
      ]
     },
     "metadata": {},
     "output_type": "display_data"
    },
    {
     "name": "stdout",
     "output_type": "stream",
     "text": [
      "averaged metrics: {'loss_val': 0.0011, 'mape_val': 0.0482, 'mse_val': 0.0022, 'mae_val': 0.037}\n"
     ]
    },
    {
     "data": {
      "application/vnd.jupyter.widget-view+json": {
       "model_id": "99451b7b9bb34146bd03fe3717217b97",
       "version_major": 2,
       "version_minor": 0
      },
      "text/plain": [
       "Validating: 0it [00:00, ?it/s]"
      ]
     },
     "metadata": {},
     "output_type": "display_data"
    },
    {
     "name": "stdout",
     "output_type": "stream",
     "text": [
      "averaged metrics: {'loss_val': 0.0012, 'mape_val': 0.0493, 'mse_val': 0.0024, 'mae_val': 0.0379}\n"
     ]
    },
    {
     "data": {
      "application/vnd.jupyter.widget-view+json": {
       "model_id": "0a0381180d7347bd9f8a64961570d6d5",
       "version_major": 2,
       "version_minor": 0
      },
      "text/plain": [
       "Validating: 0it [00:00, ?it/s]"
      ]
     },
     "metadata": {},
     "output_type": "display_data"
    },
    {
     "name": "stdout",
     "output_type": "stream",
     "text": [
      "averaged metrics: {'loss_val': 0.0012, 'mape_val': 0.0498, 'mse_val': 0.0024, 'mae_val': 0.0384}\n"
     ]
    },
    {
     "data": {
      "application/vnd.jupyter.widget-view+json": {
       "model_id": "f760669c41fc4c13ace01f2b471f43db",
       "version_major": 2,
       "version_minor": 0
      },
      "text/plain": [
       "Validating: 0it [00:00, ?it/s]"
      ]
     },
     "metadata": {},
     "output_type": "display_data"
    },
    {
     "name": "stdout",
     "output_type": "stream",
     "text": [
      "averaged metrics: {'loss_val': 0.0012, 'mape_val': 0.0488, 'mse_val': 0.0023, 'mae_val': 0.0377}\n"
     ]
    },
    {
     "data": {
      "application/vnd.jupyter.widget-view+json": {
       "model_id": "dbb23f99543f4e7db2a05056513069ae",
       "version_major": 2,
       "version_minor": 0
      },
      "text/plain": [
       "Validating: 0it [00:00, ?it/s]"
      ]
     },
     "metadata": {},
     "output_type": "display_data"
    },
    {
     "name": "stdout",
     "output_type": "stream",
     "text": [
      "averaged metrics: {'loss_val': 0.0011, 'mape_val': 0.0493, 'mse_val': 0.0022, 'mae_val': 0.0377}\n"
     ]
    },
    {
     "data": {
      "application/vnd.jupyter.widget-view+json": {
       "model_id": "ae42353971ed45af871a647ec63860c6",
       "version_major": 2,
       "version_minor": 0
      },
      "text/plain": [
       "Validating: 0it [00:00, ?it/s]"
      ]
     },
     "metadata": {},
     "output_type": "display_data"
    },
    {
     "name": "stdout",
     "output_type": "stream",
     "text": [
      "averaged metrics: {'loss_val': 0.0011, 'mape_val': 0.0479, 'mse_val': 0.0021, 'mae_val': 0.0367}\n"
     ]
    },
    {
     "data": {
      "application/vnd.jupyter.widget-view+json": {
       "model_id": "09cc06d0fb1740b99a4d71383dd3829c",
       "version_major": 2,
       "version_minor": 0
      },
      "text/plain": [
       "Validating: 0it [00:00, ?it/s]"
      ]
     },
     "metadata": {},
     "output_type": "display_data"
    },
    {
     "name": "stdout",
     "output_type": "stream",
     "text": [
      "averaged metrics: {'loss_val': 0.0012, 'mape_val': 0.0533, 'mse_val': 0.0024, 'mae_val': 0.0403}\n"
     ]
    },
    {
     "data": {
      "application/vnd.jupyter.widget-view+json": {
       "model_id": "e84ed129aded4cbcb6c3150c8d34c64b",
       "version_major": 2,
       "version_minor": 0
      },
      "text/plain": [
       "Validating: 0it [00:00, ?it/s]"
      ]
     },
     "metadata": {},
     "output_type": "display_data"
    },
    {
     "name": "stdout",
     "output_type": "stream",
     "text": [
      "averaged metrics: {'loss_val': 0.0011, 'mape_val': 0.0483, 'mse_val': 0.0022, 'mae_val': 0.0372}\n"
     ]
    },
    {
     "data": {
      "application/vnd.jupyter.widget-view+json": {
       "model_id": "59413bc6cc454d0fb637118a1e1f1ddb",
       "version_major": 2,
       "version_minor": 0
      },
      "text/plain": [
       "Validating: 0it [00:00, ?it/s]"
      ]
     },
     "metadata": {},
     "output_type": "display_data"
    },
    {
     "name": "stdout",
     "output_type": "stream",
     "text": [
      "averaged metrics: {'loss_val': 0.0012, 'mape_val': 0.0525, 'mse_val': 0.0024, 'mae_val': 0.0396}\n"
     ]
    },
    {
     "data": {
      "application/vnd.jupyter.widget-view+json": {
       "model_id": "ccc83d61f1944863b73f2ce7e3a51616",
       "version_major": 2,
       "version_minor": 0
      },
      "text/plain": [
       "Validating: 0it [00:00, ?it/s]"
      ]
     },
     "metadata": {},
     "output_type": "display_data"
    },
    {
     "name": "stdout",
     "output_type": "stream",
     "text": [
      "averaged metrics: {'loss_val': 0.0011, 'mape_val': 0.0479, 'mse_val': 0.0022, 'mae_val': 0.0368}\n"
     ]
    },
    {
     "data": {
      "application/vnd.jupyter.widget-view+json": {
       "model_id": "264656c14cbf4e54b3c64464d52170b1",
       "version_major": 2,
       "version_minor": 0
      },
      "text/plain": [
       "Validating: 0it [00:00, ?it/s]"
      ]
     },
     "metadata": {},
     "output_type": "display_data"
    },
    {
     "name": "stdout",
     "output_type": "stream",
     "text": [
      "averaged metrics: {'loss_val': 0.0011, 'mape_val': 0.0484, 'mse_val': 0.0022, 'mae_val': 0.0372}\n"
     ]
    },
    {
     "data": {
      "application/vnd.jupyter.widget-view+json": {
       "model_id": "b8faac34e2cd459fb2d91924487c1017",
       "version_major": 2,
       "version_minor": 0
      },
      "text/plain": [
       "Validating: 0it [00:00, ?it/s]"
      ]
     },
     "metadata": {},
     "output_type": "display_data"
    },
    {
     "name": "stdout",
     "output_type": "stream",
     "text": [
      "averaged metrics: {'loss_val': 0.0011, 'mape_val': 0.0499, 'mse_val': 0.0023, 'mae_val': 0.0383}\n"
     ]
    },
    {
     "data": {
      "application/vnd.jupyter.widget-view+json": {
       "model_id": "5140b106c36f4e3e8f265aaa6b514264",
       "version_major": 2,
       "version_minor": 0
      },
      "text/plain": [
       "Validating: 0it [00:00, ?it/s]"
      ]
     },
     "metadata": {},
     "output_type": "display_data"
    },
    {
     "name": "stdout",
     "output_type": "stream",
     "text": [
      "averaged metrics: {'loss_val': 0.0012, 'mape_val': 0.0503, 'mse_val': 0.0024, 'mae_val': 0.0386}\n"
     ]
    },
    {
     "data": {
      "application/vnd.jupyter.widget-view+json": {
       "model_id": "568b0cc1e6b249e5a63148c9eee51d96",
       "version_major": 2,
       "version_minor": 0
      },
      "text/plain": [
       "Validating: 0it [00:00, ?it/s]"
      ]
     },
     "metadata": {},
     "output_type": "display_data"
    },
    {
     "name": "stdout",
     "output_type": "stream",
     "text": [
      "averaged metrics: {'loss_val': 0.0011, 'mape_val': 0.048, 'mse_val': 0.0023, 'mae_val': 0.0373}\n"
     ]
    },
    {
     "data": {
      "application/vnd.jupyter.widget-view+json": {
       "model_id": "c2b8b2549e66414099b71d0a87e762aa",
       "version_major": 2,
       "version_minor": 0
      },
      "text/plain": [
       "Validating: 0it [00:00, ?it/s]"
      ]
     },
     "metadata": {},
     "output_type": "display_data"
    },
    {
     "name": "stdout",
     "output_type": "stream",
     "text": [
      "averaged metrics: {'loss_val': 0.0011, 'mape_val': 0.0479, 'mse_val': 0.0021, 'mae_val': 0.0367}\n"
     ]
    },
    {
     "data": {
      "application/vnd.jupyter.widget-view+json": {
       "model_id": "546370058fa34499b9f33c54baafdcd6",
       "version_major": 2,
       "version_minor": 0
      },
      "text/plain": [
       "Validating: 0it [00:00, ?it/s]"
      ]
     },
     "metadata": {},
     "output_type": "display_data"
    },
    {
     "name": "stdout",
     "output_type": "stream",
     "text": [
      "averaged metrics: {'loss_val': 0.0011, 'mape_val': 0.0479, 'mse_val': 0.0021, 'mae_val': 0.0367}\n"
     ]
    },
    {
     "data": {
      "application/vnd.jupyter.widget-view+json": {
       "model_id": "b4ecb62b731d492680aaf5f7febf6259",
       "version_major": 2,
       "version_minor": 0
      },
      "text/plain": [
       "Validating: 0it [00:00, ?it/s]"
      ]
     },
     "metadata": {},
     "output_type": "display_data"
    },
    {
     "name": "stdout",
     "output_type": "stream",
     "text": [
      "averaged metrics: {'loss_val': 0.0012, 'mape_val': 0.0512, 'mse_val': 0.0024, 'mae_val': 0.0392}\n"
     ]
    },
    {
     "data": {
      "application/vnd.jupyter.widget-view+json": {
       "model_id": "25ac1e1efceb4d88ba6f7fe6c535dece",
       "version_major": 2,
       "version_minor": 0
      },
      "text/plain": [
       "Validating: 0it [00:00, ?it/s]"
      ]
     },
     "metadata": {},
     "output_type": "display_data"
    },
    {
     "name": "stdout",
     "output_type": "stream",
     "text": [
      "averaged metrics: {'loss_val': 0.0012, 'mape_val': 0.0513, 'mse_val': 0.0023, 'mae_val': 0.0388}\n"
     ]
    },
    {
     "data": {
      "application/vnd.jupyter.widget-view+json": {
       "model_id": "192305dbe0ec4e5c8c258509398b181e",
       "version_major": 2,
       "version_minor": 0
      },
      "text/plain": [
       "Validating: 0it [00:00, ?it/s]"
      ]
     },
     "metadata": {},
     "output_type": "display_data"
    },
    {
     "name": "stdout",
     "output_type": "stream",
     "text": [
      "averaged metrics: {'loss_val': 0.0012, 'mape_val': 0.0493, 'mse_val': 0.0023, 'mae_val': 0.038}\n"
     ]
    },
    {
     "data": {
      "application/vnd.jupyter.widget-view+json": {
       "model_id": "8eeb212fe47c4e8b83fda057f221591a",
       "version_major": 2,
       "version_minor": 0
      },
      "text/plain": [
       "Validating: 0it [00:00, ?it/s]"
      ]
     },
     "metadata": {},
     "output_type": "display_data"
    },
    {
     "name": "stdout",
     "output_type": "stream",
     "text": [
      "averaged metrics: {'loss_val': 0.0011, 'mape_val': 0.049, 'mse_val': 0.0022, 'mae_val': 0.0377}\n"
     ]
    },
    {
     "data": {
      "application/vnd.jupyter.widget-view+json": {
       "model_id": "086496da14894821891cfcaef9f046b7",
       "version_major": 2,
       "version_minor": 0
      },
      "text/plain": [
       "Validating: 0it [00:00, ?it/s]"
      ]
     },
     "metadata": {},
     "output_type": "display_data"
    },
    {
     "name": "stdout",
     "output_type": "stream",
     "text": [
      "averaged metrics: {'loss_val': 0.0011, 'mape_val': 0.0473, 'mse_val': 0.0021, 'mae_val': 0.0364}\n"
     ]
    },
    {
     "data": {
      "application/vnd.jupyter.widget-view+json": {
       "model_id": "6063c6140dda420c84a1dd7770eac231",
       "version_major": 2,
       "version_minor": 0
      },
      "text/plain": [
       "Validating: 0it [00:00, ?it/s]"
      ]
     },
     "metadata": {},
     "output_type": "display_data"
    },
    {
     "name": "stdout",
     "output_type": "stream",
     "text": [
      "averaged metrics: {'loss_val': 0.0011, 'mape_val': 0.0496, 'mse_val': 0.0022, 'mae_val': 0.0377}\n"
     ]
    },
    {
     "data": {
      "application/vnd.jupyter.widget-view+json": {
       "model_id": "608771b6f57143678a5c285fa66f314f",
       "version_major": 2,
       "version_minor": 0
      },
      "text/plain": [
       "Validating: 0it [00:00, ?it/s]"
      ]
     },
     "metadata": {},
     "output_type": "display_data"
    },
    {
     "name": "stdout",
     "output_type": "stream",
     "text": [
      "averaged metrics: {'loss_val': 0.0012, 'mape_val': 0.053, 'mse_val': 0.0024, 'mae_val': 0.04}\n"
     ]
    },
    {
     "data": {
      "application/vnd.jupyter.widget-view+json": {
       "model_id": "0de3f88b919b4a9baed8903a540b906c",
       "version_major": 2,
       "version_minor": 0
      },
      "text/plain": [
       "Validating: 0it [00:00, ?it/s]"
      ]
     },
     "metadata": {},
     "output_type": "display_data"
    },
    {
     "name": "stdout",
     "output_type": "stream",
     "text": [
      "averaged metrics: {'loss_val': 0.0011, 'mape_val': 0.0507, 'mse_val': 0.0023, 'mae_val': 0.0387}\n"
     ]
    },
    {
     "data": {
      "application/vnd.jupyter.widget-view+json": {
       "model_id": "b10565742f2b489f92247a740aac57f0",
       "version_major": 2,
       "version_minor": 0
      },
      "text/plain": [
       "Validating: 0it [00:00, ?it/s]"
      ]
     },
     "metadata": {},
     "output_type": "display_data"
    },
    {
     "name": "stdout",
     "output_type": "stream",
     "text": [
      "averaged metrics: {'loss_val': 0.0012, 'mape_val': 0.05, 'mse_val': 0.0025, 'mae_val': 0.0389}\n"
     ]
    },
    {
     "data": {
      "application/vnd.jupyter.widget-view+json": {
       "model_id": "5a5c5963161047c089d335263c4ec0c6",
       "version_major": 2,
       "version_minor": 0
      },
      "text/plain": [
       "Validating: 0it [00:00, ?it/s]"
      ]
     },
     "metadata": {},
     "output_type": "display_data"
    },
    {
     "name": "stdout",
     "output_type": "stream",
     "text": [
      "averaged metrics: {'loss_val': 0.0011, 'mape_val': 0.0479, 'mse_val': 0.0022, 'mae_val': 0.0369}\n"
     ]
    },
    {
     "data": {
      "application/vnd.jupyter.widget-view+json": {
       "model_id": "b65b690e5e304229aa9a81e1a1f71bb0",
       "version_major": 2,
       "version_minor": 0
      },
      "text/plain": [
       "Validating: 0it [00:00, ?it/s]"
      ]
     },
     "metadata": {},
     "output_type": "display_data"
    },
    {
     "name": "stdout",
     "output_type": "stream",
     "text": [
      "averaged metrics: {'loss_val': 0.0012, 'mape_val': 0.05, 'mse_val': 0.0024, 'mae_val': 0.0385}\n"
     ]
    },
    {
     "data": {
      "application/vnd.jupyter.widget-view+json": {
       "model_id": "cce25622a4f2466b9c19ff54b19babdc",
       "version_major": 2,
       "version_minor": 0
      },
      "text/plain": [
       "Validating: 0it [00:00, ?it/s]"
      ]
     },
     "metadata": {},
     "output_type": "display_data"
    },
    {
     "name": "stdout",
     "output_type": "stream",
     "text": [
      "averaged metrics: {'loss_val': 0.0011, 'mape_val': 0.0483, 'mse_val': 0.0022, 'mae_val': 0.0373}\n"
     ]
    },
    {
     "data": {
      "application/vnd.jupyter.widget-view+json": {
       "model_id": "d6ff4a2feb9546c8a2df807ea6b17589",
       "version_major": 2,
       "version_minor": 0
      },
      "text/plain": [
       "Validating: 0it [00:00, ?it/s]"
      ]
     },
     "metadata": {},
     "output_type": "display_data"
    },
    {
     "name": "stdout",
     "output_type": "stream",
     "text": [
      "averaged metrics: {'loss_val': 0.0011, 'mape_val': 0.0478, 'mse_val': 0.0022, 'mae_val': 0.0367}\n"
     ]
    },
    {
     "data": {
      "application/vnd.jupyter.widget-view+json": {
       "model_id": "1e518876c92d47f9b7e6a0871bfcddf5",
       "version_major": 2,
       "version_minor": 0
      },
      "text/plain": [
       "Validating: 0it [00:00, ?it/s]"
      ]
     },
     "metadata": {},
     "output_type": "display_data"
    },
    {
     "name": "stdout",
     "output_type": "stream",
     "text": [
      "averaged metrics: {'loss_val': 0.0011, 'mape_val': 0.0469, 'mse_val': 0.0022, 'mae_val': 0.0362}\n"
     ]
    },
    {
     "data": {
      "application/vnd.jupyter.widget-view+json": {
       "model_id": "783e4399dd8e419fa45eae3ea5f3983b",
       "version_major": 2,
       "version_minor": 0
      },
      "text/plain": [
       "Validating: 0it [00:00, ?it/s]"
      ]
     },
     "metadata": {},
     "output_type": "display_data"
    },
    {
     "name": "stdout",
     "output_type": "stream",
     "text": [
      "averaged metrics: {'loss_val': 0.0011, 'mape_val': 0.0476, 'mse_val': 0.0021, 'mae_val': 0.0367}\n"
     ]
    },
    {
     "data": {
      "application/vnd.jupyter.widget-view+json": {
       "model_id": "3700b19a29114e298c520f4e1349d043",
       "version_major": 2,
       "version_minor": 0
      },
      "text/plain": [
       "Validating: 0it [00:00, ?it/s]"
      ]
     },
     "metadata": {},
     "output_type": "display_data"
    },
    {
     "name": "stdout",
     "output_type": "stream",
     "text": [
      "averaged metrics: {'loss_val': 0.0012, 'mape_val': 0.0491, 'mse_val': 0.0024, 'mae_val': 0.0382}\n"
     ]
    },
    {
     "data": {
      "application/vnd.jupyter.widget-view+json": {
       "model_id": "9f56ed7d16494797a35e40c8fb03be54",
       "version_major": 2,
       "version_minor": 0
      },
      "text/plain": [
       "Validating: 0it [00:00, ?it/s]"
      ]
     },
     "metadata": {},
     "output_type": "display_data"
    },
    {
     "name": "stdout",
     "output_type": "stream",
     "text": [
      "averaged metrics: {'loss_val': 0.0011, 'mape_val': 0.0485, 'mse_val': 0.0022, 'mae_val': 0.0374}\n"
     ]
    },
    {
     "data": {
      "application/vnd.jupyter.widget-view+json": {
       "model_id": "c087758d887f4dbc8ee583c3a27cfb24",
       "version_major": 2,
       "version_minor": 0
      },
      "text/plain": [
       "Validating: 0it [00:00, ?it/s]"
      ]
     },
     "metadata": {},
     "output_type": "display_data"
    },
    {
     "name": "stdout",
     "output_type": "stream",
     "text": [
      "averaged metrics: {'loss_val': 0.0011, 'mape_val': 0.0482, 'mse_val': 0.0022, 'mae_val': 0.0371}\n"
     ]
    },
    {
     "data": {
      "application/vnd.jupyter.widget-view+json": {
       "model_id": "34a248c142f94e42bcee803acd8d0a83",
       "version_major": 2,
       "version_minor": 0
      },
      "text/plain": [
       "Validating: 0it [00:00, ?it/s]"
      ]
     },
     "metadata": {},
     "output_type": "display_data"
    },
    {
     "name": "stdout",
     "output_type": "stream",
     "text": [
      "averaged metrics: {'loss_val': 0.0011, 'mape_val': 0.048, 'mse_val': 0.0022, 'mae_val': 0.0367}\n"
     ]
    },
    {
     "data": {
      "application/vnd.jupyter.widget-view+json": {
       "model_id": "1c26ffba7c4c4792bffbdfcfb965d7b2",
       "version_major": 2,
       "version_minor": 0
      },
      "text/plain": [
       "Validating: 0it [00:00, ?it/s]"
      ]
     },
     "metadata": {},
     "output_type": "display_data"
    },
    {
     "name": "stdout",
     "output_type": "stream",
     "text": [
      "averaged metrics: {'loss_val': 0.0011, 'mape_val': 0.0478, 'mse_val': 0.0021, 'mae_val': 0.0368}\n"
     ]
    },
    {
     "data": {
      "application/vnd.jupyter.widget-view+json": {
       "model_id": "21a3f990d99d46f79fa3d77aa578aff3",
       "version_major": 2,
       "version_minor": 0
      },
      "text/plain": [
       "Validating: 0it [00:00, ?it/s]"
      ]
     },
     "metadata": {},
     "output_type": "display_data"
    },
    {
     "name": "stdout",
     "output_type": "stream",
     "text": [
      "averaged metrics: {'loss_val': 0.0011, 'mape_val': 0.0497, 'mse_val': 0.0022, 'mae_val': 0.0381}\n"
     ]
    },
    {
     "data": {
      "application/vnd.jupyter.widget-view+json": {
       "model_id": "dfc926a70fb144a68b9bf4f7c7a1d1cb",
       "version_major": 2,
       "version_minor": 0
      },
      "text/plain": [
       "Validating: 0it [00:00, ?it/s]"
      ]
     },
     "metadata": {},
     "output_type": "display_data"
    },
    {
     "name": "stdout",
     "output_type": "stream",
     "text": [
      "averaged metrics: {'loss_val': 0.0011, 'mape_val': 0.0474, 'mse_val': 0.0022, 'mae_val': 0.0365}\n"
     ]
    },
    {
     "data": {
      "application/vnd.jupyter.widget-view+json": {
       "model_id": "5f5e023423a34515ae48c9139c52ca49",
       "version_major": 2,
       "version_minor": 0
      },
      "text/plain": [
       "Validating: 0it [00:00, ?it/s]"
      ]
     },
     "metadata": {},
     "output_type": "display_data"
    },
    {
     "name": "stdout",
     "output_type": "stream",
     "text": [
      "averaged metrics: {'loss_val': 0.0011, 'mape_val': 0.0483, 'mse_val': 0.0022, 'mae_val': 0.037}\n"
     ]
    },
    {
     "data": {
      "application/vnd.jupyter.widget-view+json": {
       "model_id": "a67a74bd13084eafb5f4898cc88a9a37",
       "version_major": 2,
       "version_minor": 0
      },
      "text/plain": [
       "Validating: 0it [00:00, ?it/s]"
      ]
     },
     "metadata": {},
     "output_type": "display_data"
    },
    {
     "name": "stdout",
     "output_type": "stream",
     "text": [
      "averaged metrics: {'loss_val': 0.0012, 'mape_val': 0.0512, 'mse_val': 0.0024, 'mae_val': 0.0392}\n"
     ]
    },
    {
     "data": {
      "application/vnd.jupyter.widget-view+json": {
       "model_id": "fd6c8ab4d8774760833eb86fbda02149",
       "version_major": 2,
       "version_minor": 0
      },
      "text/plain": [
       "Validating: 0it [00:00, ?it/s]"
      ]
     },
     "metadata": {},
     "output_type": "display_data"
    },
    {
     "name": "stdout",
     "output_type": "stream",
     "text": [
      "averaged metrics: {'loss_val': 0.0011, 'mape_val': 0.0488, 'mse_val': 0.0022, 'mae_val': 0.0372}\n"
     ]
    },
    {
     "data": {
      "application/vnd.jupyter.widget-view+json": {
       "model_id": "c0dce3377c6c4d07a9ac5e251034c578",
       "version_major": 2,
       "version_minor": 0
      },
      "text/plain": [
       "Validating: 0it [00:00, ?it/s]"
      ]
     },
     "metadata": {},
     "output_type": "display_data"
    },
    {
     "name": "stdout",
     "output_type": "stream",
     "text": [
      "averaged metrics: {'loss_val': 0.0012, 'mape_val': 0.0542, 'mse_val': 0.0025, 'mae_val': 0.0408}\n"
     ]
    },
    {
     "data": {
      "application/vnd.jupyter.widget-view+json": {
       "model_id": "aed90846dcc3470ba239b81a9ed2efa4",
       "version_major": 2,
       "version_minor": 0
      },
      "text/plain": [
       "Validating: 0it [00:00, ?it/s]"
      ]
     },
     "metadata": {},
     "output_type": "display_data"
    },
    {
     "name": "stdout",
     "output_type": "stream",
     "text": [
      "averaged metrics: {'loss_val': 0.0012, 'mape_val': 0.0522, 'mse_val': 0.0025, 'mae_val': 0.0402}\n"
     ]
    },
    {
     "data": {
      "application/vnd.jupyter.widget-view+json": {
       "model_id": "e18c1c6f20384c27b3518b4601dc5c3d",
       "version_major": 2,
       "version_minor": 0
      },
      "text/plain": [
       "Validating: 0it [00:00, ?it/s]"
      ]
     },
     "metadata": {},
     "output_type": "display_data"
    },
    {
     "name": "stdout",
     "output_type": "stream",
     "text": [
      "averaged metrics: {'loss_val': 0.0011, 'mape_val': 0.0472, 'mse_val': 0.0021, 'mae_val': 0.0363}\n"
     ]
    },
    {
     "data": {
      "application/vnd.jupyter.widget-view+json": {
       "model_id": "f97a46aa21c2437fb01aa0e284e4265d",
       "version_major": 2,
       "version_minor": 0
      },
      "text/plain": [
       "Validating: 0it [00:00, ?it/s]"
      ]
     },
     "metadata": {},
     "output_type": "display_data"
    },
    {
     "name": "stdout",
     "output_type": "stream",
     "text": [
      "averaged metrics: {'loss_val': 0.0012, 'mape_val': 0.0496, 'mse_val': 0.0024, 'mae_val': 0.0383}\n"
     ]
    },
    {
     "data": {
      "application/vnd.jupyter.widget-view+json": {
       "model_id": "061bb245adcb4539b2cf22ddf668c05a",
       "version_major": 2,
       "version_minor": 0
      },
      "text/plain": [
       "Validating: 0it [00:00, ?it/s]"
      ]
     },
     "metadata": {},
     "output_type": "display_data"
    },
    {
     "name": "stdout",
     "output_type": "stream",
     "text": [
      "averaged metrics: {'loss_val': 0.0011, 'mape_val': 0.0477, 'mse_val': 0.0021, 'mae_val': 0.0367}\n"
     ]
    },
    {
     "data": {
      "application/vnd.jupyter.widget-view+json": {
       "model_id": "6fde362d725d482f920404c2507a491e",
       "version_major": 2,
       "version_minor": 0
      },
      "text/plain": [
       "Validating: 0it [00:00, ?it/s]"
      ]
     },
     "metadata": {},
     "output_type": "display_data"
    },
    {
     "name": "stdout",
     "output_type": "stream",
     "text": [
      "averaged metrics: {'loss_val': 0.0011, 'mape_val': 0.0488, 'mse_val': 0.0022, 'mae_val': 0.0373}\n"
     ]
    },
    {
     "data": {
      "application/vnd.jupyter.widget-view+json": {
       "model_id": "f1ce424d71254116899a616b9a4afdec",
       "version_major": 2,
       "version_minor": 0
      },
      "text/plain": [
       "Validating: 0it [00:00, ?it/s]"
      ]
     },
     "metadata": {},
     "output_type": "display_data"
    },
    {
     "name": "stdout",
     "output_type": "stream",
     "text": [
      "averaged metrics: {'loss_val': 0.0011, 'mape_val': 0.0483, 'mse_val': 0.0022, 'mae_val': 0.0374}\n"
     ]
    },
    {
     "data": {
      "application/vnd.jupyter.widget-view+json": {
       "model_id": "805c26366e90402fae418590b960083d",
       "version_major": 2,
       "version_minor": 0
      },
      "text/plain": [
       "Validating: 0it [00:00, ?it/s]"
      ]
     },
     "metadata": {},
     "output_type": "display_data"
    },
    {
     "name": "stdout",
     "output_type": "stream",
     "text": [
      "averaged metrics: {'loss_val': 0.0011, 'mape_val': 0.0472, 'mse_val': 0.0022, 'mae_val': 0.0366}\n"
     ]
    },
    {
     "data": {
      "application/vnd.jupyter.widget-view+json": {
       "model_id": "96b6fa1ea75f4fcb90572a412c8e8a5b",
       "version_major": 2,
       "version_minor": 0
      },
      "text/plain": [
       "Validating: 0it [00:00, ?it/s]"
      ]
     },
     "metadata": {},
     "output_type": "display_data"
    },
    {
     "name": "stdout",
     "output_type": "stream",
     "text": [
      "averaged metrics: {'loss_val': 0.0011, 'mape_val': 0.0501, 'mse_val': 0.0023, 'mae_val': 0.0385}\n"
     ]
    },
    {
     "data": {
      "application/vnd.jupyter.widget-view+json": {
       "model_id": "b49195fe39b4449b8c05f8607befc402",
       "version_major": 2,
       "version_minor": 0
      },
      "text/plain": [
       "Validating: 0it [00:00, ?it/s]"
      ]
     },
     "metadata": {},
     "output_type": "display_data"
    },
    {
     "name": "stdout",
     "output_type": "stream",
     "text": [
      "averaged metrics: {'loss_val': 0.0011, 'mape_val': 0.0485, 'mse_val': 0.0022, 'mae_val': 0.0371}\n"
     ]
    },
    {
     "data": {
      "application/vnd.jupyter.widget-view+json": {
       "model_id": "4761d7fe731a4d97987ed8ffcc2d781f",
       "version_major": 2,
       "version_minor": 0
      },
      "text/plain": [
       "Validating: 0it [00:00, ?it/s]"
      ]
     },
     "metadata": {},
     "output_type": "display_data"
    },
    {
     "name": "stdout",
     "output_type": "stream",
     "text": [
      "averaged metrics: {'loss_val': 0.0011, 'mape_val': 0.0489, 'mse_val': 0.0022, 'mae_val': 0.0377}\n"
     ]
    },
    {
     "data": {
      "application/vnd.jupyter.widget-view+json": {
       "model_id": "92198cd46d114c3d8ec8634a90292b32",
       "version_major": 2,
       "version_minor": 0
      },
      "text/plain": [
       "Validating: 0it [00:00, ?it/s]"
      ]
     },
     "metadata": {},
     "output_type": "display_data"
    },
    {
     "name": "stdout",
     "output_type": "stream",
     "text": [
      "averaged metrics: {'loss_val': 0.0013, 'mape_val': 0.0533, 'mse_val': 0.0027, 'mae_val': 0.0413}\n"
     ]
    },
    {
     "data": {
      "application/vnd.jupyter.widget-view+json": {
       "model_id": "fe8b0f9d973a47b4a9510dc316cf1e41",
       "version_major": 2,
       "version_minor": 0
      },
      "text/plain": [
       "Validating: 0it [00:00, ?it/s]"
      ]
     },
     "metadata": {},
     "output_type": "display_data"
    },
    {
     "name": "stdout",
     "output_type": "stream",
     "text": [
      "averaged metrics: {'loss_val': 0.0011, 'mape_val': 0.0488, 'mse_val': 0.0022, 'mae_val': 0.0376}\n"
     ]
    },
    {
     "data": {
      "application/vnd.jupyter.widget-view+json": {
       "model_id": "6ca33b2e30ab46d08ac5cf1a4a27746d",
       "version_major": 2,
       "version_minor": 0
      },
      "text/plain": [
       "Validating: 0it [00:00, ?it/s]"
      ]
     },
     "metadata": {},
     "output_type": "display_data"
    },
    {
     "name": "stdout",
     "output_type": "stream",
     "text": [
      "averaged metrics: {'loss_val': 0.0011, 'mape_val': 0.0475, 'mse_val': 0.0021, 'mae_val': 0.0366}\n"
     ]
    },
    {
     "data": {
      "application/vnd.jupyter.widget-view+json": {
       "model_id": "0194bc6c05464f9a877860f5248e4eb2",
       "version_major": 2,
       "version_minor": 0
      },
      "text/plain": [
       "Validating: 0it [00:00, ?it/s]"
      ]
     },
     "metadata": {},
     "output_type": "display_data"
    },
    {
     "name": "stdout",
     "output_type": "stream",
     "text": [
      "averaged metrics: {'loss_val': 0.0011, 'mape_val': 0.0477, 'mse_val': 0.0021, 'mae_val': 0.0367}\n"
     ]
    },
    {
     "data": {
      "application/vnd.jupyter.widget-view+json": {
       "model_id": "90a0eadf97964959b70454157c23c111",
       "version_major": 2,
       "version_minor": 0
      },
      "text/plain": [
       "Validating: 0it [00:00, ?it/s]"
      ]
     },
     "metadata": {},
     "output_type": "display_data"
    },
    {
     "name": "stdout",
     "output_type": "stream",
     "text": [
      "averaged metrics: {'loss_val': 0.0011, 'mape_val': 0.0478, 'mse_val': 0.0022, 'mae_val': 0.0365}\n"
     ]
    },
    {
     "data": {
      "application/vnd.jupyter.widget-view+json": {
       "model_id": "1029115e53dd43ac86f9aa9890309164",
       "version_major": 2,
       "version_minor": 0
      },
      "text/plain": [
       "Validating: 0it [00:00, ?it/s]"
      ]
     },
     "metadata": {},
     "output_type": "display_data"
    },
    {
     "name": "stdout",
     "output_type": "stream",
     "text": [
      "averaged metrics: {'loss_val': 0.0014, 'mape_val': 0.0527, 'mse_val': 0.0028, 'mae_val': 0.0411}\n"
     ]
    },
    {
     "data": {
      "application/vnd.jupyter.widget-view+json": {
       "model_id": "3a9cdad90d4b485c909ed97e0497d97b",
       "version_major": 2,
       "version_minor": 0
      },
      "text/plain": [
       "Validating: 0it [00:00, ?it/s]"
      ]
     },
     "metadata": {},
     "output_type": "display_data"
    },
    {
     "name": "stdout",
     "output_type": "stream",
     "text": [
      "averaged metrics: {'loss_val': 0.0012, 'mape_val': 0.051, 'mse_val': 0.0023, 'mae_val': 0.0388}\n"
     ]
    },
    {
     "data": {
      "application/vnd.jupyter.widget-view+json": {
       "model_id": "0e4407cd47554372a81419282065abfb",
       "version_major": 2,
       "version_minor": 0
      },
      "text/plain": [
       "Validating: 0it [00:00, ?it/s]"
      ]
     },
     "metadata": {},
     "output_type": "display_data"
    },
    {
     "name": "stdout",
     "output_type": "stream",
     "text": [
      "averaged metrics: {'loss_val': 0.0011, 'mape_val': 0.0496, 'mse_val': 0.0023, 'mae_val': 0.0382}\n"
     ]
    },
    {
     "data": {
      "application/vnd.jupyter.widget-view+json": {
       "model_id": "12c746134d11455483b0c12d66ad19c1",
       "version_major": 2,
       "version_minor": 0
      },
      "text/plain": [
       "Validating: 0it [00:00, ?it/s]"
      ]
     },
     "metadata": {},
     "output_type": "display_data"
    },
    {
     "name": "stdout",
     "output_type": "stream",
     "text": [
      "averaged metrics: {'loss_val': 0.0011, 'mape_val': 0.0484, 'mse_val': 0.0022, 'mae_val': 0.0371}\n"
     ]
    },
    {
     "data": {
      "application/vnd.jupyter.widget-view+json": {
       "model_id": "4f80c838490a40d18c84ce5e08e373c4",
       "version_major": 2,
       "version_minor": 0
      },
      "text/plain": [
       "Validating: 0it [00:00, ?it/s]"
      ]
     },
     "metadata": {},
     "output_type": "display_data"
    },
    {
     "name": "stdout",
     "output_type": "stream",
     "text": [
      "averaged metrics: {'loss_val': 0.0013, 'mape_val': 0.0552, 'mse_val': 0.0027, 'mae_val': 0.0419}\n"
     ]
    },
    {
     "data": {
      "application/vnd.jupyter.widget-view+json": {
       "model_id": "479ef121ef8f4f47a7bb0db50f26a113",
       "version_major": 2,
       "version_minor": 0
      },
      "text/plain": [
       "Validating: 0it [00:00, ?it/s]"
      ]
     },
     "metadata": {},
     "output_type": "display_data"
    },
    {
     "name": "stdout",
     "output_type": "stream",
     "text": [
      "averaged metrics: {'loss_val': 0.0011, 'mape_val': 0.0483, 'mse_val': 0.0022, 'mae_val': 0.0371}\n"
     ]
    },
    {
     "data": {
      "application/vnd.jupyter.widget-view+json": {
       "model_id": "26cbfddb6c5b4b769d798fb00fd96d87",
       "version_major": 2,
       "version_minor": 0
      },
      "text/plain": [
       "Validating: 0it [00:00, ?it/s]"
      ]
     },
     "metadata": {},
     "output_type": "display_data"
    },
    {
     "name": "stdout",
     "output_type": "stream",
     "text": [
      "averaged metrics: {'loss_val': 0.0012, 'mape_val': 0.0513, 'mse_val': 0.0023, 'mae_val': 0.0388}\n"
     ]
    },
    {
     "data": {
      "application/vnd.jupyter.widget-view+json": {
       "model_id": "d60866ce50884afda738fde547ecf97b",
       "version_major": 2,
       "version_minor": 0
      },
      "text/plain": [
       "Validating: 0it [00:00, ?it/s]"
      ]
     },
     "metadata": {},
     "output_type": "display_data"
    },
    {
     "name": "stdout",
     "output_type": "stream",
     "text": [
      "averaged metrics: {'loss_val': 0.0011, 'mape_val': 0.0474, 'mse_val': 0.0022, 'mae_val': 0.0367}\n"
     ]
    },
    {
     "data": {
      "application/vnd.jupyter.widget-view+json": {
       "model_id": "1d0fb7d3236c40e2a58080e9eb619ef2",
       "version_major": 2,
       "version_minor": 0
      },
      "text/plain": [
       "Validating: 0it [00:00, ?it/s]"
      ]
     },
     "metadata": {},
     "output_type": "display_data"
    },
    {
     "name": "stdout",
     "output_type": "stream",
     "text": [
      "averaged metrics: {'loss_val': 0.0011, 'mape_val': 0.0484, 'mse_val': 0.0022, 'mae_val': 0.0372}\n"
     ]
    },
    {
     "data": {
      "application/vnd.jupyter.widget-view+json": {
       "model_id": "e84d69f176e147b7ae2f3e24e40ae479",
       "version_major": 2,
       "version_minor": 0
      },
      "text/plain": [
       "Validating: 0it [00:00, ?it/s]"
      ]
     },
     "metadata": {},
     "output_type": "display_data"
    },
    {
     "name": "stdout",
     "output_type": "stream",
     "text": [
      "averaged metrics: {'loss_val': 0.0012, 'mape_val': 0.051, 'mse_val': 0.0023, 'mae_val': 0.0386}\n"
     ]
    },
    {
     "data": {
      "application/vnd.jupyter.widget-view+json": {
       "model_id": "f0552d59e2844bdb98d795f2c1026cde",
       "version_major": 2,
       "version_minor": 0
      },
      "text/plain": [
       "Validating: 0it [00:00, ?it/s]"
      ]
     },
     "metadata": {},
     "output_type": "display_data"
    },
    {
     "name": "stdout",
     "output_type": "stream",
     "text": [
      "averaged metrics: {'loss_val': 0.0011, 'mape_val': 0.0483, 'mse_val': 0.0022, 'mae_val': 0.0371}\n"
     ]
    },
    {
     "data": {
      "application/vnd.jupyter.widget-view+json": {
       "model_id": "60db0af3c0584c28af0a3e8709dd0846",
       "version_major": 2,
       "version_minor": 0
      },
      "text/plain": [
       "Validating: 0it [00:00, ?it/s]"
      ]
     },
     "metadata": {},
     "output_type": "display_data"
    },
    {
     "name": "stdout",
     "output_type": "stream",
     "text": [
      "averaged metrics: {'loss_val': 0.0011, 'mape_val': 0.0483, 'mse_val': 0.0022, 'mae_val': 0.0369}\n"
     ]
    },
    {
     "data": {
      "application/vnd.jupyter.widget-view+json": {
       "model_id": "8c38c3dff49340f9b548b09ce8d46ae9",
       "version_major": 2,
       "version_minor": 0
      },
      "text/plain": [
       "Validating: 0it [00:00, ?it/s]"
      ]
     },
     "metadata": {},
     "output_type": "display_data"
    },
    {
     "name": "stdout",
     "output_type": "stream",
     "text": [
      "averaged metrics: {'loss_val': 0.0011, 'mape_val': 0.049, 'mse_val': 0.0022, 'mae_val': 0.0376}\n"
     ]
    },
    {
     "data": {
      "application/vnd.jupyter.widget-view+json": {
       "model_id": "a9ee3b5a2edf4e77bb1dd7102bd1fa8a",
       "version_major": 2,
       "version_minor": 0
      },
      "text/plain": [
       "Validating: 0it [00:00, ?it/s]"
      ]
     },
     "metadata": {},
     "output_type": "display_data"
    },
    {
     "name": "stdout",
     "output_type": "stream",
     "text": [
      "averaged metrics: {'loss_val': 0.0011, 'mape_val': 0.0474, 'mse_val': 0.0021, 'mae_val': 0.0364}\n"
     ]
    },
    {
     "data": {
      "application/vnd.jupyter.widget-view+json": {
       "model_id": "53fc0f8cbc274b78a8759e7464855cf8",
       "version_major": 2,
       "version_minor": 0
      },
      "text/plain": [
       "Validating: 0it [00:00, ?it/s]"
      ]
     },
     "metadata": {},
     "output_type": "display_data"
    },
    {
     "name": "stdout",
     "output_type": "stream",
     "text": [
      "averaged metrics: {'loss_val': 0.0011, 'mape_val': 0.0472, 'mse_val': 0.0022, 'mae_val': 0.0364}\n"
     ]
    },
    {
     "data": {
      "application/vnd.jupyter.widget-view+json": {
       "model_id": "8ede10b1fc60444f9f1530f3e0adc114",
       "version_major": 2,
       "version_minor": 0
      },
      "text/plain": [
       "Validating: 0it [00:00, ?it/s]"
      ]
     },
     "metadata": {},
     "output_type": "display_data"
    },
    {
     "name": "stdout",
     "output_type": "stream",
     "text": [
      "averaged metrics: {'loss_val': 0.0012, 'mape_val': 0.0521, 'mse_val': 0.0025, 'mae_val': 0.0403}\n"
     ]
    },
    {
     "data": {
      "application/vnd.jupyter.widget-view+json": {
       "model_id": "1d19e6c4177747338797e6a41552c956",
       "version_major": 2,
       "version_minor": 0
      },
      "text/plain": [
       "Validating: 0it [00:00, ?it/s]"
      ]
     },
     "metadata": {},
     "output_type": "display_data"
    },
    {
     "name": "stdout",
     "output_type": "stream",
     "text": [
      "averaged metrics: {'loss_val': 0.0012, 'mape_val': 0.0509, 'mse_val': 0.0023, 'mae_val': 0.039}\n"
     ]
    },
    {
     "data": {
      "application/vnd.jupyter.widget-view+json": {
       "model_id": "e32f9740caa1452dad67fac8984c263f",
       "version_major": 2,
       "version_minor": 0
      },
      "text/plain": [
       "Validating: 0it [00:00, ?it/s]"
      ]
     },
     "metadata": {},
     "output_type": "display_data"
    },
    {
     "name": "stdout",
     "output_type": "stream",
     "text": [
      "averaged metrics: {'loss_val': 0.0011, 'mape_val': 0.0478, 'mse_val': 0.0021, 'mae_val': 0.0368}\n"
     ]
    },
    {
     "data": {
      "application/vnd.jupyter.widget-view+json": {
       "model_id": "9c58d357ff854e42867f07408e6c401c",
       "version_major": 2,
       "version_minor": 0
      },
      "text/plain": [
       "Validating: 0it [00:00, ?it/s]"
      ]
     },
     "metadata": {},
     "output_type": "display_data"
    },
    {
     "name": "stdout",
     "output_type": "stream",
     "text": [
      "averaged metrics: {'loss_val': 0.0011, 'mape_val': 0.0477, 'mse_val': 0.0021, 'mae_val': 0.0367}\n"
     ]
    },
    {
     "data": {
      "application/vnd.jupyter.widget-view+json": {
       "model_id": "92b6e01f26df4010a84c6f5b9188ee72",
       "version_major": 2,
       "version_minor": 0
      },
      "text/plain": [
       "Validating: 0it [00:00, ?it/s]"
      ]
     },
     "metadata": {},
     "output_type": "display_data"
    },
    {
     "name": "stdout",
     "output_type": "stream",
     "text": [
      "averaged metrics: {'loss_val': 0.0011, 'mape_val': 0.0479, 'mse_val': 0.0022, 'mae_val': 0.0369}\n"
     ]
    },
    {
     "data": {
      "application/vnd.jupyter.widget-view+json": {
       "model_id": "c35c9559dec248b38f6d5d341d32852d",
       "version_major": 2,
       "version_minor": 0
      },
      "text/plain": [
       "Validating: 0it [00:00, ?it/s]"
      ]
     },
     "metadata": {},
     "output_type": "display_data"
    },
    {
     "name": "stdout",
     "output_type": "stream",
     "text": [
      "averaged metrics: {'loss_val': 0.0011, 'mape_val': 0.0507, 'mse_val': 0.0023, 'mae_val': 0.0385}\n"
     ]
    },
    {
     "data": {
      "application/vnd.jupyter.widget-view+json": {
       "model_id": "f08c231fac4a492181420040f78f61cb",
       "version_major": 2,
       "version_minor": 0
      },
      "text/plain": [
       "Validating: 0it [00:00, ?it/s]"
      ]
     },
     "metadata": {},
     "output_type": "display_data"
    },
    {
     "name": "stdout",
     "output_type": "stream",
     "text": [
      "averaged metrics: {'loss_val': 0.0011, 'mape_val': 0.0477, 'mse_val': 0.0021, 'mae_val': 0.0367}\n"
     ]
    },
    {
     "data": {
      "application/vnd.jupyter.widget-view+json": {
       "model_id": "585c01604eef4292a2bbc02b7b6e4acf",
       "version_major": 2,
       "version_minor": 0
      },
      "text/plain": [
       "Validating: 0it [00:00, ?it/s]"
      ]
     },
     "metadata": {},
     "output_type": "display_data"
    },
    {
     "name": "stdout",
     "output_type": "stream",
     "text": [
      "averaged metrics: {'loss_val': 0.0011, 'mape_val': 0.048, 'mse_val': 0.0021, 'mae_val': 0.0368}\n"
     ]
    },
    {
     "data": {
      "application/vnd.jupyter.widget-view+json": {
       "model_id": "12006ce4af8345b08d3a8ad7bfa5763c",
       "version_major": 2,
       "version_minor": 0
      },
      "text/plain": [
       "Validating: 0it [00:00, ?it/s]"
      ]
     },
     "metadata": {},
     "output_type": "display_data"
    },
    {
     "name": "stdout",
     "output_type": "stream",
     "text": [
      "averaged metrics: {'loss_val': 0.0011, 'mape_val': 0.048, 'mse_val': 0.0021, 'mae_val': 0.0368}\n"
     ]
    },
    {
     "data": {
      "application/vnd.jupyter.widget-view+json": {
       "model_id": "f8f02ffbcae04df8900012ec89065ad0",
       "version_major": 2,
       "version_minor": 0
      },
      "text/plain": [
       "Validating: 0it [00:00, ?it/s]"
      ]
     },
     "metadata": {},
     "output_type": "display_data"
    },
    {
     "name": "stdout",
     "output_type": "stream",
     "text": [
      "averaged metrics: {'loss_val': 0.0014, 'mape_val': 0.0524, 'mse_val': 0.0027, 'mae_val': 0.0409}\n"
     ]
    },
    {
     "data": {
      "application/vnd.jupyter.widget-view+json": {
       "model_id": "ab0b6698461c40a094f6275f69483b14",
       "version_major": 2,
       "version_minor": 0
      },
      "text/plain": [
       "Validating: 0it [00:00, ?it/s]"
      ]
     },
     "metadata": {},
     "output_type": "display_data"
    },
    {
     "name": "stdout",
     "output_type": "stream",
     "text": [
      "averaged metrics: {'loss_val': 0.0011, 'mape_val': 0.0474, 'mse_val': 0.0023, 'mae_val': 0.0366}\n"
     ]
    },
    {
     "data": {
      "application/vnd.jupyter.widget-view+json": {
       "model_id": "d3d5a86e892c4089af2c9db6a80c8d4d",
       "version_major": 2,
       "version_minor": 0
      },
      "text/plain": [
       "Validating: 0it [00:00, ?it/s]"
      ]
     },
     "metadata": {},
     "output_type": "display_data"
    },
    {
     "name": "stdout",
     "output_type": "stream",
     "text": [
      "averaged metrics: {'loss_val': 0.0011, 'mape_val': 0.0481, 'mse_val': 0.0022, 'mae_val': 0.0368}\n"
     ]
    },
    {
     "data": {
      "application/vnd.jupyter.widget-view+json": {
       "model_id": "547b52cf07744d9baf1f516b56225d58",
       "version_major": 2,
       "version_minor": 0
      },
      "text/plain": [
       "Validating: 0it [00:00, ?it/s]"
      ]
     },
     "metadata": {},
     "output_type": "display_data"
    },
    {
     "name": "stdout",
     "output_type": "stream",
     "text": [
      "averaged metrics: {'loss_val': 0.0011, 'mape_val': 0.0491, 'mse_val': 0.0022, 'mae_val': 0.0376}\n"
     ]
    },
    {
     "data": {
      "application/vnd.jupyter.widget-view+json": {
       "model_id": "cba51e6a1f3f4a48b91fb01de74a352b",
       "version_major": 2,
       "version_minor": 0
      },
      "text/plain": [
       "Validating: 0it [00:00, ?it/s]"
      ]
     },
     "metadata": {},
     "output_type": "display_data"
    },
    {
     "name": "stdout",
     "output_type": "stream",
     "text": [
      "averaged metrics: {'loss_val': 0.0011, 'mape_val': 0.0478, 'mse_val': 0.0021, 'mae_val': 0.0367}\n"
     ]
    },
    {
     "data": {
      "application/vnd.jupyter.widget-view+json": {
       "model_id": "b4a7861958c648939e395d80bbee3776",
       "version_major": 2,
       "version_minor": 0
      },
      "text/plain": [
       "Validating: 0it [00:00, ?it/s]"
      ]
     },
     "metadata": {},
     "output_type": "display_data"
    },
    {
     "name": "stdout",
     "output_type": "stream",
     "text": [
      "averaged metrics: {'loss_val': 0.0011, 'mape_val': 0.0476, 'mse_val': 0.0022, 'mae_val': 0.0367}\n"
     ]
    },
    {
     "data": {
      "application/vnd.jupyter.widget-view+json": {
       "model_id": "6480b98299a1441ca8c1c5e162f86c9e",
       "version_major": 2,
       "version_minor": 0
      },
      "text/plain": [
       "Validating: 0it [00:00, ?it/s]"
      ]
     },
     "metadata": {},
     "output_type": "display_data"
    },
    {
     "name": "stdout",
     "output_type": "stream",
     "text": [
      "averaged metrics: {'loss_val': 0.0011, 'mape_val': 0.0487, 'mse_val': 0.0022, 'mae_val': 0.0373}\n"
     ]
    },
    {
     "data": {
      "application/vnd.jupyter.widget-view+json": {
       "model_id": "e661c6a819fb44aabf8f1e87fdf644dd",
       "version_major": 2,
       "version_minor": 0
      },
      "text/plain": [
       "Validating: 0it [00:00, ?it/s]"
      ]
     },
     "metadata": {},
     "output_type": "display_data"
    },
    {
     "name": "stdout",
     "output_type": "stream",
     "text": [
      "averaged metrics: {'loss_val': 0.0011, 'mape_val': 0.0497, 'mse_val': 0.0022, 'mae_val': 0.0381}\n"
     ]
    },
    {
     "data": {
      "application/vnd.jupyter.widget-view+json": {
       "model_id": "bc7a28e410e143eca28d4ed7e162260b",
       "version_major": 2,
       "version_minor": 0
      },
      "text/plain": [
       "Validating: 0it [00:00, ?it/s]"
      ]
     },
     "metadata": {},
     "output_type": "display_data"
    },
    {
     "name": "stdout",
     "output_type": "stream",
     "text": [
      "averaged metrics: {'loss_val': 0.0011, 'mape_val': 0.0484, 'mse_val': 0.0022, 'mae_val': 0.0373}\n"
     ]
    },
    {
     "data": {
      "application/vnd.jupyter.widget-view+json": {
       "model_id": "adf5dcd288064314be1786ad5f6ccb37",
       "version_major": 2,
       "version_minor": 0
      },
      "text/plain": [
       "Validating: 0it [00:00, ?it/s]"
      ]
     },
     "metadata": {},
     "output_type": "display_data"
    },
    {
     "name": "stdout",
     "output_type": "stream",
     "text": [
      "averaged metrics: {'loss_val': 0.0011, 'mape_val': 0.0484, 'mse_val': 0.0022, 'mae_val': 0.0372}\n"
     ]
    },
    {
     "data": {
      "application/vnd.jupyter.widget-view+json": {
       "model_id": "9ee3f1414e6e4fd1afb462ec893ac8a6",
       "version_major": 2,
       "version_minor": 0
      },
      "text/plain": [
       "Validating: 0it [00:00, ?it/s]"
      ]
     },
     "metadata": {},
     "output_type": "display_data"
    },
    {
     "name": "stdout",
     "output_type": "stream",
     "text": [
      "averaged metrics: {'loss_val': 0.0011, 'mape_val': 0.0484, 'mse_val': 0.0022, 'mae_val': 0.0373}\n"
     ]
    },
    {
     "data": {
      "application/vnd.jupyter.widget-view+json": {
       "model_id": "b0117430d029403d85804a87e944f2a3",
       "version_major": 2,
       "version_minor": 0
      },
      "text/plain": [
       "Validating: 0it [00:00, ?it/s]"
      ]
     },
     "metadata": {},
     "output_type": "display_data"
    },
    {
     "name": "stdout",
     "output_type": "stream",
     "text": [
      "averaged metrics: {'loss_val': 0.0011, 'mape_val': 0.0486, 'mse_val': 0.0022, 'mae_val': 0.0375}\n"
     ]
    },
    {
     "data": {
      "application/vnd.jupyter.widget-view+json": {
       "model_id": "d359f77c0f634c479d1b46e2e06bea99",
       "version_major": 2,
       "version_minor": 0
      },
      "text/plain": [
       "Validating: 0it [00:00, ?it/s]"
      ]
     },
     "metadata": {},
     "output_type": "display_data"
    },
    {
     "name": "stdout",
     "output_type": "stream",
     "text": [
      "averaged metrics: {'loss_val': 0.0011, 'mape_val': 0.048, 'mse_val': 0.0022, 'mae_val': 0.0367}\n"
     ]
    },
    {
     "data": {
      "application/vnd.jupyter.widget-view+json": {
       "model_id": "6b11185802da45e2b48dab863fe8c043",
       "version_major": 2,
       "version_minor": 0
      },
      "text/plain": [
       "Validating: 0it [00:00, ?it/s]"
      ]
     },
     "metadata": {},
     "output_type": "display_data"
    },
    {
     "name": "stdout",
     "output_type": "stream",
     "text": [
      "averaged metrics: {'loss_val': 0.0011, 'mape_val': 0.049, 'mse_val': 0.0022, 'mae_val': 0.0376}\n"
     ]
    },
    {
     "data": {
      "application/vnd.jupyter.widget-view+json": {
       "model_id": "f15d91e30418492f83be764a116c5df6",
       "version_major": 2,
       "version_minor": 0
      },
      "text/plain": [
       "Validating: 0it [00:00, ?it/s]"
      ]
     },
     "metadata": {},
     "output_type": "display_data"
    },
    {
     "name": "stdout",
     "output_type": "stream",
     "text": [
      "averaged metrics: {'loss_val': 0.0011, 'mape_val': 0.0476, 'mse_val': 0.0021, 'mae_val': 0.0367}\n"
     ]
    },
    {
     "data": {
      "application/vnd.jupyter.widget-view+json": {
       "model_id": "e3a036d129b94dd6b736bc4ddc4329ef",
       "version_major": 2,
       "version_minor": 0
      },
      "text/plain": [
       "Validating: 0it [00:00, ?it/s]"
      ]
     },
     "metadata": {},
     "output_type": "display_data"
    },
    {
     "name": "stdout",
     "output_type": "stream",
     "text": [
      "averaged metrics: {'loss_val': 0.0013, 'mape_val': 0.0551, 'mse_val': 0.0026, 'mae_val': 0.0415}\n"
     ]
    },
    {
     "data": {
      "application/vnd.jupyter.widget-view+json": {
       "model_id": "6338269080a54206ba93e54a355b8c5f",
       "version_major": 2,
       "version_minor": 0
      },
      "text/plain": [
       "Validating: 0it [00:00, ?it/s]"
      ]
     },
     "metadata": {},
     "output_type": "display_data"
    },
    {
     "name": "stdout",
     "output_type": "stream",
     "text": [
      "averaged metrics: {'loss_val': 0.0011, 'mape_val': 0.0492, 'mse_val': 0.0022, 'mae_val': 0.0374}\n"
     ]
    },
    {
     "data": {
      "application/vnd.jupyter.widget-view+json": {
       "model_id": "9b14c9981e254a9496c74a5b048c9af2",
       "version_major": 2,
       "version_minor": 0
      },
      "text/plain": [
       "Validating: 0it [00:00, ?it/s]"
      ]
     },
     "metadata": {},
     "output_type": "display_data"
    },
    {
     "name": "stdout",
     "output_type": "stream",
     "text": [
      "averaged metrics: {'loss_val': 0.0011, 'mape_val': 0.0478, 'mse_val': 0.0021, 'mae_val': 0.0366}\n"
     ]
    },
    {
     "data": {
      "application/vnd.jupyter.widget-view+json": {
       "model_id": "a5683bf68b9346539138901b9218dfc1",
       "version_major": 2,
       "version_minor": 0
      },
      "text/plain": [
       "Validating: 0it [00:00, ?it/s]"
      ]
     },
     "metadata": {},
     "output_type": "display_data"
    },
    {
     "name": "stdout",
     "output_type": "stream",
     "text": [
      "averaged metrics: {'loss_val': 0.0011, 'mape_val': 0.0471, 'mse_val': 0.0022, 'mae_val': 0.0363}\n"
     ]
    },
    {
     "data": {
      "application/vnd.jupyter.widget-view+json": {
       "model_id": "6958849429294ed09e10ff1c73a97e65",
       "version_major": 2,
       "version_minor": 0
      },
      "text/plain": [
       "Validating: 0it [00:00, ?it/s]"
      ]
     },
     "metadata": {},
     "output_type": "display_data"
    },
    {
     "name": "stdout",
     "output_type": "stream",
     "text": [
      "averaged metrics: {'loss_val': 0.0011, 'mape_val': 0.0477, 'mse_val': 0.0021, 'mae_val': 0.0366}\n"
     ]
    },
    {
     "data": {
      "application/vnd.jupyter.widget-view+json": {
       "model_id": "95973aa2dd0a403889b6e93d1ae330cc",
       "version_major": 2,
       "version_minor": 0
      },
      "text/plain": [
       "Validating: 0it [00:00, ?it/s]"
      ]
     },
     "metadata": {},
     "output_type": "display_data"
    },
    {
     "name": "stdout",
     "output_type": "stream",
     "text": [
      "averaged metrics: {'loss_val': 0.0011, 'mape_val': 0.0472, 'mse_val': 0.0021, 'mae_val': 0.0364}\n"
     ]
    },
    {
     "data": {
      "application/vnd.jupyter.widget-view+json": {
       "model_id": "baf91aa787ef4823bc815cb58690f0e2",
       "version_major": 2,
       "version_minor": 0
      },
      "text/plain": [
       "Validating: 0it [00:00, ?it/s]"
      ]
     },
     "metadata": {},
     "output_type": "display_data"
    },
    {
     "name": "stdout",
     "output_type": "stream",
     "text": [
      "averaged metrics: {'loss_val': 0.0011, 'mape_val': 0.0477, 'mse_val': 0.0022, 'mae_val': 0.0369}\n"
     ]
    },
    {
     "data": {
      "application/vnd.jupyter.widget-view+json": {
       "model_id": "6168b2db994643cd8c46af638b7820d6",
       "version_major": 2,
       "version_minor": 0
      },
      "text/plain": [
       "Validating: 0it [00:00, ?it/s]"
      ]
     },
     "metadata": {},
     "output_type": "display_data"
    },
    {
     "name": "stdout",
     "output_type": "stream",
     "text": [
      "averaged metrics: {'loss_val': 0.0012, 'mape_val': 0.0501, 'mse_val': 0.0024, 'mae_val': 0.0386}\n"
     ]
    },
    {
     "data": {
      "application/vnd.jupyter.widget-view+json": {
       "model_id": "ec31313c21c14445af4d35fe97e11eb0",
       "version_major": 2,
       "version_minor": 0
      },
      "text/plain": [
       "Validating: 0it [00:00, ?it/s]"
      ]
     },
     "metadata": {},
     "output_type": "display_data"
    },
    {
     "name": "stdout",
     "output_type": "stream",
     "text": [
      "averaged metrics: {'loss_val': 0.0011, 'mape_val': 0.0494, 'mse_val': 0.0022, 'mae_val': 0.0377}\n"
     ]
    },
    {
     "data": {
      "application/vnd.jupyter.widget-view+json": {
       "model_id": "ed944cc8ae274a1aa6f2ff390d0d9b4e",
       "version_major": 2,
       "version_minor": 0
      },
      "text/plain": [
       "Validating: 0it [00:00, ?it/s]"
      ]
     },
     "metadata": {},
     "output_type": "display_data"
    },
    {
     "name": "stdout",
     "output_type": "stream",
     "text": [
      "averaged metrics: {'loss_val': 0.0011, 'mape_val': 0.0478, 'mse_val': 0.0021, 'mae_val': 0.0368}\n"
     ]
    },
    {
     "data": {
      "application/vnd.jupyter.widget-view+json": {
       "model_id": "397ffb35cd2f4f59b07e23b4af25928a",
       "version_major": 2,
       "version_minor": 0
      },
      "text/plain": [
       "Validating: 0it [00:00, ?it/s]"
      ]
     },
     "metadata": {},
     "output_type": "display_data"
    },
    {
     "name": "stdout",
     "output_type": "stream",
     "text": [
      "averaged metrics: {'loss_val': 0.0011, 'mape_val': 0.0487, 'mse_val': 0.0022, 'mae_val': 0.0372}\n"
     ]
    },
    {
     "data": {
      "application/vnd.jupyter.widget-view+json": {
       "model_id": "423f3fd0a98b4724b0d3967bf2708f4f",
       "version_major": 2,
       "version_minor": 0
      },
      "text/plain": [
       "Validating: 0it [00:00, ?it/s]"
      ]
     },
     "metadata": {},
     "output_type": "display_data"
    },
    {
     "name": "stdout",
     "output_type": "stream",
     "text": [
      "averaged metrics: {'loss_val': 0.0012, 'mape_val': 0.0501, 'mse_val': 0.0024, 'mae_val': 0.0378}\n"
     ]
    },
    {
     "data": {
      "application/vnd.jupyter.widget-view+json": {
       "model_id": "4b81c0d29ce945d5825b4179849cff28",
       "version_major": 2,
       "version_minor": 0
      },
      "text/plain": [
       "Validating: 0it [00:00, ?it/s]"
      ]
     },
     "metadata": {},
     "output_type": "display_data"
    },
    {
     "name": "stdout",
     "output_type": "stream",
     "text": [
      "averaged metrics: {'loss_val': 0.0012, 'mape_val': 0.0507, 'mse_val': 0.0024, 'mae_val': 0.0389}\n"
     ]
    },
    {
     "data": {
      "application/vnd.jupyter.widget-view+json": {
       "model_id": "6c525289a43a4ce89ecdc17c0d83a5f3",
       "version_major": 2,
       "version_minor": 0
      },
      "text/plain": [
       "Validating: 0it [00:00, ?it/s]"
      ]
     },
     "metadata": {},
     "output_type": "display_data"
    },
    {
     "name": "stdout",
     "output_type": "stream",
     "text": [
      "averaged metrics: {'loss_val': 0.0011, 'mape_val': 0.0478, 'mse_val': 0.0021, 'mae_val': 0.0367}\n"
     ]
    },
    {
     "data": {
      "application/vnd.jupyter.widget-view+json": {
       "model_id": "20c1f53de8974f58a04e2f31b59e6ee2",
       "version_major": 2,
       "version_minor": 0
      },
      "text/plain": [
       "Validating: 0it [00:00, ?it/s]"
      ]
     },
     "metadata": {},
     "output_type": "display_data"
    },
    {
     "name": "stdout",
     "output_type": "stream",
     "text": [
      "averaged metrics: {'loss_val': 0.0011, 'mape_val': 0.0474, 'mse_val': 0.0021, 'mae_val': 0.0365}\n"
     ]
    },
    {
     "data": {
      "application/vnd.jupyter.widget-view+json": {
       "model_id": "549e063ba72047eda5a79d11c47dabbd",
       "version_major": 2,
       "version_minor": 0
      },
      "text/plain": [
       "Validating: 0it [00:00, ?it/s]"
      ]
     },
     "metadata": {},
     "output_type": "display_data"
    },
    {
     "name": "stdout",
     "output_type": "stream",
     "text": [
      "averaged metrics: {'loss_val': 0.0012, 'mape_val': 0.0488, 'mse_val': 0.0025, 'mae_val': 0.0381}\n"
     ]
    },
    {
     "data": {
      "application/vnd.jupyter.widget-view+json": {
       "model_id": "be4ecd1ce2674f55b51176f21e8c4768",
       "version_major": 2,
       "version_minor": 0
      },
      "text/plain": [
       "Validating: 0it [00:00, ?it/s]"
      ]
     },
     "metadata": {},
     "output_type": "display_data"
    },
    {
     "name": "stdout",
     "output_type": "stream",
     "text": [
      "averaged metrics: {'loss_val': 0.0011, 'mape_val': 0.049, 'mse_val': 0.0022, 'mae_val': 0.0374}\n"
     ]
    },
    {
     "data": {
      "application/vnd.jupyter.widget-view+json": {
       "model_id": "ebc1dff4393c4c82bdcbbb7dbcc0320f",
       "version_major": 2,
       "version_minor": 0
      },
      "text/plain": [
       "Validating: 0it [00:00, ?it/s]"
      ]
     },
     "metadata": {},
     "output_type": "display_data"
    },
    {
     "name": "stdout",
     "output_type": "stream",
     "text": [
      "averaged metrics: {'loss_val': 0.0011, 'mape_val': 0.0472, 'mse_val': 0.0022, 'mae_val': 0.0365}\n"
     ]
    },
    {
     "data": {
      "application/vnd.jupyter.widget-view+json": {
       "model_id": "927a9afe664441bda8618ae95358d7a8",
       "version_major": 2,
       "version_minor": 0
      },
      "text/plain": [
       "Validating: 0it [00:00, ?it/s]"
      ]
     },
     "metadata": {},
     "output_type": "display_data"
    },
    {
     "name": "stdout",
     "output_type": "stream",
     "text": [
      "averaged metrics: {'loss_val': 0.0011, 'mape_val': 0.0481, 'mse_val': 0.0022, 'mae_val': 0.0371}\n"
     ]
    },
    {
     "data": {
      "application/vnd.jupyter.widget-view+json": {
       "model_id": "bfaffe8e11ec424996e8bde9078019ce",
       "version_major": 2,
       "version_minor": 0
      },
      "text/plain": [
       "Validating: 0it [00:00, ?it/s]"
      ]
     },
     "metadata": {},
     "output_type": "display_data"
    },
    {
     "name": "stdout",
     "output_type": "stream",
     "text": [
      "averaged metrics: {'loss_val': 0.0011, 'mape_val': 0.0479, 'mse_val': 0.0021, 'mae_val': 0.0368}\n"
     ]
    },
    {
     "data": {
      "application/vnd.jupyter.widget-view+json": {
       "model_id": "ed613530a833444098eb4351e1d72d43",
       "version_major": 2,
       "version_minor": 0
      },
      "text/plain": [
       "Validating: 0it [00:00, ?it/s]"
      ]
     },
     "metadata": {},
     "output_type": "display_data"
    },
    {
     "name": "stdout",
     "output_type": "stream",
     "text": [
      "averaged metrics: {'loss_val': 0.0011, 'mape_val': 0.0474, 'mse_val': 0.0022, 'mae_val': 0.0364}\n"
     ]
    },
    {
     "data": {
      "application/vnd.jupyter.widget-view+json": {
       "model_id": "614407a252a34d46a78864e21d6075e2",
       "version_major": 2,
       "version_minor": 0
      },
      "text/plain": [
       "Validating: 0it [00:00, ?it/s]"
      ]
     },
     "metadata": {},
     "output_type": "display_data"
    },
    {
     "name": "stdout",
     "output_type": "stream",
     "text": [
      "averaged metrics: {'loss_val': 0.0011, 'mape_val': 0.0495, 'mse_val': 0.0022, 'mae_val': 0.0376}\n"
     ]
    },
    {
     "data": {
      "application/vnd.jupyter.widget-view+json": {
       "model_id": "36a260775206404b89770019ac3ce838",
       "version_major": 2,
       "version_minor": 0
      },
      "text/plain": [
       "Validating: 0it [00:00, ?it/s]"
      ]
     },
     "metadata": {},
     "output_type": "display_data"
    },
    {
     "name": "stdout",
     "output_type": "stream",
     "text": [
      "averaged metrics: {'loss_val': 0.0011, 'mape_val': 0.049, 'mse_val': 0.0022, 'mae_val': 0.0375}\n"
     ]
    },
    {
     "data": {
      "application/vnd.jupyter.widget-view+json": {
       "model_id": "89590555d05c44a08d99225b51c98971",
       "version_major": 2,
       "version_minor": 0
      },
      "text/plain": [
       "Validating: 0it [00:00, ?it/s]"
      ]
     },
     "metadata": {},
     "output_type": "display_data"
    },
    {
     "name": "stdout",
     "output_type": "stream",
     "text": [
      "averaged metrics: {'loss_val': 0.0011, 'mape_val': 0.0494, 'mse_val': 0.0022, 'mae_val': 0.0378}\n"
     ]
    },
    {
     "data": {
      "application/vnd.jupyter.widget-view+json": {
       "model_id": "465eb94212494f06b219f9247f6cce0e",
       "version_major": 2,
       "version_minor": 0
      },
      "text/plain": [
       "Validating: 0it [00:00, ?it/s]"
      ]
     },
     "metadata": {},
     "output_type": "display_data"
    },
    {
     "name": "stdout",
     "output_type": "stream",
     "text": [
      "averaged metrics: {'loss_val': 0.0011, 'mape_val': 0.0475, 'mse_val': 0.0021, 'mae_val': 0.0366}\n"
     ]
    },
    {
     "data": {
      "application/vnd.jupyter.widget-view+json": {
       "model_id": "1915fc7756d14d01b0e47557823bac17",
       "version_major": 2,
       "version_minor": 0
      },
      "text/plain": [
       "Validating: 0it [00:00, ?it/s]"
      ]
     },
     "metadata": {},
     "output_type": "display_data"
    },
    {
     "name": "stdout",
     "output_type": "stream",
     "text": [
      "averaged metrics: {'loss_val': 0.0011, 'mape_val': 0.0472, 'mse_val': 0.0022, 'mae_val': 0.0364}\n"
     ]
    },
    {
     "data": {
      "application/vnd.jupyter.widget-view+json": {
       "model_id": "6eaa3c7e3f9044f8b5af2f9af884382d",
       "version_major": 2,
       "version_minor": 0
      },
      "text/plain": [
       "Validating: 0it [00:00, ?it/s]"
      ]
     },
     "metadata": {},
     "output_type": "display_data"
    },
    {
     "name": "stdout",
     "output_type": "stream",
     "text": [
      "averaged metrics: {'loss_val': 0.0012, 'mape_val': 0.0514, 'mse_val': 0.0024, 'mae_val': 0.0387}\n"
     ]
    },
    {
     "data": {
      "application/vnd.jupyter.widget-view+json": {
       "model_id": "d6942aeae12c413d8215e69ef8b69ba7",
       "version_major": 2,
       "version_minor": 0
      },
      "text/plain": [
       "Validating: 0it [00:00, ?it/s]"
      ]
     },
     "metadata": {},
     "output_type": "display_data"
    },
    {
     "name": "stdout",
     "output_type": "stream",
     "text": [
      "averaged metrics: {'loss_val': 0.0011, 'mape_val': 0.0487, 'mse_val': 0.0022, 'mae_val': 0.0374}\n"
     ]
    },
    {
     "data": {
      "application/vnd.jupyter.widget-view+json": {
       "model_id": "dd0cf462c40f4503bf1741920a64cc40",
       "version_major": 2,
       "version_minor": 0
      },
      "text/plain": [
       "Validating: 0it [00:00, ?it/s]"
      ]
     },
     "metadata": {},
     "output_type": "display_data"
    },
    {
     "name": "stdout",
     "output_type": "stream",
     "text": [
      "averaged metrics: {'loss_val': 0.0011, 'mape_val': 0.0483, 'mse_val': 0.0022, 'mae_val': 0.0371}\n"
     ]
    },
    {
     "data": {
      "application/vnd.jupyter.widget-view+json": {
       "model_id": "6716f14b903c4c5ebfad05f23ea84b92",
       "version_major": 2,
       "version_minor": 0
      },
      "text/plain": [
       "Validating: 0it [00:00, ?it/s]"
      ]
     },
     "metadata": {},
     "output_type": "display_data"
    },
    {
     "name": "stdout",
     "output_type": "stream",
     "text": [
      "averaged metrics: {'loss_val': 0.0011, 'mape_val': 0.0478, 'mse_val': 0.0021, 'mae_val': 0.0367}\n"
     ]
    },
    {
     "data": {
      "application/vnd.jupyter.widget-view+json": {
       "model_id": "b34de35fe32c44f193980eecbda21685",
       "version_major": 2,
       "version_minor": 0
      },
      "text/plain": [
       "Validating: 0it [00:00, ?it/s]"
      ]
     },
     "metadata": {},
     "output_type": "display_data"
    },
    {
     "name": "stdout",
     "output_type": "stream",
     "text": [
      "averaged metrics: {'loss_val': 0.0014, 'mape_val': 0.0604, 'mse_val': 0.0029, 'mae_val': 0.0447}\n"
     ]
    },
    {
     "data": {
      "application/vnd.jupyter.widget-view+json": {
       "model_id": "c5b2fa7eb02d4cdf863880c4775d9578",
       "version_major": 2,
       "version_minor": 0
      },
      "text/plain": [
       "Validating: 0it [00:00, ?it/s]"
      ]
     },
     "metadata": {},
     "output_type": "display_data"
    },
    {
     "name": "stdout",
     "output_type": "stream",
     "text": [
      "averaged metrics: {'loss_val': 0.0011, 'mape_val': 0.048, 'mse_val': 0.0022, 'mae_val': 0.0368}\n"
     ]
    },
    {
     "data": {
      "application/vnd.jupyter.widget-view+json": {
       "model_id": "554aebc96ad14b93bf39c92d4b0b1372",
       "version_major": 2,
       "version_minor": 0
      },
      "text/plain": [
       "Validating: 0it [00:00, ?it/s]"
      ]
     },
     "metadata": {},
     "output_type": "display_data"
    },
    {
     "name": "stdout",
     "output_type": "stream",
     "text": [
      "averaged metrics: {'loss_val': 0.0011, 'mape_val': 0.0488, 'mse_val': 0.0022, 'mae_val': 0.0376}\n"
     ]
    },
    {
     "data": {
      "application/vnd.jupyter.widget-view+json": {
       "model_id": "0e7c5860c35a4348ac9a7bfa099beeb3",
       "version_major": 2,
       "version_minor": 0
      },
      "text/plain": [
       "Validating: 0it [00:00, ?it/s]"
      ]
     },
     "metadata": {},
     "output_type": "display_data"
    },
    {
     "name": "stdout",
     "output_type": "stream",
     "text": [
      "averaged metrics: {'loss_val': 0.0011, 'mape_val': 0.0484, 'mse_val': 0.0022, 'mae_val': 0.0371}\n"
     ]
    },
    {
     "data": {
      "application/vnd.jupyter.widget-view+json": {
       "model_id": "cb3a27c170534314b50161f5022a1f25",
       "version_major": 2,
       "version_minor": 0
      },
      "text/plain": [
       "Validating: 0it [00:00, ?it/s]"
      ]
     },
     "metadata": {},
     "output_type": "display_data"
    },
    {
     "name": "stdout",
     "output_type": "stream",
     "text": [
      "averaged metrics: {'loss_val': 0.0011, 'mape_val': 0.0476, 'mse_val': 0.0021, 'mae_val': 0.0366}\n"
     ]
    },
    {
     "data": {
      "application/vnd.jupyter.widget-view+json": {
       "model_id": "08dd9f9b5a05421ba1c8e6d0aeca38d8",
       "version_major": 2,
       "version_minor": 0
      },
      "text/plain": [
       "Validating: 0it [00:00, ?it/s]"
      ]
     },
     "metadata": {},
     "output_type": "display_data"
    },
    {
     "name": "stdout",
     "output_type": "stream",
     "text": [
      "averaged metrics: {'loss_val': 0.0011, 'mape_val': 0.0491, 'mse_val': 0.0022, 'mae_val': 0.0375}\n"
     ]
    },
    {
     "data": {
      "application/vnd.jupyter.widget-view+json": {
       "model_id": "c37f0c7c37e543ae8c5f7dd713808c85",
       "version_major": 2,
       "version_minor": 0
      },
      "text/plain": [
       "Validating: 0it [00:00, ?it/s]"
      ]
     },
     "metadata": {},
     "output_type": "display_data"
    },
    {
     "name": "stdout",
     "output_type": "stream",
     "text": [
      "averaged metrics: {'loss_val': 0.0011, 'mape_val': 0.047, 'mse_val': 0.0021, 'mae_val': 0.0362}\n"
     ]
    },
    {
     "data": {
      "application/vnd.jupyter.widget-view+json": {
       "model_id": "a469f3cd0a784fc2885e98f3d9f7aab5",
       "version_major": 2,
       "version_minor": 0
      },
      "text/plain": [
       "Validating: 0it [00:00, ?it/s]"
      ]
     },
     "metadata": {},
     "output_type": "display_data"
    },
    {
     "name": "stdout",
     "output_type": "stream",
     "text": [
      "averaged metrics: {'loss_val': 0.0011, 'mape_val': 0.0472, 'mse_val': 0.0023, 'mae_val': 0.0367}\n"
     ]
    },
    {
     "data": {
      "application/vnd.jupyter.widget-view+json": {
       "model_id": "1f275ac77eef4c2597f29d19c48de25e",
       "version_major": 2,
       "version_minor": 0
      },
      "text/plain": [
       "Validating: 0it [00:00, ?it/s]"
      ]
     },
     "metadata": {},
     "output_type": "display_data"
    },
    {
     "name": "stdout",
     "output_type": "stream",
     "text": [
      "averaged metrics: {'loss_val': 0.0011, 'mape_val': 0.0489, 'mse_val': 0.0022, 'mae_val': 0.0376}\n"
     ]
    },
    {
     "data": {
      "application/vnd.jupyter.widget-view+json": {
       "model_id": "0c263028acc94c93924ef881bd525587",
       "version_major": 2,
       "version_minor": 0
      },
      "text/plain": [
       "Validating: 0it [00:00, ?it/s]"
      ]
     },
     "metadata": {},
     "output_type": "display_data"
    },
    {
     "name": "stdout",
     "output_type": "stream",
     "text": [
      "averaged metrics: {'loss_val': 0.0011, 'mape_val': 0.0476, 'mse_val': 0.0021, 'mae_val': 0.0366}\n"
     ]
    },
    {
     "data": {
      "application/vnd.jupyter.widget-view+json": {
       "model_id": "4e1c92b073954eee8588a751c2c807f3",
       "version_major": 2,
       "version_minor": 0
      },
      "text/plain": [
       "Validating: 0it [00:00, ?it/s]"
      ]
     },
     "metadata": {},
     "output_type": "display_data"
    },
    {
     "name": "stdout",
     "output_type": "stream",
     "text": [
      "averaged metrics: {'loss_val': 0.0011, 'mape_val': 0.0483, 'mse_val': 0.0022, 'mae_val': 0.0371}\n"
     ]
    },
    {
     "data": {
      "application/vnd.jupyter.widget-view+json": {
       "model_id": "fbcf88ecbe27424f981da5fd45b1f32d",
       "version_major": 2,
       "version_minor": 0
      },
      "text/plain": [
       "Validating: 0it [00:00, ?it/s]"
      ]
     },
     "metadata": {},
     "output_type": "display_data"
    },
    {
     "name": "stdout",
     "output_type": "stream",
     "text": [
      "averaged metrics: {'loss_val': 0.0011, 'mape_val': 0.049, 'mse_val': 0.0023, 'mae_val': 0.0379}\n"
     ]
    },
    {
     "data": {
      "application/vnd.jupyter.widget-view+json": {
       "model_id": "d99093df54e8423c813f23458aaad63b",
       "version_major": 2,
       "version_minor": 0
      },
      "text/plain": [
       "Validating: 0it [00:00, ?it/s]"
      ]
     },
     "metadata": {},
     "output_type": "display_data"
    },
    {
     "name": "stdout",
     "output_type": "stream",
     "text": [
      "averaged metrics: {'loss_val': 0.0011, 'mape_val': 0.0488, 'mse_val': 0.0022, 'mae_val': 0.0374}\n"
     ]
    },
    {
     "data": {
      "application/vnd.jupyter.widget-view+json": {
       "model_id": "a7aa7e63deb7441d8ef2a5561e86e057",
       "version_major": 2,
       "version_minor": 0
      },
      "text/plain": [
       "Validating: 0it [00:00, ?it/s]"
      ]
     },
     "metadata": {},
     "output_type": "display_data"
    },
    {
     "name": "stdout",
     "output_type": "stream",
     "text": [
      "averaged metrics: {'loss_val': 0.0011, 'mape_val': 0.0484, 'mse_val': 0.0022, 'mae_val': 0.0371}\n"
     ]
    },
    {
     "data": {
      "application/vnd.jupyter.widget-view+json": {
       "model_id": "19c4eb5f7b04482ab05ae1ef43954d5a",
       "version_major": 2,
       "version_minor": 0
      },
      "text/plain": [
       "Validating: 0it [00:00, ?it/s]"
      ]
     },
     "metadata": {},
     "output_type": "display_data"
    },
    {
     "name": "stdout",
     "output_type": "stream",
     "text": [
      "averaged metrics: {'loss_val': 0.0011, 'mape_val': 0.0494, 'mse_val': 0.0022, 'mae_val': 0.0377}\n"
     ]
    },
    {
     "data": {
      "application/vnd.jupyter.widget-view+json": {
       "model_id": "c81030d813074dc39d6a0e1583cd7cc3",
       "version_major": 2,
       "version_minor": 0
      },
      "text/plain": [
       "Validating: 0it [00:00, ?it/s]"
      ]
     },
     "metadata": {},
     "output_type": "display_data"
    },
    {
     "name": "stdout",
     "output_type": "stream",
     "text": [
      "averaged metrics: {'loss_val': 0.0011, 'mape_val': 0.0481, 'mse_val': 0.0022, 'mae_val': 0.037}\n"
     ]
    },
    {
     "data": {
      "application/vnd.jupyter.widget-view+json": {
       "model_id": "d06156e8fa874d26a3099a358a49333a",
       "version_major": 2,
       "version_minor": 0
      },
      "text/plain": [
       "Validating: 0it [00:00, ?it/s]"
      ]
     },
     "metadata": {},
     "output_type": "display_data"
    },
    {
     "name": "stdout",
     "output_type": "stream",
     "text": [
      "averaged metrics: {'loss_val': 0.0011, 'mape_val': 0.048, 'mse_val': 0.0023, 'mae_val': 0.0372}\n"
     ]
    },
    {
     "data": {
      "application/vnd.jupyter.widget-view+json": {
       "model_id": "37d73473079147d4ae7611dc4a9e4103",
       "version_major": 2,
       "version_minor": 0
      },
      "text/plain": [
       "Validating: 0it [00:00, ?it/s]"
      ]
     },
     "metadata": {},
     "output_type": "display_data"
    },
    {
     "name": "stdout",
     "output_type": "stream",
     "text": [
      "averaged metrics: {'loss_val': 0.0013, 'mape_val': 0.0493, 'mse_val': 0.0026, 'mae_val': 0.0385}\n"
     ]
    },
    {
     "data": {
      "application/vnd.jupyter.widget-view+json": {
       "model_id": "bfd90509e33e41c3bc930c6a9dea6ed5",
       "version_major": 2,
       "version_minor": 0
      },
      "text/plain": [
       "Validating: 0it [00:00, ?it/s]"
      ]
     },
     "metadata": {},
     "output_type": "display_data"
    },
    {
     "name": "stdout",
     "output_type": "stream",
     "text": [
      "averaged metrics: {'loss_val': 0.0011, 'mape_val': 0.0486, 'mse_val': 0.0022, 'mae_val': 0.0371}\n"
     ]
    },
    {
     "data": {
      "application/vnd.jupyter.widget-view+json": {
       "model_id": "4c07576278184a9aa076b7a4b9e05d31",
       "version_major": 2,
       "version_minor": 0
      },
      "text/plain": [
       "Validating: 0it [00:00, ?it/s]"
      ]
     },
     "metadata": {},
     "output_type": "display_data"
    },
    {
     "name": "stdout",
     "output_type": "stream",
     "text": [
      "averaged metrics: {'loss_val': 0.0011, 'mape_val': 0.0473, 'mse_val': 0.0021, 'mae_val': 0.0365}\n"
     ]
    },
    {
     "data": {
      "application/vnd.jupyter.widget-view+json": {
       "model_id": "d9ad9c4491c04b77986f689ca75ca165",
       "version_major": 2,
       "version_minor": 0
      },
      "text/plain": [
       "Validating: 0it [00:00, ?it/s]"
      ]
     },
     "metadata": {},
     "output_type": "display_data"
    },
    {
     "name": "stdout",
     "output_type": "stream",
     "text": [
      "averaged metrics: {'loss_val': 0.0011, 'mape_val': 0.0474, 'mse_val': 0.0023, 'mae_val': 0.0367}\n"
     ]
    },
    {
     "data": {
      "application/vnd.jupyter.widget-view+json": {
       "model_id": "44b19ec61d2f49e2ba0a836301a01c1b",
       "version_major": 2,
       "version_minor": 0
      },
      "text/plain": [
       "Validating: 0it [00:00, ?it/s]"
      ]
     },
     "metadata": {},
     "output_type": "display_data"
    },
    {
     "name": "stdout",
     "output_type": "stream",
     "text": [
      "averaged metrics: {'loss_val': 0.0012, 'mape_val': 0.049, 'mse_val': 0.0023, 'mae_val': 0.0379}\n"
     ]
    },
    {
     "data": {
      "application/vnd.jupyter.widget-view+json": {
       "model_id": "42b332b6c59845dea15c1d11327b2fc5",
       "version_major": 2,
       "version_minor": 0
      },
      "text/plain": [
       "Validating: 0it [00:00, ?it/s]"
      ]
     },
     "metadata": {},
     "output_type": "display_data"
    },
    {
     "name": "stdout",
     "output_type": "stream",
     "text": [
      "averaged metrics: {'loss_val': 0.0012, 'mape_val': 0.0518, 'mse_val': 0.0023, 'mae_val': 0.039}\n"
     ]
    },
    {
     "data": {
      "application/vnd.jupyter.widget-view+json": {
       "model_id": "22fa8fc42c75497ebd7b3302d7baaadd",
       "version_major": 2,
       "version_minor": 0
      },
      "text/plain": [
       "Validating: 0it [00:00, ?it/s]"
      ]
     },
     "metadata": {},
     "output_type": "display_data"
    },
    {
     "name": "stdout",
     "output_type": "stream",
     "text": [
      "averaged metrics: {'loss_val': 0.0011, 'mape_val': 0.048, 'mse_val': 0.0022, 'mae_val': 0.0369}\n"
     ]
    },
    {
     "data": {
      "application/vnd.jupyter.widget-view+json": {
       "model_id": "81ba2895ea464c10a4ff7102406281f7",
       "version_major": 2,
       "version_minor": 0
      },
      "text/plain": [
       "Validating: 0it [00:00, ?it/s]"
      ]
     },
     "metadata": {},
     "output_type": "display_data"
    },
    {
     "name": "stdout",
     "output_type": "stream",
     "text": [
      "averaged metrics: {'loss_val': 0.0011, 'mape_val': 0.0476, 'mse_val': 0.0021, 'mae_val': 0.0366}\n"
     ]
    },
    {
     "data": {
      "application/vnd.jupyter.widget-view+json": {
       "model_id": "0bde0ccb7f7349ff9c27cde47387543f",
       "version_major": 2,
       "version_minor": 0
      },
      "text/plain": [
       "Validating: 0it [00:00, ?it/s]"
      ]
     },
     "metadata": {},
     "output_type": "display_data"
    },
    {
     "name": "stdout",
     "output_type": "stream",
     "text": [
      "averaged metrics: {'loss_val': 0.0011, 'mape_val': 0.0478, 'mse_val': 0.0022, 'mae_val': 0.0368}\n"
     ]
    },
    {
     "data": {
      "application/vnd.jupyter.widget-view+json": {
       "model_id": "cd0ab36f8b694b4890d2dcda113fd0f0",
       "version_major": 2,
       "version_minor": 0
      },
      "text/plain": [
       "Validating: 0it [00:00, ?it/s]"
      ]
     },
     "metadata": {},
     "output_type": "display_data"
    },
    {
     "name": "stdout",
     "output_type": "stream",
     "text": [
      "averaged metrics: {'loss_val': 0.0011, 'mape_val': 0.0481, 'mse_val': 0.0022, 'mae_val': 0.0371}\n"
     ]
    },
    {
     "data": {
      "application/vnd.jupyter.widget-view+json": {
       "model_id": "d784d407d7994065961f45b7e4dbe110",
       "version_major": 2,
       "version_minor": 0
      },
      "text/plain": [
       "Validating: 0it [00:00, ?it/s]"
      ]
     },
     "metadata": {},
     "output_type": "display_data"
    },
    {
     "name": "stdout",
     "output_type": "stream",
     "text": [
      "averaged metrics: {'loss_val': 0.0011, 'mape_val': 0.0486, 'mse_val': 0.0022, 'mae_val': 0.0373}\n"
     ]
    },
    {
     "data": {
      "application/vnd.jupyter.widget-view+json": {
       "model_id": "2d3dc9a7274e410c85697bb3760a336a",
       "version_major": 2,
       "version_minor": 0
      },
      "text/plain": [
       "Validating: 0it [00:00, ?it/s]"
      ]
     },
     "metadata": {},
     "output_type": "display_data"
    },
    {
     "name": "stdout",
     "output_type": "stream",
     "text": [
      "averaged metrics: {'loss_val': 0.0011, 'mape_val': 0.0479, 'mse_val': 0.0022, 'mae_val': 0.0367}\n"
     ]
    },
    {
     "data": {
      "application/vnd.jupyter.widget-view+json": {
       "model_id": "179c50e3097c4b6faf47ef3840c46543",
       "version_major": 2,
       "version_minor": 0
      },
      "text/plain": [
       "Validating: 0it [00:00, ?it/s]"
      ]
     },
     "metadata": {},
     "output_type": "display_data"
    },
    {
     "name": "stdout",
     "output_type": "stream",
     "text": [
      "averaged metrics: {'loss_val': 0.0011, 'mape_val': 0.0475, 'mse_val': 0.0021, 'mae_val': 0.0365}\n"
     ]
    },
    {
     "data": {
      "application/vnd.jupyter.widget-view+json": {
       "model_id": "42f1b84d54994561bce5ff2f41e6fa6b",
       "version_major": 2,
       "version_minor": 0
      },
      "text/plain": [
       "Validating: 0it [00:00, ?it/s]"
      ]
     },
     "metadata": {},
     "output_type": "display_data"
    },
    {
     "name": "stdout",
     "output_type": "stream",
     "text": [
      "averaged metrics: {'loss_val': 0.0011, 'mape_val': 0.0479, 'mse_val': 0.0022, 'mae_val': 0.037}\n"
     ]
    },
    {
     "data": {
      "application/vnd.jupyter.widget-view+json": {
       "model_id": "121a8c75f1e142c59de3232fcc047b37",
       "version_major": 2,
       "version_minor": 0
      },
      "text/plain": [
       "Validating: 0it [00:00, ?it/s]"
      ]
     },
     "metadata": {},
     "output_type": "display_data"
    },
    {
     "name": "stdout",
     "output_type": "stream",
     "text": [
      "averaged metrics: {'loss_val': 0.0011, 'mape_val': 0.0508, 'mse_val': 0.0023, 'mae_val': 0.0385}\n"
     ]
    },
    {
     "data": {
      "application/vnd.jupyter.widget-view+json": {
       "model_id": "cbbeaad9dd7e4a3c8eb7bab205adad95",
       "version_major": 2,
       "version_minor": 0
      },
      "text/plain": [
       "Validating: 0it [00:00, ?it/s]"
      ]
     },
     "metadata": {},
     "output_type": "display_data"
    },
    {
     "name": "stdout",
     "output_type": "stream",
     "text": [
      "averaged metrics: {'loss_val': 0.0011, 'mape_val': 0.0482, 'mse_val': 0.0022, 'mae_val': 0.0372}\n"
     ]
    },
    {
     "data": {
      "application/vnd.jupyter.widget-view+json": {
       "model_id": "654b9d8e2fc54c7c9480e74d6fd4a50b",
       "version_major": 2,
       "version_minor": 0
      },
      "text/plain": [
       "Validating: 0it [00:00, ?it/s]"
      ]
     },
     "metadata": {},
     "output_type": "display_data"
    },
    {
     "name": "stdout",
     "output_type": "stream",
     "text": [
      "averaged metrics: {'loss_val': 0.0011, 'mape_val': 0.0474, 'mse_val': 0.0021, 'mae_val': 0.0365}\n"
     ]
    },
    {
     "data": {
      "application/vnd.jupyter.widget-view+json": {
       "model_id": "5a9eee796d694540a961853d1095598b",
       "version_major": 2,
       "version_minor": 0
      },
      "text/plain": [
       "Validating: 0it [00:00, ?it/s]"
      ]
     },
     "metadata": {},
     "output_type": "display_data"
    },
    {
     "name": "stdout",
     "output_type": "stream",
     "text": [
      "averaged metrics: {'loss_val': 0.0011, 'mape_val': 0.0468, 'mse_val': 0.0021, 'mae_val': 0.0361}\n"
     ]
    },
    {
     "data": {
      "application/vnd.jupyter.widget-view+json": {
       "model_id": "8f434a9f87e54edbb1fda9156286ff10",
       "version_major": 2,
       "version_minor": 0
      },
      "text/plain": [
       "Validating: 0it [00:00, ?it/s]"
      ]
     },
     "metadata": {},
     "output_type": "display_data"
    },
    {
     "name": "stdout",
     "output_type": "stream",
     "text": [
      "averaged metrics: {'loss_val': 0.0016, 'mape_val': 0.0608, 'mse_val': 0.0032, 'mae_val': 0.0464}\n"
     ]
    },
    {
     "data": {
      "application/vnd.jupyter.widget-view+json": {
       "model_id": "36fcaff03a31430a882186b7c5c15716",
       "version_major": 2,
       "version_minor": 0
      },
      "text/plain": [
       "Validating: 0it [00:00, ?it/s]"
      ]
     },
     "metadata": {},
     "output_type": "display_data"
    },
    {
     "name": "stdout",
     "output_type": "stream",
     "text": [
      "averaged metrics: {'loss_val': 0.0012, 'mape_val': 0.0521, 'mse_val': 0.0024, 'mae_val': 0.0399}\n"
     ]
    },
    {
     "data": {
      "application/vnd.jupyter.widget-view+json": {
       "model_id": "3e3f465ee8164e028407c9a9d53531a9",
       "version_major": 2,
       "version_minor": 0
      },
      "text/plain": [
       "Validating: 0it [00:00, ?it/s]"
      ]
     },
     "metadata": {},
     "output_type": "display_data"
    },
    {
     "name": "stdout",
     "output_type": "stream",
     "text": [
      "averaged metrics: {'loss_val': 0.0013, 'mape_val': 0.0537, 'mse_val': 0.0026, 'mae_val': 0.0411}\n"
     ]
    },
    {
     "data": {
      "application/vnd.jupyter.widget-view+json": {
       "model_id": "134a6239f60c4398a7f8ce9cb3ac0f4b",
       "version_major": 2,
       "version_minor": 0
      },
      "text/plain": [
       "Validating: 0it [00:00, ?it/s]"
      ]
     },
     "metadata": {},
     "output_type": "display_data"
    },
    {
     "name": "stdout",
     "output_type": "stream",
     "text": [
      "averaged metrics: {'loss_val': 0.0011, 'mape_val': 0.0474, 'mse_val': 0.0021, 'mae_val': 0.0365}\n"
     ]
    },
    {
     "data": {
      "application/vnd.jupyter.widget-view+json": {
       "model_id": "6bc04c1bf71e410c8dd9339e2e09c6e4",
       "version_major": 2,
       "version_minor": 0
      },
      "text/plain": [
       "Validating: 0it [00:00, ?it/s]"
      ]
     },
     "metadata": {},
     "output_type": "display_data"
    },
    {
     "name": "stdout",
     "output_type": "stream",
     "text": [
      "averaged metrics: {'loss_val': 0.0011, 'mape_val': 0.0477, 'mse_val': 0.0021, 'mae_val': 0.0367}\n"
     ]
    },
    {
     "data": {
      "application/vnd.jupyter.widget-view+json": {
       "model_id": "3c76125feae9492f9ae72f499ded4a39",
       "version_major": 2,
       "version_minor": 0
      },
      "text/plain": [
       "Validating: 0it [00:00, ?it/s]"
      ]
     },
     "metadata": {},
     "output_type": "display_data"
    },
    {
     "name": "stdout",
     "output_type": "stream",
     "text": [
      "averaged metrics: {'loss_val': 0.0011, 'mape_val': 0.0472, 'mse_val': 0.0023, 'mae_val': 0.0366}\n"
     ]
    },
    {
     "data": {
      "application/vnd.jupyter.widget-view+json": {
       "model_id": "341edbec83214374a784bb20557842e1",
       "version_major": 2,
       "version_minor": 0
      },
      "text/plain": [
       "Validating: 0it [00:00, ?it/s]"
      ]
     },
     "metadata": {},
     "output_type": "display_data"
    },
    {
     "name": "stdout",
     "output_type": "stream",
     "text": [
      "averaged metrics: {'loss_val': 0.0012, 'mape_val': 0.0497, 'mse_val': 0.0023, 'mae_val': 0.0383}\n"
     ]
    },
    {
     "data": {
      "application/vnd.jupyter.widget-view+json": {
       "model_id": "2e43a256e0204d80a65ee0e16ef43afa",
       "version_major": 2,
       "version_minor": 0
      },
      "text/plain": [
       "Validating: 0it [00:00, ?it/s]"
      ]
     },
     "metadata": {},
     "output_type": "display_data"
    },
    {
     "name": "stdout",
     "output_type": "stream",
     "text": [
      "averaged metrics: {'loss_val': 0.0012, 'mape_val': 0.0513, 'mse_val': 0.0023, 'mae_val': 0.0391}\n"
     ]
    },
    {
     "data": {
      "application/vnd.jupyter.widget-view+json": {
       "model_id": "080099cb21224cf1bc248c033ef5a052",
       "version_major": 2,
       "version_minor": 0
      },
      "text/plain": [
       "Validating: 0it [00:00, ?it/s]"
      ]
     },
     "metadata": {},
     "output_type": "display_data"
    },
    {
     "name": "stdout",
     "output_type": "stream",
     "text": [
      "averaged metrics: {'loss_val': 0.0011, 'mape_val': 0.0502, 'mse_val': 0.0023, 'mae_val': 0.0382}\n"
     ]
    },
    {
     "data": {
      "application/vnd.jupyter.widget-view+json": {
       "model_id": "55700dffd3f540b59d370af082890241",
       "version_major": 2,
       "version_minor": 0
      },
      "text/plain": [
       "Validating: 0it [00:00, ?it/s]"
      ]
     },
     "metadata": {},
     "output_type": "display_data"
    },
    {
     "name": "stdout",
     "output_type": "stream",
     "text": [
      "averaged metrics: {'loss_val': 0.0011, 'mape_val': 0.0477, 'mse_val': 0.0021, 'mae_val': 0.0366}\n"
     ]
    },
    {
     "data": {
      "application/vnd.jupyter.widget-view+json": {
       "model_id": "a514ccd315944722a64e886986d9a94a",
       "version_major": 2,
       "version_minor": 0
      },
      "text/plain": [
       "Validating: 0it [00:00, ?it/s]"
      ]
     },
     "metadata": {},
     "output_type": "display_data"
    },
    {
     "name": "stdout",
     "output_type": "stream",
     "text": [
      "averaged metrics: {'loss_val': 0.0011, 'mape_val': 0.0497, 'mse_val': 0.0023, 'mae_val': 0.0379}\n"
     ]
    },
    {
     "data": {
      "application/vnd.jupyter.widget-view+json": {
       "model_id": "570016f714e9455398902b87dcfb1bd4",
       "version_major": 2,
       "version_minor": 0
      },
      "text/plain": [
       "Validating: 0it [00:00, ?it/s]"
      ]
     },
     "metadata": {},
     "output_type": "display_data"
    },
    {
     "name": "stdout",
     "output_type": "stream",
     "text": [
      "averaged metrics: {'loss_val': 0.0012, 'mape_val': 0.0503, 'mse_val': 0.0025, 'mae_val': 0.0387}\n"
     ]
    },
    {
     "data": {
      "application/vnd.jupyter.widget-view+json": {
       "model_id": "432ed509f51d4f87981c9001902c0d75",
       "version_major": 2,
       "version_minor": 0
      },
      "text/plain": [
       "Validating: 0it [00:00, ?it/s]"
      ]
     },
     "metadata": {},
     "output_type": "display_data"
    },
    {
     "name": "stdout",
     "output_type": "stream",
     "text": [
      "averaged metrics: {'loss_val': 0.0011, 'mape_val': 0.0471, 'mse_val': 0.0021, 'mae_val': 0.0363}\n"
     ]
    },
    {
     "data": {
      "application/vnd.jupyter.widget-view+json": {
       "model_id": "8400ccf23e13472490ff347243577f13",
       "version_major": 2,
       "version_minor": 0
      },
      "text/plain": [
       "Validating: 0it [00:00, ?it/s]"
      ]
     },
     "metadata": {},
     "output_type": "display_data"
    },
    {
     "name": "stdout",
     "output_type": "stream",
     "text": [
      "averaged metrics: {'loss_val': 0.0011, 'mape_val': 0.0482, 'mse_val': 0.0021, 'mae_val': 0.0369}\n"
     ]
    },
    {
     "data": {
      "application/vnd.jupyter.widget-view+json": {
       "model_id": "3d76f5e5f6af4fc194f2ca312eab0288",
       "version_major": 2,
       "version_minor": 0
      },
      "text/plain": [
       "Validating: 0it [00:00, ?it/s]"
      ]
     },
     "metadata": {},
     "output_type": "display_data"
    },
    {
     "name": "stdout",
     "output_type": "stream",
     "text": [
      "averaged metrics: {'loss_val': 0.0011, 'mape_val': 0.0482, 'mse_val': 0.0021, 'mae_val': 0.0369}\n"
     ]
    },
    {
     "data": {
      "application/vnd.jupyter.widget-view+json": {
       "model_id": "a149708b871240f98c8bba4bdbd82832",
       "version_major": 2,
       "version_minor": 0
      },
      "text/plain": [
       "Validating: 0it [00:00, ?it/s]"
      ]
     },
     "metadata": {},
     "output_type": "display_data"
    },
    {
     "name": "stdout",
     "output_type": "stream",
     "text": [
      "averaged metrics: {'loss_val': 0.0011, 'mape_val': 0.0482, 'mse_val': 0.0022, 'mae_val': 0.0371}\n"
     ]
    },
    {
     "data": {
      "application/vnd.jupyter.widget-view+json": {
       "model_id": "6258747da608402f891440352e19ad2e",
       "version_major": 2,
       "version_minor": 0
      },
      "text/plain": [
       "Validating: 0it [00:00, ?it/s]"
      ]
     },
     "metadata": {},
     "output_type": "display_data"
    },
    {
     "name": "stdout",
     "output_type": "stream",
     "text": [
      "averaged metrics: {'loss_val': 0.0011, 'mape_val': 0.0477, 'mse_val': 0.0022, 'mae_val': 0.0367}\n"
     ]
    },
    {
     "data": {
      "application/vnd.jupyter.widget-view+json": {
       "model_id": "a416a05956544774b62d76044e0601b8",
       "version_major": 2,
       "version_minor": 0
      },
      "text/plain": [
       "Validating: 0it [00:00, ?it/s]"
      ]
     },
     "metadata": {},
     "output_type": "display_data"
    },
    {
     "name": "stdout",
     "output_type": "stream",
     "text": [
      "averaged metrics: {'loss_val': 0.0011, 'mape_val': 0.0493, 'mse_val': 0.0022, 'mae_val': 0.0377}\n"
     ]
    },
    {
     "data": {
      "application/vnd.jupyter.widget-view+json": {
       "model_id": "31f9fff3dd6c425cb590b07a87302abb",
       "version_major": 2,
       "version_minor": 0
      },
      "text/plain": [
       "Validating: 0it [00:00, ?it/s]"
      ]
     },
     "metadata": {},
     "output_type": "display_data"
    },
    {
     "name": "stdout",
     "output_type": "stream",
     "text": [
      "averaged metrics: {'loss_val': 0.0011, 'mape_val': 0.0488, 'mse_val': 0.0022, 'mae_val': 0.0376}\n"
     ]
    },
    {
     "data": {
      "application/vnd.jupyter.widget-view+json": {
       "model_id": "292d9064691647e4a3208c862e3688bb",
       "version_major": 2,
       "version_minor": 0
      },
      "text/plain": [
       "Validating: 0it [00:00, ?it/s]"
      ]
     },
     "metadata": {},
     "output_type": "display_data"
    },
    {
     "name": "stdout",
     "output_type": "stream",
     "text": [
      "averaged metrics: {'loss_val': 0.0011, 'mape_val': 0.0474, 'mse_val': 0.0022, 'mae_val': 0.0366}\n"
     ]
    },
    {
     "data": {
      "application/vnd.jupyter.widget-view+json": {
       "model_id": "8042dcbc73aa4e049df170b0f9c7986d",
       "version_major": 2,
       "version_minor": 0
      },
      "text/plain": [
       "Validating: 0it [00:00, ?it/s]"
      ]
     },
     "metadata": {},
     "output_type": "display_data"
    },
    {
     "name": "stdout",
     "output_type": "stream",
     "text": [
      "averaged metrics: {'loss_val': 0.0012, 'mape_val': 0.0524, 'mse_val': 0.0024, 'mae_val': 0.0398}\n"
     ]
    },
    {
     "data": {
      "application/vnd.jupyter.widget-view+json": {
       "model_id": "027b0db640414210a2fb8b354b2674a4",
       "version_major": 2,
       "version_minor": 0
      },
      "text/plain": [
       "Validating: 0it [00:00, ?it/s]"
      ]
     },
     "metadata": {},
     "output_type": "display_data"
    },
    {
     "name": "stdout",
     "output_type": "stream",
     "text": [
      "averaged metrics: {'loss_val': 0.0012, 'mape_val': 0.0483, 'mse_val': 0.0024, 'mae_val': 0.0376}\n"
     ]
    },
    {
     "data": {
      "application/vnd.jupyter.widget-view+json": {
       "model_id": "d0f9ef05c9194cc2ba53c1aec69a7abb",
       "version_major": 2,
       "version_minor": 0
      },
      "text/plain": [
       "Validating: 0it [00:00, ?it/s]"
      ]
     },
     "metadata": {},
     "output_type": "display_data"
    },
    {
     "name": "stdout",
     "output_type": "stream",
     "text": [
      "averaged metrics: {'loss_val': 0.0011, 'mape_val': 0.0494, 'mse_val': 0.0022, 'mae_val': 0.0377}\n"
     ]
    },
    {
     "data": {
      "application/vnd.jupyter.widget-view+json": {
       "model_id": "23c666649b4d4aca9a9a62a288e63ebe",
       "version_major": 2,
       "version_minor": 0
      },
      "text/plain": [
       "Validating: 0it [00:00, ?it/s]"
      ]
     },
     "metadata": {},
     "output_type": "display_data"
    },
    {
     "name": "stdout",
     "output_type": "stream",
     "text": [
      "averaged metrics: {'loss_val': 0.0011, 'mape_val': 0.0482, 'mse_val': 0.0022, 'mae_val': 0.037}\n"
     ]
    },
    {
     "data": {
      "application/vnd.jupyter.widget-view+json": {
       "model_id": "c491f8806ac54648880951450394c532",
       "version_major": 2,
       "version_minor": 0
      },
      "text/plain": [
       "Validating: 0it [00:00, ?it/s]"
      ]
     },
     "metadata": {},
     "output_type": "display_data"
    },
    {
     "name": "stdout",
     "output_type": "stream",
     "text": [
      "averaged metrics: {'loss_val': 0.0011, 'mape_val': 0.0481, 'mse_val': 0.0021, 'mae_val': 0.037}\n"
     ]
    },
    {
     "data": {
      "text/plain": [
       "1"
      ]
     },
     "execution_count": 405,
     "metadata": {},
     "output_type": "execute_result"
    }
   ],
   "source": [
    "trainer.fit(model, datamodule=ts_datamodule)"
   ]
  },
  {
   "cell_type": "code",
   "execution_count": null,
   "metadata": {},
   "outputs": [],
   "source": [
    "model = model.to(device)\n",
    "model(xx.unsqueeze(0))"
   ]
  },
  {
   "cell_type": "code",
   "execution_count": null,
   "metadata": {},
   "outputs": [],
   "source": [
    "yy"
   ]
  },
  {
   "cell_type": "code",
   "execution_count": null,
   "metadata": {},
   "outputs": [],
   "source": [
    "def pad_with(vector, pad_width, iaxis, kwargs):\n",
    "    pad_value = kwargs.get('padder', 10)\n",
    "    vector[:pad_width[0]] = pad_value\n",
    "    vector[-pad_width[1]:] = pad_value"
   ]
  },
  {
   "cell_type": "code",
   "execution_count": null,
   "metadata": {},
   "outputs": [],
   "source": [
    "x_gaps = {49: 40, 99: 20, 149: 15, 199: 10, 249: 10, 50: 40, 100: 20, 150: 15, 200: 10, 250: 10}\n",
    "x_horis = {49: -10, 99: 20, 149: 15, 199: 10, 249: 10, 50: -10, 100: 20, 150: 15, 200: 10, 250: 10}\n",
    "xticks = {49: [10,20,30],\n",
    "      99: [25,50,75],\n",
    "      149: [25,50,75,100,125],\n",
    "      199: [50,100,150],\n",
    "      249: [50,100,150,200],\n",
    "      50: [10,20,30],\n",
    "      100: [25,50,75],\n",
    "      150: [25,50,75,100,125],\n",
    "      200: [50,100,150],\n",
    "      250: [50,100,150,200]\n",
    "     }\n",
    "n_pad = 10\n",
    "font = ImageFont.load_default()"
   ]
  },
  {
   "cell_type": "code",
   "execution_count": null,
   "metadata": {
    "scrolled": true
   },
   "outputs": [],
   "source": [
    "device_id = 1\n",
    "\n",
    "torch.cuda.set_device(device_id % torch.cuda.device_count())\n",
    "print(\"Current CUDA device:\",torch.cuda.current_device())\n",
    "path_cycle = str(input_cycle)+\"_\"+str(target_cycle)\n",
    "image_path = os.path.join(\"/home2/glee/Hyundai/MSSP/data/\"+image_type+\"_images\", path_cycle)\n",
    "if not os.path.exists(image_path):\n",
    "    make_images(image_type=image_type, input_cycle=input_cycle, target_cycle=target_cycle, n_resampled=n_resampled)\n",
    "print(path_cycle)\n",
    "\n",
    "result_path = os.path.join(\"/home2/glee/Hyundai/MSSP/results\", image_type+\"_SMOTE\"+str(n_resampled), path_cycle+\"_\"+str(max_epochs)+\"ep\")\n",
    "if not os.path.exists(result_path):\n",
    "    os.makedirs(result_path)\n",
    "cam_path = os.path.join(result_path, \"CAM_images\")\n",
    "if not os.path.exists(cam_path):\n",
    "    os.makedirs(cam_path)\n",
    "for criterion in CAM_criteria:\n",
    "    if not os.path.exists(os.path.join(cam_path, criterion)):\n",
    "        os.makedirs(os.path.join(cam_path, criterion))"
   ]
  },
  {
   "cell_type": "code",
   "execution_count": null,
   "metadata": {
    "scrolled": true
   },
   "outputs": [],
   "source": [
    "image_dataset = ImageDataset(device, image_type=image_type, img_dir=image_path, n_resampled=n_resampled, n_folds=n_folds)"
   ]
  },
  {
   "cell_type": "code",
   "execution_count": null,
   "metadata": {},
   "outputs": [],
   "source": [
    "fold = 0\n",
    "data_module = ImageDataModule(device, batch_size=batch_size, image_dataset=image_dataset, cv_fold=fold, shuffle=True)"
   ]
  },
  {
   "cell_type": "code",
   "execution_count": null,
   "metadata": {},
   "outputs": [],
   "source": [
    "import model\n",
    "importlib.reload(model)\n",
    "from model import AlexNet, AlexNet_light\n",
    "if flag_light:\n",
    "    model = AlexNet_light(data_module=data_module, batch_size=batch_size, learning_rate=learning_rate, hidden_dim=hidden_dim, num_classes=n_classes)\n",
    "else:\n",
    "    model = AlexNet(data_module=data_module, batch_size=batch_size, learning_rate=learning_rate, hidden_dim=hidden_dim, num_classes=n_classes)"
   ]
  },
  {
   "cell_type": "code",
   "execution_count": null,
   "metadata": {
    "scrolled": true
   },
   "outputs": [],
   "source": [
    "model_path = os.path.join(\"/home2/glee/Hyundai/RP/models\", image_type+\"_SMOTE\"+str(n_resampled))\n",
    "model_file_path = os.path.join(model_path, path_cycle+\"_fold\"+str(fold)+\"_\"+str(max_epochs)+\"ep\"+\".ckpt\")\n",
    "if not os.path.exists(model_path):\n",
    "    os.makedirs(model_path)\n",
    "\n",
    "monitoring_metric = \"mape_val\"\n",
    "cb_early_stopping = EarlyStopping(monitor=monitoring_metric, patience=early_stopping_patience, mode=\"min\", verbose=True)\n",
    "cb_checkpoint = ModelCheckpoint(monitor=monitoring_metric, save_top_k=1, mode=\"min\", dirpath=model_path)\n",
    "\n",
    "trainer = Trainer(gpus=[0,1,2,3] if device.type == 'cuda' else None, accelerator='dp', max_epochs=max_epochs, callbacks=[cb_checkpoint, cb_early_stopping], auto_scale_batch_size=True, auto_lr_find=True)\n",
    "trainer.tune(model, datamodule=data_module)"
   ]
  },
  {
   "cell_type": "code",
   "execution_count": null,
   "metadata": {
    "scrolled": true
   },
   "outputs": [],
   "source": [
    "trainer.fit(model, data_module)"
   ]
  },
  {
   "cell_type": "code",
   "execution_count": null,
   "metadata": {
    "scrolled": true
   },
   "outputs": [],
   "source": [
    "model_path = os.path.join(\"/home2/glee/Hyundai/RP/models\", image_type+\"_SMOTE\"+str(n_resampled))\n",
    "model_file_path = os.path.join(model_path, path_cycle+\"_fold\"+str(fold)+\"_\"+str(max_epochs)+\"ep\"+\".ckpt\")\n",
    "if not os.path.exists(model_path):\n",
    "    os.makedirs(model_path)\n",
    "\n",
    "monitoring_metric = \"mape_val\"\n",
    "cb_early_stopping = EarlyStopping(monitor=monitoring_metric, patience=early_stopping_patience, mode=\"min\", verbose=True)\n",
    "cb_checkpoint = ModelCheckpoint(monitor=monitoring_metric, save_top_k=1, mode=\"min\", dirpath=model_path)\n",
    "\n",
    "trainer = Trainer(gpus=[0,1,2,3] if device.type == 'cuda' else None, accelerator='dp', max_epochs=max_epochs, callbacks=[cb_checkpoint, cb_early_stopping])\n",
    "# trainer.fit(model, data_module)\n",
    "\n",
    "last_model = copy.deepcopy(model)\n",
    "last_model.eval()\n",
    "\n",
    "if flag_light:\n",
    "    best_model = AlexNet_light(data_module=data_module, batch_size=batch_size, learning_rate=learning_rate, hidden_dim=hidden_dim, num_classes=n_classes)\n",
    "else:\n",
    "    best_model = AlexNet(data_module=data_module, batch_size=batch_size, learning_rate=learning_rate, hidden_dim=hidden_dim, num_classes=n_classes)\n",
    "best_model = best_model.load_from_checkpoint(cb_checkpoint.kth_best_model_path, data_module=data_module, batch_size=batch_size, learning_rate=learning_rate, hidden_dim=hidden_dim, num_classes=n_classes)\n",
    "best_model.eval()\n",
    "\n",
    "# Validation with optimized model\n",
    "X_val, Y_val = next(iter(data_module.val_dataloader_tosave()))\n",
    "X_val = [xx.cpu() for xx in X_val] if isinstance(X_val, list) else X_val.cpu()\n",
    "\n",
    "fold_trues_val = Y_val.detach().cpu().numpy()\n",
    "fold_preds_val = last_model(X_val).detach().cpu().numpy()\n",
    "\n",
    "fold_mape = np.round(np.mean(abs((fold_trues_val-fold_preds_val)/fold_trues_val)), 4)\n",
    "fold_mse = np.round(mean_squared_error(fold_trues_val, fold_preds_val), 4)\n",
    "fold_mae = np.round(mean_absolute_error(fold_trues_val, fold_preds_val), 4)\n",
    "\n",
    "print(f\"Fold {fold}, Last model\\tMAPE: {fold_mape}\\tMAE: {fold_mae}\")\n",
    "\n",
    "fold_trues_val = Y_val.detach().cpu().numpy()\n",
    "fold_preds_val = best_model(X_val).detach().cpu().numpy()\n",
    "\n",
    "fold_mape = np.round(np.mean(abs((fold_trues_val-fold_preds_val)/fold_trues_val)), 4)\n",
    "fold_mse = np.round(mean_squared_error(fold_trues_val, fold_preds_val), 4)\n",
    "fold_mae = np.round(mean_absolute_error(fold_trues_val, fold_preds_val), 4)\n",
    "\n",
    "print(f\"Fold {fold}, Best model\\tMAPE: {fold_mape}\\tMAE: {fold_mae}\")"
   ]
  },
  {
   "cell_type": "code",
   "execution_count": null,
   "metadata": {},
   "outputs": [],
   "source": [
    "cb_checkpoint.kth_best_model_path.split('epoch=')[1].split('-')[0]"
   ]
  }
 ],
 "metadata": {
  "kernelspec": {
   "display_name": "DL",
   "language": "python",
   "name": "dl"
  },
  "language_info": {
   "codemirror_mode": {
    "name": "ipython",
    "version": 3
   },
   "file_extension": ".py",
   "mimetype": "text/x-python",
   "name": "python",
   "nbconvert_exporter": "python",
   "pygments_lexer": "ipython3",
   "version": "3.9.7"
  },
  "toc": {
   "base_numbering": 1,
   "nav_menu": {},
   "number_sections": true,
   "sideBar": true,
   "skip_h1_title": false,
   "title_cell": "Table of Contents",
   "title_sidebar": "Contents",
   "toc_cell": false,
   "toc_position": {},
   "toc_section_display": true,
   "toc_window_display": false
  }
 },
 "nbformat": 4,
 "nbformat_minor": 2
}
